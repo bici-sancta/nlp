{
 "cells": [
  {
   "cell_type": "code",
   "execution_count": 14,
   "metadata": {},
   "outputs": [
    {
     "name": "stdout",
     "output_type": "stream",
     "text": [
      "tokens = :  ['Marty', 'takes', 'what', 'he', 'has', 'learned', 'from', 'the', 'great', 'films', 'of', 'the', 'past', 'and', 'puts', 'it', 'into', 'his', '.', 'The', 'master', 'of', 'suspense', 'Alfred', 'Hitchcock', \"'s\", 'influence', 'is', 'everywhere', 'you', 'look', 'in', 'this', 'film', '.', 'And', 'it', 'is', 'no', 'wonder', ',', 'considering', 'Scorsese', 'even', 'showed', 'one', 'of', 'his', 'greatest', 'works', 'to', 'the', 'crew', ':', 'Vertigo', '.', 'And', 'many', 'of', 'those', 'ideas', 'are', 'present', 'in', 'Shutter', 'Island', ';', 'the', 'cliff', 'scenes', 'scream', 'Hitchcock', '.', 'This', 'is', 'a', 'film', 'that', 'creeps', 'and', 'crawls', ',', 'and', 'is', 'filled', 'with', 'dark', 'corners', '.']\n",
      "\n",
      "tags = :  [('Marty', 'NNP'), ('takes', 'VBZ'), ('what', 'WP'), ('he', 'PRP'), ('has', 'VBZ'), ('learned', 'VBN'), ('from', 'IN'), ('the', 'DT'), ('great', 'JJ'), ('films', 'NNS'), ('of', 'IN'), ('the', 'DT'), ('past', 'JJ'), ('and', 'CC'), ('puts', 'VBZ'), ('it', 'PRP'), ('into', 'IN'), ('his', 'PRP$'), ('.', '.'), ('The', 'DT'), ('master', 'NN'), ('of', 'IN'), ('suspense', 'NN'), ('Alfred', 'NNP'), ('Hitchcock', 'NNP'), (\"'s\", 'POS'), ('influence', 'NN'), ('is', 'VBZ'), ('everywhere', 'RB'), ('you', 'PRP'), ('look', 'VBP'), ('in', 'IN'), ('this', 'DT'), ('film', 'NN'), ('.', '.'), ('And', 'CC'), ('it', 'PRP'), ('is', 'VBZ'), ('no', 'DT'), ('wonder', 'NN'), (',', ','), ('considering', 'VBG'), ('Scorsese', 'JJ'), ('even', 'RB'), ('showed', 'VBD'), ('one', 'CD'), ('of', 'IN'), ('his', 'PRP$'), ('greatest', 'JJS'), ('works', 'NN'), ('to', 'TO'), ('the', 'DT'), ('crew', 'NN'), (':', ':'), ('Vertigo', 'NNP'), ('.', '.'), ('And', 'CC'), ('many', 'JJ'), ('of', 'IN'), ('those', 'DT'), ('ideas', 'NNS'), ('are', 'VBP'), ('present', 'JJ'), ('in', 'IN'), ('Shutter', 'NNP'), ('Island', 'NNP'), (';', ':'), ('the', 'DT'), ('cliff', 'NN'), ('scenes', 'NNS'), ('scream', 'NN'), ('Hitchcock', 'NNP'), ('.', '.'), ('This', 'DT'), ('is', 'VBZ'), ('a', 'DT'), ('film', 'NN'), ('that', 'WDT'), ('creeps', 'NNS'), ('and', 'CC'), ('crawls', 'NN'), (',', ','), ('and', 'CC'), ('is', 'VBZ'), ('filled', 'VBN'), ('with', 'IN'), ('dark', 'JJ'), ('corners', 'NNS'), ('.', '.')]\n",
      "\n",
      "entities = :  (S\n",
      "  (PERSON Marty/NNP)\n",
      "  takes/VBZ\n",
      "  what/WP\n",
      "  he/PRP\n",
      "  has/VBZ\n",
      "  learned/VBN\n",
      "  from/IN\n",
      "  the/DT\n",
      "  great/JJ\n",
      "  films/NNS\n",
      "  of/IN\n",
      "  the/DT\n",
      "  past/JJ\n",
      "  and/CC\n",
      "  puts/VBZ\n",
      "  it/PRP\n",
      "  into/IN\n",
      "  his/PRP$\n",
      "  ./.\n",
      "  The/DT\n",
      "  master/NN\n",
      "  of/IN\n",
      "  suspense/NN\n",
      "  (PERSON Alfred/NNP Hitchcock/NNP)\n",
      "  's/POS\n",
      "  influence/NN\n",
      "  is/VBZ\n",
      "  everywhere/RB\n",
      "  you/PRP\n",
      "  look/VBP\n",
      "  in/IN\n",
      "  this/DT\n",
      "  film/NN\n",
      "  ./.\n",
      "  And/CC\n",
      "  it/PRP\n",
      "  is/VBZ\n",
      "  no/DT\n",
      "  wonder/NN\n",
      "  ,/,\n",
      "  considering/VBG\n",
      "  (GPE Scorsese/JJ)\n",
      "  even/RB\n",
      "  showed/VBD\n",
      "  one/CD\n",
      "  of/IN\n",
      "  his/PRP$\n",
      "  greatest/JJS\n",
      "  works/NN\n",
      "  to/TO\n",
      "  the/DT\n",
      "  crew/NN\n",
      "  :/:\n",
      "  (PERSON Vertigo/NNP)\n",
      "  ./.\n",
      "  And/CC\n",
      "  many/JJ\n",
      "  of/IN\n",
      "  those/DT\n",
      "  ideas/NNS\n",
      "  are/VBP\n",
      "  present/JJ\n",
      "  in/IN\n",
      "  (PERSON Shutter/NNP Island/NNP)\n",
      "  ;/:\n",
      "  the/DT\n",
      "  cliff/NN\n",
      "  scenes/NNS\n",
      "  scream/NN\n",
      "  (PERSON Hitchcock/NNP)\n",
      "  ./.\n",
      "  This/DT\n",
      "  is/VBZ\n",
      "  a/DT\n",
      "  film/NN\n",
      "  that/WDT\n",
      "  creeps/NNS\n",
      "  and/CC\n",
      "  crawls/NN\n",
      "  ,/,\n",
      "  and/CC\n",
      "  is/VBZ\n",
      "  filled/VBN\n",
      "  with/IN\n",
      "  dark/JJ\n",
      "  corners/NNS\n",
      "  ./.)\n"
     ]
    }
   ],
   "source": [
    "import nltk\n",
    "\n",
    "if __name__ == \"__main__\":\n",
    "\n",
    "    sentence = \"Marty takes what he has learned from the great films of the past and puts it into his. The master of suspense Alfred Hitchcock's influence is everywhere you look in this film. And it is no wonder, considering Scorsese even showed one of his greatest works to the crew: Vertigo. And many of those ideas are present in Shutter Island; the cliff scenes scream Hitchcock. This is a film that creeps and crawls, and is filled with dark corners.\"\n",
    "    tokens = nltk.word_tokenize(sentence)\n",
    "    print(\"tokens = : \", tokens)\n",
    "\n",
    "    tagged = nltk.pos_tag(tokens)\n",
    "    print(\"\\ntags = : \", tagged)\n",
    "    \n",
    "    entities = nltk.chunk.ne_chunk(tagged)\n",
    "    print(\"\\nentities = : \", entities)\n",
    "    \n",
    "    entities"
   ]
  },
  {
   "cell_type": "code",
   "execution_count": 15,
   "metadata": {},
   "outputs": [
    {
     "data": {
      "image/png": "[encoded data removed]",
      "text/plain": [
       "Tree('S', [Tree('PERSON', [('Marty', 'NNP')]), ('takes', 'VBZ'), ('what', 'WP'), ('he', 'PRP'), ('has', 'VBZ'), ('learned', 'VBN'), ('from', 'IN'), ('the', 'DT'), ('great', 'JJ'), ('films', 'NNS'), ('of', 'IN'), ('the', 'DT'), ('past', 'JJ'), ('and', 'CC'), ('puts', 'VBZ'), ('it', 'PRP'), ('into', 'IN'), ('his', 'PRP$'), ('.', '.'), ('The', 'DT'), ('master', 'NN'), ('of', 'IN'), ('suspense', 'NN'), Tree('PERSON', [('Alfred', 'NNP'), ('Hitchcock', 'NNP')]), (\"'s\", 'POS'), ('influence', 'NN'), ('is', 'VBZ'), ('everywhere', 'RB'), ('you', 'PRP'), ('look', 'VBP'), ('in', 'IN'), ('this', 'DT'), ('film', 'NN'), ('.', '.'), ('And', 'CC'), ('it', 'PRP'), ('is', 'VBZ'), ('no', 'DT'), ('wonder', 'NN'), (',', ','), ('considering', 'VBG'), Tree('GPE', [('Scorsese', 'JJ')]), ('even', 'RB'), ('showed', 'VBD'), ('one', 'CD'), ('of', 'IN'), ('his', 'PRP$'), ('greatest', 'JJS'), ('works', 'NN'), ('to', 'TO'), ('the', 'DT'), ('crew', 'NN'), (':', ':'), Tree('PERSON', [('Vertigo', 'NNP')]), ('.', '.'), ('And', 'CC'), ('many', 'JJ'), ('of', 'IN'), ('those', 'DT'), ('ideas', 'NNS'), ('are', 'VBP'), ('present', 'JJ'), ('in', 'IN'), Tree('PERSON', [('Shutter', 'NNP'), ('Island', 'NNP')]), (';', ':'), ('the', 'DT'), ('cliff', 'NN'), ('scenes', 'NNS'), ('scream', 'NN'), Tree('PERSON', [('Hitchcock', 'NNP')]), ('.', '.'), ('This', 'DT'), ('is', 'VBZ'), ('a', 'DT'), ('film', 'NN'), ('that', 'WDT'), ('creeps', 'NNS'), ('and', 'CC'), ('crawls', 'NN'), (',', ','), ('and', 'CC'), ('is', 'VBZ'), ('filled', 'VBN'), ('with', 'IN'), ('dark', 'JJ'), ('corners', 'NNS'), ('.', '.')])"
      ]
     },
     "execution_count": 15,
     "metadata": {},
     "output_type": "execute_result"
    }
   ],
   "source": [
    "entities"
   ]
  },
  {
   "cell_type": "code",
   "execution_count": 20,
   "metadata": {},
   "outputs": [],
   "source": [
    "for sent in nltk.sent_tokenize(sentence):\n",
    "    \n",
    "   for chunk in nltk.ne_chunk(nltk.pos_tag(nltk.word_tokenize(sent))):\n",
    "    \n",
    "      if hasattr(chunk, 'label'):\n",
    "            \n",
    "         print(chunk.label(), ' '.join(c[0] for c in chunk))"
   ]
  },
  {
   "cell_type": "code",
   "execution_count": 18,
   "metadata": {},
   "outputs": [
    {
     "name": "stdout",
     "output_type": "stream",
     "text": [
      "Collecting nltk.tag.stanford\n",
      "\u001b[31m  Could not find a version that satisfies the requirement nltk.tag.stanford (from versions: )\u001b[0m\n",
      "\u001b[31mNo matching distribution found for nltk.tag.stanford\u001b[0m\n"
     ]
    }
   ],
   "source": [
    "!pip install nltk.tag.stanford"
   ]
  },
  {
   "cell_type": "code",
   "execution_count": 19,
   "metadata": {},
   "outputs": [
    {
     "ename": "NameError",
     "evalue": "name 'NERTagger' is not defined",
     "output_type": "error",
     "traceback": [
      "\u001b[0;31m---------------------------------------------------------------------------\u001b[0m",
      "\u001b[0;31mNameError\u001b[0m                                 Traceback (most recent call last)",
      "\u001b[0;32m<ipython-input-19-c342222688e8>\u001b[0m in \u001b[0;36m<module>\u001b[0;34m()\u001b[0m\n\u001b[1;32m      3\u001b[0m \u001b[0mjava_path\u001b[0m \u001b[0;34m=\u001b[0m \u001b[0;34m\"/Java/jdk1.8.0_45/bin/java.exe\"\u001b[0m\u001b[0;34m\u001b[0m\u001b[0m\n\u001b[1;32m      4\u001b[0m \u001b[0mos\u001b[0m\u001b[0;34m.\u001b[0m\u001b[0menviron\u001b[0m\u001b[0;34m[\u001b[0m\u001b[0;34m'JAVAHOME'\u001b[0m\u001b[0;34m]\u001b[0m \u001b[0;34m=\u001b[0m \u001b[0mjava_path\u001b[0m\u001b[0;34m\u001b[0m\u001b[0m\n\u001b[0;32m----> 5\u001b[0;31m \u001b[0mst\u001b[0m \u001b[0;34m=\u001b[0m \u001b[0mNERTagger\u001b[0m\u001b[0;34m(\u001b[0m\u001b[0;34m'../ner-model.ser.gz'\u001b[0m\u001b[0;34m,\u001b[0m\u001b[0;34m'../stanford-ner.jar'\u001b[0m\u001b[0;34m)\u001b[0m\u001b[0;34m\u001b[0m\u001b[0m\n\u001b[0m",
      "\u001b[0;31mNameError\u001b[0m: name 'NERTagger' is not defined"
     ]
    }
   ],
   "source": [
    "from nltk.tag.stanford import StanfordNERTagger\n",
    "import os\n",
    "java_path = \"/Java/jdk1.8.0_45/bin/java.exe\"\n",
    "os.environ['JAVAHOME'] = java_path\n",
    "st = NERTagger('../ner-model.ser.gz','../stanford-ner.jar')"
   ]
  },
  {
   "cell_type": "code",
   "execution_count": 21,
   "metadata": {},
   "outputs": [
    {
     "ename": "NameError",
     "evalue": "name 'st' is not defined",
     "output_type": "error",
     "traceback": [
      "\u001b[0;31m---------------------------------------------------------------------------\u001b[0m",
      "\u001b[0;31mNameError\u001b[0m                                 Traceback (most recent call last)",
      "\u001b[0;32m<ipython-input-21-a87bf96918dc>\u001b[0m in \u001b[0;36m<module>\u001b[0;34m()\u001b[0m\n\u001b[0;32m----> 1\u001b[0;31m \u001b[0mtagging\u001b[0m \u001b[0;34m=\u001b[0m \u001b[0mst\u001b[0m\u001b[0;34m.\u001b[0m\u001b[0mtag\u001b[0m\u001b[0;34m(\u001b[0m\u001b[0mtext\u001b[0m\u001b[0;34m.\u001b[0m\u001b[0msplit\u001b[0m\u001b[0;34m(\u001b[0m\u001b[0;34m)\u001b[0m\u001b[0;34m)\u001b[0m\u001b[0;34m\u001b[0m\u001b[0m\n\u001b[0m",
      "\u001b[0;31mNameError\u001b[0m: name 'st' is not defined"
     ]
    }
   ],
   "source": [
    "tagging = st.tag(text.split())  "
   ]
  },
  {
   "cell_type": "code",
   "execution_count": null,
   "metadata": {
    "collapsed": true
   },
   "outputs": [],
   "source": []
  }
 ],
 "metadata": {
  "kernelspec": {
   "display_name": "Python 2",
   "language": "python",
   "name": "python2"
  },
  "language_info": {
   "codemirror_mode": {
    "name": "ipython",
    "version": 3
   },
   "file_extension": ".py",
   "mimetype": "text/x-python",
   "name": "python",
   "nbconvert_exporter": "python",
   "pygments_lexer": "ipython3",
   "version": "3.6.1"
  }
 },
 "nbformat": 4,
 "nbformat_minor": 2
}
