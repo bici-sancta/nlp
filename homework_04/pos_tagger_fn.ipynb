{
 "cells": [
  {
   "cell_type": "code",
   "execution_count": 15,
   "metadata": {
    "scrolled": false
   },
   "outputs": [],
   "source": [
    "import pandas as pd\n",
    "import nltk\n",
    "import pattern\n",
    "from nltk.corpus import PlaintextCorpusReader\n",
    "from nltk.probability import ConditionalFreqDist\n",
    "from pattern.en import tag\n",
    "\n",
    "def pos_tagger (phrase, tagger) : \n",
    "    \n",
    "    penn_pos = pd.read_csv(\"penn_treebank.csv\")\n",
    "\n",
    "    if tagger == 'nltk' :\n",
    "\n",
    "# ... nltk pos tagger\n",
    "\n",
    "        tokens = nltk.word_tokenize(phrase)\n",
    "        tag_nltk = nltk.pos_tag(tokens)\n",
    "\n",
    "        df_tag = pd.DataFrame(tag_nltk, columns = ['word', 'pos'])\n",
    "        df_dscr = pd.merge(df_tag, penn_pos, on = 'pos', how = 'left')\n",
    "        df_dscr.columns = ['word', 'pos', 'descr']\n",
    " \n",
    "    elif tagger == 'pattern': \n",
    "\n",
    "# ... pattern pos tagger\n",
    "\n",
    "        tag_ptrn = tag(line)\n",
    "\n",
    "        df_tag = pd.DataFrame(tag_ptrn, columns = ['word', 'pos'])\n",
    "        df_dscr = pd.merge(df_tag, penn_pos, on = 'pos', how = 'left')\n",
    "        df_dscr.columns = ['word', 'pos', 'descr']\n",
    "            \n",
    "    return (df_dscr)"
   ]
  },
  {
   "cell_type": "code",
   "execution_count": null,
   "metadata": {
    "collapsed": true
   },
   "outputs": [],
   "source": []
  }
 ],
 "metadata": {
  "kernelspec": {
   "display_name": "Python 2",
   "language": "python",
   "name": "python2"
  },
  "language_info": {
   "codemirror_mode": {
    "name": "ipython",
    "version": 3
   },
   "file_extension": ".py",
   "mimetype": "text/x-python",
   "name": "python",
   "nbconvert_exporter": "python",
   "pygments_lexer": "ipython3",
   "version": "3.6.1"
  }
 },
 "nbformat": 4,
 "nbformat_minor": 2
}
