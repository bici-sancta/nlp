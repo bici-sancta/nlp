{
 "cells": [
  {
   "cell_type": "code",
   "execution_count": 2,
   "metadata": {
    "collapsed": true
   },
   "outputs": [],
   "source": [
    "#\n",
    "# ... file : collect_texts_from_gutenberg\n",
    "#\n",
    "# ... -=-=-=-=-=-=-=-=-=-=-=-=-=-=-=-=-=-=-=-=-=-=-=-=-=-=-=-=-=-=-=-=-\n",
    "# ...\n",
    "# ... msds 7337 NLP\n",
    "# ... pmcdevitt@smu.edu\n",
    "# ... 29-nov-2018\n",
    "# ...\n",
    "# ... -=-=-=-=-=-=-=-=-=-=-=-=-=-=-=-=-=-=-=-=-=-=-=-=-=-=-=-=-=-=-=-=-"
   ]
  },
  {
   "cell_type": "code",
   "execution_count": 81,
   "metadata": {},
   "outputs": [
    {
     "name": "stdout",
     "output_type": "stream",
     "text": [
      "Linux-4.15.0-39-generic-x86_64-with-Ubuntu-16.04-xenial\n",
      "Python 2.7.12 (default, Nov 12 2018, 14:36:49) \n",
      "[GCC 5.4.0 20160609]\n",
      "nltk 3.3\n",
      "requests 2.18.4\n",
      "re 2.2.1\n"
     ]
    }
   ],
   "source": [
    "# ... -=-=-=-=-=-=-=-=-=-=-=-=-=-=-=-=-=-=-=-=-=-=-=-=-=-=-=-=-=-=-=-=-\n",
    "# ... necessary packages for Ben Brock\n",
    "# ... -=-=-=-=-=-=-=-=-=-=-=-=-=-=-=-=-=-=-=-=-=-=-=-=-=-=-=-=-=-=-=-=-\n",
    "\n",
    "import platform; print platform.platform()\n",
    "import sys; print \"Python\", sys.version\n",
    "import nltk; print \"nltk\", nltk.__version__\n",
    "#from bs4 import BeautifulSoup, SoupStrainer\n",
    "import requests; print \"requests\", requests.__version__\n",
    "\n",
    "try :\n",
    "    from urllib2 import Request, urlopen, HTTPError\n",
    "except :\n",
    "    from urllib.request import Request, urlopen\n",
    "    \n",
    "import re; print \"re\", re.__version__\n",
    "\n",
    "from pattern.en import parsetree\n",
    "\n",
    "import os\n",
    "#print (os.environ['CONDA_DEFAULT_ENV'])"
   ]
  },
  {
   "cell_type": "code",
   "execution_count": 66,
   "metadata": {
    "collapsed": true
   },
   "outputs": [],
   "source": [
    "# ... -=-=-=-=-=-=-=-=-=-=-=-=-=-=-=-=-=-=-=-=-=-=-=-=-=-=-=-=-=-=-=-=-\n",
    "# ... declare some directory locations\n",
    "# ... -=-=-=-=-=-=-=-=-=-=-=-=-=-=-=-=-=-=-=-=-=-=-=-=-=-=-=-=-=-=-=-=-\n",
    "\n",
    "home_dir = \"/home/mcdevitt/_ds/_smu/_src/nlp/homework_08/\"\n",
    "corpus_dir = \"./corpus/\"\n",
    "plot_dir = \"./plots/\"\n",
    "\n",
    "os.chdir(home_dir)"
   ]
  },
  {
   "cell_type": "code",
   "execution_count": 45,
   "metadata": {},
   "outputs": [
    {
     "data": {
      "text/plain": [
       "['/wiki/Main_Page',\n",
       " '/catalog/',\n",
       " '/ebooks/',\n",
       " '/browse/recent/last1',\n",
       " '/browse/scores/top']"
      ]
     },
     "execution_count": 45,
     "metadata": {},
     "output_type": "execute_result"
    },
    {
     "data": {
      "text/plain": [
       "['/ebooks/58363',\n",
       " '/ebooks/58360',\n",
       " '/ebooks/58361',\n",
       " '/ebooks/58364',\n",
       " '/ebooks/33283']"
      ]
     },
     "execution_count": 45,
     "metadata": {},
     "output_type": "execute_result"
    },
    {
     "data": {
      "text/plain": [
       "['/files/58363',\n",
       " '/files/58360',\n",
       " '/files/58361',\n",
       " '/files/58364',\n",
       " '/files/33283']"
      ]
     },
     "execution_count": 45,
     "metadata": {},
     "output_type": "execute_result"
    },
    {
     "data": {
      "text/plain": [
       "['58363', '58360', '58361', '58364', '33283']"
      ]
     },
     "execution_count": 45,
     "metadata": {},
     "output_type": "execute_result"
    },
    {
     "data": {
      "text/plain": [
       "['https://www.gutenberg.org/files/58363.txt',\n",
       " 'https://www.gutenberg.org/files/58360.txt',\n",
       " 'https://www.gutenberg.org/files/58361.txt',\n",
       " 'https://www.gutenberg.org/files/58364.txt',\n",
       " 'https://www.gutenberg.org/files/33283.txt']"
      ]
     },
     "execution_count": 45,
     "metadata": {},
     "output_type": "execute_result"
    },
    {
     "data": {
      "text/plain": [
       "['/ebooks/58363',\n",
       " '/ebooks/58360',\n",
       " '/ebooks/58361',\n",
       " '/ebooks/58364',\n",
       " '/ebooks/33283']"
      ]
     },
     "execution_count": 45,
     "metadata": {},
     "output_type": "execute_result"
    },
    {
     "data": {
      "text/plain": [
       "['58363', '58360', '58361', '58364', '33283']"
      ]
     },
     "execution_count": 45,
     "metadata": {},
     "output_type": "execute_result"
    },
    {
     "data": {
      "text/plain": [
       "['https://www.gutenberg.org/files/58363.txt',\n",
       " 'https://www.gutenberg.org/files/58360.txt',\n",
       " 'https://www.gutenberg.org/files/58361.txt',\n",
       " 'https://www.gutenberg.org/files/58364.txt',\n",
       " 'https://www.gutenberg.org/files/33283.txt']"
      ]
     },
     "execution_count": 45,
     "metadata": {},
     "output_type": "execute_result"
    },
    {
     "data": {
      "text/plain": [
       "119"
      ]
     },
     "execution_count": 45,
     "metadata": {},
     "output_type": "execute_result"
    },
    {
     "data": {
      "text/plain": [
       "119"
      ]
     },
     "execution_count": 45,
     "metadata": {},
     "output_type": "execute_result"
    },
    {
     "data": {
      "text/plain": [
       "119"
      ]
     },
     "execution_count": 45,
     "metadata": {},
     "output_type": "execute_result"
    },
    {
     "data": {
      "text/plain": [
       "['https://www.gutenberg.org/files/1251.txt',\n",
       " 'https://www.gutenberg.org/files/1250.txt',\n",
       " 'https://www.gutenberg.org/files/2591.txt',\n",
       " 'https://www.gutenberg.org/files/1661.txt',\n",
       " 'https://www.gutenberg.org/files/28520.txt',\n",
       " 'https://www.gutenberg.org/files/30254.txt',\n",
       " 'https://www.gutenberg.org/files/158.txt',\n",
       " 'https://www.gutenberg.org/files/768.txt',\n",
       " 'https://www.gutenberg.org/files/58314.txt',\n",
       " 'https://www.gutenberg.org/files/1952.txt',\n",
       " 'https://www.gutenberg.org/files/1260.txt',\n",
       " 'https://www.gutenberg.org/files/13415.txt',\n",
       " 'https://www.gutenberg.org/files/2680.txt',\n",
       " 'https://www.gutenberg.org/files/43.txt',\n",
       " 'https://www.gutenberg.org/files/42.txt',\n",
       " 'https://www.gutenberg.org/files/41.txt',\n",
       " 'https://www.gutenberg.org/files/844.txt',\n",
       " 'https://www.gutenberg.org/files/46.txt',\n",
       " 'https://www.gutenberg.org/files/45.txt']"
      ]
     },
     "execution_count": 45,
     "metadata": {},
     "output_type": "execute_result"
    }
   ],
   "source": [
    "# ... -=-=-=-=-=-=-=-=-=-=-=-=-=-=-=-=-=-=-=-=-=-=-=-=-=-=-=-=-=-=-=-=-\n",
    "# ... extract urls for targeted texts \n",
    "# ...\n",
    "# ... -=-=-=-=-=-=-=-=-=-=-=-=-=-=-=-=-=-=-=-=-=-=-=-=-=-=-=-=-=-=-=-=-\n",
    "\n",
    "base_url = 'https://www.gutenberg.org'\n",
    "\n",
    "page = requests.get(base_url + '/browse/scores/top#books-last30')\n",
    "tree = html.fromstring(page.content)\n",
    "\n",
    "links = tree.xpath('//a/@href')\n",
    "\n",
    "links[0:5]\n",
    "\n",
    "book_link_mask = '/ebooks/'\n",
    "book_link = [s for s in links if book_link_mask.lower() in s.lower()]\n",
    "\n",
    "book_link = book_link[1:]\n",
    "unique_book_link = list(set(book_link))\n",
    "\n",
    "file_link = [lnk.replace('ebooks', 'files') for lnk in unique_book_link]\n",
    "\n",
    "unique_book_link[0:5]\n",
    "file_link[0:5]\n",
    "\n",
    "# ... extract page number from end of url\n",
    "\n",
    "pg_num = [lnk.split(\"files/\",1)[1] for lnk in file_link]\n",
    "pg_num[0:5]\n",
    "\n",
    "# ... recombine to create full url\n",
    "\n",
    "text_link = [base_url + lnk + '.txt' for lnk in file_link]\n",
    "text_link[0:5]\n",
    "\n",
    "unique_book_link[0:5]\n",
    "pg_num[0:5]\n",
    "text_link[0:5]\n",
    "\n",
    "len(unique_book_link)\n",
    "len(pg_num)\n",
    "len(text_link)\n",
    "\n",
    "text_link[100:]"
   ]
  },
  {
   "cell_type": "code",
   "execution_count": 46,
   "metadata": {},
   "outputs": [
    {
     "name": "stdout",
     "output_type": "stream",
     "text": [
      "https://www.gutenberg.org/ebooks/58363\n",
      "Sketches of Indian Character by James Napier Bailey\n",
      "https://www.gutenberg.org/ebooks/58360\n",
      "A plain and literal translation of the Arabian nights entertainments, now\n",
      "https://www.gutenberg.org/ebooks/58361\n",
      "Armenia by Robert Curzon\n",
      "https://www.gutenberg.org/ebooks/58364\n",
      "The Wreck of the \"Royal Charter\" by Frank Fowler\n",
      "https://www.gutenberg.org/ebooks/33283\n",
      "Calculus Made Easy by Silvanus P. Thompson\n",
      "https://www.gutenberg.org/ebooks/120\n",
      "Treasure Island by Robert Louis Stevenson\n",
      "https://www.gutenberg.org/ebooks/2542\n",
      "A Doll's House : a play by Henrik Ibsen\n",
      "https://www.gutenberg.org/ebooks/2814\n",
      "Dubliners by James Joyce\n",
      "https://www.gutenberg.org/ebooks/2701\n",
      "Moby Dick; Or, The Whale by Herman Melville\n",
      "https://www.gutenberg.org/ebooks/779\n",
      "The Tragical History of Doctor Faustus by Christopher Marlowe\n",
      "https://www.gutenberg.org/ebooks/408\n",
      "The Souls of Black Folk by W. E. B. Du Bois\n",
      "https://www.gutenberg.org/ebooks/2500\n",
      "Siddhartha by Hermann Hesse\n",
      "https://www.gutenberg.org/ebooks/244\n",
      "A Study in Scarlet by Arthur Conan Doyle\n",
      "https://www.gutenberg.org/ebooks/3825\n",
      "Pygmalion by Bernard Shaw\n",
      "https://www.gutenberg.org/ebooks/2148\n",
      "The Works of Edgar Allan Poe — Volume 2 by Edgar Allan Poe\n",
      "https://www.gutenberg.org/ebooks/36\n",
      "The War of the Worlds by H. G. Wells\n",
      "https://www.gutenberg.org/ebooks/35\n",
      "The Time Machine by H. G. Wells\n",
      "https://www.gutenberg.org/ebooks/4517\n",
      "Ethan Frome by Edith Wharton\n",
      "https://www.gutenberg.org/ebooks/33\n",
      "The Scarlet Letter by Nathaniel Hawthorne\n",
      "https://www.gutenberg.org/ebooks/98\n",
      "A Tale of Two Cities by Charles Dickens\n",
      "https://www.gutenberg.org/ebooks/58359\n",
      "Latin American Mythology by Hartley Burr Alexander\n",
      "https://www.gutenberg.org/ebooks/2554\n",
      "Crime and Punishment by Fyodor Dostoyevsky\n",
      "https://www.gutenberg.org/ebooks/135\n",
      "Les Misérables by Victor Hugo\n",
      "https://www.gutenberg.org/ebooks/44881\n",
      "Confessions of a Thug by Meadows Taylor\n",
      "https://www.gutenberg.org/ebooks/19337\n",
      "A Christmas Carol by Charles Dickens\n",
      "https://www.gutenberg.org/ebooks/375\n",
      "An Occurrence at Owl Creek Bridge by Ambrose Bierce\n",
      "https://www.gutenberg.org/ebooks/2097\n",
      "The Sign of the Four by Arthur Conan Doyle\n",
      "https://www.gutenberg.org/ebooks/5740\n",
      "Tractatus Logico-Philosophicus by Ludwig Wittgenstein\n",
      "https://www.gutenberg.org/ebooks/8800\n",
      "The Divine Comedy by Dante, Illustrated by Dante Alighieri\n",
      "https://www.gutenberg.org/ebooks/6130\n",
      "The Iliad by Homer\n",
      "https://www.gutenberg.org/ebooks/786\n",
      "Hard Times by Charles Dickens\n",
      "https://www.gutenberg.org/ebooks/23\n",
      "Narrative of the Life of Frederick Douglass, an American Slave by Douglass\n",
      "https://www.gutenberg.org/ebooks/19942\n",
      "Candide by Voltaire\n",
      "https://www.gutenberg.org/ebooks/84\n",
      "Frankenstein; Or, The Modern Prometheus by Mary Wollstonecraft Shelley\n",
      "https://www.gutenberg.org/ebooks/3207\n",
      "Leviathan by Thomas Hobbes\n",
      "https://www.gutenberg.org/ebooks/4300\n",
      "Ulysses by James Joyce\n",
      "https://www.gutenberg.org/ebooks/105\n",
      "Persuasion by Jane Austen\n",
      "https://www.gutenberg.org/ebooks/1998\n",
      "Thus Spake Zarathustra: A Book for All and None by Friedrich Wilhelm Nietzsche\n",
      "https://www.gutenberg.org/ebooks/100\n",
      "The Complete Works of William Shakespeare by William Shakespeare\n",
      "https://www.gutenberg.org/ebooks/1184\n",
      "The Count of Monte Cristo, Illustrated by Alexandre Dumas\n",
      "https://www.gutenberg.org/ebooks/27827\n",
      "The Kama Sutra of Vatsyayana by Vatsyayana\n",
      "https://www.gutenberg.org/ebooks/863\n",
      "The Mysterious Affair at Styles by Agatha Christie\n",
      "https://www.gutenberg.org/ebooks/58333\n",
      "The Fall of Man by Richard Grant White\n",
      "https://www.gutenberg.org/ebooks/345\n",
      "Dracula by Bram Stoker\n",
      "https://www.gutenberg.org/ebooks/10\n",
      "The King James Version of the Bible\n",
      "https://www.gutenberg.org/ebooks/11\n",
      "Alice's Adventures in Wonderland by Lewis Carroll\n",
      "https://www.gutenberg.org/ebooks/815\n",
      "Democracy in America — Volume 1 by Alexis de Tocqueville\n",
      "https://www.gutenberg.org/ebooks/16\n",
      "Peter Pan by J. M. Barrie\n",
      "https://www.gutenberg.org/ebooks/58358\n",
      "Cassell's History of England,  Vol. V by Unknown\n",
      "https://www.gutenberg.org/ebooks/58356\n",
      "The Passing of Empire by H. Fielding\n",
      "https://www.gutenberg.org/ebooks/58355\n",
      "The Three Brothers by Eden Phillpotts\n",
      "https://www.gutenberg.org/ebooks/58350\n",
      "The Chinese Opium-Smoker by Anonymous\n",
      "https://www.gutenberg.org/ebooks/76\n",
      "Adventures of Huckleberry Finn by Mark Twain\n",
      "https://www.gutenberg.org/ebooks/74\n",
      "The Adventures of Tom Sawyer by Mark Twain\n",
      "https://www.gutenberg.org/ebooks/113\n",
      "The Secret Garden by Frances Hodgson Burnett\n",
      "https://www.gutenberg.org/ebooks/3600\n",
      "Essays of Michel de Montaigne — Complete by Michel de Montaigne\n",
      "https://www.gutenberg.org/ebooks/219\n",
      "Heart of Darkness by Joseph Conrad\n",
      "https://www.gutenberg.org/ebooks/16119\n",
      "Doctrina Christiana by Edwin Wolf\n",
      "https://www.gutenberg.org/ebooks/34901\n",
      "On Liberty by John Stuart Mill\n",
      "https://www.gutenberg.org/ebooks/521\n",
      "The Life and Adventures of Robinson Crusoe by Daniel Defoe\n",
      "https://www.gutenberg.org/ebooks/20203\n",
      "Autobiography of Benjamin Franklin by Benjamin Franklin\n",
      "https://www.gutenberg.org/ebooks/1342\n",
      "Pride and Prejudice by Jane Austen\n",
      "https://www.gutenberg.org/ebooks/1404\n",
      "The Federalist Papers by Alexander Hamilton, John Jay, and James Madison\n",
      "https://www.gutenberg.org/ebooks/58348\n",
      "An Artist in Egypt by Walter Tyndale\n",
      "https://www.gutenberg.org/ebooks/58349\n",
      "History of Geography by Osbert John Radcliffe Howarth and John Scott Keltie\n",
      "https://www.gutenberg.org/ebooks/7370\n",
      "Second Treatise of Government by John Locke\n",
      "https://www.gutenberg.org/ebooks/58347\n",
      "A History of Aeronautics by W. Lockwood Marsh and Evelyn Charles Vivian\n",
      "https://www.gutenberg.org/ebooks/61\n",
      "The Communist Manifesto by Friedrich Engels and Karl Marx\n",
      "https://www.gutenberg.org/ebooks/1934\n",
      "Songs of Innocence, and Songs of Experience by William Blake\n",
      "https://www.gutenberg.org/ebooks/140\n",
      "The Jungle by Upton Sinclair\n",
      "https://www.gutenberg.org/ebooks/15399\n",
      "The Interesting Narrative of the Life of Olaudah Equiano, Or Gustavus Vassa, The\n",
      "https://www.gutenberg.org/ebooks/161\n",
      "Sense and Sensibility by Jane Austen\n",
      "https://www.gutenberg.org/ebooks/160\n",
      "The Awakening, and Selected Short Stories by Kate Chopin\n",
      "https://www.gutenberg.org/ebooks/22120\n",
      "Chaucer's Works, Volume 4 (of 7) — The Canterbury Tales by Geoffrey Chaucer\n",
      "https://www.gutenberg.org/ebooks/209\n",
      "The Turn of the Screw by Henry James\n",
      "https://www.gutenberg.org/ebooks/730\n",
      "Oliver Twist by Charles Dickens\n",
      "https://www.gutenberg.org/ebooks/205\n",
      "Walden, and On The Duty Of Civil Disobedience by Henry David Thoreau\n",
      "https://www.gutenberg.org/ebooks/203\n",
      "Uncle Tom's Cabin by Harriet Beecher Stowe\n",
      "https://www.gutenberg.org/ebooks/4363\n",
      "Beyond Good and Evil by Friedrich Wilhelm Nietzsche\n",
      "https://www.gutenberg.org/ebooks/1400\n",
      "Great Expectations by Charles Dickens\n",
      "https://www.gutenberg.org/ebooks/2852\n",
      "The Hound of the Baskervilles by Arthur Conan Doyle\n",
      "https://www.gutenberg.org/ebooks/3296\n",
      "The Confessions of St. Augustine by Bishop of Hippo Saint Augustine\n",
      "https://www.gutenberg.org/ebooks/1232\n",
      "The Prince by Niccolò Machiavelli\n",
      "https://www.gutenberg.org/ebooks/932\n",
      "The Fall of the House of Usher by Edgar Allan Poe\n",
      "https://www.gutenberg.org/ebooks/5200\n",
      "Metamorphosis by Franz Kafka\n",
      "https://www.gutenberg.org/ebooks/55\n",
      "The Wonderful Wizard of Oz by L. Frank Baum\n",
      "https://www.gutenberg.org/ebooks/58319\n",
      "The Story of Paper-making by Frank O. Butler\n",
      "https://www.gutenberg.org/ebooks/1399\n",
      "Anna Karenina by graf Leo Tolstoy\n",
      "https://www.gutenberg.org/ebooks/174\n",
      "The Picture of Dorian Gray by Oscar Wilde\n",
      "https://www.gutenberg.org/ebooks/28054\n",
      "The Brothers Karamazov by Fyodor Dostoyevsky\n",
      "https://www.gutenberg.org/ebooks/829\n",
      "Gulliver's Travels into Several Remote Nations of the World by Jonathan Swift\n",
      "https://www.gutenberg.org/ebooks/25344\n",
      "The Scarlet Letter by Nathaniel Hawthorne\n",
      "https://www.gutenberg.org/ebooks/1497\n",
      "The Republic by Plato\n",
      "https://www.gutenberg.org/ebooks/1322\n",
      "Leaves of Grass by Walt Whitman\n",
      "https://www.gutenberg.org/ebooks/1080\n",
      "A Modest Proposal by Jonathan Swift\n",
      "https://www.gutenberg.org/ebooks/16328\n",
      "Beowulf: An Anglo-Saxon Epic Poem by J. Lesslie Hall\n",
      "https://www.gutenberg.org/ebooks/30360\n",
      "My Secret Life, Volumes I. to III. by Anonymous\n",
      "https://www.gutenberg.org/ebooks/514\n",
      "Little Women by Louisa May Alcott\n",
      "https://www.gutenberg.org/ebooks/2600\n",
      "War and Peace by graf Leo Tolstoy\n",
      "https://www.gutenberg.org/ebooks/996\n"
     ]
    },
    {
     "name": "stdout",
     "output_type": "stream",
     "text": [
      "Don Quixote by Miguel de Cervantes Saavedra\n",
      "https://www.gutenberg.org/ebooks/1251\n",
      "Le Morte d'Arthur: Volume 1 by Sir Thomas Malory\n",
      "https://www.gutenberg.org/ebooks/1250\n",
      "Anthem by Ayn Rand\n",
      "https://www.gutenberg.org/ebooks/2591\n",
      "Grimms' Fairy Tales by Jacob Grimm and Wilhelm Grimm\n",
      "https://www.gutenberg.org/ebooks/1661\n",
      "The Adventures of Sherlock Holmes by Arthur Conan Doyle\n",
      "https://www.gutenberg.org/ebooks/28520\n",
      "Forbidden Fruit: Luscious and exciting story, and More forbidden fruit; or,\n",
      "https://www.gutenberg.org/ebooks/30254\n",
      "The Romance of Lust: A classic Victorian erotic novel by Anonymous\n",
      "https://www.gutenberg.org/ebooks/158\n",
      "Emma by Jane Austen\n",
      "https://www.gutenberg.org/ebooks/768\n",
      "Wuthering Heights by Emily Brontë\n",
      "https://www.gutenberg.org/ebooks/58314\n",
      "Slavery in History by count Adam G. De Gurowski\n",
      "https://www.gutenberg.org/ebooks/1952\n",
      "The Yellow Wallpaper by Charlotte Perkins Gilman\n",
      "https://www.gutenberg.org/ebooks/1260\n",
      "Jane Eyre: An Autobiography by Charlotte Brontë\n",
      "https://www.gutenberg.org/ebooks/13415\n",
      "The Lady with the Dog and Other Stories by Anton Pavlovich Chekhov\n",
      "https://www.gutenberg.org/ebooks/2680\n",
      "Meditations by Emperor of Rome Marcus Aurelius\n",
      "https://www.gutenberg.org/ebooks/43\n",
      "The Strange Case of Dr. Jekyll and Mr. Hyde by Robert Louis Stevenson\n",
      "https://www.gutenberg.org/ebooks/42\n",
      "The Strange Case of Dr. Jekyll and Mr. Hyde by Robert Louis Stevenson\n",
      "https://www.gutenberg.org/ebooks/41\n",
      "The Legend of Sleepy Hollow by Washington Irving\n",
      "https://www.gutenberg.org/ebooks/844\n",
      "The Importance of Being Earnest: A Trivial Comedy for Serious People by Oscar Wilde\n",
      "https://www.gutenberg.org/ebooks/46\n",
      "A Christmas Carol in Prose; Being a Ghost Story of Christmas by Charles Dickens\n",
      "https://www.gutenberg.org/ebooks/45\n",
      "Anne of Green Gables by L. M. Montgomery\n"
     ]
    },
    {
     "data": {
      "text/plain": [
       "[u'Sketches of Indian Character by James Napier Bailey',\n",
       " u'A plain and literal translation of the Arabian nights entertainments, now',\n",
       " u'Armenia by Robert Curzon',\n",
       " u'The Wreck of the \"Royal Charter\" by Frank Fowler',\n",
       " u'Calculus Made Easy by Silvanus P. Thompson']"
      ]
     },
     "execution_count": 46,
     "metadata": {},
     "output_type": "execute_result"
    },
    {
     "data": {
      "text/plain": [
       "119"
      ]
     },
     "execution_count": 46,
     "metadata": {},
     "output_type": "execute_result"
    },
    {
     "data": {
      "text/plain": [
       "''"
      ]
     },
     "execution_count": 46,
     "metadata": {},
     "output_type": "execute_result"
    },
    {
     "data": {
      "text/plain": [
       "[u'sketches_of_indian_character_by_james_napier_bailey',\n",
       " u'a_plain_and_literal_translation_of_the_arabian_nights_entertainments,_now',\n",
       " u'armenia_by_robert_curzon',\n",
       " u'the_wreck_of_the_\"royal_charter\"_by_frank_fowler',\n",
       " u'calculus_made_easy_by_silvanus_p._thompson',\n",
       " u'treasure_island_by_robert_louis_stevenson',\n",
       " u\"a_doll's_house_:_a_play_by_henrik_ibsen\",\n",
       " u'dubliners_by_james_joyce',\n",
       " u'moby_dick;_or,_the_whale_by_herman_melville',\n",
       " u'the_tragical_history_of_doctor_faustus_by_christopher_marlowe']"
      ]
     },
     "execution_count": 46,
     "metadata": {},
     "output_type": "execute_result"
    }
   ],
   "source": [
    "# ... -=-=-=-=-=-=-=-=-=-=-=-=-=-=-=-=-=-=-=-=-=-=-=-=-=-=-=-=-=-=-=-=-\n",
    "# ... extract book titles\n",
    "# ... -=-=-=-=-=-=-=-=-=-=-=-=-=-=-=-=-=-=-=-=-=-=-=-=-=-=-=-=-=-=-=-=-\n",
    "\n",
    "title = []\n",
    "\n",
    "for ib in range(0, len(pg_num)) :\n",
    "    page = base_url + unique_book_link[ib]\n",
    "    print page\n",
    "    \n",
    "    source = requests.get(page)\n",
    "    soup = BeautifulSoup(source.content, \"lxml\")\n",
    "    \n",
    "    nxt_title = soup.select('h1[itemprop=name]')[0].text\n",
    "    print nxt_title\n",
    "    \n",
    "    title.append(nxt_title)\n",
    "\n",
    "title[0:5]\n",
    "len(title)\n",
    "\n",
    "# ... -=-=-=-=-=-=-=-=-=-=-=-=-=-=-=-=-=-=-=-=-=-=-=-=-=-=-=-=-=-=-=-=-\n",
    "# ... clean up titles so filenames have standard chars and no spaces\n",
    "# ... -=-=-=-=-=-=-=-=-=-=-=-=-=-=-=-=-=-=-=-=-=-=-=-=-=-=-=-=-=-=-=-=-\n",
    "\n",
    "''.join([x if x in string.printable else '' for x in title])\n",
    "\n",
    "title = [x.replace('\\n', '') for x in title]\n",
    "title = [x.replace(' ', '_') for x in title]\n",
    "title = [x.lower() for x in title]\n",
    "\n",
    "title[0:10]"
   ]
  },
  {
   "cell_type": "code",
   "execution_count": 83,
   "metadata": {},
   "outputs": [
    {
     "name": "stdout",
     "output_type": "stream",
     "text": [
      "Beginning file downloads ...\n",
      "https://www.gutenberg.org/ebooks/58363\n",
      "sketches_of_indian_character_by_james_napier_bailey.txt\n",
      "<Response [200]>\n",
      "https://www.gutenberg.org/files/58363/58363-0.txt\n"
     ]
    },
    {
     "data": {
      "text/plain": [
       "u'sketches_of_indian_character_by_james_napier_bailey.txt'"
      ]
     },
     "execution_count": 83,
     "metadata": {},
     "output_type": "execute_result"
    },
    {
     "name": "stdout",
     "output_type": "stream",
     "text": [
      "(u'sketches_of_indian_character_by_james_napier_bailey.txt', 'successfully downloaded\\n')\n",
      "------------------------------------------------------------\n",
      "https://www.gutenberg.org/ebooks/58360\n",
      "a_plain_and_literal_translation_of_the_arabian_nights_entertainments,_now.txt\n",
      "<Response [200]>\n",
      "https://www.gutenberg.org/files/58360/58360-0.txt\n"
     ]
    },
    {
     "data": {
      "text/plain": [
       "u'a_plain_and_literal_translation_of_the_arabian_nights_entertainments,_now.txt'"
      ]
     },
     "execution_count": 83,
     "metadata": {},
     "output_type": "execute_result"
    },
    {
     "name": "stdout",
     "output_type": "stream",
     "text": [
      "(u'a_plain_and_literal_translation_of_the_arabian_nights_entertainments,_now.txt', 'successfully downloaded\\n')\n",
      "------------------------------------------------------------\n",
      "https://www.gutenberg.org/ebooks/58361\n",
      "armenia_by_robert_curzon.txt\n",
      "<Response [200]>\n",
      "https://www.gutenberg.org/ebooks/58361.txt.utf-8\n"
     ]
    },
    {
     "data": {
      "text/plain": [
       "u'armenia_by_robert_curzon.txt'"
      ]
     },
     "execution_count": 83,
     "metadata": {},
     "output_type": "execute_result"
    },
    {
     "name": "stdout",
     "output_type": "stream",
     "text": [
      "(u'armenia_by_robert_curzon.txt', 'successfully downloaded\\n')\n",
      "------------------------------------------------------------\n",
      "https://www.gutenberg.org/ebooks/58364\n",
      "the_wreck_of_the_\"royal_charter\"_by_frank_fowler.txt\n",
      "<Response [200]>\n",
      "https://www.gutenberg.org/files/58364/58364-0.txt\n"
     ]
    },
    {
     "data": {
      "text/plain": [
       "u'the_wreck_of_the_\"royal_charter\"_by_frank_fowler.txt'"
      ]
     },
     "execution_count": 83,
     "metadata": {},
     "output_type": "execute_result"
    },
    {
     "name": "stdout",
     "output_type": "stream",
     "text": [
      "(u'the_wreck_of_the_\"royal_charter\"_by_frank_fowler.txt', 'successfully downloaded\\n')\n",
      "------------------------------------------------------------\n",
      "https://www.gutenberg.org/ebooks/33283\n",
      "calculus_made_easy_by_silvanus_p._thompson.txt\n",
      "<Response [200]>\n",
      "Text link not found\n",
      "\n",
      "~~~~~~~~~~~~~~~~~~~~~~~~~~~~~~~~~~~~~~~~~~~~~~~~~~~~~~~~~~~~\n",
      "https://www.gutenberg.org/ebooks/120\n",
      "treasure_island_by_robert_louis_stevenson.txt\n",
      "<Response [200]>\n",
      "https://www.gutenberg.org/files/120/120-0.txt\n"
     ]
    },
    {
     "data": {
      "text/plain": [
       "u'treasure_island_by_robert_louis_stevenson.txt'"
      ]
     },
     "execution_count": 83,
     "metadata": {},
     "output_type": "execute_result"
    },
    {
     "name": "stdout",
     "output_type": "stream",
     "text": [
      "(u'treasure_island_by_robert_louis_stevenson.txt', 'successfully downloaded\\n')\n",
      "------------------------------------------------------------\n",
      "https://www.gutenberg.org/ebooks/2542\n",
      "a_doll's_house_:_a_play_by_henrik_ibsen.txt\n",
      "<Response [200]>\n",
      "https://www.gutenberg.org/ebooks/2542.txt.utf-8\n"
     ]
    },
    {
     "data": {
      "text/plain": [
       "u\"a_doll's_house_:_a_play_by_henrik_ibsen.txt\""
      ]
     },
     "execution_count": 83,
     "metadata": {},
     "output_type": "execute_result"
    },
    {
     "name": "stdout",
     "output_type": "stream",
     "text": [
      "(u\"a_doll's_house_:_a_play_by_henrik_ibsen.txt\", 'successfully downloaded\\n')\n",
      "------------------------------------------------------------\n",
      "https://www.gutenberg.org/ebooks/2814\n",
      "dubliners_by_james_joyce.txt\n",
      "<Response [200]>\n",
      "https://www.gutenberg.org/files/2814/2814-0.txt\n"
     ]
    },
    {
     "data": {
      "text/plain": [
       "u'dubliners_by_james_joyce.txt'"
      ]
     },
     "execution_count": 83,
     "metadata": {},
     "output_type": "execute_result"
    },
    {
     "name": "stdout",
     "output_type": "stream",
     "text": [
      "(u'dubliners_by_james_joyce.txt', 'successfully downloaded\\n')\n",
      "------------------------------------------------------------\n",
      "https://www.gutenberg.org/ebooks/2701\n",
      "moby_dick;_or,_the_whale_by_herman_melville.txt\n",
      "<Response [200]>\n",
      "https://www.gutenberg.org/files/2701/2701-0.txt\n"
     ]
    },
    {
     "data": {
      "text/plain": [
       "u'moby_dick;_or,_the_whale_by_herman_melville.txt'"
      ]
     },
     "execution_count": 83,
     "metadata": {},
     "output_type": "execute_result"
    },
    {
     "name": "stdout",
     "output_type": "stream",
     "text": [
      "(u'moby_dick;_or,_the_whale_by_herman_melville.txt', 'successfully downloaded\\n')\n",
      "------------------------------------------------------------\n",
      "https://www.gutenberg.org/ebooks/779\n",
      "the_tragical_history_of_doctor_faustus_by_christopher_marlowe.txt\n",
      "<Response [200]>\n",
      "https://www.gutenberg.org/ebooks/779.txt.utf-8\n"
     ]
    },
    {
     "data": {
      "text/plain": [
       "u'the_tragical_history_of_doctor_faustus_by_christopher_marlowe.txt'"
      ]
     },
     "execution_count": 83,
     "metadata": {},
     "output_type": "execute_result"
    },
    {
     "name": "stdout",
     "output_type": "stream",
     "text": [
      "(u'the_tragical_history_of_doctor_faustus_by_christopher_marlowe.txt', 'successfully downloaded\\n')\n",
      "------------------------------------------------------------\n",
      "https://www.gutenberg.org/ebooks/408\n",
      "the_souls_of_black_folk_by_w._e._b._du_bois.txt\n",
      "<Response [200]>\n",
      "https://www.gutenberg.org/ebooks/408.txt.utf-8\n"
     ]
    },
    {
     "data": {
      "text/plain": [
       "u'the_souls_of_black_folk_by_w._e._b._du_bois.txt'"
      ]
     },
     "execution_count": 83,
     "metadata": {},
     "output_type": "execute_result"
    },
    {
     "name": "stdout",
     "output_type": "stream",
     "text": [
      "(u'the_souls_of_black_folk_by_w._e._b._du_bois.txt', 'successfully downloaded\\n')\n",
      "------------------------------------------------------------\n",
      "https://www.gutenberg.org/ebooks/2500\n",
      "siddhartha_by_hermann_hesse.txt\n",
      "<Response [200]>\n",
      "https://www.gutenberg.org/ebooks/2500.txt.utf-8\n"
     ]
    },
    {
     "data": {
      "text/plain": [
       "u'siddhartha_by_hermann_hesse.txt'"
      ]
     },
     "execution_count": 83,
     "metadata": {},
     "output_type": "execute_result"
    },
    {
     "name": "stdout",
     "output_type": "stream",
     "text": [
      "(u'siddhartha_by_hermann_hesse.txt', 'successfully downloaded\\n')\n",
      "------------------------------------------------------------\n",
      "https://www.gutenberg.org/ebooks/244\n",
      "a_study_in_scarlet_by_arthur_conan_doyle.txt\n",
      "<Response [200]>\n",
      "https://www.gutenberg.org/files/244/244-0.txt\n"
     ]
    },
    {
     "data": {
      "text/plain": [
       "u'a_study_in_scarlet_by_arthur_conan_doyle.txt'"
      ]
     },
     "execution_count": 83,
     "metadata": {},
     "output_type": "execute_result"
    },
    {
     "name": "stdout",
     "output_type": "stream",
     "text": [
      "(u'a_study_in_scarlet_by_arthur_conan_doyle.txt', 'successfully downloaded\\n')\n",
      "------------------------------------------------------------\n",
      "https://www.gutenberg.org/ebooks/3825\n",
      "pygmalion_by_bernard_shaw.txt\n",
      "<Response [200]>\n",
      "https://www.gutenberg.org/ebooks/3825.txt.utf-8\n"
     ]
    },
    {
     "data": {
      "text/plain": [
       "u'pygmalion_by_bernard_shaw.txt'"
      ]
     },
     "execution_count": 83,
     "metadata": {},
     "output_type": "execute_result"
    },
    {
     "name": "stdout",
     "output_type": "stream",
     "text": [
      "(u'pygmalion_by_bernard_shaw.txt', 'successfully downloaded\\n')\n",
      "------------------------------------------------------------\n",
      "https://www.gutenberg.org/ebooks/2148\n",
      "the_works_of_edgar_allan_poe_—_volume_2_by_edgar_allan_poe.txt\n",
      "<Response [200]>\n",
      "https://www.gutenberg.org/files/2148/2148-0.txt\n"
     ]
    },
    {
     "data": {
      "text/plain": [
       "u'the_works_of_edgar_allan_poe_\\u2014_volume_2_by_edgar_allan_poe.txt'"
      ]
     },
     "execution_count": 83,
     "metadata": {},
     "output_type": "execute_result"
    },
    {
     "name": "stdout",
     "output_type": "stream",
     "text": [
      "(u'the_works_of_edgar_allan_poe_\\u2014_volume_2_by_edgar_allan_poe.txt', 'successfully downloaded\\n')\n",
      "------------------------------------------------------------\n",
      "https://www.gutenberg.org/ebooks/36\n",
      "the_war_of_the_worlds_by_h._g._wells.txt\n",
      "<Response [200]>\n",
      "https://www.gutenberg.org/files/36/36-0.txt\n"
     ]
    },
    {
     "data": {
      "text/plain": [
       "u'the_war_of_the_worlds_by_h._g._wells.txt'"
      ]
     },
     "execution_count": 83,
     "metadata": {},
     "output_type": "execute_result"
    },
    {
     "name": "stdout",
     "output_type": "stream",
     "text": [
      "(u'the_war_of_the_worlds_by_h._g._wells.txt', 'successfully downloaded\\n')\n",
      "------------------------------------------------------------\n",
      "https://www.gutenberg.org/ebooks/35\n",
      "the_time_machine_by_h._g._wells.txt\n",
      "<Response [200]>\n",
      "https://www.gutenberg.org/files/35/35-0.txt\n"
     ]
    },
    {
     "data": {
      "text/plain": [
       "u'the_time_machine_by_h._g._wells.txt'"
      ]
     },
     "execution_count": 83,
     "metadata": {},
     "output_type": "execute_result"
    },
    {
     "name": "stdout",
     "output_type": "stream",
     "text": [
      "(u'the_time_machine_by_h._g._wells.txt', 'successfully downloaded\\n')\n",
      "------------------------------------------------------------\n",
      "https://www.gutenberg.org/ebooks/4517\n",
      "ethan_frome_by_edith_wharton.txt\n",
      "<Response [200]>\n",
      "https://www.gutenberg.org/files/4517/4517-0.txt\n"
     ]
    },
    {
     "data": {
      "text/plain": [
       "u'ethan_frome_by_edith_wharton.txt'"
      ]
     },
     "execution_count": 83,
     "metadata": {},
     "output_type": "execute_result"
    },
    {
     "name": "stdout",
     "output_type": "stream",
     "text": [
      "(u'ethan_frome_by_edith_wharton.txt', 'successfully downloaded\\n')\n",
      "------------------------------------------------------------\n",
      "https://www.gutenberg.org/ebooks/33\n",
      "the_scarlet_letter_by_nathaniel_hawthorne.txt\n",
      "<Response [200]>\n",
      "https://www.gutenberg.org/ebooks/33.txt.utf-8\n"
     ]
    },
    {
     "data": {
      "text/plain": [
       "u'the_scarlet_letter_by_nathaniel_hawthorne.txt'"
      ]
     },
     "execution_count": 83,
     "metadata": {},
     "output_type": "execute_result"
    },
    {
     "name": "stdout",
     "output_type": "stream",
     "text": [
      "(u'the_scarlet_letter_by_nathaniel_hawthorne.txt', 'successfully downloaded\\n')\n",
      "------------------------------------------------------------\n",
      "https://www.gutenberg.org/ebooks/98\n",
      "a_tale_of_two_cities_by_charles_dickens.txt\n",
      "<Response [200]>\n",
      "https://www.gutenberg.org/files/98/98-0.txt\n"
     ]
    },
    {
     "data": {
      "text/plain": [
       "u'a_tale_of_two_cities_by_charles_dickens.txt'"
      ]
     },
     "execution_count": 83,
     "metadata": {},
     "output_type": "execute_result"
    },
    {
     "name": "stdout",
     "output_type": "stream",
     "text": [
      "(u'a_tale_of_two_cities_by_charles_dickens.txt', 'successfully downloaded\\n')\n",
      "------------------------------------------------------------\n",
      "https://www.gutenberg.org/ebooks/58359\n",
      "latin_american_mythology_by_hartley_burr_alexander.txt\n",
      "<Response [200]>\n",
      "https://www.gutenberg.org/files/58359/58359-0.txt\n"
     ]
    },
    {
     "data": {
      "text/plain": [
       "u'latin_american_mythology_by_hartley_burr_alexander.txt'"
      ]
     },
     "execution_count": 83,
     "metadata": {},
     "output_type": "execute_result"
    },
    {
     "name": "stdout",
     "output_type": "stream",
     "text": [
      "(u'latin_american_mythology_by_hartley_burr_alexander.txt', 'successfully downloaded\\n')\n",
      "------------------------------------------------------------\n",
      "https://www.gutenberg.org/ebooks/2554\n",
      "crime_and_punishment_by_fyodor_dostoyevsky.txt\n",
      "<Response [200]>\n",
      "https://www.gutenberg.org/files/2554/2554-0.txt\n"
     ]
    },
    {
     "data": {
      "text/plain": [
       "u'crime_and_punishment_by_fyodor_dostoyevsky.txt'"
      ]
     },
     "execution_count": 83,
     "metadata": {},
     "output_type": "execute_result"
    },
    {
     "name": "stdout",
     "output_type": "stream",
     "text": [
      "(u'crime_and_punishment_by_fyodor_dostoyevsky.txt', 'successfully downloaded\\n')\n",
      "------------------------------------------------------------\n",
      "https://www.gutenberg.org/ebooks/135\n",
      "les_misérables_by_victor_hugo.txt\n",
      "<Response [200]>\n",
      "https://www.gutenberg.org/files/135/135-0.txt\n"
     ]
    },
    {
     "data": {
      "text/plain": [
       "u'les_mis\\xe9rables_by_victor_hugo.txt'"
      ]
     },
     "execution_count": 83,
     "metadata": {},
     "output_type": "execute_result"
    },
    {
     "name": "stdout",
     "output_type": "stream",
     "text": [
      "(u'les_mis\\xe9rables_by_victor_hugo.txt', 'successfully downloaded\\n')\n",
      "------------------------------------------------------------\n",
      "https://www.gutenberg.org/ebooks/44881\n",
      "confessions_of_a_thug_by_meadows_taylor.txt\n",
      "<Response [200]>\n",
      "https://www.gutenberg.org/ebooks/44881.txt.utf-8\n"
     ]
    },
    {
     "data": {
      "text/plain": [
       "u'confessions_of_a_thug_by_meadows_taylor.txt'"
      ]
     },
     "execution_count": 83,
     "metadata": {},
     "output_type": "execute_result"
    },
    {
     "name": "stdout",
     "output_type": "stream",
     "text": [
      "(u'confessions_of_a_thug_by_meadows_taylor.txt', 'successfully downloaded\\n')\n",
      "------------------------------------------------------------\n",
      "https://www.gutenberg.org/ebooks/19337\n",
      "a_christmas_carol_by_charles_dickens.txt\n",
      "<Response [200]>\n",
      "https://www.gutenberg.org/ebooks/19337.txt.utf-8\n"
     ]
    },
    {
     "data": {
      "text/plain": [
       "u'a_christmas_carol_by_charles_dickens.txt'"
      ]
     },
     "execution_count": 83,
     "metadata": {},
     "output_type": "execute_result"
    },
    {
     "name": "stdout",
     "output_type": "stream",
     "text": [
      "(u'a_christmas_carol_by_charles_dickens.txt', 'successfully downloaded\\n')\n",
      "------------------------------------------------------------\n",
      "https://www.gutenberg.org/ebooks/375\n",
      "an_occurrence_at_owl_creek_bridge_by_ambrose_bierce.txt\n",
      "<Response [200]>\n",
      "https://www.gutenberg.org/ebooks/375.txt.utf-8\n"
     ]
    },
    {
     "data": {
      "text/plain": [
       "u'an_occurrence_at_owl_creek_bridge_by_ambrose_bierce.txt'"
      ]
     },
     "execution_count": 83,
     "metadata": {},
     "output_type": "execute_result"
    },
    {
     "name": "stdout",
     "output_type": "stream",
     "text": [
      "(u'an_occurrence_at_owl_creek_bridge_by_ambrose_bierce.txt', 'successfully downloaded\\n')\n",
      "------------------------------------------------------------\n",
      "https://www.gutenberg.org/ebooks/2097\n",
      "the_sign_of_the_four_by_arthur_conan_doyle.txt\n",
      "<Response [200]>\n",
      "https://www.gutenberg.org/ebooks/2097.txt.utf-8\n"
     ]
    },
    {
     "data": {
      "text/plain": [
       "u'the_sign_of_the_four_by_arthur_conan_doyle.txt'"
      ]
     },
     "execution_count": 83,
     "metadata": {},
     "output_type": "execute_result"
    },
    {
     "name": "stdout",
     "output_type": "stream",
     "text": [
      "(u'the_sign_of_the_four_by_arthur_conan_doyle.txt', 'successfully downloaded\\n')\n",
      "------------------------------------------------------------\n",
      "https://www.gutenberg.org/ebooks/5740\n",
      "tractatus_logico-philosophicus_by_ludwig_wittgenstein.txt\n",
      "<Response [200]>\n",
      "Text link not found\n",
      "\n",
      "~~~~~~~~~~~~~~~~~~~~~~~~~~~~~~~~~~~~~~~~~~~~~~~~~~~~~~~~~~~~\n",
      "https://www.gutenberg.org/ebooks/8800\n",
      "the_divine_comedy_by_dante,_illustrated_by_dante_alighieri.txt\n",
      "<Response [200]>\n",
      "https://www.gutenberg.org/ebooks/8800.txt.utf-8\n"
     ]
    },
    {
     "data": {
      "text/plain": [
       "u'the_divine_comedy_by_dante,_illustrated_by_dante_alighieri.txt'"
      ]
     },
     "execution_count": 83,
     "metadata": {},
     "output_type": "execute_result"
    },
    {
     "name": "stdout",
     "output_type": "stream",
     "text": [
      "(u'the_divine_comedy_by_dante,_illustrated_by_dante_alighieri.txt', 'successfully downloaded\\n')\n",
      "------------------------------------------------------------\n",
      "https://www.gutenberg.org/ebooks/6130\n",
      "the_iliad_by_homer.txt\n",
      "<Response [200]>\n",
      "https://www.gutenberg.org/ebooks/6130.txt.utf-8\n"
     ]
    },
    {
     "data": {
      "text/plain": [
       "u'the_iliad_by_homer.txt'"
      ]
     },
     "execution_count": 83,
     "metadata": {},
     "output_type": "execute_result"
    },
    {
     "name": "stdout",
     "output_type": "stream",
     "text": [
      "(u'the_iliad_by_homer.txt', 'successfully downloaded\\n')\n",
      "------------------------------------------------------------\n",
      "https://www.gutenberg.org/ebooks/786\n",
      "hard_times_by_charles_dickens.txt\n",
      "<Response [200]>\n",
      "https://www.gutenberg.org/files/786/786-0.txt\n"
     ]
    },
    {
     "data": {
      "text/plain": [
       "u'hard_times_by_charles_dickens.txt'"
      ]
     },
     "execution_count": 83,
     "metadata": {},
     "output_type": "execute_result"
    },
    {
     "name": "stdout",
     "output_type": "stream",
     "text": [
      "(u'hard_times_by_charles_dickens.txt', 'successfully downloaded\\n')\n",
      "------------------------------------------------------------\n",
      "https://www.gutenberg.org/ebooks/23\n",
      "narrative_of_the_life_of_frederick_douglass,_an_american_slave_by_douglass.txt\n",
      "<Response [200]>\n",
      "https://www.gutenberg.org/ebooks/23.txt.utf-8\n"
     ]
    },
    {
     "data": {
      "text/plain": [
       "u'narrative_of_the_life_of_frederick_douglass,_an_american_slave_by_douglass.txt'"
      ]
     },
     "execution_count": 83,
     "metadata": {},
     "output_type": "execute_result"
    },
    {
     "name": "stdout",
     "output_type": "stream",
     "text": [
      "(u'narrative_of_the_life_of_frederick_douglass,_an_american_slave_by_douglass.txt', 'successfully downloaded\\n')\n",
      "------------------------------------------------------------\n",
      "https://www.gutenberg.org/ebooks/19942\n",
      "candide_by_voltaire.txt\n",
      "<Response [200]>\n",
      "https://www.gutenberg.org/ebooks/19942.txt.utf-8\n"
     ]
    },
    {
     "data": {
      "text/plain": [
       "u'candide_by_voltaire.txt'"
      ]
     },
     "execution_count": 83,
     "metadata": {},
     "output_type": "execute_result"
    },
    {
     "name": "stdout",
     "output_type": "stream",
     "text": [
      "(u'candide_by_voltaire.txt', 'successfully downloaded\\n')\n",
      "------------------------------------------------------------\n",
      "https://www.gutenberg.org/ebooks/84\n",
      "frankenstein;_or,_the_modern_prometheus_by_mary_wollstonecraft_shelley.txt\n",
      "<Response [200]>\n",
      "https://www.gutenberg.org/files/84/84-0.txt\n"
     ]
    },
    {
     "data": {
      "text/plain": [
       "u'frankenstein;_or,_the_modern_prometheus_by_mary_wollstonecraft_shelley.txt'"
      ]
     },
     "execution_count": 83,
     "metadata": {},
     "output_type": "execute_result"
    },
    {
     "name": "stdout",
     "output_type": "stream",
     "text": [
      "(u'frankenstein;_or,_the_modern_prometheus_by_mary_wollstonecraft_shelley.txt', 'successfully downloaded\\n')\n",
      "------------------------------------------------------------\n",
      "https://www.gutenberg.org/ebooks/3207\n",
      "leviathan_by_thomas_hobbes.txt\n",
      "<Response [200]>\n",
      "https://www.gutenberg.org/ebooks/3207.txt.utf-8\n"
     ]
    },
    {
     "data": {
      "text/plain": [
       "u'leviathan_by_thomas_hobbes.txt'"
      ]
     },
     "execution_count": 83,
     "metadata": {},
     "output_type": "execute_result"
    },
    {
     "name": "stdout",
     "output_type": "stream",
     "text": [
      "(u'leviathan_by_thomas_hobbes.txt', 'successfully downloaded\\n')\n",
      "------------------------------------------------------------\n",
      "https://www.gutenberg.org/ebooks/4300\n",
      "ulysses_by_james_joyce.txt\n",
      "<Response [200]>\n",
      "https://www.gutenberg.org/files/4300/4300-0.txt\n"
     ]
    },
    {
     "data": {
      "text/plain": [
       "u'ulysses_by_james_joyce.txt'"
      ]
     },
     "execution_count": 83,
     "metadata": {},
     "output_type": "execute_result"
    },
    {
     "name": "stdout",
     "output_type": "stream",
     "text": [
      "(u'ulysses_by_james_joyce.txt', 'successfully downloaded\\n')\n",
      "------------------------------------------------------------\n",
      "https://www.gutenberg.org/ebooks/105\n",
      "persuasion_by_jane_austen.txt\n",
      "<Response [200]>\n",
      "https://www.gutenberg.org/ebooks/105.txt.utf-8\n"
     ]
    },
    {
     "data": {
      "text/plain": [
       "u'persuasion_by_jane_austen.txt'"
      ]
     },
     "execution_count": 83,
     "metadata": {},
     "output_type": "execute_result"
    },
    {
     "name": "stdout",
     "output_type": "stream",
     "text": [
      "(u'persuasion_by_jane_austen.txt', 'successfully downloaded\\n')\n",
      "------------------------------------------------------------\n",
      "https://www.gutenberg.org/ebooks/1998\n",
      "thus_spake_zarathustra:_a_book_for_all_and_none_by_friedrich_wilhelm_nietzsche.txt\n",
      "<Response [200]>\n",
      "https://www.gutenberg.org/files/1998/1998-0.txt\n"
     ]
    },
    {
     "data": {
      "text/plain": [
       "u'thus_spake_zarathustra:_a_book_for_all_and_none_by_friedrich_wilhelm_nietzsche.txt'"
      ]
     },
     "execution_count": 83,
     "metadata": {},
     "output_type": "execute_result"
    },
    {
     "name": "stdout",
     "output_type": "stream",
     "text": [
      "(u'thus_spake_zarathustra:_a_book_for_all_and_none_by_friedrich_wilhelm_nietzsche.txt', 'successfully downloaded\\n')\n",
      "------------------------------------------------------------\n",
      "https://www.gutenberg.org/ebooks/100\n",
      "the_complete_works_of_william_shakespeare_by_william_shakespeare.txt\n",
      "<Response [200]>\n",
      "https://www.gutenberg.org/files/100/100-0.txt\n"
     ]
    },
    {
     "data": {
      "text/plain": [
       "u'the_complete_works_of_william_shakespeare_by_william_shakespeare.txt'"
      ]
     },
     "execution_count": 83,
     "metadata": {},
     "output_type": "execute_result"
    },
    {
     "name": "stdout",
     "output_type": "stream",
     "text": [
      "(u'the_complete_works_of_william_shakespeare_by_william_shakespeare.txt', 'successfully downloaded\\n')\n",
      "------------------------------------------------------------\n",
      "https://www.gutenberg.org/ebooks/1184\n",
      "the_count_of_monte_cristo,_illustrated_by_alexandre_dumas.txt\n",
      "<Response [200]>\n",
      "https://www.gutenberg.org/files/1184/1184-0.txt\n"
     ]
    },
    {
     "data": {
      "text/plain": [
       "u'the_count_of_monte_cristo,_illustrated_by_alexandre_dumas.txt'"
      ]
     },
     "execution_count": 83,
     "metadata": {},
     "output_type": "execute_result"
    },
    {
     "name": "stdout",
     "output_type": "stream",
     "text": [
      "(u'the_count_of_monte_cristo,_illustrated_by_alexandre_dumas.txt', 'successfully downloaded\\n')\n",
      "------------------------------------------------------------\n",
      "https://www.gutenberg.org/ebooks/27827\n",
      "the_kama_sutra_of_vatsyayana_by_vatsyayana.txt\n",
      "<Response [200]>\n",
      "https://www.gutenberg.org/ebooks/27827.txt.utf-8\n"
     ]
    },
    {
     "data": {
      "text/plain": [
       "u'the_kama_sutra_of_vatsyayana_by_vatsyayana.txt'"
      ]
     },
     "execution_count": 83,
     "metadata": {},
     "output_type": "execute_result"
    },
    {
     "name": "stdout",
     "output_type": "stream",
     "text": [
      "(u'the_kama_sutra_of_vatsyayana_by_vatsyayana.txt', 'successfully downloaded\\n')\n",
      "------------------------------------------------------------\n",
      "https://www.gutenberg.org/ebooks/863\n",
      "the_mysterious_affair_at_styles_by_agatha_christie.txt\n",
      "<Response [200]>\n",
      "https://www.gutenberg.org/files/863/863-0.txt\n"
     ]
    },
    {
     "data": {
      "text/plain": [
       "u'the_mysterious_affair_at_styles_by_agatha_christie.txt'"
      ]
     },
     "execution_count": 83,
     "metadata": {},
     "output_type": "execute_result"
    },
    {
     "name": "stdout",
     "output_type": "stream",
     "text": [
      "(u'the_mysterious_affair_at_styles_by_agatha_christie.txt', 'successfully downloaded\\n')\n",
      "------------------------------------------------------------\n",
      "https://www.gutenberg.org/ebooks/58333\n",
      "the_fall_of_man_by_richard_grant_white.txt\n",
      "<Response [200]>\n",
      "https://www.gutenberg.org/files/58333/58333-0.txt\n"
     ]
    },
    {
     "data": {
      "text/plain": [
       "u'the_fall_of_man_by_richard_grant_white.txt'"
      ]
     },
     "execution_count": 83,
     "metadata": {},
     "output_type": "execute_result"
    },
    {
     "name": "stdout",
     "output_type": "stream",
     "text": [
      "(u'the_fall_of_man_by_richard_grant_white.txt', 'successfully downloaded\\n')\n",
      "------------------------------------------------------------\n",
      "https://www.gutenberg.org/ebooks/345\n",
      "dracula_by_bram_stoker.txt\n",
      "<Response [200]>\n",
      "https://www.gutenberg.org/ebooks/345.txt.utf-8\n"
     ]
    },
    {
     "data": {
      "text/plain": [
       "u'dracula_by_bram_stoker.txt'"
      ]
     },
     "execution_count": 83,
     "metadata": {},
     "output_type": "execute_result"
    },
    {
     "name": "stdout",
     "output_type": "stream",
     "text": [
      "(u'dracula_by_bram_stoker.txt', 'successfully downloaded\\n')\n",
      "------------------------------------------------------------\n",
      "https://www.gutenberg.org/ebooks/10\n",
      "the_king_james_version_of_the_bible.txt\n",
      "<Response [200]>\n",
      "https://www.gutenberg.org/ebooks/10.txt.utf-8\n"
     ]
    },
    {
     "data": {
      "text/plain": [
       "u'the_king_james_version_of_the_bible.txt'"
      ]
     },
     "execution_count": 83,
     "metadata": {},
     "output_type": "execute_result"
    },
    {
     "name": "stdout",
     "output_type": "stream",
     "text": [
      "(u'the_king_james_version_of_the_bible.txt', 'successfully downloaded\\n')\n",
      "------------------------------------------------------------\n",
      "https://www.gutenberg.org/ebooks/11\n",
      "alice's_adventures_in_wonderland_by_lewis_carroll.txt\n",
      "<Response [200]>\n",
      "https://www.gutenberg.org/files/11/11-0.txt\n"
     ]
    },
    {
     "data": {
      "text/plain": [
       "u\"alice's_adventures_in_wonderland_by_lewis_carroll.txt\""
      ]
     },
     "execution_count": 83,
     "metadata": {},
     "output_type": "execute_result"
    },
    {
     "name": "stdout",
     "output_type": "stream",
     "text": [
      "(u\"alice's_adventures_in_wonderland_by_lewis_carroll.txt\", 'successfully downloaded\\n')\n",
      "------------------------------------------------------------\n",
      "https://www.gutenberg.org/ebooks/815\n",
      "democracy_in_america_—_volume_1_by_alexis_de_tocqueville.txt\n",
      "<Response [200]>\n",
      "https://www.gutenberg.org/ebooks/815.txt.utf-8\n"
     ]
    },
    {
     "data": {
      "text/plain": [
       "u'democracy_in_america_\\u2014_volume_1_by_alexis_de_tocqueville.txt'"
      ]
     },
     "execution_count": 83,
     "metadata": {},
     "output_type": "execute_result"
    },
    {
     "name": "stdout",
     "output_type": "stream",
     "text": [
      "(u'democracy_in_america_\\u2014_volume_1_by_alexis_de_tocqueville.txt', 'successfully downloaded\\n')\n",
      "------------------------------------------------------------\n",
      "https://www.gutenberg.org/ebooks/16\n",
      "peter_pan_by_j._m._barrie.txt\n",
      "<Response [200]>\n",
      "https://www.gutenberg.org/files/16/16-0.txt\n"
     ]
    },
    {
     "data": {
      "text/plain": [
       "u'peter_pan_by_j._m._barrie.txt'"
      ]
     },
     "execution_count": 83,
     "metadata": {},
     "output_type": "execute_result"
    },
    {
     "name": "stdout",
     "output_type": "stream",
     "text": [
      "(u'peter_pan_by_j._m._barrie.txt', 'successfully downloaded\\n')\n",
      "------------------------------------------------------------\n",
      "https://www.gutenberg.org/ebooks/58358\n",
      "cassell's_history_of_england,__vol._v_by_unknown.txt\n",
      "<Response [200]>\n",
      "https://www.gutenberg.org/files/58358/58358-0.txt\n"
     ]
    },
    {
     "data": {
      "text/plain": [
       "u\"cassell's_history_of_england,__vol._v_by_unknown.txt\""
      ]
     },
     "execution_count": 83,
     "metadata": {},
     "output_type": "execute_result"
    },
    {
     "name": "stdout",
     "output_type": "stream",
     "text": [
      "(u\"cassell's_history_of_england,__vol._v_by_unknown.txt\", 'successfully downloaded\\n')\n",
      "------------------------------------------------------------\n",
      "https://www.gutenberg.org/ebooks/58356\n",
      "the_passing_of_empire_by_h._fielding.txt\n",
      "<Response [200]>\n",
      "https://www.gutenberg.org/ebooks/58356.txt.utf-8\n"
     ]
    },
    {
     "data": {
      "text/plain": [
       "u'the_passing_of_empire_by_h._fielding.txt'"
      ]
     },
     "execution_count": 83,
     "metadata": {},
     "output_type": "execute_result"
    },
    {
     "name": "stdout",
     "output_type": "stream",
     "text": [
      "(u'the_passing_of_empire_by_h._fielding.txt', 'successfully downloaded\\n')\n",
      "------------------------------------------------------------\n",
      "https://www.gutenberg.org/ebooks/58355\n",
      "the_three_brothers_by_eden_phillpotts.txt\n",
      "<Response [200]>\n",
      "https://www.gutenberg.org/ebooks/58355.txt.utf-8\n"
     ]
    },
    {
     "data": {
      "text/plain": [
       "u'the_three_brothers_by_eden_phillpotts.txt'"
      ]
     },
     "execution_count": 83,
     "metadata": {},
     "output_type": "execute_result"
    },
    {
     "name": "stdout",
     "output_type": "stream",
     "text": [
      "(u'the_three_brothers_by_eden_phillpotts.txt', 'successfully downloaded\\n')\n",
      "------------------------------------------------------------\n",
      "https://www.gutenberg.org/ebooks/58350\n",
      "the_chinese_opium-smoker_by_anonymous.txt\n",
      "<Response [200]>\n",
      "https://www.gutenberg.org/files/58350/58350-0.txt\n"
     ]
    },
    {
     "data": {
      "text/plain": [
       "u'the_chinese_opium-smoker_by_anonymous.txt'"
      ]
     },
     "execution_count": 83,
     "metadata": {},
     "output_type": "execute_result"
    },
    {
     "name": "stdout",
     "output_type": "stream",
     "text": [
      "(u'the_chinese_opium-smoker_by_anonymous.txt', 'successfully downloaded\\n')\n",
      "------------------------------------------------------------\n",
      "https://www.gutenberg.org/ebooks/76\n",
      "adventures_of_huckleberry_finn_by_mark_twain.txt\n",
      "<Response [200]>\n",
      "https://www.gutenberg.org/files/76/76-0.txt\n"
     ]
    },
    {
     "data": {
      "text/plain": [
       "u'adventures_of_huckleberry_finn_by_mark_twain.txt'"
      ]
     },
     "execution_count": 83,
     "metadata": {},
     "output_type": "execute_result"
    },
    {
     "name": "stdout",
     "output_type": "stream",
     "text": [
      "(u'adventures_of_huckleberry_finn_by_mark_twain.txt', 'successfully downloaded\\n')\n",
      "------------------------------------------------------------\n",
      "https://www.gutenberg.org/ebooks/74\n",
      "the_adventures_of_tom_sawyer_by_mark_twain.txt\n",
      "<Response [200]>\n",
      "https://www.gutenberg.org/files/74/74-0.txt\n"
     ]
    },
    {
     "data": {
      "text/plain": [
       "u'the_adventures_of_tom_sawyer_by_mark_twain.txt'"
      ]
     },
     "execution_count": 83,
     "metadata": {},
     "output_type": "execute_result"
    },
    {
     "name": "stdout",
     "output_type": "stream",
     "text": [
      "(u'the_adventures_of_tom_sawyer_by_mark_twain.txt', 'successfully downloaded\\n')\n",
      "------------------------------------------------------------\n",
      "https://www.gutenberg.org/ebooks/113\n",
      "the_secret_garden_by_frances_hodgson_burnett.txt\n",
      "<Response [200]>\n",
      "https://www.gutenberg.org/files/113/113-0.txt\n"
     ]
    },
    {
     "data": {
      "text/plain": [
       "u'the_secret_garden_by_frances_hodgson_burnett.txt'"
      ]
     },
     "execution_count": 83,
     "metadata": {},
     "output_type": "execute_result"
    },
    {
     "name": "stdout",
     "output_type": "stream",
     "text": [
      "(u'the_secret_garden_by_frances_hodgson_burnett.txt', 'successfully downloaded\\n')\n",
      "------------------------------------------------------------\n",
      "https://www.gutenberg.org/ebooks/3600\n",
      "essays_of_michel_de_montaigne_—_complete_by_michel_de_montaigne.txt\n",
      "<Response [200]>\n",
      "https://www.gutenberg.org/files/3600/3600-0.txt\n"
     ]
    },
    {
     "data": {
      "text/plain": [
       "u'essays_of_michel_de_montaigne_\\u2014_complete_by_michel_de_montaigne.txt'"
      ]
     },
     "execution_count": 83,
     "metadata": {},
     "output_type": "execute_result"
    },
    {
     "name": "stdout",
     "output_type": "stream",
     "text": [
      "(u'essays_of_michel_de_montaigne_\\u2014_complete_by_michel_de_montaigne.txt', 'successfully downloaded\\n')\n",
      "------------------------------------------------------------\n",
      "https://www.gutenberg.org/ebooks/219\n",
      "heart_of_darkness_by_joseph_conrad.txt\n",
      "<Response [200]>\n",
      "https://www.gutenberg.org/files/219/219-0.txt\n"
     ]
    },
    {
     "data": {
      "text/plain": [
       "u'heart_of_darkness_by_joseph_conrad.txt'"
      ]
     },
     "execution_count": 83,
     "metadata": {},
     "output_type": "execute_result"
    },
    {
     "name": "stdout",
     "output_type": "stream",
     "text": [
      "(u'heart_of_darkness_by_joseph_conrad.txt', 'successfully downloaded\\n')\n",
      "------------------------------------------------------------\n",
      "https://www.gutenberg.org/ebooks/16119\n",
      "doctrina_christiana_by_edwin_wolf.txt\n",
      "<Response [200]>\n",
      "https://www.gutenberg.org/ebooks/16119.txt.utf-8\n"
     ]
    },
    {
     "data": {
      "text/plain": [
       "u'doctrina_christiana_by_edwin_wolf.txt'"
      ]
     },
     "execution_count": 83,
     "metadata": {},
     "output_type": "execute_result"
    },
    {
     "name": "stdout",
     "output_type": "stream",
     "text": [
      "(u'doctrina_christiana_by_edwin_wolf.txt', 'successfully downloaded\\n')\n",
      "------------------------------------------------------------\n",
      "https://www.gutenberg.org/ebooks/34901\n",
      "on_liberty_by_john_stuart_mill.txt\n",
      "<Response [200]>\n",
      "https://www.gutenberg.org/ebooks/34901.txt.utf-8\n"
     ]
    },
    {
     "data": {
      "text/plain": [
       "u'on_liberty_by_john_stuart_mill.txt'"
      ]
     },
     "execution_count": 83,
     "metadata": {},
     "output_type": "execute_result"
    },
    {
     "name": "stdout",
     "output_type": "stream",
     "text": [
      "(u'on_liberty_by_john_stuart_mill.txt', 'successfully downloaded\\n')\n",
      "------------------------------------------------------------\n",
      "https://www.gutenberg.org/ebooks/521\n",
      "the_life_and_adventures_of_robinson_crusoe_by_daniel_defoe.txt\n",
      "<Response [200]>\n",
      "https://www.gutenberg.org/files/521/521-0.txt\n"
     ]
    },
    {
     "data": {
      "text/plain": [
       "u'the_life_and_adventures_of_robinson_crusoe_by_daniel_defoe.txt'"
      ]
     },
     "execution_count": 83,
     "metadata": {},
     "output_type": "execute_result"
    },
    {
     "name": "stdout",
     "output_type": "stream",
     "text": [
      "(u'the_life_and_adventures_of_robinson_crusoe_by_daniel_defoe.txt', 'successfully downloaded\\n')\n",
      "------------------------------------------------------------\n",
      "https://www.gutenberg.org/ebooks/20203\n",
      "autobiography_of_benjamin_franklin_by_benjamin_franklin.txt\n",
      "<Response [200]>\n",
      "https://www.gutenberg.org/ebooks/20203.txt.utf-8\n"
     ]
    },
    {
     "data": {
      "text/plain": [
       "u'autobiography_of_benjamin_franklin_by_benjamin_franklin.txt'"
      ]
     },
     "execution_count": 83,
     "metadata": {},
     "output_type": "execute_result"
    },
    {
     "name": "stdout",
     "output_type": "stream",
     "text": [
      "(u'autobiography_of_benjamin_franklin_by_benjamin_franklin.txt', 'successfully downloaded\\n')\n",
      "------------------------------------------------------------\n",
      "https://www.gutenberg.org/ebooks/1342\n",
      "pride_and_prejudice_by_jane_austen.txt\n",
      "<Response [200]>\n",
      "https://www.gutenberg.org/files/1342/1342-0.txt\n"
     ]
    },
    {
     "data": {
      "text/plain": [
       "u'pride_and_prejudice_by_jane_austen.txt'"
      ]
     },
     "execution_count": 83,
     "metadata": {},
     "output_type": "execute_result"
    },
    {
     "name": "stdout",
     "output_type": "stream",
     "text": [
      "(u'pride_and_prejudice_by_jane_austen.txt', 'successfully downloaded\\n')\n",
      "------------------------------------------------------------\n",
      "https://www.gutenberg.org/ebooks/1404\n",
      "the_federalist_papers_by_alexander_hamilton,_john_jay,_and_james_madison.txt\n",
      "<Response [200]>\n",
      "https://www.gutenberg.org/ebooks/1404.txt.utf-8\n"
     ]
    },
    {
     "data": {
      "text/plain": [
       "u'the_federalist_papers_by_alexander_hamilton,_john_jay,_and_james_madison.txt'"
      ]
     },
     "execution_count": 83,
     "metadata": {},
     "output_type": "execute_result"
    },
    {
     "name": "stdout",
     "output_type": "stream",
     "text": [
      "(u'the_federalist_papers_by_alexander_hamilton,_john_jay,_and_james_madison.txt', 'successfully downloaded\\n')\n",
      "------------------------------------------------------------\n",
      "https://www.gutenberg.org/ebooks/58348\n",
      "an_artist_in_egypt_by_walter_tyndale.txt\n",
      "<Response [200]>\n",
      "https://www.gutenberg.org/files/58348/58348-0.txt\n"
     ]
    },
    {
     "data": {
      "text/plain": [
       "u'an_artist_in_egypt_by_walter_tyndale.txt'"
      ]
     },
     "execution_count": 83,
     "metadata": {},
     "output_type": "execute_result"
    },
    {
     "name": "stdout",
     "output_type": "stream",
     "text": [
      "(u'an_artist_in_egypt_by_walter_tyndale.txt', 'successfully downloaded\\n')\n",
      "------------------------------------------------------------\n",
      "https://www.gutenberg.org/ebooks/58349\n",
      "history_of_geography_by_osbert_john_radcliffe_howarth_and_john_scott_keltie.txt\n",
      "<Response [200]>\n",
      "https://www.gutenberg.org/files/58349/58349-0.txt\n"
     ]
    },
    {
     "data": {
      "text/plain": [
       "u'history_of_geography_by_osbert_john_radcliffe_howarth_and_john_scott_keltie.txt'"
      ]
     },
     "execution_count": 83,
     "metadata": {},
     "output_type": "execute_result"
    },
    {
     "name": "stdout",
     "output_type": "stream",
     "text": [
      "(u'history_of_geography_by_osbert_john_radcliffe_howarth_and_john_scott_keltie.txt', 'successfully downloaded\\n')\n",
      "------------------------------------------------------------\n",
      "https://www.gutenberg.org/ebooks/7370\n",
      "second_treatise_of_government_by_john_locke.txt\n",
      "<Response [200]>\n",
      "https://www.gutenberg.org/ebooks/7370.txt.utf-8\n"
     ]
    },
    {
     "data": {
      "text/plain": [
       "u'second_treatise_of_government_by_john_locke.txt'"
      ]
     },
     "execution_count": 83,
     "metadata": {},
     "output_type": "execute_result"
    },
    {
     "name": "stdout",
     "output_type": "stream",
     "text": [
      "(u'second_treatise_of_government_by_john_locke.txt', 'successfully downloaded\\n')\n",
      "------------------------------------------------------------\n",
      "https://www.gutenberg.org/ebooks/58347\n",
      "a_history_of_aeronautics_by_w._lockwood_marsh_and_evelyn_charles_vivian.txt\n",
      "<Response [200]>\n",
      "https://www.gutenberg.org/files/58347/58347-0.txt\n"
     ]
    },
    {
     "data": {
      "text/plain": [
       "u'a_history_of_aeronautics_by_w._lockwood_marsh_and_evelyn_charles_vivian.txt'"
      ]
     },
     "execution_count": 83,
     "metadata": {},
     "output_type": "execute_result"
    },
    {
     "name": "stdout",
     "output_type": "stream",
     "text": [
      "(u'a_history_of_aeronautics_by_w._lockwood_marsh_and_evelyn_charles_vivian.txt', 'successfully downloaded\\n')\n",
      "------------------------------------------------------------\n",
      "https://www.gutenberg.org/ebooks/61\n",
      "the_communist_manifesto_by_friedrich_engels_and_karl_marx.txt\n",
      "<Response [200]>\n",
      "https://www.gutenberg.org/ebooks/61.txt.utf-8\n"
     ]
    },
    {
     "data": {
      "text/plain": [
       "u'the_communist_manifesto_by_friedrich_engels_and_karl_marx.txt'"
      ]
     },
     "execution_count": 83,
     "metadata": {},
     "output_type": "execute_result"
    },
    {
     "name": "stdout",
     "output_type": "stream",
     "text": [
      "(u'the_communist_manifesto_by_friedrich_engels_and_karl_marx.txt', 'successfully downloaded\\n')\n",
      "------------------------------------------------------------\n",
      "https://www.gutenberg.org/ebooks/1934\n",
      "songs_of_innocence,_and_songs_of_experience_by_william_blake.txt\n",
      "<Response [200]>\n",
      "https://www.gutenberg.org/files/1934/1934-0.txt\n"
     ]
    },
    {
     "data": {
      "text/plain": [
       "u'songs_of_innocence,_and_songs_of_experience_by_william_blake.txt'"
      ]
     },
     "execution_count": 83,
     "metadata": {},
     "output_type": "execute_result"
    },
    {
     "name": "stdout",
     "output_type": "stream",
     "text": [
      "(u'songs_of_innocence,_and_songs_of_experience_by_william_blake.txt', 'successfully downloaded\\n')\n",
      "------------------------------------------------------------\n",
      "https://www.gutenberg.org/ebooks/140\n",
      "the_jungle_by_upton_sinclair.txt\n",
      "<Response [200]>\n",
      "https://www.gutenberg.org/files/140/140-0.txt\n"
     ]
    },
    {
     "data": {
      "text/plain": [
       "u'the_jungle_by_upton_sinclair.txt'"
      ]
     },
     "execution_count": 83,
     "metadata": {},
     "output_type": "execute_result"
    },
    {
     "name": "stdout",
     "output_type": "stream",
     "text": [
      "(u'the_jungle_by_upton_sinclair.txt', 'successfully downloaded\\n')\n",
      "------------------------------------------------------------\n",
      "https://www.gutenberg.org/ebooks/15399\n",
      "the_interesting_narrative_of_the_life_of_olaudah_equiano,_or_gustavus_vassa,_the.txt\n",
      "<Response [200]>\n",
      "https://www.gutenberg.org/ebooks/15399.txt.utf-8\n"
     ]
    },
    {
     "data": {
      "text/plain": [
       "u'the_interesting_narrative_of_the_life_of_olaudah_equiano,_or_gustavus_vassa,_the.txt'"
      ]
     },
     "execution_count": 83,
     "metadata": {},
     "output_type": "execute_result"
    },
    {
     "name": "stdout",
     "output_type": "stream",
     "text": [
      "(u'the_interesting_narrative_of_the_life_of_olaudah_equiano,_or_gustavus_vassa,_the.txt', 'successfully downloaded\\n')\n",
      "------------------------------------------------------------\n",
      "https://www.gutenberg.org/ebooks/161\n",
      "sense_and_sensibility_by_jane_austen.txt\n",
      "<Response [200]>\n",
      "https://www.gutenberg.org/ebooks/161.txt.utf-8\n"
     ]
    },
    {
     "data": {
      "text/plain": [
       "u'sense_and_sensibility_by_jane_austen.txt'"
      ]
     },
     "execution_count": 83,
     "metadata": {},
     "output_type": "execute_result"
    },
    {
     "name": "stdout",
     "output_type": "stream",
     "text": [
      "(u'sense_and_sensibility_by_jane_austen.txt', 'successfully downloaded\\n')\n",
      "------------------------------------------------------------\n",
      "https://www.gutenberg.org/ebooks/160\n",
      "the_awakening,_and_selected_short_stories_by_kate_chopin.txt\n",
      "<Response [200]>\n",
      "https://www.gutenberg.org/files/160/160-0.txt\n"
     ]
    },
    {
     "data": {
      "text/plain": [
       "u'the_awakening,_and_selected_short_stories_by_kate_chopin.txt'"
      ]
     },
     "execution_count": 83,
     "metadata": {},
     "output_type": "execute_result"
    },
    {
     "name": "stdout",
     "output_type": "stream",
     "text": [
      "(u'the_awakening,_and_selected_short_stories_by_kate_chopin.txt', 'successfully downloaded\\n')\n",
      "------------------------------------------------------------\n",
      "https://www.gutenberg.org/ebooks/22120\n",
      "chaucer's_works,_volume_4_(of_7)_—_the_canterbury_tales_by_geoffrey_chaucer.txt\n",
      "<Response [200]>\n",
      "https://www.gutenberg.org/ebooks/22120.txt.utf-8\n"
     ]
    },
    {
     "data": {
      "text/plain": [
       "u\"chaucer's_works,_volume_4_(of_7)_\\u2014_the_canterbury_tales_by_geoffrey_chaucer.txt\""
      ]
     },
     "execution_count": 83,
     "metadata": {},
     "output_type": "execute_result"
    },
    {
     "name": "stdout",
     "output_type": "stream",
     "text": [
      "(u\"chaucer's_works,_volume_4_(of_7)_\\u2014_the_canterbury_tales_by_geoffrey_chaucer.txt\", 'successfully downloaded\\n')\n",
      "------------------------------------------------------------\n",
      "https://www.gutenberg.org/ebooks/209\n",
      "the_turn_of_the_screw_by_henry_james.txt\n",
      "<Response [200]>\n",
      "https://www.gutenberg.org/files/209/209-0.txt\n"
     ]
    },
    {
     "data": {
      "text/plain": [
       "u'the_turn_of_the_screw_by_henry_james.txt'"
      ]
     },
     "execution_count": 83,
     "metadata": {},
     "output_type": "execute_result"
    },
    {
     "name": "stdout",
     "output_type": "stream",
     "text": [
      "(u'the_turn_of_the_screw_by_henry_james.txt', 'successfully downloaded\\n')\n",
      "------------------------------------------------------------\n",
      "https://www.gutenberg.org/ebooks/730\n",
      "oliver_twist_by_charles_dickens.txt\n",
      "<Response [200]>\n",
      "https://www.gutenberg.org/ebooks/730.txt.utf-8\n"
     ]
    },
    {
     "data": {
      "text/plain": [
       "u'oliver_twist_by_charles_dickens.txt'"
      ]
     },
     "execution_count": 83,
     "metadata": {},
     "output_type": "execute_result"
    },
    {
     "name": "stdout",
     "output_type": "stream",
     "text": [
      "(u'oliver_twist_by_charles_dickens.txt', 'successfully downloaded\\n')\n",
      "------------------------------------------------------------\n",
      "https://www.gutenberg.org/ebooks/205\n",
      "walden,_and_on_the_duty_of_civil_disobedience_by_henry_david_thoreau.txt\n",
      "<Response [200]>\n",
      "https://www.gutenberg.org/files/205/205-0.txt\n"
     ]
    },
    {
     "data": {
      "text/plain": [
       "u'walden,_and_on_the_duty_of_civil_disobedience_by_henry_david_thoreau.txt'"
      ]
     },
     "execution_count": 83,
     "metadata": {},
     "output_type": "execute_result"
    },
    {
     "name": "stdout",
     "output_type": "stream",
     "text": [
      "(u'walden,_and_on_the_duty_of_civil_disobedience_by_henry_david_thoreau.txt', 'successfully downloaded\\n')\n",
      "------------------------------------------------------------\n",
      "https://www.gutenberg.org/ebooks/203\n",
      "uncle_tom's_cabin_by_harriet_beecher_stowe.txt\n",
      "<Response [200]>\n",
      "https://www.gutenberg.org/files/203/203-0.txt\n"
     ]
    },
    {
     "data": {
      "text/plain": [
       "u\"uncle_tom's_cabin_by_harriet_beecher_stowe.txt\""
      ]
     },
     "execution_count": 83,
     "metadata": {},
     "output_type": "execute_result"
    },
    {
     "name": "stdout",
     "output_type": "stream",
     "text": [
      "(u\"uncle_tom's_cabin_by_harriet_beecher_stowe.txt\", 'successfully downloaded\\n')\n",
      "------------------------------------------------------------\n",
      "https://www.gutenberg.org/ebooks/4363\n",
      "beyond_good_and_evil_by_friedrich_wilhelm_nietzsche.txt\n",
      "<Response [200]>\n",
      "https://www.gutenberg.org/ebooks/4363.txt.utf-8\n"
     ]
    },
    {
     "data": {
      "text/plain": [
       "u'beyond_good_and_evil_by_friedrich_wilhelm_nietzsche.txt'"
      ]
     },
     "execution_count": 83,
     "metadata": {},
     "output_type": "execute_result"
    },
    {
     "name": "stdout",
     "output_type": "stream",
     "text": [
      "(u'beyond_good_and_evil_by_friedrich_wilhelm_nietzsche.txt', 'successfully downloaded\\n')\n",
      "------------------------------------------------------------\n",
      "https://www.gutenberg.org/ebooks/1400\n",
      "great_expectations_by_charles_dickens.txt\n",
      "<Response [200]>\n",
      "https://www.gutenberg.org/files/1400/1400-0.txt\n"
     ]
    },
    {
     "data": {
      "text/plain": [
       "u'great_expectations_by_charles_dickens.txt'"
      ]
     },
     "execution_count": 83,
     "metadata": {},
     "output_type": "execute_result"
    },
    {
     "name": "stdout",
     "output_type": "stream",
     "text": [
      "(u'great_expectations_by_charles_dickens.txt', 'successfully downloaded\\n')\n",
      "------------------------------------------------------------\n",
      "https://www.gutenberg.org/ebooks/2852\n",
      "the_hound_of_the_baskervilles_by_arthur_conan_doyle.txt\n",
      "<Response [200]>\n",
      "https://www.gutenberg.org/files/2852/2852-0.txt\n"
     ]
    },
    {
     "data": {
      "text/plain": [
       "u'the_hound_of_the_baskervilles_by_arthur_conan_doyle.txt'"
      ]
     },
     "execution_count": 83,
     "metadata": {},
     "output_type": "execute_result"
    },
    {
     "name": "stdout",
     "output_type": "stream",
     "text": [
      "(u'the_hound_of_the_baskervilles_by_arthur_conan_doyle.txt', 'successfully downloaded\\n')\n",
      "------------------------------------------------------------\n",
      "https://www.gutenberg.org/ebooks/3296\n",
      "the_confessions_of_st._augustine_by_bishop_of_hippo_saint_augustine.txt\n",
      "<Response [200]>\n",
      "https://www.gutenberg.org/ebooks/3296.txt.utf-8\n"
     ]
    },
    {
     "data": {
      "text/plain": [
       "u'the_confessions_of_st._augustine_by_bishop_of_hippo_saint_augustine.txt'"
      ]
     },
     "execution_count": 83,
     "metadata": {},
     "output_type": "execute_result"
    },
    {
     "name": "stdout",
     "output_type": "stream",
     "text": [
      "(u'the_confessions_of_st._augustine_by_bishop_of_hippo_saint_augustine.txt', 'successfully downloaded\\n')\n",
      "------------------------------------------------------------\n",
      "https://www.gutenberg.org/ebooks/1232\n",
      "the_prince_by_niccolò_machiavelli.txt\n",
      "<Response [200]>\n",
      "https://www.gutenberg.org/ebooks/1232.txt.utf-8\n"
     ]
    },
    {
     "data": {
      "text/plain": [
       "u'the_prince_by_niccol\\xf2_machiavelli.txt'"
      ]
     },
     "execution_count": 83,
     "metadata": {},
     "output_type": "execute_result"
    },
    {
     "name": "stdout",
     "output_type": "stream",
     "text": [
      "(u'the_prince_by_niccol\\xf2_machiavelli.txt', 'successfully downloaded\\n')\n",
      "------------------------------------------------------------\n",
      "https://www.gutenberg.org/ebooks/932\n",
      "the_fall_of_the_house_of_usher_by_edgar_allan_poe.txt\n",
      "<Response [200]>\n",
      "https://www.gutenberg.org/ebooks/932.txt.utf-8\n"
     ]
    },
    {
     "data": {
      "text/plain": [
       "u'the_fall_of_the_house_of_usher_by_edgar_allan_poe.txt'"
      ]
     },
     "execution_count": 83,
     "metadata": {},
     "output_type": "execute_result"
    },
    {
     "name": "stdout",
     "output_type": "stream",
     "text": [
      "(u'the_fall_of_the_house_of_usher_by_edgar_allan_poe.txt', 'successfully downloaded\\n')\n",
      "------------------------------------------------------------\n",
      "https://www.gutenberg.org/ebooks/5200\n",
      "metamorphosis_by_franz_kafka.txt\n",
      "<Response [200]>\n",
      "https://www.gutenberg.org/ebooks/5200.txt.utf-8\n"
     ]
    },
    {
     "data": {
      "text/plain": [
       "u'metamorphosis_by_franz_kafka.txt'"
      ]
     },
     "execution_count": 83,
     "metadata": {},
     "output_type": "execute_result"
    },
    {
     "name": "stdout",
     "output_type": "stream",
     "text": [
      "(u'metamorphosis_by_franz_kafka.txt', 'successfully downloaded\\n')\n",
      "------------------------------------------------------------\n",
      "https://www.gutenberg.org/ebooks/55\n",
      "the_wonderful_wizard_of_oz_by_l._frank_baum.txt\n",
      "<Response [200]>\n",
      "https://www.gutenberg.org/ebooks/55.txt.utf-8\n"
     ]
    },
    {
     "data": {
      "text/plain": [
       "u'the_wonderful_wizard_of_oz_by_l._frank_baum.txt'"
      ]
     },
     "execution_count": 83,
     "metadata": {},
     "output_type": "execute_result"
    },
    {
     "name": "stdout",
     "output_type": "stream",
     "text": [
      "(u'the_wonderful_wizard_of_oz_by_l._frank_baum.txt', 'successfully downloaded\\n')\n",
      "------------------------------------------------------------\n",
      "https://www.gutenberg.org/ebooks/58319\n",
      "the_story_of_paper-making_by_frank_o._butler.txt\n",
      "<Response [200]>\n",
      "https://www.gutenberg.org/files/58319/58319-0.txt\n"
     ]
    },
    {
     "data": {
      "text/plain": [
       "u'the_story_of_paper-making_by_frank_o._butler.txt'"
      ]
     },
     "execution_count": 83,
     "metadata": {},
     "output_type": "execute_result"
    },
    {
     "name": "stdout",
     "output_type": "stream",
     "text": [
      "(u'the_story_of_paper-making_by_frank_o._butler.txt', 'successfully downloaded\\n')\n",
      "------------------------------------------------------------\n",
      "https://www.gutenberg.org/ebooks/1399\n",
      "anna_karenina_by_graf_leo_tolstoy.txt\n",
      "<Response [200]>\n",
      "https://www.gutenberg.org/files/1399/1399-0.txt\n"
     ]
    },
    {
     "data": {
      "text/plain": [
       "u'anna_karenina_by_graf_leo_tolstoy.txt'"
      ]
     },
     "execution_count": 83,
     "metadata": {},
     "output_type": "execute_result"
    },
    {
     "name": "stdout",
     "output_type": "stream",
     "text": [
      "(u'anna_karenina_by_graf_leo_tolstoy.txt', 'successfully downloaded\\n')\n",
      "------------------------------------------------------------\n",
      "https://www.gutenberg.org/ebooks/174\n",
      "the_picture_of_dorian_gray_by_oscar_wilde.txt\n",
      "<Response [200]>\n",
      "https://www.gutenberg.org/ebooks/174.txt.utf-8\n"
     ]
    },
    {
     "data": {
      "text/plain": [
       "u'the_picture_of_dorian_gray_by_oscar_wilde.txt'"
      ]
     },
     "execution_count": 83,
     "metadata": {},
     "output_type": "execute_result"
    },
    {
     "name": "stdout",
     "output_type": "stream",
     "text": [
      "(u'the_picture_of_dorian_gray_by_oscar_wilde.txt', 'successfully downloaded\\n')\n",
      "------------------------------------------------------------\n",
      "https://www.gutenberg.org/ebooks/28054\n",
      "the_brothers_karamazov_by_fyodor_dostoyevsky.txt\n",
      "<Response [200]>\n",
      "https://www.gutenberg.org/files/28054/28054-0.txt\n"
     ]
    },
    {
     "data": {
      "text/plain": [
       "u'the_brothers_karamazov_by_fyodor_dostoyevsky.txt'"
      ]
     },
     "execution_count": 83,
     "metadata": {},
     "output_type": "execute_result"
    },
    {
     "name": "stdout",
     "output_type": "stream",
     "text": [
      "(u'the_brothers_karamazov_by_fyodor_dostoyevsky.txt', 'successfully downloaded\\n')\n",
      "------------------------------------------------------------\n",
      "https://www.gutenberg.org/ebooks/829\n",
      "gulliver's_travels_into_several_remote_nations_of_the_world_by_jonathan_swift.txt\n",
      "<Response [200]>\n",
      "https://www.gutenberg.org/files/829/829-0.txt\n"
     ]
    },
    {
     "data": {
      "text/plain": [
       "u\"gulliver's_travels_into_several_remote_nations_of_the_world_by_jonathan_swift.txt\""
      ]
     },
     "execution_count": 83,
     "metadata": {},
     "output_type": "execute_result"
    },
    {
     "name": "stdout",
     "output_type": "stream",
     "text": [
      "(u\"gulliver's_travels_into_several_remote_nations_of_the_world_by_jonathan_swift.txt\", 'successfully downloaded\\n')\n",
      "------------------------------------------------------------\n",
      "https://www.gutenberg.org/ebooks/25344\n",
      "the_scarlet_letter_by_nathaniel_hawthorne.txt\n",
      "<Response [200]>\n",
      "https://www.gutenberg.org/files/25344/25344-0.txt\n"
     ]
    },
    {
     "data": {
      "text/plain": [
       "u'the_scarlet_letter_by_nathaniel_hawthorne (1).txt'"
      ]
     },
     "execution_count": 83,
     "metadata": {},
     "output_type": "execute_result"
    },
    {
     "name": "stdout",
     "output_type": "stream",
     "text": [
      "(u'the_scarlet_letter_by_nathaniel_hawthorne.txt', 'successfully downloaded\\n')\n",
      "------------------------------------------------------------\n",
      "https://www.gutenberg.org/ebooks/1497\n",
      "the_republic_by_plato.txt\n",
      "<Response [200]>\n",
      "https://www.gutenberg.org/ebooks/1497.txt.utf-8\n"
     ]
    },
    {
     "data": {
      "text/plain": [
       "u'the_republic_by_plato.txt'"
      ]
     },
     "execution_count": 83,
     "metadata": {},
     "output_type": "execute_result"
    },
    {
     "name": "stdout",
     "output_type": "stream",
     "text": [
      "(u'the_republic_by_plato.txt', 'successfully downloaded\\n')\n",
      "------------------------------------------------------------\n",
      "https://www.gutenberg.org/ebooks/1322\n",
      "leaves_of_grass_by_walt_whitman.txt\n",
      "<Response [200]>\n",
      "https://www.gutenberg.org/ebooks/1322.txt.utf-8\n"
     ]
    },
    {
     "data": {
      "text/plain": [
       "u'leaves_of_grass_by_walt_whitman.txt'"
      ]
     },
     "execution_count": 83,
     "metadata": {},
     "output_type": "execute_result"
    },
    {
     "name": "stdout",
     "output_type": "stream",
     "text": [
      "(u'leaves_of_grass_by_walt_whitman.txt', 'successfully downloaded\\n')\n",
      "------------------------------------------------------------\n",
      "https://www.gutenberg.org/ebooks/1080\n",
      "a_modest_proposal_by_jonathan_swift.txt\n",
      "<Response [200]>\n",
      "https://www.gutenberg.org/ebooks/1080.txt.utf-8\n"
     ]
    },
    {
     "data": {
      "text/plain": [
       "u'a_modest_proposal_by_jonathan_swift.txt'"
      ]
     },
     "execution_count": 83,
     "metadata": {},
     "output_type": "execute_result"
    },
    {
     "name": "stdout",
     "output_type": "stream",
     "text": [
      "(u'a_modest_proposal_by_jonathan_swift.txt', 'successfully downloaded\\n')\n",
      "------------------------------------------------------------\n",
      "https://www.gutenberg.org/ebooks/16328\n",
      "beowulf:_an_anglo-saxon_epic_poem_by_j._lesslie_hall.txt\n",
      "<Response [200]>\n",
      "https://www.gutenberg.org/ebooks/16328.txt.utf-8\n"
     ]
    },
    {
     "data": {
      "text/plain": [
       "u'beowulf:_an_anglo-saxon_epic_poem_by_j._lesslie_hall.txt'"
      ]
     },
     "execution_count": 83,
     "metadata": {},
     "output_type": "execute_result"
    },
    {
     "name": "stdout",
     "output_type": "stream",
     "text": [
      "(u'beowulf:_an_anglo-saxon_epic_poem_by_j._lesslie_hall.txt', 'successfully downloaded\\n')\n",
      "------------------------------------------------------------\n",
      "https://www.gutenberg.org/ebooks/30360\n",
      "my_secret_life,_volumes_i._to_iii._by_anonymous.txt\n",
      "<Response [200]>\n",
      "https://www.gutenberg.org/ebooks/30360.txt.utf-8\n"
     ]
    },
    {
     "data": {
      "text/plain": [
       "u'my_secret_life,_volumes_i._to_iii._by_anonymous.txt'"
      ]
     },
     "execution_count": 83,
     "metadata": {},
     "output_type": "execute_result"
    },
    {
     "name": "stdout",
     "output_type": "stream",
     "text": [
      "(u'my_secret_life,_volumes_i._to_iii._by_anonymous.txt', 'successfully downloaded\\n')\n",
      "------------------------------------------------------------\n",
      "https://www.gutenberg.org/ebooks/514\n",
      "little_women_by_louisa_may_alcott.txt\n",
      "<Response [200]>\n",
      "https://www.gutenberg.org/ebooks/514.txt.utf-8\n"
     ]
    },
    {
     "data": {
      "text/plain": [
       "u'little_women_by_louisa_may_alcott.txt'"
      ]
     },
     "execution_count": 83,
     "metadata": {},
     "output_type": "execute_result"
    },
    {
     "name": "stdout",
     "output_type": "stream",
     "text": [
      "(u'little_women_by_louisa_may_alcott.txt', 'successfully downloaded\\n')\n",
      "------------------------------------------------------------\n",
      "https://www.gutenberg.org/ebooks/2600\n",
      "war_and_peace_by_graf_leo_tolstoy.txt\n",
      "<Response [200]>\n",
      "https://www.gutenberg.org/files/2600/2600-0.txt\n"
     ]
    },
    {
     "data": {
      "text/plain": [
       "u'war_and_peace_by_graf_leo_tolstoy.txt'"
      ]
     },
     "execution_count": 83,
     "metadata": {},
     "output_type": "execute_result"
    },
    {
     "name": "stdout",
     "output_type": "stream",
     "text": [
      "(u'war_and_peace_by_graf_leo_tolstoy.txt', 'successfully downloaded\\n')\n",
      "------------------------------------------------------------\n",
      "https://www.gutenberg.org/ebooks/996\n",
      "don_quixote_by_miguel_de_cervantes_saavedra.txt\n",
      "<Response [200]>\n",
      "https://www.gutenberg.org/ebooks/996.txt.utf-8\n"
     ]
    },
    {
     "data": {
      "text/plain": [
       "u'don_quixote_by_miguel_de_cervantes_saavedra.txt'"
      ]
     },
     "execution_count": 83,
     "metadata": {},
     "output_type": "execute_result"
    },
    {
     "name": "stdout",
     "output_type": "stream",
     "text": [
      "(u'don_quixote_by_miguel_de_cervantes_saavedra.txt', 'successfully downloaded\\n')\n",
      "------------------------------------------------------------\n",
      "https://www.gutenberg.org/ebooks/1251\n",
      "le_morte_d'arthur:_volume_1_by_sir_thomas_malory.txt\n",
      "<Response [200]>\n",
      "https://www.gutenberg.org/ebooks/1251.txt.utf-8\n"
     ]
    },
    {
     "data": {
      "text/plain": [
       "u\"le_morte_d'arthur:_volume_1_by_sir_thomas_malory.txt\""
      ]
     },
     "execution_count": 83,
     "metadata": {},
     "output_type": "execute_result"
    },
    {
     "name": "stdout",
     "output_type": "stream",
     "text": [
      "(u\"le_morte_d'arthur:_volume_1_by_sir_thomas_malory.txt\", 'successfully downloaded\\n')\n",
      "------------------------------------------------------------\n",
      "https://www.gutenberg.org/ebooks/1250\n",
      "anthem_by_ayn_rand.txt\n",
      "<Response [200]>\n",
      "https://www.gutenberg.org/ebooks/1250.txt.utf-8\n"
     ]
    },
    {
     "data": {
      "text/plain": [
       "u'anthem_by_ayn_rand.txt'"
      ]
     },
     "execution_count": 83,
     "metadata": {},
     "output_type": "execute_result"
    },
    {
     "name": "stdout",
     "output_type": "stream",
     "text": [
      "(u'anthem_by_ayn_rand.txt', 'successfully downloaded\\n')\n",
      "------------------------------------------------------------\n",
      "https://www.gutenberg.org/ebooks/2591\n",
      "grimms'_fairy_tales_by_jacob_grimm_and_wilhelm_grimm.txt\n",
      "<Response [200]>\n",
      "https://www.gutenberg.org/files/2591/2591-0.txt\n"
     ]
    },
    {
     "data": {
      "text/plain": [
       "u\"grimms'_fairy_tales_by_jacob_grimm_and_wilhelm_grimm.txt\""
      ]
     },
     "execution_count": 83,
     "metadata": {},
     "output_type": "execute_result"
    },
    {
     "name": "stdout",
     "output_type": "stream",
     "text": [
      "(u\"grimms'_fairy_tales_by_jacob_grimm_and_wilhelm_grimm.txt\", 'successfully downloaded\\n')\n",
      "------------------------------------------------------------\n",
      "https://www.gutenberg.org/ebooks/1661\n",
      "the_adventures_of_sherlock_holmes_by_arthur_conan_doyle.txt\n",
      "<Response [200]>\n",
      "https://www.gutenberg.org/ebooks/1661.txt.utf-8\n"
     ]
    },
    {
     "data": {
      "text/plain": [
       "u'the_adventures_of_sherlock_holmes_by_arthur_conan_doyle.txt'"
      ]
     },
     "execution_count": 83,
     "metadata": {},
     "output_type": "execute_result"
    },
    {
     "name": "stdout",
     "output_type": "stream",
     "text": [
      "(u'the_adventures_of_sherlock_holmes_by_arthur_conan_doyle.txt', 'successfully downloaded\\n')\n",
      "------------------------------------------------------------\n",
      "https://www.gutenberg.org/ebooks/28520\n",
      "forbidden_fruit:_luscious_and_exciting_story,_and_more_forbidden_fruit;_or,.txt\n",
      "<Response [200]>\n",
      "https://www.gutenberg.org/ebooks/28520.txt.utf-8\n"
     ]
    },
    {
     "data": {
      "text/plain": [
       "u'forbidden_fruit:_luscious_and_exciting_story,_and_more_forbidden_fruit;_or,.txt'"
      ]
     },
     "execution_count": 83,
     "metadata": {},
     "output_type": "execute_result"
    },
    {
     "name": "stdout",
     "output_type": "stream",
     "text": [
      "(u'forbidden_fruit:_luscious_and_exciting_story,_and_more_forbidden_fruit;_or,.txt', 'successfully downloaded\\n')\n",
      "------------------------------------------------------------\n",
      "https://www.gutenberg.org/ebooks/30254\n",
      "the_romance_of_lust:_a_classic_victorian_erotic_novel_by_anonymous.txt\n",
      "<Response [200]>\n",
      "https://www.gutenberg.org/files/30254/30254-0.txt\n"
     ]
    },
    {
     "data": {
      "text/plain": [
       "u'the_romance_of_lust:_a_classic_victorian_erotic_novel_by_anonymous.txt'"
      ]
     },
     "execution_count": 83,
     "metadata": {},
     "output_type": "execute_result"
    },
    {
     "name": "stdout",
     "output_type": "stream",
     "text": [
      "(u'the_romance_of_lust:_a_classic_victorian_erotic_novel_by_anonymous.txt', 'successfully downloaded\\n')\n",
      "------------------------------------------------------------\n",
      "https://www.gutenberg.org/ebooks/158\n",
      "emma_by_jane_austen.txt\n",
      "<Response [200]>\n",
      "https://www.gutenberg.org/files/158/158-0.txt\n"
     ]
    },
    {
     "data": {
      "text/plain": [
       "u'emma_by_jane_austen.txt'"
      ]
     },
     "execution_count": 83,
     "metadata": {},
     "output_type": "execute_result"
    },
    {
     "name": "stdout",
     "output_type": "stream",
     "text": [
      "(u'emma_by_jane_austen.txt', 'successfully downloaded\\n')\n",
      "------------------------------------------------------------\n",
      "https://www.gutenberg.org/ebooks/768\n",
      "wuthering_heights_by_emily_brontë.txt\n",
      "<Response [200]>\n",
      "https://www.gutenberg.org/ebooks/768.txt.utf-8\n"
     ]
    },
    {
     "data": {
      "text/plain": [
       "u'wuthering_heights_by_emily_bront\\xeb.txt'"
      ]
     },
     "execution_count": 83,
     "metadata": {},
     "output_type": "execute_result"
    },
    {
     "name": "stdout",
     "output_type": "stream",
     "text": [
      "(u'wuthering_heights_by_emily_bront\\xeb.txt', 'successfully downloaded\\n')\n",
      "------------------------------------------------------------\n",
      "https://www.gutenberg.org/ebooks/58314\n",
      "slavery_in_history_by_count_adam_g._de_gurowski.txt\n",
      "<Response [200]>\n",
      "https://www.gutenberg.org/files/58314/58314-0.txt\n"
     ]
    },
    {
     "data": {
      "text/plain": [
       "u'slavery_in_history_by_count_adam_g._de_gurowski.txt'"
      ]
     },
     "execution_count": 83,
     "metadata": {},
     "output_type": "execute_result"
    },
    {
     "name": "stdout",
     "output_type": "stream",
     "text": [
      "(u'slavery_in_history_by_count_adam_g._de_gurowski.txt', 'successfully downloaded\\n')\n",
      "------------------------------------------------------------\n",
      "https://www.gutenberg.org/ebooks/1952\n",
      "the_yellow_wallpaper_by_charlotte_perkins_gilman.txt\n",
      "<Response [200]>\n",
      "https://www.gutenberg.org/files/1952/1952-0.txt\n"
     ]
    },
    {
     "data": {
      "text/plain": [
       "u'the_yellow_wallpaper_by_charlotte_perkins_gilman.txt'"
      ]
     },
     "execution_count": 83,
     "metadata": {},
     "output_type": "execute_result"
    },
    {
     "name": "stdout",
     "output_type": "stream",
     "text": [
      "(u'the_yellow_wallpaper_by_charlotte_perkins_gilman.txt', 'successfully downloaded\\n')\n",
      "------------------------------------------------------------\n",
      "https://www.gutenberg.org/ebooks/1260\n",
      "jane_eyre:_an_autobiography_by_charlotte_brontë.txt\n",
      "<Response [200]>\n",
      "https://www.gutenberg.org/ebooks/1260.txt.utf-8\n"
     ]
    },
    {
     "data": {
      "text/plain": [
       "u'jane_eyre:_an_autobiography_by_charlotte_bront\\xeb.txt'"
      ]
     },
     "execution_count": 83,
     "metadata": {},
     "output_type": "execute_result"
    },
    {
     "name": "stdout",
     "output_type": "stream",
     "text": [
      "(u'jane_eyre:_an_autobiography_by_charlotte_bront\\xeb.txt', 'successfully downloaded\\n')\n",
      "------------------------------------------------------------\n",
      "https://www.gutenberg.org/ebooks/13415\n",
      "the_lady_with_the_dog_and_other_stories_by_anton_pavlovich_chekhov.txt\n",
      "<Response [200]>\n",
      "https://www.gutenberg.org/ebooks/13415.txt.utf-8\n"
     ]
    },
    {
     "data": {
      "text/plain": [
       "u'the_lady_with_the_dog_and_other_stories_by_anton_pavlovich_chekhov.txt'"
      ]
     },
     "execution_count": 83,
     "metadata": {},
     "output_type": "execute_result"
    },
    {
     "name": "stdout",
     "output_type": "stream",
     "text": [
      "(u'the_lady_with_the_dog_and_other_stories_by_anton_pavlovich_chekhov.txt', 'successfully downloaded\\n')\n",
      "------------------------------------------------------------\n",
      "https://www.gutenberg.org/ebooks/2680\n",
      "meditations_by_emperor_of_rome_marcus_aurelius.txt\n",
      "<Response [200]>\n",
      "https://www.gutenberg.org/ebooks/2680.txt.utf-8\n"
     ]
    },
    {
     "data": {
      "text/plain": [
       "u'meditations_by_emperor_of_rome_marcus_aurelius.txt'"
      ]
     },
     "execution_count": 83,
     "metadata": {},
     "output_type": "execute_result"
    },
    {
     "name": "stdout",
     "output_type": "stream",
     "text": [
      "(u'meditations_by_emperor_of_rome_marcus_aurelius.txt', 'successfully downloaded\\n')\n",
      "------------------------------------------------------------\n",
      "https://www.gutenberg.org/ebooks/43\n",
      "the_strange_case_of_dr._jekyll_and_mr._hyde_by_robert_louis_stevenson.txt\n",
      "<Response [200]>\n",
      "https://www.gutenberg.org/files/43/43-0.txt\n"
     ]
    },
    {
     "data": {
      "text/plain": [
       "u'the_strange_case_of_dr._jekyll_and_mr._hyde_by_robert_louis_stevenson.txt'"
      ]
     },
     "execution_count": 83,
     "metadata": {},
     "output_type": "execute_result"
    },
    {
     "name": "stdout",
     "output_type": "stream",
     "text": [
      "(u'the_strange_case_of_dr._jekyll_and_mr._hyde_by_robert_louis_stevenson.txt', 'successfully downloaded\\n')\n",
      "------------------------------------------------------------\n",
      "https://www.gutenberg.org/ebooks/42\n",
      "the_strange_case_of_dr._jekyll_and_mr._hyde_by_robert_louis_stevenson.txt\n",
      "<Response [200]>\n",
      "https://www.gutenberg.org/ebooks/42.txt.utf-8\n"
     ]
    },
    {
     "data": {
      "text/plain": [
       "u'the_strange_case_of_dr._jekyll_and_mr._hyde_by_robert_louis_stevenson (1).txt'"
      ]
     },
     "execution_count": 83,
     "metadata": {},
     "output_type": "execute_result"
    },
    {
     "name": "stdout",
     "output_type": "stream",
     "text": [
      "(u'the_strange_case_of_dr._jekyll_and_mr._hyde_by_robert_louis_stevenson.txt', 'successfully downloaded\\n')\n",
      "------------------------------------------------------------\n",
      "https://www.gutenberg.org/ebooks/41\n",
      "the_legend_of_sleepy_hollow_by_washington_irving.txt\n",
      "<Response [200]>\n",
      "https://www.gutenberg.org/files/41/41-0.txt\n"
     ]
    },
    {
     "data": {
      "text/plain": [
       "u'the_legend_of_sleepy_hollow_by_washington_irving.txt'"
      ]
     },
     "execution_count": 83,
     "metadata": {},
     "output_type": "execute_result"
    },
    {
     "name": "stdout",
     "output_type": "stream",
     "text": [
      "(u'the_legend_of_sleepy_hollow_by_washington_irving.txt', 'successfully downloaded\\n')\n",
      "------------------------------------------------------------\n",
      "https://www.gutenberg.org/ebooks/844\n",
      "the_importance_of_being_earnest:_a_trivial_comedy_for_serious_people_by_oscar_wilde.txt\n",
      "<Response [200]>\n",
      "https://www.gutenberg.org/ebooks/844.txt.utf-8\n"
     ]
    },
    {
     "data": {
      "text/plain": [
       "u'the_importance_of_being_earnest:_a_trivial_comedy_for_serious_people_by_oscar_wilde.txt'"
      ]
     },
     "execution_count": 83,
     "metadata": {},
     "output_type": "execute_result"
    },
    {
     "name": "stdout",
     "output_type": "stream",
     "text": [
      "(u'the_importance_of_being_earnest:_a_trivial_comedy_for_serious_people_by_oscar_wilde.txt', 'successfully downloaded\\n')\n",
      "------------------------------------------------------------\n",
      "https://www.gutenberg.org/ebooks/46\n",
      "a_christmas_carol_in_prose;_being_a_ghost_story_of_christmas_by_charles_dickens.txt\n",
      "<Response [200]>\n",
      "https://www.gutenberg.org/files/46/46-0.txt\n"
     ]
    },
    {
     "data": {
      "text/plain": [
       "u'a_christmas_carol_in_prose;_being_a_ghost_story_of_christmas_by_charles_dickens.txt'"
      ]
     },
     "execution_count": 83,
     "metadata": {},
     "output_type": "execute_result"
    },
    {
     "name": "stdout",
     "output_type": "stream",
     "text": [
      "(u'a_christmas_carol_in_prose;_being_a_ghost_story_of_christmas_by_charles_dickens.txt', 'successfully downloaded\\n')\n",
      "------------------------------------------------------------\n",
      "https://www.gutenberg.org/ebooks/45\n",
      "anne_of_green_gables_by_l._m._montgomery.txt\n",
      "<Response [200]>\n",
      "https://www.gutenberg.org/files/45/45-0.txt\n"
     ]
    },
    {
     "data": {
      "text/plain": [
       "u'anne_of_green_gables_by_l._m._montgomery.txt'"
      ]
     },
     "execution_count": 83,
     "metadata": {},
     "output_type": "execute_result"
    },
    {
     "name": "stdout",
     "output_type": "stream",
     "text": [
      "(u'anne_of_green_gables_by_l._m._montgomery.txt', 'successfully downloaded\\n')\n",
      "------------------------------------------------------------\n",
      "... file downloads complete.\n"
     ]
    },
    {
     "data": {
      "text/plain": [
       "[]"
      ]
     },
     "execution_count": 83,
     "metadata": {},
     "output_type": "execute_result"
    }
   ],
   "source": [
    "# ... -=-=-=-=-=-=-=-=-=-=-=-=-=-=-=-=-=-=-=-=-=-=-=-=-=-=-=-=-=-=-=-=-\n",
    "# ... download texts to local directory\n",
    "# ... capture errors to identify special case urls\n",
    "# ... -=-=-=-=-=-=-=-=-=-=-=-=-=-=-=-=-=-=-=-=-=-=-=-=-=-=-=-=-=-=-=-=-\n",
    "\n",
    "import wget\n",
    "\n",
    "print('Beginning file downloads ...')\n",
    "\n",
    "os.chdir(home_dir)\n",
    "os.chdir(corpus_dir)\n",
    "\n",
    "error_indx = []\n",
    "pipe = ' | '\n",
    "\n",
    "for ib in range(0, len(pg_num)) :\n",
    "    \n",
    "    url = base_url + unique_book_link[ib]\n",
    "    print url\n",
    "    \n",
    "    file_name = title[ib] + '.txt'\n",
    "    print file_name\n",
    "    \n",
    "    source = requests.get(url)\n",
    "    print source\n",
    "    soup = BeautifulSoup(source.content, \"lxml\")    \n",
    "    \n",
    "    try :\n",
    "        text_file_url = soup.find('a', {'type': 'text/plain'})['href']\n",
    "        text_file_url = 'https:' + text_file_url\n",
    "        print text_file_url\n",
    "        \n",
    "        try :\n",
    "            wget.download(text_file_url, file_name)\n",
    "            print (file_name, \"successfully downloaded\\n\")\n",
    "            print '-'*60\n",
    "\n",
    "        except HTTPError as e:\n",
    "            print (\"HTTP error({0}): {1}\".format(e.errno, e.strerror))\n",
    "            error_indx.append(str(ib) + pipe + pg_num[ib] + pipe + title[ib])\n",
    "\n",
    "    except :\n",
    "        try :\n",
    "            text_file_url = soup.find('a', {'charset': 'utf-8'})['href']\n",
    "            text_file_url = 'https:' + text_file_url\n",
    "            print text_file_url\n",
    "\n",
    "            try :\n",
    "                wget.download(text_file_url, file_name)\n",
    "                print (file_name, \"successfully downloaded\\n\")\n",
    "                print '-'*60\n",
    "\n",
    "            except HTTPError as e:\n",
    "                print (\"HTTP error({0}): {1}\".format(e.errno, e.strerror))\n",
    "                error_indx.append(str(ib) + pipe + pg_num[ib] + pipe + title[ib])\n",
    "\n",
    "        except :\n",
    "            print (\"Text link not found\\n\")\n",
    "            print '~'*60\n",
    "\n",
    "print('... file downloads complete.')\n",
    "\n",
    "error_indx\n",
    "\n",
    "# ... -=-=-=-=-=-=-=-=-=-=-=-=-=-=-=-=-=-=-=-=-=-=-=-=-=-=-=-=-=-=-=-=-\n",
    "# ... end_of_file\n",
    "# ... -=-=-=-=-=-=-=-=-=-=-=-=-=-=-=-=-=-=-=-=-=-=-=-=-=-=-=-=-=-=-=-=-"
   ]
  }
 ],
 "metadata": {
  "kernelspec": {
   "display_name": "Python 2",
   "language": "python",
   "name": "python2"
  },
  "language_info": {
   "codemirror_mode": {
    "name": "ipython",
    "version": 2
   },
   "file_extension": ".py",
   "mimetype": "text/x-python",
   "name": "python",
   "nbconvert_exporter": "python",
   "pygments_lexer": "ipython2",
   "version": "2.7.12"
  }
 },
 "nbformat": 4,
 "nbformat_minor": 2
}
