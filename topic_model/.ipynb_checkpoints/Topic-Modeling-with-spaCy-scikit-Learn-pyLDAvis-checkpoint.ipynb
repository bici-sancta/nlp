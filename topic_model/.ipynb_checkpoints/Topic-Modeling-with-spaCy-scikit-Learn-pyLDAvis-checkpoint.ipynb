{
 "cells": [
  {
   "cell_type": "markdown",
   "metadata": {},
   "source": [
    "# Topic modelling with spaCy and scikit-learn\n",
    "\n",
    "\n",
    "Notebook:\n",
    "\n",
    "https://www.kaggle.com/thebrownviking20/topic-modelling-with-spacy-and-scikit-learn\n",
    "\n",
    "\n",
    "\n",
    "\n",
    "## Aim and Motivation\n",
    "\n",
    "Nirant's latest kernel on spaCy: Hitchhiker's Guide to NLP in spaCy has made me realize that spaCy maybe as good or even better than NLTK for Natural Language Processing. My recent kernels deal with deep learning and I want to extend that by using text data for deep learning and intend to use spaCy for processing and modelling this data.\n",
    "\n"
   ]
  },
  {
   "cell_type": "code",
   "execution_count": 3,
   "metadata": {},
   "outputs": [
    {
     "name": "stdout",
     "output_type": "stream",
     "text": [
      "········\n"
     ]
    },
    {
     "data": {
      "text/plain": [
       "0"
      ]
     },
     "execution_count": 3,
     "metadata": {},
     "output_type": "execute_result"
    }
   ],
   "source": [
    "import getpass\n",
    "import os\n",
    "\n",
    "password = getpass.getpass()\n",
    "command = \"sudo -S pip install tqdm\" #can be any command but don't forget -S as it enables input from stdin\n",
    "os.system('echo %s | %s' % (password, command))"
   ]
  },
  {
   "cell_type": "code",
   "execution_count": 45,
   "metadata": {},
   "outputs": [
    {
     "data": {
      "text/html": [
       "<script>requirejs.config({paths: { 'plotly': ['https://cdn.plot.ly/plotly-latest.min']},});if(!window.Plotly) {{require(['plotly'],function(plotly) {window.Plotly=plotly;});}}</script>"
      ],
      "text/vnd.plotly.v1+html": [
       "<script>requirejs.config({paths: { 'plotly': ['https://cdn.plot.ly/plotly-latest.min']},});if(!window.Plotly) {{require(['plotly'],function(plotly) {window.Plotly=plotly;});}}</script>"
      ]
     },
     "metadata": {},
     "output_type": "display_data"
    }
   ],
   "source": [
    "from IPython.core.interactiveshell import InteractiveShell\n",
    "InteractiveShell.ast_node_interactivity = \"all\"\n",
    "\n",
    "import sys\n",
    "reload(sys)\n",
    "sys.setdefaultencoding('utf8')\n",
    "\n",
    "# Usual imports\n",
    "import numpy as np\n",
    "import pandas as pd\n",
    "from tqdm import tqdm\n",
    "import string\n",
    "import matplotlib.pyplot as plt\n",
    "from sklearn.decomposition import NMF, LatentDirichletAllocation, TruncatedSVD\n",
    "from sklearn.feature_extraction.text import CountVectorizer\n",
    "from sklearn.manifold import TSNE\n",
    "#import concurrent.futures\n",
    "import time\n",
    "import pyLDAvis.sklearn\n",
    "from pylab import bone, pcolor, colorbar, plot, show, rcParams, savefig\n",
    "import warnings\n",
    "warnings.filterwarnings('ignore')\n",
    "\n",
    "%matplotlib inline\n",
    "import os\n",
    "wine_data = os.getcwd() + \"/wine_data\"\n",
    "print(os.listdir(wine_data))\n",
    "\n",
    "\n",
    "# Plotly based imports for visualization\n",
    "import plotly\n",
    "from plotly import tools\n",
    "import plotly.plotly as py\n",
    "from plotly.offline import init_notebook_mode, iplot\n",
    "init_notebook_mode(connected=True)\n",
    "import plotly.graph_objs as go\n",
    "import plotly.figure_factory as ff\n",
    "#plotly.tools.set_credentials_file(username=os.environ['PLOTLY_USERNAME'], api_key=os.environ['PLOTLY_API_KEY'])\n",
    "\n",
    "\n",
    "# spaCy based imports\n",
    "import spacy\n",
    "from spacy.lang.en.stop_words import STOP_WORDS\n",
    "from spacy.lang.en import English\n",
    "\n",
    "#!python -m spacy download en_core_web_lg    # this is 812MB download !!"
   ]
  },
  {
   "cell_type": "code",
   "execution_count": 46,
   "metadata": {
    "scrolled": false
   },
   "outputs": [
    {
     "data": {
      "text/html": [
       "<div>\n",
       "<style scoped>\n",
       "    .dataframe tbody tr th:only-of-type {\n",
       "        vertical-align: middle;\n",
       "    }\n",
       "\n",
       "    .dataframe tbody tr th {\n",
       "        vertical-align: top;\n",
       "    }\n",
       "\n",
       "    .dataframe thead th {\n",
       "        text-align: right;\n",
       "    }\n",
       "</style>\n",
       "<table border=\"1\" class=\"dataframe\">\n",
       "  <thead>\n",
       "    <tr style=\"text-align: right;\">\n",
       "      <th></th>\n",
       "      <th>Unnamed: 0</th>\n",
       "      <th>country</th>\n",
       "      <th>description</th>\n",
       "      <th>designation</th>\n",
       "      <th>points</th>\n",
       "      <th>price</th>\n",
       "      <th>province</th>\n",
       "      <th>region_1</th>\n",
       "      <th>region_2</th>\n",
       "      <th>variety</th>\n",
       "      <th>winery</th>\n",
       "    </tr>\n",
       "  </thead>\n",
       "  <tbody>\n",
       "    <tr>\n",
       "      <th>0</th>\n",
       "      <td>0</td>\n",
       "      <td>US</td>\n",
       "      <td>This tremendous 100% varietal wine hails from ...</td>\n",
       "      <td>Martha's Vineyard</td>\n",
       "      <td>96</td>\n",
       "      <td>235.0</td>\n",
       "      <td>California</td>\n",
       "      <td>Napa Valley</td>\n",
       "      <td>Napa</td>\n",
       "      <td>Cabernet Sauvignon</td>\n",
       "      <td>Heitz</td>\n",
       "    </tr>\n",
       "    <tr>\n",
       "      <th>1</th>\n",
       "      <td>1</td>\n",
       "      <td>Spain</td>\n",
       "      <td>Ripe aromas of fig, blackberry and cassis are ...</td>\n",
       "      <td>Carodorum Selección Especial Reserva</td>\n",
       "      <td>96</td>\n",
       "      <td>110.0</td>\n",
       "      <td>Northern Spain</td>\n",
       "      <td>Toro</td>\n",
       "      <td>NaN</td>\n",
       "      <td>Tinta de Toro</td>\n",
       "      <td>Bodega Carmen Rodríguez</td>\n",
       "    </tr>\n",
       "    <tr>\n",
       "      <th>2</th>\n",
       "      <td>2</td>\n",
       "      <td>US</td>\n",
       "      <td>Mac Watson honors the memory of a wine once ma...</td>\n",
       "      <td>Special Selected Late Harvest</td>\n",
       "      <td>96</td>\n",
       "      <td>90.0</td>\n",
       "      <td>California</td>\n",
       "      <td>Knights Valley</td>\n",
       "      <td>Sonoma</td>\n",
       "      <td>Sauvignon Blanc</td>\n",
       "      <td>Macauley</td>\n",
       "    </tr>\n",
       "    <tr>\n",
       "      <th>3</th>\n",
       "      <td>3</td>\n",
       "      <td>US</td>\n",
       "      <td>This spent 20 months in 30% new French oak, an...</td>\n",
       "      <td>Reserve</td>\n",
       "      <td>96</td>\n",
       "      <td>65.0</td>\n",
       "      <td>Oregon</td>\n",
       "      <td>Willamette Valley</td>\n",
       "      <td>Willamette Valley</td>\n",
       "      <td>Pinot Noir</td>\n",
       "      <td>Ponzi</td>\n",
       "    </tr>\n",
       "    <tr>\n",
       "      <th>4</th>\n",
       "      <td>4</td>\n",
       "      <td>France</td>\n",
       "      <td>This is the top wine from La Bégude, named aft...</td>\n",
       "      <td>La Brûlade</td>\n",
       "      <td>95</td>\n",
       "      <td>66.0</td>\n",
       "      <td>Provence</td>\n",
       "      <td>Bandol</td>\n",
       "      <td>NaN</td>\n",
       "      <td>Provence red blend</td>\n",
       "      <td>Domaine de la Bégude</td>\n",
       "    </tr>\n",
       "  </tbody>\n",
       "</table>\n",
       "</div>"
      ],
      "text/plain": [
       "   Unnamed: 0 country                                        description  \\\n",
       "0           0      US  This tremendous 100% varietal wine hails from ...   \n",
       "1           1   Spain  Ripe aromas of fig, blackberry and cassis are ...   \n",
       "2           2      US  Mac Watson honors the memory of a wine once ma...   \n",
       "3           3      US  This spent 20 months in 30% new French oak, an...   \n",
       "4           4  France  This is the top wine from La Bégude, named aft...   \n",
       "\n",
       "                            designation  points  price        province  \\\n",
       "0                     Martha's Vineyard      96  235.0      California   \n",
       "1  Carodorum Selección Especial Reserva      96  110.0  Northern Spain   \n",
       "2         Special Selected Late Harvest      96   90.0      California   \n",
       "3                               Reserve      96   65.0          Oregon   \n",
       "4                            La Brûlade      95   66.0        Provence   \n",
       "\n",
       "            region_1           region_2             variety  \\\n",
       "0        Napa Valley               Napa  Cabernet Sauvignon   \n",
       "1               Toro                NaN       Tinta de Toro   \n",
       "2     Knights Valley             Sonoma     Sauvignon Blanc   \n",
       "3  Willamette Valley  Willamette Valley          Pinot Noir   \n",
       "4             Bandol                NaN  Provence red blend   \n",
       "\n",
       "                    winery  \n",
       "0                    Heitz  \n",
       "1  Bodega Carmen Rodríguez  \n",
       "2                 Macauley  \n",
       "3                    Ponzi  \n",
       "4     Domaine de la Bégude  "
      ]
     },
     "execution_count": 46,
     "metadata": {},
     "output_type": "execute_result"
    }
   ],
   "source": [
    "# Loading data\n",
    "wines = pd.read_csv(wine_data + '/winemag-data_first150k.csv')\n",
    "wines.head()"
   ]
  },
  {
   "cell_type": "code",
   "execution_count": 47,
   "metadata": {
    "collapsed": true
   },
   "outputs": [],
   "source": [
    "# Creating a spaCy object\n",
    "\n",
    "#nlp = spacy.load('en_core_web_lg')\n",
    "\n",
    "nlp = spacy.load('en_core_web_sm')"
   ]
  },
  {
   "cell_type": "markdown",
   "metadata": {},
   "source": [
    "spaCy also comes with a built-in named entity visualizer that lets you check your model's predictions in your browser. You can pass in one or more Doc objects and start a web server, export HTML files or view the visualization directly from a Jupyter Notebook."
   ]
  },
  {
   "cell_type": "markdown",
   "metadata": {},
   "source": [
    "## Named Entity Recognition\n",
    "\n",
    "Named Entity Recognition is an information extraction task where named entities in unstructured sentences are located and classified in some pre-defined categories such as the person names, organizations, locations, medical codes, time expressions, quantities, monetary values, percentages, etc.\n"
   ]
  },
  {
   "cell_type": "code",
   "execution_count": 49,
   "metadata": {},
   "outputs": [
    {
     "data": {
      "text/plain": [
       "pandas.core.frame.DataFrame"
      ]
     },
     "execution_count": 49,
     "metadata": {},
     "output_type": "execute_result"
    },
    {
     "data": {
      "text/plain": [
       "pandas.core.series.Series"
      ]
     },
     "execution_count": 49,
     "metadata": {},
     "output_type": "execute_result"
    },
    {
     "data": {
      "text/plain": [
       "pandas.core.series.Series"
      ]
     },
     "execution_count": 49,
     "metadata": {},
     "output_type": "execute_result"
    },
    {
     "data": {
      "text/plain": [
       "0    This tremendous 100% varietal wine hails from ...\n",
       "1    Ripe aromas of fig, blackberry and cassis are ...\n",
       "2    Mac Watson honors the memory of a wine once ma...\n",
       "3    This spent 20 months in 30% new French oak, an...\n",
       "4    This is the top wine from La Bégude, named aft...\n",
       "Name: description, dtype: object"
      ]
     },
     "execution_count": 49,
     "metadata": {},
     "output_type": "execute_result"
    },
    {
     "data": {
      "text/plain": [
       "0    This tremendous 100% varietal wine hails from ...\n",
       "1    Ripe aromas of fig, blackberry and cassis are ...\n",
       "2    Mac Watson honors the memory of a wine once ma...\n",
       "3    This spent 20 months in 30% new French oak, an...\n",
       "4    This is the top wine from La Bégude, named aft...\n",
       "Name: description, dtype: object"
      ]
     },
     "execution_count": 49,
     "metadata": {},
     "output_type": "execute_result"
    },
    {
     "data": {
      "text/plain": [
       "0    This tremendous 100% varietal wine hails from ...\n",
       "1    Ripe aromas of fig, blackberry and cassis are ...\n",
       "2    Mac Watson honors the memory of a wine once ma...\n",
       "3    This spent 20 months in 30% new French oak, an...\n",
       "4    This is the top wine from La Bégude, named aft...\n",
       "Name: decode_descr, dtype: object"
      ]
     },
     "execution_count": 49,
     "metadata": {},
     "output_type": "execute_result"
    }
   ],
   "source": [
    "#wines['description'][3]\n",
    "\n",
    "def remove_non_ascii(text):\n",
    "    L = [32, 44, 46, 65,66,67,68,69,70,71,72,73,74,75,76,77,78,79,80,81,82,83,84,85,86,87,88,89,90,97,98,99,100,101,102,103, 104,105,106,107,108,109,110,111,112,113,114,115,116,117,118,119,120,121,122]\n",
    "    text = str(text)\n",
    "\n",
    "    return ''.join(i for i in text if ord(i) in L)\n",
    "\n",
    "\n",
    "xxx = wines['description'].str.decode('utf-8', errors='strict')\n",
    "\n",
    "#nlp(xxx)\n",
    "\n",
    "type(wines)\n",
    "type(wines['description'])\n",
    "type(xxx)\n",
    "\n",
    "xxx[0:5]\n",
    "\n",
    "wines['description'][0:5]\n",
    "\n",
    "wines['decode_descr'] = xxx\n",
    "wines['decode_descr'][0:5]"
   ]
  },
  {
   "cell_type": "code",
   "execution_count": 52,
   "metadata": {
    "scrolled": true
   },
   "outputs": [
    {
     "data": {
      "text/html": [
       "<div class=\"entities\" style=\"line-height: 2.5\">This spent \n",
       "<mark class=\"entity\" style=\"background: #bfe1d9; padding: 0.45em 0.6em; margin: 0 0.25em; line-height: 1; border-radius: 0.35em; box-decoration-break: clone; -webkit-box-decoration-break: clone\">\n",
       "    20 months\n",
       "    <span style=\"font-size: 0.8em; font-weight: bold; line-height: 1; border-radius: 0.35em; text-transform: uppercase; vertical-align: middle; margin-left: 0.5rem\">DATE</span>\n",
       "</mark>\n",
       " in \n",
       "<mark class=\"entity\" style=\"background: #e4e7d2; padding: 0.45em 0.6em; margin: 0 0.25em; line-height: 1; border-radius: 0.35em; box-decoration-break: clone; -webkit-box-decoration-break: clone\">\n",
       "    30%\n",
       "    <span style=\"font-size: 0.8em; font-weight: bold; line-height: 1; border-radius: 0.35em; text-transform: uppercase; vertical-align: middle; margin-left: 0.5rem\">PERCENT</span>\n",
       "</mark>\n",
       " new \n",
       "<mark class=\"entity\" style=\"background: #c887fb; padding: 0.45em 0.6em; margin: 0 0.25em; line-height: 1; border-radius: 0.35em; box-decoration-break: clone; -webkit-box-decoration-break: clone\">\n",
       "    French\n",
       "    <span style=\"font-size: 0.8em; font-weight: bold; line-height: 1; border-radius: 0.35em; text-transform: uppercase; vertical-align: middle; margin-left: 0.5rem\">NORP</span>\n",
       "</mark>\n",
       " oak, and incorporates fruit from \n",
       "<mark class=\"entity\" style=\"background: #7aecec; padding: 0.45em 0.6em; margin: 0 0.25em; line-height: 1; border-radius: 0.35em; box-decoration-break: clone; -webkit-box-decoration-break: clone\">\n",
       "    Ponzi\n",
       "    <span style=\"font-size: 0.8em; font-weight: bold; line-height: 1; border-radius: 0.35em; text-transform: uppercase; vertical-align: middle; margin-left: 0.5rem\">ORG</span>\n",
       "</mark>\n",
       "'s \n",
       "<mark class=\"entity\" style=\"background: #7aecec; padding: 0.45em 0.6em; margin: 0 0.25em; line-height: 1; border-radius: 0.35em; box-decoration-break: clone; -webkit-box-decoration-break: clone\">\n",
       "    Aurora, Abetina\n",
       "    <span style=\"font-size: 0.8em; font-weight: bold; line-height: 1; border-radius: 0.35em; text-transform: uppercase; vertical-align: middle; margin-left: 0.5rem\">ORG</span>\n",
       "</mark>\n",
       " and \n",
       "<mark class=\"entity\" style=\"background: #feca74; padding: 0.45em 0.6em; margin: 0 0.25em; line-height: 1; border-radius: 0.35em; box-decoration-break: clone; -webkit-box-decoration-break: clone\">\n",
       "    Madrona vineyards\n",
       "    <span style=\"font-size: 0.8em; font-weight: bold; line-height: 1; border-radius: 0.35em; text-transform: uppercase; vertical-align: middle; margin-left: 0.5rem\">GPE</span>\n",
       "</mark>\n",
       ", among others. Aromatic, dense and toasty, it deftly blends aromas and flavors of toast, cigar box, blackberry, black cherry, coffee and graphite. Tannins are polished to a fine sheen, and frame a finish loaded with dark chocolate and espresso. Drink now through \n",
       "<mark class=\"entity\" style=\"background: #bfe1d9; padding: 0.45em 0.6em; margin: 0 0.25em; line-height: 1; border-radius: 0.35em; box-decoration-break: clone; -webkit-box-decoration-break: clone\">\n",
       "    2032\n",
       "    <span style=\"font-size: 0.8em; font-weight: bold; line-height: 1; border-radius: 0.35em; text-transform: uppercase; vertical-align: middle; margin-left: 0.5rem\">DATE</span>\n",
       "</mark>\n",
       ".</div>"
      ],
      "text/plain": [
       "<IPython.core.display.HTML object>"
      ]
     },
     "metadata": {},
     "output_type": "display_data"
    }
   ],
   "source": [
    "doc = nlp(xxx[3])\n",
    "\n",
    "spacy.displacy.render(doc, style='ent',jupyter=True)"
   ]
  },
  {
   "cell_type": "code",
   "execution_count": 51,
   "metadata": {
    "collapsed": true
   },
   "outputs": [],
   "source": [
    "punctuations = string.punctuation\n",
    "stopwords = list(STOP_WORDS)"
   ]
  },
  {
   "cell_type": "markdown",
   "metadata": {},
   "source": [
    "## Lemmatization\n",
    "\n",
    "It is the process of grouping together the inflected forms of a word so they can be analysed as a single item, identified by the word's lemma, or dictionary form. Words like \"ran\" and \"running\" are converted to \"run\" to avoid having words with similar meanings in our data.\n"
   ]
  },
  {
   "cell_type": "code",
   "execution_count": 8,
   "metadata": {},
   "outputs": [
    {
     "data": {
      "text/plain": [
       "spacy.tokens.doc.Doc"
      ]
     },
     "execution_count": 8,
     "metadata": {},
     "output_type": "execute_result"
    }
   ],
   "source": [
    "type(doc)"
   ]
  },
  {
   "cell_type": "code",
   "execution_count": 9,
   "metadata": {},
   "outputs": [],
   "source": [
    "review = str(\" \".join([i.lemma_ for i in doc]))\n",
    "\n",
    "review = unicode(review)"
   ]
  },
  {
   "cell_type": "code",
   "execution_count": 10,
   "metadata": {
    "scrolled": false
   },
   "outputs": [
    {
     "data": {
      "text/html": [
       "<div class=\"entities\" style=\"line-height: 2.5\">this spend \n",
       "<mark class=\"entity\" style=\"background: #bfe1d9; padding: 0.45em 0.6em; margin: 0 0.25em; line-height: 1; border-radius: 0.35em; box-decoration-break: clone; -webkit-box-decoration-break: clone\">\n",
       "    20 month\n",
       "    <span style=\"font-size: 0.8em; font-weight: bold; line-height: 1; border-radius: 0.35em; text-transform: uppercase; vertical-align: middle; margin-left: 0.5rem\">DATE</span>\n",
       "</mark>\n",
       " in \n",
       "<mark class=\"entity\" style=\"background: #e4e7d2; padding: 0.45em 0.6em; margin: 0 0.25em; line-height: 1; border-radius: 0.35em; box-decoration-break: clone; -webkit-box-decoration-break: clone\">\n",
       "    30 %\n",
       "    <span style=\"font-size: 0.8em; font-weight: bold; line-height: 1; border-radius: 0.35em; text-transform: uppercase; vertical-align: middle; margin-left: 0.5rem\">PERCENT</span>\n",
       "</mark>\n",
       " new french oak , and incorporate fruit from ponzi 's aurora , abetina and madrona vineyard , among other . aromatic , dense and toasty , -PRON- deftly blend aroma and flavor of toast , cigar box , blackberry , black cherry , coffee and graphite . tannin be polished to a fine sheen , and frame a finish load with dark chocolate and espresso . drink now through \n",
       "<mark class=\"entity\" style=\"background: #bfe1d9; padding: 0.45em 0.6em; margin: 0 0.25em; line-height: 1; border-radius: 0.35em; box-decoration-break: clone; -webkit-box-decoration-break: clone\">\n",
       "    2032\n",
       "    <span style=\"font-size: 0.8em; font-weight: bold; line-height: 1; border-radius: 0.35em; text-transform: uppercase; vertical-align: middle; margin-left: 0.5rem\">DATE</span>\n",
       "</mark>\n",
       " .</div>"
      ],
      "text/plain": [
       "<IPython.core.display.HTML object>"
      ]
     },
     "metadata": {},
     "output_type": "display_data"
    }
   ],
   "source": [
    "doc = nlp(unicode(review))\n",
    "spacy.displacy.render(doc, style='ent',jupyter=True)"
   ]
  },
  {
   "cell_type": "markdown",
   "metadata": {},
   "source": [
    "The sentence looks much different now that it is lemmatized."
   ]
  },
  {
   "cell_type": "markdown",
   "metadata": {},
   "source": [
    "##  Parts of Speech tagging\n",
    "\n",
    "This is the process of marking up a word in a text (corpus) as corresponding to a particular part of speech,[1] based on both its definition and its context—i.e., its relationship with adjacent and related words in a phrase, sentence, or paragraph. A simplified form of this is commonly taught to school-age children, in the identification of words as nouns, verbs, adjectives, adverbs, etc.\n"
   ]
  },
  {
   "cell_type": "code",
   "execution_count": 11,
   "metadata": {},
   "outputs": [
    {
     "name": "stdout",
     "output_type": "stream",
     "text": [
      "(this, '=>', u'DET')\n",
      "(spend, '=>', u'VERB')\n",
      "(20, '=>', u'NUM')\n",
      "(month, '=>', u'NOUN')\n",
      "(in, '=>', u'ADP')\n",
      "(30, '=>', u'NUM')\n",
      "(%, '=>', u'NOUN')\n",
      "(new, '=>', u'ADJ')\n",
      "(french, '=>', u'ADJ')\n",
      "(oak, '=>', u'NOUN')\n",
      "(,, '=>', u'PUNCT')\n",
      "(and, '=>', u'CCONJ')\n",
      "(incorporate, '=>', u'ADJ')\n",
      "(fruit, '=>', u'NOUN')\n",
      "(from, '=>', u'ADP')\n",
      "(ponzi, '=>', u'NOUN')\n",
      "('s, '=>', u'PART')\n",
      "(aurora, '=>', u'NOUN')\n",
      "(,, '=>', u'PUNCT')\n",
      "(abetina, '=>', u'NOUN')\n",
      "(and, '=>', u'CCONJ')\n",
      "(madrona, '=>', u'ADJ')\n",
      "(vineyard, '=>', u'NOUN')\n",
      "(,, '=>', u'PUNCT')\n",
      "(among, '=>', u'ADP')\n",
      "(other, '=>', u'ADJ')\n",
      "(., '=>', u'PUNCT')\n",
      "(aromatic, '=>', u'ADJ')\n",
      "(,, '=>', u'PUNCT')\n",
      "(dense, '=>', u'ADJ')\n",
      "(and, '=>', u'CCONJ')\n",
      "(toasty, '=>', u'NOUN')\n",
      "(,, '=>', u'PUNCT')\n",
      "(-PRON-, '=>', u'PUNCT')\n",
      "(deftly, '=>', u'ADV')\n",
      "(blend, '=>', u'NOUN')\n",
      "(aroma, '=>', u'NOUN')\n",
      "(and, '=>', u'CCONJ')\n",
      "(flavor, '=>', u'NOUN')\n",
      "(of, '=>', u'ADP')\n",
      "(toast, '=>', u'NOUN')\n",
      "(,, '=>', u'PUNCT')\n",
      "(cigar, '=>', u'NOUN')\n",
      "(box, '=>', u'NOUN')\n",
      "(,, '=>', u'PUNCT')\n",
      "(blackberry, '=>', u'NOUN')\n",
      "(,, '=>', u'PUNCT')\n",
      "(black, '=>', u'ADJ')\n",
      "(cherry, '=>', u'NOUN')\n",
      "(,, '=>', u'PUNCT')\n",
      "(coffee, '=>', u'NOUN')\n",
      "(and, '=>', u'CCONJ')\n",
      "(graphite, '=>', u'NOUN')\n",
      "(., '=>', u'PUNCT')\n",
      "(tannin, '=>', u'NOUN')\n",
      "(be, '=>', u'VERB')\n",
      "(polished, '=>', u'VERB')\n",
      "(to, '=>', u'ADP')\n",
      "(a, '=>', u'DET')\n",
      "(fine, '=>', u'ADJ')\n",
      "(sheen, '=>', u'NOUN')\n",
      "(,, '=>', u'PUNCT')\n",
      "(and, '=>', u'CCONJ')\n",
      "(frame, '=>', u'VERB')\n",
      "(a, '=>', u'DET')\n",
      "(finish, '=>', u'NOUN')\n",
      "(load, '=>', u'NOUN')\n",
      "(with, '=>', u'ADP')\n",
      "(dark, '=>', u'ADJ')\n",
      "(chocolate, '=>', u'NOUN')\n",
      "(and, '=>', u'CCONJ')\n",
      "(espresso, '=>', u'NOUN')\n",
      "(., '=>', u'PUNCT')\n",
      "(drink, '=>', u'VERB')\n",
      "(now, '=>', u'ADV')\n",
      "(through, '=>', u'ADP')\n",
      "(2032, '=>', u'NUM')\n",
      "(., '=>', u'PUNCT')\n"
     ]
    }
   ],
   "source": [
    "# POS tagging\n",
    "for i in nlp(review):\n",
    "    print(i,\"=>\",i.pos_)"
   ]
  },
  {
   "cell_type": "code",
   "execution_count": 53,
   "metadata": {
    "collapsed": true
   },
   "outputs": [],
   "source": [
    "# Parser for reviews\n",
    "\n",
    "parser = English()\n",
    "\n",
    "def spacy_tokenizer(sentence):\n",
    "    mytokens = parser(sentence)\n",
    "    mytokens = [ word.lemma_.lower().strip() if word.lemma_ != \"-PRON-\" else word.lower_ for word in mytokens ]\n",
    "    mytokens = [ word for word in mytokens if word not in stopwords and word not in punctuations ]\n",
    "    mytokens = \" \".join([i for i in mytokens])\n",
    "    return mytokens"
   ]
  },
  {
   "cell_type": "code",
   "execution_count": 54,
   "metadata": {},
   "outputs": [],
   "source": [
    "tqdm.pandas()\n",
    "\n",
    "wines[\"processed_description\"] = wines['decode_descr'].progress_apply(spacy_tokenizer)"
   ]
  },
  {
   "cell_type": "markdown",
   "metadata": {},
   "source": [
    "## What is topic-modelling?\n",
    "\n",
    "In machine learning and natural language processing, a topic model is a type of statistical model for discovering the abstract \"topics\" that occur in a collection of documents. Topic modeling is a frequently used text-mining tool for discovery of hidden semantic structures in a text body. Intuitively, given that a document is about a particular topic, one would expect particular words to appear in the document more or less frequently: \"dog\" and \"bone\" will appear more often in documents about dogs, \"cat\" and \"meow\" will appear in documents about cats, and \"the\" and \"is\" will appear equally in both. A document typically concerns multiple topics in different proportions; thus, in a document that is 10% about cats and 90% about dogs, there would probably be about 9 times more dog words than cat words.\n",
    "\n",
    "The \"topics\" produced by topic modeling techniques are clusters of similar words. A topic model captures this intuition in a mathematical framework, which allows examining a set of documents and discovering, based on the statistics of the words in each, what the topics might be and what each document's balance of topics is. It involves various techniques of dimensionality reduction(mostly non-linear) and unsupervised learning like LDA, SVD, autoencoders etc.\n",
    "\n",
    "Source: Wikipedia\n"
   ]
  },
  {
   "cell_type": "code",
   "execution_count": 55,
   "metadata": {},
   "outputs": [
    {
     "data": {
      "text/plain": [
       "0    tremendous 100 varietal wine hail oakville age...\n",
       "1    ripe aroma fig blackberry cassis soften sweete...\n",
       "2    mac watson honor memory wine mother tremendous...\n",
       "3    spend 20 month 30 new french oak incorporate f...\n",
       "4    wine la bégude high point vineyard 1200 foot s...\n",
       "5    deep dense pure open bell toro winner aromas d...\n",
       "6    slightly gritty black fruit aroma include swee...\n",
       "7    lush cedary black fruit aroma luxe offer note ...\n",
       "8    vineyard bottle delancellotti find strike mine...\n",
       "9    producer source block vineyard wine — high ele...\n",
       "Name: processed_description, dtype: object"
      ]
     },
     "execution_count": 55,
     "metadata": {},
     "output_type": "execute_result"
    }
   ],
   "source": [
    "wines['processed_description'][0:10]"
   ]
  },
  {
   "cell_type": "code",
   "execution_count": 56,
   "metadata": {
    "collapsed": true
   },
   "outputs": [],
   "source": [
    "# Creating a vectorizer\n",
    "\n",
    "vectorizer = CountVectorizer(min_df = 5, max_df = 0.9, stop_words = 'english',\n",
    "                             lowercase = True, token_pattern = '[a-zA-Z\\-][a-zA-Z\\-]{2,}')\n"
   ]
  },
  {
   "cell_type": "code",
   "execution_count": 57,
   "metadata": {},
   "outputs": [],
   "source": [
    "\n",
    "data_vectorized = vectorizer.fit_transform(wines['processed_description'])\n"
   ]
  },
  {
   "cell_type": "code",
   "execution_count": 73,
   "metadata": {},
   "outputs": [
    {
     "data": {
      "text/plain": [
       "<10x11339 sparse matrix of type '<type 'numpy.int64'>'\n",
       "\twith 285 stored elements in Compressed Sparse Row format>"
      ]
     },
     "execution_count": 73,
     "metadata": {},
     "output_type": "execute_result"
    }
   ],
   "source": [
    "data_vectorized[0:10]\n",
    "\n",
    "NUM_TOPICS = 10"
   ]
  },
  {
   "cell_type": "code",
   "execution_count": 59,
   "metadata": {
    "collapsed": true
   },
   "outputs": [],
   "source": [
    "%%time\n",
    "\n",
    "# Latent Dirichlet Allocation Model\n",
    "lda = LatentDirichletAllocation(n_components=NUM_TOPICS, max_iter=10, learning_method='online',verbose=True)\n",
    "data_lda = lda.fit_transform(data_vectorized)"
   ]
  },
  {
   "cell_type": "code",
   "execution_count": 60,
   "metadata": {},
   "outputs": [],
   "source": [
    "%%time\n",
    "\n",
    "# Non-Negative Matrix Factorization Model\n",
    "nmf = NMF(n_components=NUM_TOPICS)\n",
    "data_nmf = nmf.fit_transform(data_vectorized) "
   ]
  },
  {
   "cell_type": "code",
   "execution_count": 61,
   "metadata": {},
   "outputs": [],
   "source": [
    "%%time\n",
    "\n",
    "# Latent Semantic Indexing Model using Truncated SVD\n",
    "lsi = TruncatedSVD(n_components=NUM_TOPICS)\n",
    "data_lsi = lsi.fit_transform(data_vectorized)"
   ]
  },
  {
   "cell_type": "code",
   "execution_count": 62,
   "metadata": {
    "collapsed": true
   },
   "outputs": [],
   "source": [
    "# Functions for printing keywords for each topic\n",
    "def selected_topics(model, vectorizer, top_n=10):\n",
    "    for idx, topic in enumerate(model.components_):\n",
    "        print(\"Topic %d:\" % (idx))\n",
    "        print([(vectorizer.get_feature_names()[i], topic[i])\n",
    "                        for i in topic.argsort()[:-top_n - 1:-1]]) "
   ]
  },
  {
   "cell_type": "code",
   "execution_count": 63,
   "metadata": {},
   "outputs": [],
   "source": [
    "# Keywords for topics clustered by Latent Dirichlet Allocation\n",
    "print(\"LDA Model:\")\n",
    "selected_topics(lda, vectorizer)"
   ]
  },
  {
   "cell_type": "code",
   "execution_count": 64,
   "metadata": {},
   "outputs": [],
   "source": [
    "# Keywords for topics clustered by Latent Semantic Indexing\n",
    "print(\"NMF Model:\")\n",
    "selected_topics(nmf, vectorizer)"
   ]
  },
  {
   "cell_type": "code",
   "execution_count": 65,
   "metadata": {},
   "outputs": [],
   "source": [
    "# Keywords for topics clustered by Non-Negative Matrix Factorization\n",
    "print(\"LSI Model:\")\n",
    "selected_topics(lsi, vectorizer)"
   ]
  },
  {
   "cell_type": "code",
   "execution_count": null,
   "metadata": {},
   "outputs": [],
   "source": [
    "# Transforming an individual sentence\n",
    "\n",
    "text = spacy_tokenizer(\"Aromas include tropical fruit, broom, brimstone and dried herb. The palate isn't overly expressive, offering unripened apple, citrus and dried sage alongside brisk acidity.\")\n",
    "\n",
    "x = lda.transform(vectorizer.transform([text]))[0]\n",
    "\n",
    "print(x)"
   ]
  },
  {
   "cell_type": "markdown",
   "metadata": {},
   "source": [
    "The index in the above list with the largest value represents the most dominant topic for the given review."
   ]
  },
  {
   "cell_type": "markdown",
   "metadata": {},
   "source": [
    "# Visualizing LDA results with pyLDAvis"
   ]
  },
  {
   "cell_type": "code",
   "execution_count": 67,
   "metadata": {},
   "outputs": [
    {
     "data": {
      "text/html": [
       "\n",
       "<link rel=\"stylesheet\" type=\"text/css\" href=\"https://cdn.rawgit.com/bmabey/pyLDAvis/files/ldavis.v1.0.0.css\">\n",
       "\n",
       "\n",
       "<div id=\"ldavis_el266731397742111911203355905279\"></div>\n",
       "<script type=\"text/javascript\">\n",
       "\n",
       "var ldavis_el266731397742111911203355905279_data = {\"plot.opts\": {\"xlab\": \"PC1\", \"ylab\": \"PC2\"}, \"topic.order\": [7, 5, 4, 2, 3, 10, 1, 9, 8, 6], \"token.table\": {\"Topic\": [1, 2, 6, 7, 5, 1, 2, 3, 4, 5, 6, 7, 8, 10, 4, 4, 7, 5, 2, 9, 7, 1, 8, 9, 6, 9, 1, 4, 3, 1, 4, 1, 2, 5, 8, 9, 8, 5, 4, 8, 10, 3, 1, 2, 3, 5, 6, 8, 1, 2, 3, 4, 5, 6, 7, 8, 10, 5, 1, 5, 8, 1, 3, 5, 7, 6, 3, 2, 3, 4, 5, 6, 7, 8, 10, 2, 3, 7, 9, 1, 2, 3, 5, 2, 3, 4, 5, 7, 8, 3, 5, 7, 8, 10, 1, 1, 2, 5, 6, 10, 1, 8, 7, 8, 3, 4, 10, 9, 3, 6, 2, 7, 10, 3, 1, 4, 8, 2, 8, 2, 4, 1, 2, 3, 5, 3, 10, 5, 9, 6, 9, 10, 2, 3, 5, 8, 10, 3, 8, 9, 9, 3, 3, 4, 7, 9, 1, 1, 9, 4, 2, 3, 5, 6, 8, 9, 2, 7, 8, 8, 2, 3, 5, 7, 3, 8, 2, 7, 1, 4, 1, 1, 2, 6, 5, 8, 6, 1, 5, 8, 9, 5, 6, 9, 5, 5, 2, 6, 5, 9, 10, 2, 4, 5, 6, 7, 8, 10, 10, 4, 3, 4, 6, 7, 9, 10, 1, 4, 5, 7, 10, 8, 6, 7, 10, 6, 1, 2, 4, 1, 4, 1, 8, 3, 4, 5, 10, 2, 3, 5, 7, 8, 7, 6, 1, 3, 5, 1, 9, 3, 4, 6, 7, 4, 1, 8, 5, 7, 9, 1, 3, 5, 6, 6, 4, 9, 1, 2, 3, 4, 5, 6, 7, 8, 9, 10, 10, 1, 2, 5, 6, 8, 10, 3, 2, 3, 6, 8, 1, 3, 4, 6, 7, 1, 5, 6, 3, 7, 4, 10, 8, 7, 7, 10, 6, 1, 5, 6, 6, 7, 8, 2, 3, 6, 8, 9, 6, 5, 7, 3, 2, 1, 4, 3, 4, 5, 6, 7, 8, 10, 4, 1, 2, 3, 4, 5, 6, 8, 10, 4, 5, 7, 8, 2, 1, 2, 3, 4, 5, 6, 7, 10, 9, 2, 8, 1, 3, 1, 5, 8, 8, 3, 10, 6, 7, 1, 2, 4, 8, 7, 1, 2, 3, 4, 5, 6, 7, 8, 9, 10, 4, 1, 3, 4, 3, 8, 1, 1, 2, 3, 4, 5, 6, 7, 10, 2, 1, 2, 6, 7, 9, 10, 1, 4, 4, 1, 2, 3, 4, 5, 6, 9, 9, 7, 6, 3, 4, 7, 2, 3, 6, 8, 10, 4, 2, 4, 6, 9, 1, 2, 4, 5, 7, 8, 9, 10, 3, 1, 1, 1, 2, 6, 6, 8, 3, 6, 4, 7, 4, 8, 5, 4, 10, 2, 5, 9, 2, 5, 1, 2, 3, 4, 7, 8, 10, 6, 4, 10, 6, 8, 8, 2, 5, 3, 1, 2, 3, 6, 9, 7, 1, 4, 6, 1, 2, 6, 4, 1, 5, 6, 10, 7, 1, 2, 3, 4, 7, 10, 6, 3, 1, 6, 1, 2, 7, 9, 3, 4, 2, 10, 1, 10, 4, 8, 4, 6, 3, 1, 2, 3, 4, 5, 10, 10, 1, 8, 10, 2, 2, 4, 1, 4, 7, 8, 5, 7, 3, 5, 10, 9, 2, 4, 5, 6, 8, 2, 5, 6, 8, 1, 7, 8, 3, 6, 7, 1, 2, 5, 6, 9, 8, 1, 2, 5, 6, 8, 1, 2, 5, 6, 8, 10, 9, 1, 2, 3, 5, 6, 7, 1, 2, 4, 5, 6, 7, 8, 10, 7, 6, 1, 2, 4, 5, 7, 8, 1, 6, 5, 1, 1, 2, 5, 8, 9, 9, 1, 8, 1, 1, 4, 1, 3, 5, 6, 8, 9, 7, 4, 8, 6, 10, 9, 7, 1, 6, 9, 6, 8, 7, 3, 7, 10, 2, 3, 4, 5, 7, 8, 2, 4, 7, 7, 8, 6, 4, 5, 3, 5, 6, 7, 4, 7, 5, 6, 10, 2, 3, 6, 10, 4, 7, 10, 2, 7, 2, 5, 2, 3, 4, 6, 8, 9, 4, 2, 3, 4, 5, 6, 8, 10, 1, 4, 4, 9, 2, 5, 9, 1, 10, 6, 1, 3, 4, 5, 7, 9, 1, 1, 2, 3, 4, 5, 7, 8, 3, 8, 4, 9, 2, 5, 3, 2, 4, 8, 2, 3, 6, 8, 4, 6, 8, 9, 5, 5, 10, 9, 4, 1, 6, 5, 2, 2, 1, 3, 6, 3, 5, 10, 9, 9, 10, 6, 1, 1, 2, 7, 7, 10, 2, 5, 6, 3, 7, 3, 4, 7, 8, 2, 1, 2, 3, 4, 5, 6, 8, 9, 2, 7, 7, 1, 5, 6, 6, 7, 10, 1, 2, 3, 4, 5, 6, 7, 8, 10, 3, 4, 5, 10, 1, 3, 4, 6, 8, 5, 2, 4, 1, 10, 4, 6, 8, 7, 3, 4, 5, 7, 8, 5, 1, 4, 6, 9, 10, 10, 2, 2, 7, 10, 5, 1, 2, 4, 5, 6, 5, 6, 7, 8, 9, 10, 2, 4, 4, 1, 3, 4, 5, 10, 3, 4, 5, 7, 8, 10, 7, 1, 2, 3, 5, 6, 2, 3, 6, 5, 3, 7, 1, 2, 3, 4, 5, 6, 7, 8, 3, 3, 8, 2, 7, 1, 2, 3, 4, 5, 7, 8, 3, 2, 3, 8, 10, 2, 1, 5, 1, 2, 4, 3, 1, 8, 2, 6, 9, 8, 7, 8, 8, 5, 6, 7, 9, 2, 1, 2, 3, 5, 6, 9, 9, 10, 4, 7, 10, 5, 10, 7, 6, 7, 4, 7, 10, 8, 5, 6, 6, 6, 10, 10, 1, 4, 8, 7, 6, 8, 1, 2, 3, 4, 5, 6, 7, 8, 9, 10, 6, 9, 10, 4, 5, 7, 3, 3, 4, 7, 4, 7, 1, 9, 1], \"Freq\": [0.154007217265176, 0.207683491570364, 0.4763769344585434, 0.16196503700228237, 0.9995078070371016, 0.32068191618806996, 0.020342616208651625, 0.08701937752176016, 0.5091205006826582, 6.530534898443538e-05, 0.027101719828540687, 0.0013714123286731432, 0.03435061356581302, 0.999076728915286, 0.9997089071598543, 0.3940779025447474, 0.605820166767627, 0.9985493316998689, 0.9990215149770765, 0.9998865196885395, 0.9989491408801983, 0.1413849728881893, 0.858128238224149, 0.9995959196095248, 0.2566309623940395, 0.7429802768936049, 0.960734970447891, 0.03921670385747866, 0.9989070208363501, 0.9464551040039605, 0.05323809960022278, 0.19712218267880804, 0.43229061095537746, 0.06885114897891119, 0.30174205833251405, 0.9994751172874239, 0.998504226263232, 0.9991934691015774, 0.9996533309892156, 0.31347044644404587, 0.6860377803324611, 0.9994942838983922, 0.07613616381121198, 0.6576813331268857, 0.006496259710854264, 0.13174414693612446, 0.006756110099288434, 0.12109028101032349, 0.20038142395319072, 0.03593375550188287, 0.20145585518082176, 0.33134265247666417, 0.034978705521766386, 0.10905476960455152, 0.08123893893365879, 0.0045961780293106, 0.0010744312276310495, 0.9977963483100306, 0.999100095825945, 0.9979370718974768, 0.9990052271710277, 0.06376688270952911, 0.0003419135802119523, 0.0003419135802119523, 0.9356465122500075, 0.9990623628837245, 0.9990263957941551, 0.4497269061668192, 0.006154979616622793, 0.15281803869032862, 0.007808556230043843, 0.00036746146964912197, 0.017270689073508733, 0.3657619603519948, 9.186536741228049e-05, 0.15502296420415299, 0.42510311504332404, 0.41832691054198284, 0.0015211887656072104, 0.09581362445483134, 0.5389046700954582, 0.3632463585949341, 0.001972633444658292, 0.00019952636508807262, 0.22366905526372943, 0.05095903364349375, 0.3869614324518081, 0.1526775745653932, 0.18551961425888994, 0.5490978911832153, 0.4410742785670476, 0.002019132946096592, 0.007757721319213221, 5.313507752885768e-05, 0.9996484425310505, 0.10091772939506934, 0.0003931859586820883, 0.12693353366120083, 0.004652700511071378, 0.7671058053887543, 0.9990454533705738, 0.9994954432171844, 0.32078091177906803, 0.6790693218282969, 0.8274300369783846, 0.17238125770383012, 0.999583839337038, 0.9992087000310627, 0.4007219932176692, 0.5991648253681077, 0.9997554575686998, 0.9987932225112647, 0.9983540698749733, 0.9992464569677393, 0.2561844864041367, 0.26983695119683365, 0.47382083692301147, 0.9988186721378862, 0.999366517045148, 0.99950207550446, 0.9994609124564536, 0.9510645390039503, 0.04850490547534672, 0.9993285098206296, 0.999329159778403, 0.9998342445641987, 0.9999087720184411, 0.998271324995279, 0.9995530807806771, 0.9995485811496656, 0.9998033830852412, 0.9996555551153103, 0.06479956423841246, 0.45859317775269004, 0.3506443709723441, 0.021196119143405943, 0.1047693889088351, 0.8707993038238312, 0.1286775922936702, 0.0004046465166467617, 0.999363585836672, 0.9985277326398806, 0.9995823306923083, 0.9052295269250267, 0.09473458151649304, 0.999195540909067, 0.9994033739830466, 0.9997991529060267, 0.9991384779235633, 0.9991173056129534, 0.0007433593042246106, 0.3815911095019668, 0.2190432083115186, 0.19510703871548615, 0.2021937307490941, 0.0013132681041301455, 0.2624836714191723, 0.15573355537225023, 0.5817205690911386, 0.9985279989738852, 0.030726227781388022, 0.2790833020765451, 0.6895888893009442, 0.0005572113846365704, 0.9989619604063101, 0.9986503658927224, 0.999465974494762, 0.9990058653401089, 0.9518634211455657, 0.04804866596110419, 0.9995912451306854, 0.7351138329886758, 0.10776364263478559, 0.15705860121439008, 0.2960830696820052, 0.7037012140248565, 0.9996321722257482, 0.18638984184407273, 0.0002525607613063316, 0.8132456514063877, 0.9980407322415648, 0.6744689942068655, 0.24911776458412524, 0.0759693492617224, 0.9994832395900013, 0.9998098440089077, 0.11670774249442653, 0.8831828125789302, 0.9984442937370328, 0.3194028333827408, 0.6803423581022505, 0.3301311719764263, 0.19447422403351053, 0.0013970849427694721, 0.06580270080444214, 0.37483789014504937, 0.031853536695143965, 0.0016765019313233667, 0.9978631265169349, 0.9973590362650833, 0.4189260978332658, 0.10527681181231671, 0.19615803747902658, 0.15791521771847505, 0.12039944776325723, 0.001308689649600622, 0.07912778843196534, 0.18355931408607679, 0.2598994026545854, 0.47733999200421373, 0.9991189332708276, 0.9991803924670252, 0.7438927978566924, 0.2559590835950231, 0.9990255066345531, 0.9995941845764784, 0.5755496306535757, 0.2713951580600333, 0.1531052482591198, 0.7078621698289315, 0.29209130343773065, 0.2515774288273635, 0.7476532679220131, 0.7114985122455822, 0.21297096723046016, 0.07477913175226832, 0.0005982330540181465, 0.011684201499311578, 0.0011127810951725313, 0.6510564250398716, 0.29695358368318403, 0.03910630705892038, 0.9989927647967395, 0.9995998780133644, 0.9993676132522515, 0.37513488000234413, 0.624509746622916, 0.649067210797623, 0.3504831548183521, 0.37770310600344215, 0.5551312059921891, 0.0017823827396129832, 0.06530002218763929, 0.9988442571010502, 0.23543271005417912, 0.7644378510491562, 0.34880502456532986, 0.6511149641912348, 0.9995754984792425, 0.9995594088055775, 0.9990369161582499, 0.9987322059902717, 0.9985851021791459, 0.9986929560845241, 0.9996493033477817, 0.9985731584177789, 0.11652447477338633, 0.03906464311429512, 0.38812613158719017, 0.28337618130087466, 0.0930148054798035, 0.0005119358472639481, 0.0005513155278227133, 0.07647533964512208, 0.0022446417918496183, 0.0001181390416762957, 0.9990781362326658, 0.19517244560358588, 0.006567832172496361, 0.20438701611425242, 0.2018383051219404, 0.3920113560867604, 0.9994996475865732, 0.999217601080972, 0.5087256919087553, 0.1407238893127228, 0.20392206554521478, 0.1464156505262081, 0.05726500533955626, 0.2782269451346117, 0.567636955285029, 0.09563448703171686, 0.0011568687947385104, 0.25739064387879357, 0.22449678656330582, 0.5181161488679131, 0.01431067511670795, 0.9856477486632601, 0.7112821081645958, 0.288466001982178, 0.9989265554167247, 0.9989283179701326, 0.9983112087791175, 0.9979419780969955, 0.9993029540850846, 0.9995034085691366, 0.9992105373784318, 0.9982894287026167, 0.14240107008167294, 0.8571102382763984, 0.9980904524226101, 0.9990465004336038, 0.1804672386777349, 0.8188220988941908, 0.7768280457005127, 0.22307267355009106, 0.999449868137729, 0.9993800167993172, 0.9970508102141314, 0.9995778082925098, 0.9999180764380142, 0.9990995377038576, 0.9995726591766605, 0.3779075068668262, 0.3247642637136788, 0.000694682917034607, 0.10860209602974356, 0.11057036429467494, 0.07629934038763433, 0.001157804861724345, 0.9990751510892452, 0.2500649354394639, 0.43736706024289496, 0.09470953831891961, 0.032355684287261086, 0.138419782445279, 0.019269072947283365, 0.02619727895080098, 0.0016117701466516674, 0.018251757911861857, 0.20054260711853183, 0.573966772097867, 0.20723113952101535, 0.99911495624377, 0.2106307061475948, 0.17206886551106465, 0.29704482471862526, 0.14857580567711706, 0.0799238641623591, 0.09117205644649158, 0.00029662954335792416, 0.00027289917988929026, 0.999200865273462, 0.999692893590995, 0.9986525779972331, 0.8179553758105449, 0.1817678612912322, 0.334645175042069, 0.20522810667794447, 0.46002496917646346, 0.9994245329886186, 0.9996547917032054, 0.9998463559701434, 0.010022909570356214, 0.9893201328857487, 0.3851839806618001, 0.06709296022840057, 0.43769637251417026, 0.10999670165672, 0.9998677765311106, 0.11493750742591169, 0.16345849953266442, 0.007264519323848089, 0.2906898088912421, 0.10895416036555651, 0.07583449440504834, 0.1902131926522025, 0.04672189914099671, 1.3629492164818178e-05, 0.0019217583952393631, 0.9989420713516025, 0.18120924878719671, 0.3081821212728355, 0.510534364211487, 0.9995161387655196, 0.9989612033982167, 0.9993281700499528, 0.12328338415860347, 0.16336278774110355, 0.28200151346458996, 0.2378003600125158, 0.03220501577197052, 0.10725777459108041, 0.047246326863177375, 0.006797811352058724, 0.9987467007279087, 0.16174247126298702, 0.0015179168314566039, 0.22195317224409897, 0.23240993263857782, 0.13762445938539875, 0.24472192471594803, 0.9357999938328199, 0.06410241872702535, 0.9998370102243737, 0.4922702144717718, 0.259645900135241, 0.0008524159557952759, 0.16724401052703314, 0.00017048319115905517, 0.07970089186685829, 0.9995268786529365, 0.998858414221441, 0.9995252075740595, 0.9988814014380741, 0.9997427393063908, 0.997694151512345, 0.9981243877007655, 0.2534550542679101, 0.14629326779172627, 0.2787555809805453, 0.26998473172016507, 0.05150062770838634, 0.9980865671373199, 0.8310849113459663, 0.07847542289811195, 0.0903976506076328, 0.9998809349929438, 0.3194185585673324, 0.2760431363633462, 0.1385089324760999, 0.08138983716927757, 0.06520934259430741, 0.1159927020735812, 0.00019494571777072472, 0.003216604343216958, 0.9995155844634811, 0.9997405576899132, 0.9993307252035508, 0.9992171657727396, 0.9996055759211977, 0.9988087646609624, 0.9986072937842356, 0.9990236705819456, 0.04559671240885387, 0.9542148360471056, 0.16120891710933755, 0.8387836715406148, 0.9977474143814944, 0.9987107803022893, 0.9992551288537344, 0.9993118099783704, 0.9998110281175747, 0.9989007571905253, 0.6749212178299651, 0.32477680625062905, 0.20543994395650114, 0.794152228877855, 0.06167271428637813, 0.16268581706238838, 0.004584782117212763, 0.5316868293993511, 0.08799823741101917, 0.1512978098680212, 0.00014789619732944397, 0.9993734432488668, 0.9989228978870679, 0.9996347844934074, 0.9996762832027524, 0.9989279150231106, 0.9998906176622355, 0.9989655559042231, 0.999467865255377, 0.998743449812439, 0.9999092794439073, 0.9995286141895339, 0.9987300639539368, 0.43764733437433756, 0.5615097874991501, 0.9973446737806816, 0.31979331890558677, 0.3404878152425833, 0.33972760925469364, 0.22225853772377685, 0.4260090598883787, 0.3516522956243248, 0.9991601800775116, 0.9998829136358144, 0.9993047503542448, 0.7578551399500043, 0.24208529951147925, 0.9997118935622908, 0.2133643619605755, 0.2718161298737038, 0.2075089124508245, 0.002362725240776715, 0.266166134732716, 0.0387281485118618, 0.999708918054054, 0.9991461646940173, 0.23957596567403125, 0.7602078781339405, 0.15389131870199585, 0.24267477179930114, 0.05978085841885223, 0.5439466226428238, 0.9991998953667056, 0.9987159319408148, 0.48415572885786834, 0.5157597292910202, 0.9994316273968201, 0.9983052318518644, 0.3295626584123313, 0.6703026731736933, 0.9982229836357707, 0.9996881290276943, 0.999556773507502, 0.3055565068591816, 0.4555776155878138, 0.016542868205751873, 0.028706741886451777, 0.15050766367586016, 0.042979020338473, 0.9974911038425863, 0.9998656653050771, 0.9993255191310325, 0.9998848758774013, 0.9995106702515746, 0.9988784402639885, 0.998290402945856, 0.5401530913555223, 0.15792347702070605, 0.17224618984198461, 0.12965168736479102, 0.9989125373255252, 0.9985929703538181, 0.17340053340550018, 0.8265045161334532, 0.9992496086356619, 0.9986042943478675, 0.37710146869324057, 0.08852876324347081, 0.15275094499991848, 0.13846209198518286, 0.24306581487023124, 0.4401582445099703, 0.5380715234030148, 0.02167250441901378, 0.997611575773587, 0.9997069239377029, 0.9997344915017559, 0.9980822164301262, 0.07830961601423751, 0.16560041535405154, 0.7559950455458985, 0.28414402153345536, 0.19529311028794677, 0.20140533740382907, 0.319177518417171, 0.9998490042263156, 0.9985908483735845, 0.21715997611110122, 0.5894254000445187, 0.017782790196189124, 0.0001234915985846467, 0.17548156158878295, 0.2900753313410101, 0.2787920796123732, 0.20234909004123858, 0.0013323396875143281, 0.22728882356689742, 0.00016654246093929101, 0.9994067619670077, 0.09965872949810531, 0.012210958655339483, 0.5865586872196734, 0.2706121506728581, 0.02745061965432616, 0.003509448747400718, 0.2801957358401792, 0.007357765839318746, 0.05210499482129806, 0.14017294716334797, 0.10451030661562954, 0.014265056219087364, 0.3966436421338871, 0.004729992325276337, 0.9998177296761649, 0.9994667901660931, 0.12012611676087617, 0.07247752564425623, 0.15629311965662385, 0.09457958296943536, 0.10319077413508958, 0.45323569501893307, 0.9997386188254896, 0.9995771715329081, 0.9990275857392321, 0.9997697863933579, 0.229065587519235, 0.5454529190943631, 0.04065352565589713, 0.18482498607017048, 0.998619748656512, 0.9987313557779287, 0.10284776580312364, 0.8963642678125898, 0.9999040795422803, 0.9423011188557266, 0.05753100045831146, 0.9991335605540393, 0.347972995530387, 0.12500710553717687, 0.06266020327678037, 0.37857206146388145, 0.08574004481706116, 0.9972698142586893, 0.8734966478191638, 0.12607591484742986, 0.999045709966886, 0.999226231458567, 0.9988357382119125, 0.9997118855542997, 0.999896469619407, 0.24632700102379093, 0.7535559536145346, 0.9977628356022609, 0.9982453676714913, 0.9973420926567969, 0.9994495209550335, 0.7616692279084892, 0.23813208459551954, 0.39384237019788093, 0.0007897908493273013, 0.15795816986546027, 0.3236168005118617, 0.0350798768909543, 0.0887856546452108, 0.9997288356970686, 0.07719293698508013, 0.9218402909522612, 0.32349373817880933, 0.6761619779440365, 0.9991478549409804, 0.9985431129677816, 0.9992181224853425, 0.05084909793791404, 0.17385278177655528, 0.06505275657978947, 0.7101829320937715, 0.15170058059121075, 0.8480519078869859, 0.20351412201590682, 0.7964265851471947, 0.9968735738135399, 0.05413893173603828, 0.4581145483160186, 0.27048802153616075, 0.21717563837624518, 0.17490673338705706, 0.31216538066389554, 0.5125630056880798, 0.9991828176987818, 0.9974592523344316, 0.1381502242031351, 0.8615272284254551, 0.9985665583724826, 0.32938013615411066, 0.031964107223446676, 0.4166987519806616, 0.15640770175222996, 0.06550977183555347, 0.9997170515232792, 0.1465463516038278, 0.17798337143774248, 0.25034602379934484, 0.003881705192907146, 0.15167403624137182, 0.2574385221765085, 0.012124338442043308, 0.8751260932110461, 0.12474635313916693, 0.9990332518663629, 0.9990062137639446, 0.9991097626272314, 0.9982583148143309, 0.9979449492634812, 0.19150888447662018, 0.8078922701423887, 0.999050746726337, 0.08433460259132221, 0.35518724627825093, 0.3540401488545387, 0.1687150890795929, 0.010369760710358443, 0.027392686478247746, 0.9997001897458729, 0.0895604140699875, 0.00037115795304594907, 0.21534584435725965, 0.41963118171375, 0.20272647395369736, 0.032364973505606756, 0.03997371154304871, 0.999597391105944, 0.9989365486600887, 0.9987654863293324, 0.999031512946743, 0.41419334851049466, 0.5853357390408727, 0.999531510940719, 0.3666054590567585, 0.5581157734893936, 0.07519711121803874, 0.9994010186134332, 0.9987518361491459, 0.9994284464748784, 0.9989769705711015, 0.9994431591626204, 0.9991437871507175, 0.9996548933574597, 0.9983048559702432, 0.9989320425163599, 0.9989487280263212, 0.9998528557655496, 0.9987751493192275, 0.998644903462335, 0.12966166536261495, 0.8702667905305834, 0.9979775189072361, 0.9992855276461114, 0.9994400393147146, 0.170480150475001, 0.8289288475994614, 0.00030884085230978444, 0.8289956572933219, 0.17068954112081858, 0.9998223011075114, 0.9979281706240404, 0.9990314511028136, 0.9985388870563254, 0.99750794549602, 0.9994682964818957, 0.2777592523990765, 0.7221153953606402, 0.9987802460976808, 0.36802976809690796, 0.631609182962503, 0.9997417539792813, 0.6003736313037877, 0.3994445667568919, 0.8442431437781802, 0.15563354329001175, 0.3051600562810707, 0.3704144079386581, 0.00021324951522087398, 0.32424588789333886, 0.99911988287241, 0.0856176181600403, 0.04105927920701805, 0.22585337204286496, 0.3312625468912415, 0.27587899184901876, 0.013613529324297597, 0.02301725239168389, 0.0036630781715981486, 0.5754710499172111, 0.4244367737403092, 0.9987038373060803, 0.007523347868676648, 0.16777065747148923, 0.8241827590135267, 0.9993651203742207, 0.9988415437707872, 0.9994554013516987, 0.0738993636761972, 0.03769721875389828, 0.10109546861290947, 0.14576969858093813, 0.21902831632930703, 0.09404726340679817, 0.008400891053748815, 0.3200169939542451, 7.119399198092216e-05, 0.3745774840806264, 0.2914628399367992, 0.25428588424543874, 0.07952049737004002, 0.2539165140701408, 0.5558400228278025, 0.187979196065594, 0.0022690979880107204, 0.9992069363533641, 0.9993249106957637, 0.998842826339056, 0.99920172568945, 0.9757893373300047, 0.02398867513026388, 0.28944947833924484, 0.5185664493790859, 0.19174501307705247, 0.9993023140212453, 0.14195031804349015, 0.39114486281887745, 0.03871372310277004, 0.3299884016855161, 0.0982671315196606, 0.9987829032024647, 0.235247947482362, 0.22596878146781793, 0.21658417038492675, 0.3220292387320186, 0.9977301897447977, 0.9979712021199495, 0.9996864704308245, 0.29722837622332526, 0.6448344433319598, 0.0577664188818214, 0.9987481475228186, 0.2880400766858498, 0.1663401739258296, 0.132944837987149, 0.25994895547694696, 0.15267651678192218, 0.22417954097613216, 0.2352958818509817, 0.024085405228840645, 0.002161510725665186, 0.15779028297355857, 0.3563404824882321, 0.9995062566999297, 0.998730670702322, 0.9990897866506562, 0.9995439594899527, 0.7167733830150859, 0.11060079143094922, 0.17217107328196518, 0.00025079544542165355, 0.28803627733341564, 0.19337931659186763, 0.17026117425691265, 0.21874252786748755, 0.1295465456302596, 6.0677538936889747e-05, 0.9968738610594643, 0.26459857379975127, 0.17254590001646006, 0.018466922305683225, 0.0008458132353748042, 0.5434350037283117, 0.5158039742335709, 0.22498953342653719, 0.2590868354496344, 0.9996977090926138, 0.9991331426910608, 0.9983260449921879, 0.11915076868716065, 0.0036326453868036784, 0.20496192526876755, 0.5128488031636393, 0.14135026827318314, 0.007991819850968092, 0.002179587232082207, 0.00791109439792801, 0.9991882083886964, 0.055796537191492634, 0.9435814400605754, 0.16653835595763442, 0.8333033037390568, 0.393486055833337, 0.007679748393254652, 0.02698016869735516, 0.15480755971665955, 0.3430624446723624, 0.027687513944102297, 0.046280589001455666, 0.9997200208083753, 0.05376967262090327, 0.20500613473093698, 0.7280384047706324, 0.013183197970414302, 0.9994367009678955, 0.3883249777670877, 0.6115537075014615, 0.2844425881355553, 0.347970007216132, 0.36752424281901225, 0.9995580204822357, 0.9998222468806262, 0.9978622478930439, 0.7517299190983039, 0.12936937261355175, 0.11835053015119876, 0.998396652963914, 0.998554416313443, 0.9992765160862545, 0.9989412323069243, 0.9992207695157228, 0.18533258902329214, 0.009889288347092663, 0.8043287855635367, 0.9993587900334041, 0.3636051837788837, 0.09669376667216877, 0.16824574550605328, 0.3631122075467605, 0.0002817007040704115, 0.008028470066006729, 0.4511875914101613, 0.5487416652285746, 0.9989167129437064, 0.9974589933355628, 0.9991150757384439, 0.9982557534201617, 0.9989781113604039, 0.9997459527535005, 0.38825347813792, 0.6116085859093079, 0.167524509108261, 0.512181778540983, 0.320171726010793, 0.9996978844942338, 0.9991904935229242, 0.998885937042259, 0.99935613661033, 0.9990084162425569, 0.9998715388009333, 0.9996229768560314, 0.7945123673949596, 0.09196474433159484, 0.11352545986470093, 0.9988883419181742, 0.1705074727112302, 0.8291431984348213, 0.12863734211992137, 0.006226234770353135, 0.0935288744850873, 0.3347173836075461, 0.0817219343018424, 0.0945700508680895, 0.16137192760151042, 0.05889934798643425, 0.028153409396379392, 0.0121817636811257, 0.3986550245169998, 0.3814850743616082, 0.21977536198901163, 0.8170792137562944, 0.18288278353502915, 0.9993856096457624, 0.999329412485754, 0.3086054710492048, 0.18725999189173678, 0.5040890831011218, 0.2544060134410085, 0.7453550903770567, 0.9993024556915844, 0.9994510768824933, 0.9997107130118535], \"Term\": [\"acid\", \"acid\", \"acid\", \"acid\", \"acidic\", \"acidity\", \"acidity\", \"acidity\", \"acidity\", \"acidity\", \"acidity\", \"acidity\", \"acidity\", \"addition\", \"aftertaste\", \"age\", \"age\", \"aggressive\", \"air\", \"alcohol\", \"allow\", \"alongside\", \"alongside\", \"appeal\", \"appellation\", \"appellation\", \"apple\", \"apple\", \"approachable\", \"apricot\", \"apricot\", \"aroma\", \"aroma\", \"aroma\", \"aroma\", \"asian\", \"assertive\", \"astringent\", \"attractive\", \"austere\", \"austere\", \"bacon\", \"bake\", \"bake\", \"bake\", \"bake\", \"bake\", \"bake\", \"balance\", \"balance\", \"balance\", \"balance\", \"balance\", \"balance\", \"balance\", \"balance\", \"balance\", \"balanced\", \"banana\", \"barnyard\", \"barolo\", \"barrel\", \"barrel\", \"barrel\", \"barrel\", \"beer\", \"benefit\", \"berry\", \"berry\", \"berry\", \"berry\", \"berry\", \"berry\", \"berry\", \"berry\", \"big\", \"big\", \"big\", \"big\", \"bite\", \"bite\", \"bite\", \"bite\", \"black\", \"black\", \"black\", \"black\", \"black\", \"black\", \"blackberry\", \"blackberry\", \"blackberry\", \"blackberry\", \"blackberry\", \"blanc\", \"blend\", \"blend\", \"blend\", \"blend\", \"blend\", \"blossom\", \"blue\", \"blueberry\", \"blueberry\", \"bone\", \"bone\", \"bordeaux\", \"botrytis\", \"bottle\", \"bottle\", \"bouquet\", \"box\", \"brand\", \"briary\", \"bright\", \"bright\", \"bright\", \"brown\", \"brunello\", \"burn\", \"burst\", \"butter\", \"butter\", \"butterscotch\", \"buy\", \"cab\", \"cabernet\", \"cake\", \"california\", \"candy\", \"caramel\", \"case\", \"cassis\", \"cassis\", \"cassis\", \"cassis\", \"cassis\", \"cellar\", \"cellar\", \"cellar\", \"central\", \"chalky\", \"char\", \"character\", \"character\", \"characteristic\", \"chard\", \"chardonnay\", \"charm\", \"chenin\", \"cherry\", \"cherry\", \"cherry\", \"cherry\", \"cherry\", \"cherry\", \"chewy\", \"chewy\", \"chewy\", \"chianti\", \"chocolate\", \"chocolate\", \"chocolate\", \"chocolate\", \"chocolaty\", \"chop\", \"chunky\", \"cigar\", \"citrus\", \"citrus\", \"citrusy\", \"clean\", \"clean\", \"clean\", \"cleave\", \"cleave\", \"climate\", \"close\", \"close\", \"close\", \"coastal\", \"cocoa\", \"cocoa\", \"cocoa\", \"coconut\", \"coffee\", \"colon\", \"colon\", \"combination\", \"combine\", \"combine\", \"come\", \"come\", \"come\", \"come\", \"come\", \"come\", \"come\", \"companion\", \"complement\", \"complex\", \"complex\", \"complex\", \"complex\", \"complex\", \"complex\", \"concentrate\", \"concentrate\", \"concentrate\", \"concentrate\", \"considerable\", \"cook\", \"cool\", \"cool\", \"cracker\", \"cranberry\", \"creamy\", \"creamy\", \"creamy\", \"crisp\", \"crisp\", \"crush\", \"crush\", \"currant\", \"currant\", \"currant\", \"currant\", \"dark\", \"dark\", \"dark\", \"dark\", \"dark\", \"decade\", \"decant\", \"decent\", \"deep\", \"deep\", \"delicate\", \"delicate\", \"delicious\", \"delicious\", \"delicious\", \"delicious\", \"deliciously\", \"deliver\", \"deliver\", \"dense\", \"dense\", \"despite\", \"dessert\", \"different\", \"dimensional\", \"distinctive\", \"dominant\", \"dominate\", \"dre\", \"drink\", \"drink\", \"drink\", \"drink\", \"drink\", \"drink\", \"drink\", \"drink\", \"drink\", \"drink\", \"drinkable\", \"dry\", \"dry\", \"dry\", \"dry\", \"dry\", \"dryness\", \"early\", \"earthy\", \"earthy\", \"earthy\", \"earthy\", \"edge\", \"edge\", \"edge\", \"edge\", \"edge\", \"elegant\", \"elegant\", \"elegant\", \"element\", \"element\", \"end\", \"end\", \"enjoyable\", \"enormous\", \"enormously\", \"entice\", \"entry\", \"especially\", \"espresso\", \"essence\", \"estate\", \"estate\", \"eucalyptus\", \"example\", \"excellent\", \"excellent\", \"exotic\", \"exotic\", \"expression\", \"extract\", \"extraction\", \"feature\", \"feel\", \"ferment\", \"final\", \"fine\", \"fine\", \"fine\", \"fine\", \"fine\", \"fine\", \"fine\", \"finely\", \"finish\", \"finish\", \"finish\", \"finish\", \"finish\", \"finish\", \"finish\", \"finish\", \"firm\", \"firm\", \"firm\", \"firm\", \"flat\", \"flavor\", \"flavor\", \"flavor\", \"flavor\", \"flavor\", \"flavor\", \"flavor\", \"flavor\", \"flavorful\", \"flavors\", \"floor\", \"floral\", \"floral\", \"follow\", \"follow\", \"follow\", \"forest\", \"forward\", \"franc\", \"french\", \"french\", \"fresh\", \"fresh\", \"fresh\", \"fresh\", \"freshness\", \"fruit\", \"fruit\", \"fruit\", \"fruit\", \"fruit\", \"fruit\", \"fruit\", \"fruit\", \"fruit\", \"fruit\", \"fruitiness\", \"fruity\", \"fruity\", \"fruity\", \"fully\", \"game\", \"golden\", \"good\", \"good\", \"good\", \"good\", \"good\", \"good\", \"good\", \"good\", \"gorgeous\", \"grape\", \"grape\", \"grape\", \"grape\", \"grape\", \"grape\", \"grapefruit\", \"grapefruit\", \"great\", \"green\", \"green\", \"green\", \"green\", \"green\", \"green\", \"grenache\", \"gris\", \"grow\", \"half\", \"hard\", \"harmonious\", \"harmony\", \"herb\", \"herb\", \"herb\", \"herb\", \"herb\", \"herbaceous\", \"herbal\", \"herbal\", \"herbal\", \"high\", \"hint\", \"hint\", \"hint\", \"hint\", \"hint\", \"hint\", \"hint\", \"hint\", \"hit\", \"honey\", \"honeyed\", \"honeysuckle\", \"hot\", \"huge\", \"immediately\", \"imports\", \"impression\", \"impression\", \"impressive\", \"impressive\", \"impressively\", \"informal\", \"inky\", \"intensely\", \"intensity\", \"italy\", \"jam\", \"jam\", \"jammy\", \"jammy\", \"juicy\", \"juicy\", \"juicy\", \"juicy\", \"juicy\", \"juicy\", \"juicy\", \"kind\", \"kiwi\", \"know\", \"leaf\", \"leafy\", \"leather\", \"leathery\", \"leave\", \"lee\", \"lemon\", \"lemony\", \"let\", \"level\", \"level\", \"lie\", \"light\", \"light\", \"light\", \"like\", \"like\", \"like\", \"likely\", \"lime\", \"liqueur\", \"little\", \"little\", \"load\", \"long\", \"long\", \"long\", \"long\", \"long\", \"long\", \"lot\", \"lots\", \"lovely\", \"lovely\", \"low\", \"low\", \"low\", \"low\", \"luscious\", \"main\", \"malbec\", \"malbec\", \"mango\", \"marlborough\", \"mature\", \"mature\", \"maturity\", \"meat\", \"meaty\", \"medium\", \"medium\", \"medium\", \"medium\", \"medium\", \"medium\", \"meld\", \"melon\", \"menthol\", \"merlot\", \"mild\", \"milk\", \"millon\", \"mineral\", \"mineral\", \"mineral\", \"mineral\", \"minty\", \"miss\", \"modern\", \"modern\", \"modest\", \"mourv\", \"mouth\", \"mouth\", \"mouth\", \"mouth\", \"mouth\", \"mouthfeel\", \"mouthfeel\", \"mouthfeel\", \"nebbiolo\", \"nectarine\", \"need\", \"nero\", \"new\", \"new\", \"new\", \"nice\", \"nice\", \"nice\", \"nice\", \"noir\", \"northern\", \"nose\", \"nose\", \"nose\", \"nose\", \"nose\", \"note\", \"note\", \"note\", \"note\", \"note\", \"note\", \"nutty\", \"oak\", \"oak\", \"oak\", \"oak\", \"oak\", \"oak\", \"offer\", \"offer\", \"offer\", \"offer\", \"offer\", \"offer\", \"offer\", \"offer\", \"old\", \"olive\", \"open\", \"open\", \"open\", \"open\", \"open\", \"open\", \"orange\", \"overall\", \"overripe\", \"pair\", \"palate\", \"palate\", \"palate\", \"palate\", \"pale\", \"particularly\", \"pasta\", \"pasta\", \"peach\", \"pear\", \"pear\", \"peel\", \"pepper\", \"pepper\", \"pepper\", \"pepper\", \"pepper\", \"peppercorn\", \"perfume\", \"perfume\", \"personality\", \"petit\", \"petite\", \"pie\", \"pineapple\", \"pinot\", \"pinot\", \"pinots\", \"pizza\", \"plant\", \"pleasant\", \"plenty\", \"plenty\", \"plum\", \"plum\", \"plum\", \"plum\", \"plum\", \"plum\", \"plump\", \"plus\", \"plus\", \"polish\", \"polish\", \"pomegranate\", \"port\", \"powder\", \"power\", \"power\", \"power\", \"power\", \"powerful\", \"powerful\", \"pretty\", \"pretty\", \"previous\", \"price\", \"price\", \"price\", \"price\", \"produce\", \"produce\", \"produce\", \"profile\", \"proportion\", \"prune\", \"prune\", \"raisiny\", \"raspberry\", \"raspberry\", \"raspberry\", \"raspberry\", \"raspberry\", \"ready\", \"red\", \"red\", \"red\", \"red\", \"red\", \"red\", \"red\", \"refresh\", \"refresh\", \"region\", \"release\", \"residual\", \"resin\", \"restrain\", \"result\", \"result\", \"rhubarb\", \"rich\", \"rich\", \"rich\", \"rich\", \"rich\", \"rich\", \"riesling\", \"ripe\", \"ripe\", \"ripe\", \"ripe\", \"ripe\", \"ripe\", \"ripe\", \"ripeness\", \"riserva\", \"ritif\", \"river\", \"roast\", \"roast\", \"rough\", \"round\", \"round\", \"round\", \"rubber\", \"ruby\", \"rustic\", \"sage\", \"sample\", \"sandalwood\", \"sangiovese\", \"santa\", \"saturate\", \"sauce\", \"sauvignon\", \"screwcap\", \"shading\", \"sharp\", \"sharp\", \"sharpness\", \"shiraz\", \"short\", \"shows\", \"shows\", \"shows\", \"silky\", \"silky\", \"simple\", \"sipper\", \"sirah\", \"size\", \"slate\", \"slight\", \"slightly\", \"slightly\", \"slowly\", \"small\", \"small\", \"smell\", \"smoke\", \"smoke\", \"smoky\", \"smoky\", \"smooth\", \"smooth\", \"smooth\", \"smooth\", \"snappy\", \"soft\", \"soft\", \"soft\", \"soft\", \"soft\", \"soft\", \"soft\", \"soft\", \"solid\", \"solid\", \"sophisticate\", \"sour\", \"sour\", \"sour\", \"source\", \"southern\", \"sparkle\", \"spice\", \"spice\", \"spice\", \"spice\", \"spice\", \"spice\", \"spice\", \"spice\", \"spice\", \"spicy\", \"spicy\", \"spicy\", \"spicy\", \"spin-dry\", \"spin-dry\", \"spin-dry\", \"spin-dry\", \"stalky\", \"stand\", \"standard\", \"steely\", \"stone\", \"stone\", \"strawberry\", \"strawberry\", \"strawberry\", \"streak\", \"structure\", \"structure\", \"structure\", \"structure\", \"structure\", \"sturdy\", \"style\", \"style\", \"style\", \"style\", \"success\", \"successful\", \"sugar\", \"suggest\", \"suggest\", \"suggest\", \"super\", \"sweet\", \"sweet\", \"sweet\", \"sweet\", \"sweet\", \"syrah\", \"syrah\", \"syrah\", \"syrah\", \"syrah\", \"syrah\", \"syrupy\", \"table\", \"tang\", \"tangerine\", \"tannic\", \"tannic\", \"tannic\", \"tannic\", \"tannin\", \"tannin\", \"tannin\", \"tannin\", \"tannin\", \"tannin\", \"tannins\", \"tart\", \"tart\", \"tart\", \"tart\", \"tart\", \"taste\", \"taste\", \"taste\", \"tasty\", \"tempranillo\", \"terroir\", \"texture\", \"texture\", \"texture\", \"texture\", \"texture\", \"texture\", \"texture\", \"texture\", \"thing\", \"tightly\", \"tightly\", \"time\", \"time\", \"toast\", \"toast\", \"toast\", \"toast\", \"toast\", \"toast\", \"toast\", \"toasty\", \"tobacco\", \"tobacco\", \"tobacco\", \"tobacco\", \"tomato\", \"tone\", \"tone\", \"touch\", \"touch\", \"touch\", \"tough\", \"tropical\", \"truffle\", \"turn\", \"turn\", \"turn\", \"tuscany\", \"underlie\", \"unfold\", \"unripe\", \"upfront\", \"valley\", \"valley\", \"valley\", \"value\", \"vanilla\", \"vanilla\", \"vanilla\", \"vanilla\", \"vanilla\", \"vanilla\", \"variety\", \"variety\", \"veer\", \"velvet\", \"verdot\", \"versatile\", \"version\", \"vine\", \"vineyard\", \"vineyard\", \"vintage\", \"vintage\", \"vintage\", \"violet\", \"vivid\", \"walla\", \"want\", \"washington\", \"weight\", \"wet\", \"white\", \"white\", \"white\", \"wide\", \"wild\", \"wild\", \"wine\", \"wine\", \"wine\", \"wine\", \"wine\", \"wine\", \"wine\", \"wine\", \"wine\", \"wine\", \"winery\", \"winery\", \"winery\", \"wood\", \"wood\", \"world\", \"wrap\", \"year\", \"year\", \"year\", \"young\", \"young\", \"zest\", \"zin\", \"zinfandel\"]}, \"mdsDat\": {\"y\": [111.21099090576172, -123.36445617675781, 42.61066436767578, 148.43580627441406, -56.59609603881836, -22.273387908935547, 177.97686767578125, 76.88668060302734, 12.011001586914062, -93.81080627441406], \"cluster\": [1, 1, 1, 1, 1, 1, 1, 1, 1, 1], \"Freq\": [16.40028522736068, 12.828613140526096, 12.707299378170699, 12.538423471550441, 9.720775379301617, 9.678996093716979, 8.59151391213079, 8.139297613371482, 4.898160685441271, 4.496635098429943], \"topics\": [1, 2, 3, 4, 5, 6, 7, 8, 9, 10], \"x\": [-191.5572052001953, -124.9525375366211, 13.210270881652832, -75.06812286376953, 110.20124816894531, -215.2981414794922, 43.602378845214844, 133.9504852294922, -94.56275939941406, -6.2878851890563965]}, \"R\": 30, \"lambda.step\": 0.01, \"tinfo\": {\"Category\": [\"Default\", \"Default\", \"Default\", \"Default\", \"Default\", \"Default\", \"Default\", \"Default\", \"Default\", \"Default\", \"Default\", \"Default\", \"Default\", \"Default\", \"Default\", \"Default\", \"Default\", \"Default\", \"Default\", \"Default\", \"Default\", \"Default\", \"Default\", \"Default\", \"Default\", \"Default\", \"Default\", \"Default\", \"Default\", \"Default\", \"Topic1\", \"Topic1\", \"Topic1\", \"Topic1\", \"Topic1\", \"Topic1\", \"Topic1\", \"Topic1\", \"Topic1\", \"Topic1\", \"Topic1\", \"Topic1\", \"Topic1\", \"Topic1\", \"Topic1\", \"Topic1\", \"Topic1\", \"Topic1\", \"Topic1\", \"Topic1\", \"Topic1\", \"Topic1\", \"Topic1\", \"Topic1\", \"Topic1\", \"Topic1\", \"Topic1\", \"Topic1\", \"Topic1\", \"Topic1\", \"Topic1\", \"Topic1\", \"Topic1\", \"Topic1\", \"Topic1\", \"Topic1\", \"Topic1\", \"Topic1\", \"Topic1\", \"Topic1\", \"Topic1\", \"Topic1\", \"Topic1\", \"Topic1\", \"Topic1\", \"Topic1\", \"Topic1\", \"Topic1\", \"Topic1\", \"Topic1\", \"Topic1\", \"Topic1\", \"Topic1\", \"Topic1\", \"Topic1\", \"Topic1\", \"Topic1\", \"Topic2\", \"Topic2\", \"Topic2\", \"Topic2\", \"Topic2\", \"Topic2\", \"Topic2\", \"Topic2\", \"Topic2\", \"Topic2\", \"Topic2\", \"Topic2\", \"Topic2\", \"Topic2\", \"Topic2\", \"Topic2\", \"Topic2\", \"Topic2\", \"Topic2\", \"Topic2\", \"Topic2\", \"Topic2\", \"Topic2\", \"Topic2\", \"Topic2\", \"Topic2\", \"Topic2\", \"Topic2\", \"Topic2\", \"Topic2\", \"Topic2\", \"Topic2\", \"Topic2\", \"Topic2\", \"Topic2\", \"Topic2\", \"Topic2\", \"Topic2\", \"Topic2\", \"Topic2\", \"Topic2\", \"Topic2\", \"Topic2\", \"Topic2\", \"Topic2\", \"Topic2\", \"Topic2\", \"Topic2\", \"Topic2\", \"Topic2\", \"Topic2\", \"Topic2\", \"Topic2\", \"Topic2\", \"Topic2\", \"Topic2\", \"Topic2\", \"Topic2\", \"Topic3\", \"Topic3\", \"Topic3\", \"Topic3\", \"Topic3\", \"Topic3\", \"Topic3\", \"Topic3\", \"Topic3\", \"Topic3\", \"Topic3\", \"Topic3\", \"Topic3\", \"Topic3\", \"Topic3\", \"Topic3\", \"Topic3\", \"Topic3\", \"Topic3\", \"Topic3\", \"Topic3\", \"Topic3\", \"Topic3\", \"Topic3\", \"Topic3\", \"Topic3\", \"Topic3\", \"Topic3\", \"Topic3\", \"Topic3\", \"Topic3\", \"Topic3\", \"Topic3\", \"Topic3\", \"Topic3\", \"Topic3\", \"Topic3\", \"Topic3\", \"Topic3\", \"Topic3\", \"Topic3\", \"Topic3\", \"Topic3\", \"Topic3\", \"Topic3\", \"Topic3\", \"Topic3\", \"Topic3\", \"Topic3\", \"Topic3\", \"Topic3\", \"Topic3\", \"Topic3\", \"Topic3\", \"Topic3\", \"Topic3\", \"Topic3\", \"Topic3\", \"Topic3\", \"Topic3\", \"Topic3\", \"Topic3\", \"Topic4\", \"Topic4\", \"Topic4\", \"Topic4\", \"Topic4\", \"Topic4\", \"Topic4\", \"Topic4\", \"Topic4\", \"Topic4\", \"Topic4\", \"Topic4\", \"Topic4\", \"Topic4\", \"Topic4\", \"Topic4\", \"Topic4\", \"Topic4\", \"Topic4\", \"Topic4\", \"Topic4\", \"Topic4\", \"Topic4\", \"Topic4\", \"Topic4\", \"Topic4\", \"Topic4\", \"Topic4\", \"Topic4\", \"Topic4\", \"Topic4\", \"Topic4\", \"Topic4\", \"Topic4\", \"Topic4\", \"Topic4\", \"Topic4\", \"Topic4\", \"Topic4\", \"Topic4\", \"Topic4\", \"Topic4\", \"Topic4\", \"Topic4\", \"Topic4\", \"Topic4\", \"Topic4\", \"Topic4\", \"Topic4\", \"Topic4\", \"Topic4\", \"Topic4\", \"Topic4\", \"Topic4\", \"Topic4\", \"Topic4\", \"Topic4\", \"Topic4\", \"Topic4\", \"Topic4\", \"Topic4\", \"Topic5\", \"Topic5\", \"Topic5\", \"Topic5\", \"Topic5\", \"Topic5\", \"Topic5\", \"Topic5\", \"Topic5\", \"Topic5\", \"Topic5\", \"Topic5\", \"Topic5\", \"Topic5\", \"Topic5\", \"Topic5\", \"Topic5\", \"Topic5\", \"Topic5\", \"Topic5\", \"Topic5\", \"Topic5\", \"Topic5\", \"Topic5\", \"Topic5\", \"Topic5\", \"Topic5\", \"Topic5\", \"Topic5\", \"Topic5\", \"Topic5\", \"Topic5\", \"Topic5\", \"Topic5\", \"Topic5\", \"Topic5\", \"Topic5\", \"Topic5\", \"Topic5\", \"Topic5\", \"Topic5\", \"Topic5\", \"Topic5\", \"Topic5\", \"Topic5\", \"Topic5\", \"Topic5\", \"Topic5\", \"Topic5\", \"Topic5\", \"Topic5\", \"Topic5\", \"Topic5\", \"Topic5\", \"Topic5\", \"Topic5\", \"Topic5\", \"Topic5\", \"Topic5\", \"Topic5\", \"Topic5\", \"Topic5\", \"Topic5\", \"Topic5\", \"Topic6\", \"Topic6\", \"Topic6\", \"Topic6\", \"Topic6\", \"Topic6\", \"Topic6\", \"Topic6\", \"Topic6\", \"Topic6\", \"Topic6\", \"Topic6\", \"Topic6\", \"Topic6\", \"Topic6\", \"Topic6\", \"Topic6\", \"Topic6\", \"Topic6\", \"Topic6\", \"Topic6\", \"Topic6\", \"Topic6\", \"Topic6\", \"Topic6\", \"Topic6\", \"Topic6\", \"Topic6\", \"Topic6\", \"Topic6\", \"Topic6\", \"Topic6\", \"Topic6\", \"Topic6\", \"Topic6\", \"Topic6\", \"Topic6\", \"Topic6\", \"Topic6\", \"Topic6\", \"Topic6\", \"Topic6\", \"Topic6\", \"Topic6\", \"Topic6\", \"Topic6\", \"Topic6\", \"Topic6\", \"Topic6\", \"Topic6\", \"Topic6\", \"Topic6\", \"Topic6\", \"Topic6\", \"Topic6\", \"Topic6\", \"Topic6\", \"Topic6\", \"Topic6\", \"Topic7\", \"Topic7\", \"Topic7\", \"Topic7\", \"Topic7\", \"Topic7\", \"Topic7\", \"Topic7\", \"Topic7\", \"Topic7\", \"Topic7\", \"Topic7\", \"Topic7\", \"Topic7\", \"Topic7\", \"Topic7\", \"Topic7\", \"Topic7\", \"Topic7\", \"Topic7\", \"Topic7\", \"Topic7\", \"Topic7\", \"Topic7\", \"Topic7\", \"Topic7\", \"Topic7\", \"Topic7\", \"Topic7\", \"Topic7\", \"Topic7\", \"Topic7\", \"Topic7\", \"Topic7\", \"Topic7\", \"Topic7\", \"Topic7\", \"Topic7\", \"Topic7\", \"Topic7\", \"Topic7\", \"Topic7\", \"Topic7\", \"Topic7\", \"Topic7\", \"Topic7\", \"Topic7\", \"Topic7\", \"Topic7\", \"Topic7\", \"Topic7\", \"Topic7\", \"Topic7\", \"Topic7\", \"Topic7\", \"Topic7\", \"Topic7\", \"Topic7\", \"Topic7\", \"Topic7\", \"Topic8\", \"Topic8\", \"Topic8\", \"Topic8\", \"Topic8\", \"Topic8\", \"Topic8\", \"Topic8\", \"Topic8\", \"Topic8\", \"Topic8\", \"Topic8\", \"Topic8\", \"Topic8\", \"Topic8\", \"Topic8\", \"Topic8\", \"Topic8\", \"Topic8\", \"Topic8\", \"Topic8\", \"Topic8\", \"Topic8\", \"Topic8\", \"Topic8\", \"Topic8\", \"Topic8\", \"Topic8\", \"Topic8\", \"Topic8\", \"Topic8\", \"Topic8\", \"Topic8\", \"Topic8\", \"Topic8\", \"Topic8\", \"Topic8\", \"Topic8\", \"Topic8\", \"Topic8\", \"Topic8\", \"Topic8\", \"Topic8\", \"Topic8\", \"Topic8\", \"Topic8\", \"Topic8\", \"Topic8\", \"Topic8\", \"Topic8\", \"Topic8\", \"Topic8\", \"Topic8\", \"Topic8\", \"Topic8\", \"Topic8\", \"Topic8\", \"Topic8\", \"Topic8\", \"Topic8\", \"Topic8\", \"Topic8\", \"Topic8\", \"Topic8\", \"Topic8\", \"Topic9\", \"Topic9\", \"Topic9\", \"Topic9\", \"Topic9\", \"Topic9\", \"Topic9\", \"Topic9\", \"Topic9\", \"Topic9\", \"Topic9\", \"Topic9\", \"Topic9\", \"Topic9\", \"Topic9\", \"Topic9\", \"Topic9\", \"Topic9\", \"Topic9\", \"Topic9\", \"Topic9\", \"Topic9\", \"Topic9\", \"Topic9\", \"Topic9\", \"Topic9\", \"Topic9\", \"Topic9\", \"Topic9\", \"Topic9\", \"Topic9\", \"Topic9\", \"Topic9\", \"Topic9\", \"Topic9\", \"Topic9\", \"Topic9\", \"Topic9\", \"Topic9\", \"Topic9\", \"Topic9\", \"Topic9\", \"Topic9\", \"Topic10\", \"Topic10\", \"Topic10\", \"Topic10\", \"Topic10\", \"Topic10\", \"Topic10\", \"Topic10\", \"Topic10\", \"Topic10\", \"Topic10\", \"Topic10\", \"Topic10\", \"Topic10\", \"Topic10\", \"Topic10\", \"Topic10\", \"Topic10\", \"Topic10\", \"Topic10\", \"Topic10\", \"Topic10\", \"Topic10\", \"Topic10\", \"Topic10\", \"Topic10\", \"Topic10\", \"Topic10\", \"Topic10\", \"Topic10\", \"Topic10\", \"Topic10\", \"Topic10\", \"Topic10\", \"Topic10\", \"Topic10\", \"Topic10\", \"Topic10\", \"Topic10\", \"Topic10\", \"Topic10\", \"Topic10\", \"Topic10\", \"Topic10\", \"Topic10\", \"Topic10\"], \"Term\": [\"blend\", \"cabernet\", \"cherry\", \"aroma\", \"flavor\", \"palate\", \"sauvignon\", \"blackberry\", \"fruit\", \"wine\", \"berry\", \"pinot\", \"age\", \"merlot\", \"acidity\", \"spin-dry\", \"tannin\", \"black\", \"little\", \"oak\", \"apple\", \"year\", \"finish\", \"chocolate\", \"simple\", \"note\", \"citrus\", \"peach\", \"dark\", \"spice\", \"peach\", \"pineapple\", \"lemon\", \"chardonnay\", \"lime\", \"melon\", \"honey\", \"pair\", \"orange\", \"tropical\", \"blanc\", \"riesling\", \"zest\", \"citrusy\", \"tangerine\", \"chard\", \"honeysuckle\", \"mango\", \"zinfandel\", \"nectarine\", \"honeyed\", \"dessert\", \"banana\", \"slight\", \"peel\", \"blossom\", \"especially\", \"ferment\", \"decent\", \"golden\", \"apple\", \"stone\", \"citrus\", \"pear\", \"apricot\", \"butter\", \"grapefruit\", \"white\", \"crisp\", \"clean\", \"floral\", \"refresh\", \"green\", \"creamy\", \"acidity\", \"flavor\", \"fresh\", \"mineral\", \"finish\", \"note\", \"wine\", \"sweet\", \"vanilla\", \"aroma\", \"palate\", \"fruit\", \"spin-dry\", \"feel\", \"bouquet\", \"sugar\", \"hot\", \"smell\", \"short\", \"value\", \"plump\", \"flavors\", \"burn\", \"chunky\", \"tomato\", \"shiraz\", \"mild\", \"milk\", \"example\", \"residual\", \"profile\", \"brown\", \"air\", \"italy\", \"flat\", \"syrupy\", \"snappy\", \"lemony\", \"rubber\", \"leathery\", \"raisiny\", \"standard\", \"gorgeous\", \"herbal\", \"slightly\", \"palate\", \"nose\", \"finish\", \"aroma\", \"berry\", \"bite\", \"bake\", \"solid\", \"taste\", \"like\", \"plum\", \"turn\", \"flavor\", \"mouth\", \"note\", \"fruit\", \"mouthfeel\", \"touch\", \"medium\", \"earthy\", \"good\", \"sweet\", \"green\", \"hint\", \"red\", \"long\", \"cab\", \"hard\", \"toasty\", \"forward\", \"pleasant\", \"feature\", \"wrap\", \"tough\", \"ripeness\", \"bacon\", \"meaty\", \"char\", \"butterscotch\", \"thing\", \"hit\", \"rough\", \"luscious\", \"fully\", \"approachable\", \"chocolaty\", \"chalky\", \"early\", \"tempranillo\", \"ruby\", \"different\", \"benefit\", \"lots\", \"briary\", \"lee\", \"let\", \"smoky\", \"silky\", \"cellar\", \"currant\", \"shows\", \"tannic\", \"oak\", \"spin-dry\", \"blackberry\", \"cherry\", \"flavor\", \"drink\", \"rich\", \"tannin\", \"good\", \"bone\", \"year\", \"cassis\", \"bite\", \"ripe\", \"black\", \"raspberry\", \"wine\", \"big\", \"spicy\", \"fine\", \"soft\", \"pepper\", \"chocolate\", \"red\", \"finish\", \"balance\", \"great\", \"dominate\", \"attractive\", \"ready\", \"sample\", \"aftertaste\", \"burst\", \"final\", \"region\", \"finely\", \"kiwi\", \"steely\", \"intensely\", \"deliciously\", \"port\", \"likely\", \"ritif\", \"fruitiness\", \"shading\", \"herbaceous\", \"table\", \"tang\", \"veer\", \"harmonious\", \"chenin\", \"complement\", \"impressively\", \"main\", \"millon\", \"maturity\", \"character\", \"wood\", \"perfume\", \"acidity\", \"end\", \"wine\", \"texture\", \"ripe\", \"fresh\", \"fruit\", \"round\", \"fruity\", \"delicious\", \"juicy\", \"edge\", \"rich\", \"age\", \"structure\", \"soft\", \"drink\", \"balance\", \"good\", \"flavor\", \"touch\", \"red\", \"tannin\", \"light\", \"crisp\", \"smooth\", \"spin-dry\", \"spice\", \"coffee\", \"acidic\", \"leave\", \"extract\", \"espresso\", \"tasty\", \"astringent\", \"sauce\", \"minty\", \"stand\", \"coconut\", \"super\", \"overripe\", \"liqueur\", \"buy\", \"sturdy\", \"saturate\", \"upfront\", \"inky\", \"powder\", \"aggressive\", \"dimensional\", \"resin\", \"combination\", \"cake\", \"vivid\", \"balanced\", \"barnyard\", \"sharpness\", \"versatile\", \"prune\", \"jammy\", \"chocolate\", \"dark\", \"modern\", \"blackberry\", \"mouthfeel\", \"smoke\", \"black\", \"tone\", \"deep\", \"jam\", \"cocoa\", \"vanilla\", \"roast\", \"plum\", \"cherry\", \"sweet\", \"oak\", \"soft\", \"spice\", \"toast\", \"ripe\", \"tannin\", \"note\", \"fruit\", \"finish\", \"wine\", \"flavor\", \"rich\", \"cassis\", \"spicy\", \"drink\", \"aroma\", \"meat\", \"lot\", \"overall\", \"expression\", \"rustic\", \"olive\", \"candy\", \"cranberry\", \"sandalwood\", \"leaf\", \"want\", \"decant\", \"climate\", \"personality\", \"kind\", \"source\", \"pomegranate\", \"rhubarb\", \"huge\", \"washington\", \"immediately\", \"dominant\", \"distinctive\", \"beer\", \"half\", \"entry\", \"walla\", \"essence\", \"pinots\", \"slate\", \"colon\", \"impression\", \"sharp\", \"little\", \"pretty\", \"sour\", \"excellent\", \"lovely\", \"cool\", \"bottle\", \"tart\", \"elegant\", \"raspberry\", \"acid\", \"like\", \"cherry\", \"light\", \"vineyard\", \"strawberry\", \"wine\", \"flavor\", \"fruit\", \"sweet\", \"red\", \"good\", \"herb\", \"pinot\", \"spice\", \"nice\", \"need\", \"freshness\", \"old\", \"pie\", \"load\", \"streak\", \"vine\", \"grow\", \"sophisticate\", \"world\", \"underlie\", \"decade\", \"southern\", \"harmony\", \"terroir\", \"allow\", \"miss\", \"enormously\", \"wide\", \"slowly\", \"proportion\", \"velvet\", \"extraction\", \"cigar\", \"plant\", \"tannins\", \"enormous\", \"peppercorn\", \"lie\", \"box\", \"element\", \"french\", \"barrel\", \"powerful\", \"time\", \"estate\", \"new\", \"impressive\", \"plenty\", \"young\", \"plus\", \"age\", \"power\", \"dense\", \"vineyard\", \"firm\", \"year\", \"vintage\", \"suggest\", \"fruit\", \"wine\", \"tannin\", \"structure\", \"big\", \"dark\", \"come\", \"black\", \"solid\", \"long\", \"concentrate\", \"leather\", \"sangiovese\", \"violet\", \"forest\", \"imports\", \"leafy\", \"brunello\", \"menthol\", \"blue\", \"chop\", \"enjoyable\", \"sage\", \"barolo\", \"cook\", \"game\", \"stalky\", \"floor\", \"riserva\", \"nero\", \"northern\", \"unfold\", \"chianti\", \"pizza\", \"assertive\", \"informal\", \"tuscany\", \"eucalyptus\", \"truffle\", \"unripe\", \"nebbiolo\", \"wild\", \"close\", \"tightly\", \"pasta\", \"tobacco\", \"deliver\", \"exotic\", \"alongside\", \"blueberry\", \"polish\", \"mature\", \"bright\", \"berry\", \"crush\", \"cleave\", \"aroma\", \"spice\", \"offer\", \"open\", \"dry\", \"pepper\", \"cherry\", \"red\", \"note\", \"smooth\", \"palate\", \"chewy\", \"black\", \"follow\", \"mouth\", \"tannin\", \"wine\", \"nose\", \"herb\", \"fruit\", \"high\", \"alcohol\", \"noir\", \"caramel\", \"appeal\", \"despite\", \"zin\", \"grenache\", \"california\", \"asian\", \"release\", \"petite\", \"screwcap\", \"sirah\", \"flavorful\", \"characteristic\", \"nutty\", \"charm\", \"dre\", \"mourv\", \"particularly\", \"gris\", \"pale\", \"restrain\", \"central\", \"santa\", \"sipper\", \"river\", \"coastal\", \"botrytis\", \"pinot\", \"valley\", \"style\", \"variety\", \"appellation\", \"winery\", \"low\", \"level\", \"delicate\", \"wine\", \"syrah\", \"jam\", \"complex\", \"cabernet\", \"sauvignon\", \"merlot\", \"simple\", \"weight\", \"intensity\", \"franc\", \"bordeaux\", \"case\", \"modest\", \"dryness\", \"wet\", \"drinkable\", \"know\", \"petit\", \"verdot\", \"sparkle\", \"version\", \"considerable\", \"size\", \"cracker\", \"addition\", \"entice\", \"meld\", \"brand\", \"success\", \"marlborough\", \"previous\", \"companion\", \"successful\", \"blend\", \"result\", \"variety\", \"combine\", \"syrah\", \"produce\", \"malbec\", \"vintage\", \"little\", \"small\", \"grape\", \"austere\", \"plenty\", \"end\", \"price\", \"wine\"], \"loglift\": [30.0, 29.0, 28.0, 27.0, 26.0, 25.0, 24.0, 23.0, 22.0, 21.0, 20.0, 19.0, 18.0, 17.0, 16.0, 15.0, 14.0, 13.0, 12.0, 11.0, 10.0, 9.0, 8.0, 7.0, 6.0, 5.0, 4.0, 3.0, 2.0, 1.0, 1.8078, 1.8077, 1.8077, 1.8077, 1.8077, 1.8077, 1.8077, 1.8077, 1.8077, 1.8077, 1.8076, 1.8075, 1.8074, 1.8074, 1.8074, 1.8073, 1.8073, 1.8073, 1.8072, 1.8072, 1.8072, 1.8072, 1.8072, 1.8072, 1.8072, 1.8072, 1.8071, 1.8071, 1.8071, 1.8071, 1.7678, 1.7834, 1.7585, 1.7485, 1.7529, 1.7578, 1.7415, 1.5778, 1.4624, 1.5001, 1.6069, 1.6743, 1.0992, 1.2554, 0.6705, 0.2502, 0.8538, 1.1919, 0.4218, 0.5703, -0.2429, 0.5632, 0.7963, 0.1839, 0.3342, -0.3555, 0.4372, 2.0534, 2.0532, 2.0532, 2.0531, 2.0531, 2.053, 2.053, 2.053, 2.053, 2.053, 2.0529, 2.0529, 2.0529, 2.0528, 2.0527, 2.0527, 2.0527, 2.0527, 2.0527, 2.0526, 2.0526, 2.0526, 2.0526, 2.0526, 2.0526, 2.0526, 2.0526, 2.0525, 2.0525, 2.0525, 1.8684, 1.7279, 1.4473, 1.5249, 1.2265, 1.2148, 1.2544, 1.4354, 1.6345, 1.501, 1.3915, 1.2003, 1.1216, 1.7681, 0.2936, 1.0783, 0.7762, 0.2423, 1.233, 0.9978, 1.2671, 1.3777, 0.2418, 0.2598, 0.7052, 0.7662, 0.1332, 0.751, 2.0628, 2.0628, 2.0627, 2.0627, 2.0626, 2.0625, 2.0625, 2.0625, 2.0625, 2.0624, 2.0624, 2.0624, 2.0623, 2.0623, 2.0622, 2.0622, 2.0622, 2.0622, 2.0621, 2.0621, 2.062, 2.0619, 2.0619, 2.0619, 2.0618, 2.0618, 2.0618, 2.0618, 2.0618, 2.0617, 1.8936, 1.8755, 1.9246, 1.7226, 1.8754, 1.7301, 1.5295, 1.4757, 1.4635, 1.0996, 0.8491, 1.1165, 1.0279, 0.8183, 0.7971, 1.8736, 0.8874, 1.2833, 1.0502, 0.5274, 0.5655, 0.9525, -0.3064, 1.2075, 1.081, 1.0898, 0.5752, 1.0074, 0.7866, 0.3369, -0.2941, 0.4609, 2.0763, 2.0761, 2.0761, 2.0761, 2.076, 2.0759, 2.0758, 2.0757, 2.0757, 2.0757, 2.0755, 2.0755, 2.0754, 2.0753, 2.0753, 2.0753, 2.0753, 2.0753, 2.0751, 2.0751, 2.0751, 2.075, 2.075, 2.0748, 2.0746, 2.0744, 2.0744, 2.0743, 2.0742, 2.0741, 1.9768, 1.8743, 1.9411, 1.4013, 1.7355, 0.9819, 1.4086, 1.208, 1.2502, 0.8409, 1.4933, 1.4041, 1.4879, 1.4446, 1.51, 1.038, 1.1453, 1.1377, 0.9715, 0.8154, 0.9718, 0.6401, 0.1697, 1.0753, 0.6914, 0.4332, 0.999, 0.8457, 1.0832, 0.4049, 0.1506, 2.3307, 2.3305, 2.3305, 2.3304, 2.3304, 2.3303, 2.3303, 2.3302, 2.3301, 2.3301, 2.3301, 2.33, 2.33, 2.3298, 2.3297, 2.3297, 2.3297, 2.3296, 2.3296, 2.3296, 2.3295, 2.3295, 2.3295, 2.3294, 2.3293, 2.3292, 2.3289, 2.3289, 2.3289, 2.3288, 2.1819, 2.1006, 1.9593, 1.9018, 2.1402, 1.5123, 1.7111, 1.8208, 1.3814, 1.839, 1.8602, 1.9376, 1.9371, 1.3178, 1.7956, 1.2027, 0.8125, 0.9837, 1.0239, 1.043, 0.8124, 1.2609, 0.735, 0.5604, 0.7331, 0.1141, 0.3534, -0.1735, -0.1958, 0.5512, 1.2828, 0.9617, -0.0441, -0.3448, 2.335, 2.335, 2.3349, 2.3348, 2.3348, 2.3348, 2.3348, 2.3347, 2.3346, 2.3345, 2.3345, 2.3345, 2.3344, 2.3344, 2.3344, 2.3344, 2.3344, 2.3343, 2.3343, 2.3342, 2.3341, 2.3341, 2.334, 2.334, 2.3338, 2.3337, 2.3337, 2.3337, 2.3337, 2.3336, 2.2109, 2.2881, 2.1962, 2.0579, 2.1076, 2.142, 2.1356, 2.061, 2.0394, 1.8231, 1.7253, 1.6777, 1.4597, 1.5935, 1.2901, 0.701, 1.2555, 1.3893, 1.6787, -0.0232, -0.0597, -0.244, 0.4559, 0.4491, 0.1028, 1.0579, 0.9342, -0.0286, 1.1931, 2.4542, 2.4541, 2.4541, 2.4541, 2.454, 2.4539, 2.4539, 2.4538, 2.4535, 2.4534, 2.4534, 2.4533, 2.4532, 2.4529, 2.4529, 2.4529, 2.4528, 2.4527, 2.4526, 2.4526, 2.4526, 2.4525, 2.4525, 2.4524, 2.4524, 2.4523, 2.4523, 2.4522, 2.4522, 2.4522, 2.4399, 2.4437, 2.3878, 2.2897, 2.2721, 2.3001, 2.1747, 2.2784, 2.1823, 2.1606, 2.3725, 1.9532, 2.1123, 2.0253, 1.9627, 1.8992, 1.7694, 1.7854, 2.0156, 0.7948, 0.6303, 0.9345, 1.3457, 1.5829, 1.2402, 1.473, 0.575, 1.5972, 1.1307, 1.7148, 2.5083, 2.5081, 2.5081, 2.5079, 2.5078, 2.5077, 2.5076, 2.5076, 2.5075, 2.5074, 2.5074, 2.5074, 2.5073, 2.5073, 2.5072, 2.5072, 2.5072, 2.5072, 2.5071, 2.5071, 2.507, 2.507, 2.5069, 2.5068, 2.5068, 2.5068, 2.5066, 2.5066, 2.5066, 2.5066, 2.3212, 2.3019, 2.4503, 2.3995, 2.1911, 2.2397, 2.2559, 2.3556, 2.1215, 2.1173, 2.1083, 1.7616, 1.5027, 2.2178, 2.1571, 1.3103, 1.3691, 1.5837, 1.7172, 1.5721, 1.5372, 0.9099, 1.1515, 1.0269, 1.3821, 0.8201, 1.9665, 0.8239, 1.732, 1.0942, 0.4647, -0.3235, 0.7683, 1.1989, -0.5552, 3.0162, 3.0161, 3.0161, 3.016, 3.016, 3.0159, 3.0159, 3.0158, 3.0158, 3.0156, 3.0156, 3.0155, 3.0155, 3.0155, 3.0155, 3.0154, 3.0154, 3.0153, 3.0152, 3.0152, 3.0151, 3.0151, 3.0151, 3.0149, 3.0149, 3.0149, 3.0148, 3.0148, 3.0148, 3.0148, 2.7334, 2.7984, 1.8833, 2.2202, 2.7188, 2.0525, 2.4071, 2.4397, 1.9682, -0.5536, 1.1701, 1.892, 0.8997, 3.1018, 3.1017, 3.1017, 3.1017, 3.1017, 3.1016, 3.1015, 3.1015, 3.1014, 3.1013, 3.1012, 3.1012, 3.1012, 3.1012, 3.1012, 3.1011, 3.101, 3.1007, 3.1005, 3.1005, 3.1002, 3.1002, 3.1001, 3.1, 3.0999, 3.0998, 3.0997, 3.0997, 3.0997, 3.0995, 2.8367, 2.8887, 2.5015, 2.7165, 2.0698, 2.4332, 2.4394, 1.9628, 1.6835, 2.6419, 1.6941, 2.7251, 1.6666, 1.8591, 1.5751, -1.3063], \"Freq\": [15259.0, 12057.0, 40357.0, 34247.0, 84280.0, 27599.0, 8920.0, 18819.0, 73370.0, 96045.0, 21770.0, 9674.0, 13738.0, 7525.0, 30625.0, 22475.0, 32961.0, 25059.0, 11392.0, 20800.0, 13463.0, 15929.0, 41569.0, 12562.0, 6472.0, 24017.0, 12404.0, 10707.0, 12581.0, 28092.0, 10706.12083561963, 7177.83703254103, 6974.7266483678495, 6573.414227161479, 6480.852751772788, 5261.800771508356, 5156.4318248961945, 5086.264681577183, 5068.4187960623385, 4339.865371300656, 3882.4589994622243, 2432.8234833017186, 1980.4758506244789, 1904.8727284659126, 1880.951999460999, 1734.128959104535, 1597.3450002178156, 1470.9303642886714, 1458.5153456797168, 1452.5197785378098, 1439.0575071718804, 1406.7138795390774, 1395.3502789779861, 1390.8335051333736, 1362.2748546141877, 1343.3769246965583, 1218.6990262902298, 1177.1545180211765, 1173.8363975318407, 1141.8615414691908, 12934.742734155468, 3905.299709020555, 11807.018529918992, 7649.243503974171, 4640.426258852184, 3098.2227455626253, 3927.023065962568, 9580.60637003005, 10095.949754873209, 6650.857595789759, 3203.7953381042794, 2300.665932237694, 5775.475129470956, 4198.861990055757, 9820.63200168598, 17752.14136073956, 6894.672031273725, 4336.776104353955, 10394.92752623494, 6967.338006161974, 12354.899109278773, 6787.592544616646, 5163.452216393408, 6750.710383675871, 6322.179060636443, 8433.189579059434, 5707.374476827523, 7336.692356053813, 3426.929477065875, 2919.006744980175, 2484.071277380612, 2130.6417750555324, 2002.2129314885597, 1909.3159649564207, 1821.5854030427317, 1718.6193340695322, 1676.9267271397032, 1611.952593300061, 1549.964876543597, 1507.1686954597428, 1382.768398381854, 1218.4586853077287, 1206.2420567971906, 1182.1444746303532, 1116.0039183560457, 1102.3946307336794, 1076.145135862732, 1064.2618930742747, 1036.0090394536967, 1018.594661979873, 1014.9854233651556, 1009.5676025973602, 1004.6936189565417, 994.1205673321741, 962.4722336659528, 943.1837444192938, 938.268003397217, 5506.802326018757, 4923.909699291892, 15053.672725797485, 9545.821497956955, 18181.073505472807, 14804.61373191116, 9791.437324765542, 5737.47480821628, 2530.991770600127, 3212.1144943055187, 3918.2094038434743, 5248.426056296856, 5983.773273321891, 1841.935795359881, 14501.642062438223, 4856.379471509517, 6695.907973307712, 11992.5100904473, 3412.3740542287114, 3647.698788859033, 2808.5229824475796, 2592.153717213109, 5311.388559239466, 3920.1507847392604, 3046.3234798482085, 2831.627447293034, 3058.4670554881372, 2646.431533488429, 4311.803780131037, 4080.138815940358, 3611.100179809719, 3168.1828707462755, 2513.4730001732073, 1926.902767187803, 1921.3779997190977, 1700.841107495685, 1695.7719523941134, 1648.9203210797066, 1524.7650869198712, 1453.696474076977, 1255.9327468571676, 1238.0946871044487, 1213.6772360572395, 1161.633578439803, 1110.9784404791694, 1091.6175633196792, 1075.2650606125796, 1037.1664927920535, 880.3862905040523, 837.7450213468853, 832.8116058837866, 817.1096565034901, 794.8551812094731, 793.8627189373087, 782.7580959192937, 756.6598189006861, 741.021142194913, 712.9955250729803, 5212.587324683538, 3492.2307061584393, 2151.8792132225763, 7135.7887494611205, 2684.11754424174, 5716.407318494246, 12201.442201452026, 12492.507524312221, 10333.695902226189, 15399.705799656802, 25035.02544071199, 9855.712505695432, 7740.982224576146, 9493.873470992718, 9167.939725852302, 1535.99398310621, 4916.469718100193, 3028.717144508149, 3866.539105527109, 5801.730983631993, 5605.329473369102, 3957.116509076417, 8983.381207306089, 3073.652465703961, 3334.78529934693, 3263.795520475673, 4131.416442598816, 3331.987150235439, 3505.5231470277167, 3714.0183584202805, 3936.5569176254803, 3375.373674787625, 8044.408668258224, 3523.333342831641, 3464.298747159075, 3194.0014780947395, 2264.358939094969, 1951.6659195014965, 1582.9512380186486, 1400.6964874991797, 1322.376590862907, 1292.2934298717473, 1089.2716104885287, 1055.9411176691424, 924.7344414303627, 869.1029994667134, 853.3419148427888, 837.801802996027, 812.10115859886, 808.9543151222975, 735.0946137894599, 691.4222197147734, 690.9755654261364, 668.7068823672771, 654.8076456202534, 564.400820907726, 501.5409451140424, 457.3074816129107, 454.12236904447855, 439.6630862365653, 413.80637113330187, 402.81491107171234, 8360.92845629668, 6446.7891633462295, 2127.025049458863, 15591.597582354165, 2482.596617708929, 32147.521568149445, 6353.06522060013, 11306.118693153068, 7835.395956825141, 21328.424946776813, 3570.4778957400467, 4443.221985879243, 3426.241643777094, 3594.5685918467993, 2943.6080011950953, 7715.721483498516, 5414.4849358740385, 4879.8634102917, 6058.867142353221, 7196.173431663457, 5551.048144565071, 7731.43111238762, 12522.10679498826, 3852.7806815349827, 5223.763261687372, 6373.863966393568, 4031.0298386485865, 4165.910017861625, 3473.7397295583028, 4224.734633218058, 4094.7241846379166, 5816.201062900157, 2543.347056613118, 2513.432774664217, 1799.210958640746, 1709.4452058345416, 1435.5290635866384, 1428.2475304030575, 1249.4092755940655, 1194.3947213736176, 1136.8629123422227, 1129.670856310638, 1038.3958506597903, 956.0254461858931, 825.6695946497236, 773.614391185312, 769.0319374290057, 738.8849683147931, 718.6555598488408, 714.6279295406853, 690.6355275287193, 666.0623601879656, 664.9390302394561, 625.1853414477789, 615.053046108034, 559.0629140364558, 538.5314435312433, 461.11297677693096, 454.0333414567621, 440.9885853022347, 419.828635162101, 1690.0728584212836, 3193.4827239848573, 8663.493110271189, 8191.158609333339, 1448.825644533205, 8300.696544313345, 4170.694942066374, 2985.42273566361, 9696.68302097799, 2629.6648575576082, 2329.0914378655016, 1888.7974185167109, 1749.1117511991085, 5155.711647122757, 2035.4852672678967, 4917.107988494878, 8840.487934199504, 6126.436502420043, 5629.440541072969, 5045.669977615366, 6153.289511869393, 3394.5579987686956, 5461.915838477052, 5611.694587721835, 4859.711244580122, 7994.484157829662, 5753.711974389509, 7849.226616765199, 6736.144426657413, 3676.556401789626, 2315.7546325516987, 2264.319900505302, 2361.9030727205222, 2358.1480067919088, 3925.317242853945, 3900.228314974693, 2927.330904126752, 2401.4143519182476, 2342.432138659005, 2102.2141773205444, 2055.0209379888242, 1841.8406765646018, 1466.3491428323814, 1358.5328572807484, 1325.9471060581172, 1222.5823632651175, 1164.521509427381, 1147.1883806297437, 1137.806256472094, 1084.7821155272022, 1066.0020480984765, 980.024002007294, 953.229266020495, 853.9405080570773, 842.2670339174698, 790.1265905307138, 771.185230377654, 749.7967195838271, 625.7938523257569, 588.5036619204911, 586.7475807431299, 585.0951351895574, 582.3978256858724, 557.4843091254735, 6560.7098184334245, 1150.6680015674024, 3120.9108274244154, 8633.585281684096, 4653.025779451931, 2191.3576682888815, 1706.483830499953, 1960.8434299362073, 1985.043274148212, 3436.2426605598152, 3854.8732703707897, 3418.0400631855864, 5005.550581717469, 3052.577956565344, 4331.867441009959, 7874.184919627427, 4021.5088421390774, 2929.436790294852, 2123.448494674345, 9083.19139444399, 7684.425735653361, 5564.161411713467, 3598.298005309222, 3164.7365559644954, 3487.482955225584, 2479.154518447443, 2383.303946401663, 2642.3816360057012, 2140.761647083476, 4141.194001026908, 3620.5730336622323, 3170.672322322847, 2861.918905325224, 2538.825842549043, 1908.426311059193, 1892.5753250855862, 1508.8110245928465, 1018.4153592317235, 955.6819305387035, 909.4101290867887, 832.9341303703981, 734.946582638245, 625.2686245859252, 608.1136565190833, 591.717015562951, 559.8832185517444, 523.9805628050512, 506.65830233459207, 505.7121622382541, 492.3474508499562, 486.33229635377063, 472.49033083881744, 463.5559554606939, 444.27755130746147, 440.4739983851059, 432.5587473192671, 419.2412062328927, 407.17783788301716, 406.5859709073175, 2754.787466354261, 1678.000708861276, 5472.612837213204, 3343.251937372575, 4088.360893005521, 1901.81112953669, 4798.147991841574, 2023.6039130324289, 3448.4854634262206, 3964.428282844859, 823.5872119408555, 8323.112148135415, 2500.342853492295, 3543.0607323513004, 4613.795893079376, 5062.954114749116, 8029.986717944888, 3305.117784756852, 1920.004870176804, 13956.074289061384, 15498.639819353355, 7210.008610337309, 4116.888135801941, 3025.010538656006, 3735.8253767493734, 2682.545502322892, 3825.96619501347, 2368.5904710719315, 2590.8755136440445, 2225.7515814686826, 6466.814613474018, 2551.911209881128, 2149.756903313277, 1707.0901239052962, 1286.3638288099185, 1099.2865682933018, 1029.7601384961838, 1016.7935761950363, 940.5822203815362, 844.2478181960901, 839.0086485926487, 833.9612804543957, 772.87698064783, 745.7190544629215, 730.8672968168194, 722.6809632151335, 696.0463060743434, 692.8450038658596, 650.3562075284543, 641.0116374936847, 616.5538407160544, 588.9755206052894, 576.1196392649606, 546.9265786255959, 531.793977670348, 522.947103946983, 488.0408138824866, 487.15048140283307, 478.6147781535889, 469.2300820698878, 3686.2606828371822, 3220.3540120860403, 760.9569221901291, 1072.4345839296982, 4914.936609000223, 3457.533634133637, 2670.8818630637506, 1311.219095811523, 2589.1749909932473, 2364.3408627177355, 1978.7421288104592, 4720.1439919488, 7963.125973452235, 1373.2628816689557, 1571.011734922065, 10333.724439048117, 8989.74800356415, 5282.785810518739, 3158.374411575808, 3999.48965327507, 3625.2083764200775, 8159.698631780956, 5371.861662258321, 5458.681205397254, 3040.7710514037344, 5100.684701200865, 1721.597614783693, 4649.058927239515, 2051.0318302568626, 3130.478526452516, 4269.669516672133, 5656.637950368552, 2842.2603060711604, 2400.5118055822218, 3427.5068406947717, 6003.810758873145, 5550.7258418758365, 4276.7417947474805, 3240.7331430555223, 2834.241403736165, 2422.124363023973, 2004.1964857035148, 1742.9208906806764, 1709.8604209180032, 1251.7533006800484, 1243.3322777338008, 1175.4654896018808, 1140.4938325793353, 1085.1477900254151, 1054.939495310183, 1044.9370675206883, 996.6875642358793, 864.8416309534844, 804.2447283733025, 800.2140365779865, 773.0776811034987, 730.9313415851491, 726.0992702074153, 663.461076697234, 660.5167304693355, 628.1622573950549, 612.3664273037119, 607.6852576956402, 599.2717214279096, 589.5630293995373, 7290.022059318582, 2195.712108014251, 3054.287540969726, 1257.7462246439773, 772.6999346576317, 1221.8846991283915, 918.7382124911247, 884.4559156890737, 1067.372829858514, 2704.4987530326707, 1022.2605474466543, 909.2434945397251, 828.2482735726766, 12056.198480464505, 8919.411116508485, 7524.964933289303, 6471.24856227376, 4729.706140507533, 3762.8096607569014, 2738.519474312547, 2566.16685089343, 2130.8327410601723, 1636.3270252880561, 1430.8147912937807, 1356.6102530471344, 1333.3284260048072, 1325.5829039289242, 1324.123862412692, 1277.2296505564054, 1028.6591673192133, 757.8738532155852, 691.7086890659599, 683.0977997315312, 550.6359653880438, 533.5919457670811, 512.1543075315093, 500.3560325665782, 473.8799327106079, 448.11763438185426, 419.8115125501201, 417.4063014353067, 411.9807491187104, 389.8913097248378, 11706.295341785704, 1409.2169734120514, 1529.6503320841725, 949.8455452958971, 2307.6459605936097, 1306.6340944311987, 1174.6156467665621, 2065.7261021175636, 2758.289512242098, 900.6023388131213, 1450.831590014086, 801.0621085855082, 1077.6116063653424, 1007.4835243250374, 1051.3129248471776, 1169.6140362140682], \"Total\": [15259.0, 12057.0, 40357.0, 34247.0, 84280.0, 27599.0, 8920.0, 18819.0, 73370.0, 96045.0, 21770.0, 9674.0, 13738.0, 7525.0, 30625.0, 22475.0, 32961.0, 25059.0, 11392.0, 20800.0, 13463.0, 15929.0, 41569.0, 12562.0, 6472.0, 24017.0, 12404.0, 10707.0, 12581.0, 28092.0, 10707.027022932856, 7178.74321801754, 6975.632833289735, 6574.320433153848, 6481.758925586125, 5262.706964134495, 5157.338031692841, 5087.171136014827, 5069.325026129304, 4340.771585689846, 3883.3652260498766, 2433.7296571069737, 1981.3821018079127, 1905.7789964446342, 1881.858203574995, 1735.0351671210335, 1598.2511657162815, 1471.8365515722724, 1459.4221918503144, 1453.4259643584746, 1439.9637314332492, 1407.6201850586283, 1396.2564970497465, 1391.7399930505915, 1363.181113889062, 1344.2831809793981, 1219.6056457126936, 1178.0607993323622, 1174.7428918368093, 1142.7677455974404, 13463.65064026945, 4001.8883693533926, 12404.09047948318, 8117.362748426407, 4902.504070579331, 3257.402492626352, 4196.409516862592, 12058.968989260798, 14262.66359514578, 9047.578349817906, 3917.084103549081, 2629.335381324402, 11731.361821671124, 7295.634948513042, 30625.36271686829, 84280.20930414903, 17900.536746500784, 8029.205181657359, 41569.20274220708, 24017.898963664902, 96045.20581964549, 23566.165090989456, 14199.46752777797, 34247.79448084803, 27599.08229108893, 73370.30521073272, 22475.89142005755, 7337.601122420379, 3427.8382519002234, 2919.915479842424, 2484.980136000984, 2131.550464425399, 2003.1216693826975, 1910.2248552156034, 1822.4941953680834, 1719.5280780932464, 1677.8354353627522, 1612.8613090754577, 1550.8736056009514, 1508.0774796667438, 1383.677074354696, 1219.367593596375, 1207.1510179722113, 1183.0531981709853, 1116.9127213078582, 1103.3033630030793, 1077.0538810915298, 1065.1708814322762, 1036.9177175516434, 1019.5033729597981, 1015.8941058023344, 1010.4763242010404, 1005.6023370822003, 995.0293021867722, 963.3809503573996, 944.0924789501364, 939.1770699381183, 6626.278404069751, 6818.854758720172, 27599.08229108893, 16195.433721178288, 41569.20274220708, 34247.79448084803, 21770.9900513895, 10645.667626119817, 3848.36830926399, 5581.514483590595, 7595.908902837993, 12318.986834165125, 15193.895966534576, 2450.3481279679136, 84280.20930414903, 12877.170743533205, 24017.898963664902, 73370.30521073272, 7751.757561189365, 10483.662167280254, 6165.7989854827665, 5095.083738103991, 32510.463817603577, 23566.165090989456, 11731.361821671124, 10259.26613249436, 20867.117922300597, 9734.521646045925, 4312.714855930431, 4081.0498937263137, 3612.0112880005536, 3169.0939975412734, 2514.384115766726, 1927.8139070451389, 1922.2890630444492, 1701.7521395900103, 1696.6830997063362, 1649.8343477946653, 1525.6762201197312, 1454.6075449262526, 1256.8439583750499, 1239.0058145265891, 1214.588365474711, 1162.5446394445055, 1111.8896280431093, 1092.528632252707, 1076.176238204773, 1038.077565614429, 881.2975055519788, 838.6561636758962, 833.722718632275, 818.0210242717346, 795.7663897517778, 794.7737951096141, 783.6691243665928, 757.5708622446882, 741.9322751394841, 713.9066157448574, 6174.761427934894, 4212.326046919728, 2471.2927428285643, 10029.536080796363, 3237.9136131801138, 7974.626479509906, 20800.987634900677, 22475.89142005755, 18819.95936595556, 40357.33437317052, 84280.20930414903, 25393.80680114271, 21794.13839070044, 32961.125896687816, 32510.463817603577, 1856.3503031738812, 15929.724069007774, 6604.982688236758, 10645.667626119817, 26942.707054864073, 25059.34490308064, 12013.474905325182, 96045.20581964549, 7231.186719689682, 8903.364835677507, 8637.034037935178, 18290.627953148174, 9575.455689948878, 12562.557393843641, 20867.117922300597, 41569.20274220708, 16753.049927343556, 8045.311303484199, 3524.2359377449948, 3465.201277899178, 3194.9039932181504, 2265.261390049319, 1952.5683786749273, 1583.8538358737176, 1401.5989604537522, 1323.2792777720667, 1293.1960109220938, 1090.1742289654828, 1056.8436511369705, 925.6370141567937, 870.0055026817718, 854.2445377894488, 838.704360631136, 813.0036641376809, 809.8567706787998, 735.9973474572699, 692.324716864895, 691.8782212967172, 669.6094874943647, 655.7103225050478, 565.3035042302955, 502.44350406084254, 458.2101163001206, 455.0249827321632, 440.5657163643555, 414.70898525952674, 403.7174124484452, 9236.331506332403, 7890.299852766674, 2435.0408273579815, 30625.36271686829, 3490.8793170788094, 96045.20581964549, 12387.666619888534, 26942.707054864073, 17900.536746500784, 73370.30521073272, 6396.522315934589, 8702.6463083678, 6171.513982674945, 6761.499065269845, 5186.413556393138, 21794.13839070044, 13738.40036459604, 12476.196069229012, 18290.627953148174, 25393.80680114271, 16753.049927343556, 32510.463817603577, 84280.20930414903, 10483.662167280254, 20867.117922300597, 32961.125896687816, 11838.896487758546, 14262.66359514578, 9378.684860917469, 22475.89142005755, 28092.258129533453, 5817.106157586685, 2544.2522630597164, 2514.337966591748, 1800.1160417051367, 1710.3502575981634, 1436.434221004068, 1429.1526557754457, 1250.314420508567, 1195.2998439651176, 1137.7680950716842, 1130.5842411760082, 1039.3010515959777, 956.930532896753, 826.5746757505058, 774.5195788859311, 769.9370879640647, 739.7900643355297, 719.5607036355608, 715.5329798709073, 691.5407001238974, 666.9675486800863, 665.8441532288762, 626.0904524659488, 615.9582501074184, 559.9680026896932, 539.4366774843959, 462.01812702641826, 454.9385054277668, 441.8937216971436, 420.733863602611, 1961.6327194773387, 4020.6397261035722, 12562.557393843641, 12581.090800998349, 1753.1664639640449, 18819.95936595556, 7751.757561189365, 4971.903901771457, 25059.34490308064, 4300.521716637152, 3729.3253029184007, 2798.845183847667, 2593.151078882014, 14199.46752777797, 3476.6371917329666, 15193.895966534576, 40357.33437317052, 23566.165090989456, 20800.987634900677, 18290.627953148174, 28092.258129533453, 9896.157544269683, 26942.707054864073, 32961.125896687816, 24017.898963664902, 73370.30521073272, 41569.20274220708, 96045.20581964549, 84280.20930414903, 21794.13839070044, 6604.982688236758, 8903.364835677507, 25393.80680114271, 34247.79448084803, 3926.2244754446474, 3901.13555012733, 2928.23814244505, 2402.3215936520896, 2343.3393438625408, 2103.1214050150543, 2055.928084692362, 1842.7478154851847, 1467.2562836832801, 1359.4400735866716, 1326.854312915512, 1223.4895450674003, 1165.4286770363235, 1148.095616203605, 1138.7134686113648, 1085.689282005072, 1066.9091613702844, 980.931152107376, 954.1366012376636, 854.8476530478506, 843.1742940803384, 791.0339160669304, 772.0924318993924, 750.7038878285604, 626.7010268674113, 589.4108464227057, 587.6546843157391, 586.0023988837282, 583.3049490650734, 558.3915421576182, 7428.813045898855, 1206.227315400051, 3586.2565755234573, 11392.678554069826, 5842.346409292751, 2658.390964914665, 2083.480651418583, 2579.557587345198, 2668.3952388290245, 5734.649055690196, 7093.764614999465, 6596.976387376364, 12013.474905325182, 6408.7905588251915, 12318.986834165125, 40357.33437317052, 11838.896487758546, 7544.040594427143, 4093.9787032925274, 96045.20581964549, 84280.20930414903, 73370.30521073272, 23566.165090989456, 20867.117922300597, 32510.463817603577, 8893.095489890882, 9674.132312315382, 28092.258129533453, 6707.865925574598, 4142.099762687569, 3621.4788444953288, 3171.5780845645418, 2862.8248211864934, 2539.7317130565857, 1909.332114244895, 1893.481033642896, 1509.7168021029536, 1019.3212061204947, 956.5877182670855, 910.3159378693969, 833.8398728738408, 735.8524528577947, 626.1744605196171, 609.0194711936597, 592.6227630351376, 560.7890468141215, 524.8864235841093, 507.56423788709293, 506.61794922054673, 493.2532319977323, 487.2380751962412, 473.3961350461478, 464.46173751145335, 445.18325584478094, 441.379814626069, 433.46453615398104, 420.1470795658841, 408.0835950696622, 407.4917518730057, 2795.116210366577, 1696.1142750683143, 5849.431305887878, 3941.975684400558, 4905.776782183656, 2219.0844480224823, 6346.602439087943, 2413.0178837202075, 4526.8994383140025, 5318.270514520415, 893.864162900504, 13738.40036459604, 3520.2197729949157, 5441.435376010508, 7544.040594427143, 8821.068128202915, 15929.724069007774, 6452.787151887219, 2977.5084439954253, 73370.30521073272, 96045.20581964549, 32961.125896687816, 12476.196069229012, 7231.186719689682, 12581.090800998349, 7157.760916223734, 25059.34490308064, 5581.514483590595, 9734.521646045925, 4663.342768858868, 6467.707452961182, 2552.8810161963042, 2150.6497446353264, 1707.9828878079375, 1287.2567866694155, 1100.179485898714, 1030.652901045181, 1017.6864100141628, 941.4750276110326, 845.1406306205316, 839.9015878099189, 834.8540802929757, 773.7697250984093, 746.6119287610214, 731.7601499570959, 723.5738401082466, 696.9390710389058, 693.7377563465337, 651.2489545449238, 641.9045408277109, 617.44671276428, 589.8682867233293, 577.0124446894039, 547.819413891791, 532.6867502511333, 523.8398971464734, 488.9336420516842, 488.0433156262659, 479.50768724783944, 470.1228528110443, 4445.552959920657, 3959.443243786779, 806.5016623802454, 1195.942362379099, 6751.017484508203, 4523.585527919702, 3438.341361107011, 1527.7436886508306, 3812.5709950045866, 3496.2036865605296, 2952.3975947015033, 9961.571193558393, 21770.9900513895, 1836.4127583044499, 2232.481582651509, 34247.79448084803, 28092.258129533453, 13319.260511975439, 6967.6771593818985, 10201.235086452283, 9575.455689948878, 40357.33437317052, 20867.117922300597, 24017.898963664902, 9378.684860917469, 27599.08229108893, 2960.1841356416144, 25059.34490308064, 4458.453643661342, 12877.170743533205, 32961.125896687816, 96045.20581964549, 16195.433721178288, 8893.095489890882, 73370.30521073272, 6004.714951428062, 5551.630000701593, 4277.645906453193, 3241.637360736635, 2835.145626751912, 2423.0285793167586, 2005.1006460975705, 1743.825040852371, 1710.7645735676642, 1252.6574982656184, 1244.2365051131792, 1176.3696021764817, 1141.398042168983, 1086.051894364574, 1055.8437614155457, 1045.841336570878, 997.5918094027393, 865.7458591702589, 805.1488198159897, 801.1181250952212, 773.9819076751598, 731.8354529453277, 727.0034474851117, 664.3653044081415, 661.4209376526438, 629.0663580812222, 613.2705920279757, 608.5894109652692, 600.1759053006452, 590.467236706064, 9674.132312315382, 2730.2267920964896, 9483.610904478866, 2788.197246445081, 1040.4044683822663, 3203.270801734358, 1689.5040096672328, 1574.3269657634205, 3044.3688529139245, 96045.20581964549, 6476.951436681686, 2798.845183847667, 6877.107955080538, 12057.099944891426, 8920.312572564548, 7525.866408767105, 6472.150093903707, 4730.607699537397, 3763.7112355970958, 2739.4208956658836, 2567.068312850945, 2131.734264963084, 1637.2285621745034, 1431.7163627374384, 1357.511813371852, 1334.229978274262, 1326.4844526913769, 1325.025262865009, 1278.131049174863, 1029.5606973641286, 758.7753839448584, 692.6102358350786, 683.999400377357, 551.5374696049254, 534.493482377247, 513.0558802389971, 501.25760327473034, 474.78145710304995, 449.0191883585188, 420.71301101056696, 418.30780848645276, 412.88227718975435, 390.7928396846912, 15259.954908133732, 1744.044412940933, 2788.197246445081, 1396.355803348675, 6476.951436681686, 2549.930419276835, 2278.192602619814, 6452.787151887219, 11392.678554069826, 1426.5150417445561, 5929.178604181848, 1167.5741817190112, 4526.8994383140025, 3490.8793170788094, 4839.400992938254, 96045.20581964549], \"logprob\": [30.0, 29.0, 28.0, 27.0, 26.0, 25.0, 24.0, 23.0, 22.0, 21.0, 20.0, 19.0, 18.0, 17.0, 16.0, 15.0, 14.0, 13.0, 12.0, 11.0, 10.0, 9.0, 8.0, 7.0, 6.0, 5.0, 4.0, 3.0, 2.0, 1.0, -3.9574, -4.3572, -4.3859, -4.4452, -4.4594, -4.6678, -4.688, -4.7017, -4.7052, -4.8604, -4.9718, -5.4392, -5.6449, -5.6838, -5.6965, -5.7777, -5.8599, -5.9423, -5.9508, -5.9549, -5.9642, -5.987, -5.9951, -5.9983, -6.0191, -6.033, -6.1304, -6.1651, -6.168, -6.1956, -3.7683, -4.9659, -3.8595, -4.2936, -4.7934, -5.1974, -4.9604, -4.0685, -4.0161, -4.4335, -5.1639, -5.495, -4.5746, -4.8934, -4.0437, -3.4517, -4.3975, -4.8611, -3.9869, -4.387, -3.8142, -4.4131, -4.6866, -4.4186, -4.4842, -4.1961, -4.5865, -4.0897, -4.8509, -5.0114, -5.1727, -5.3262, -5.3884, -5.4359, -5.4829, -5.5411, -5.5656, -5.6052, -5.6444, -5.6724, -5.7585, -5.885, -5.8951, -5.9153, -5.9729, -5.9851, -6.0092, -6.0203, -6.0472, -6.0642, -6.0677, -6.0731, -6.0779, -6.0885, -6.1209, -6.1411, -6.1463, -4.3766, -4.4885, -3.371, -3.8265, -3.1822, -3.3877, -3.8011, -4.3356, -5.154, -4.9157, -4.717, -4.4247, -4.2936, -5.4718, -3.4084, -4.5023, -4.1811, -3.5983, -4.8552, -4.7885, -5.05, -5.1301, -4.4128, -4.7165, -4.9687, -5.0418, -4.9647, -5.1094, -4.6118, -4.667, -4.7891, -4.92, -5.1514, -5.4172, -5.4201, -5.542, -5.545, -5.573, -5.6513, -5.699, -5.8452, -5.8595, -5.8795, -5.9233, -5.9679, -5.9855, -6.0005, -6.0366, -6.2005, -6.2502, -6.2561, -6.2751, -6.3027, -6.304, -6.318, -6.352, -6.3728, -6.4114, -4.422, -4.8226, -5.3068, -4.108, -5.0858, -4.3298, -3.5716, -3.548, -3.7377, -3.3388, -2.8528, -3.7851, -4.0266, -3.8225, -3.8574, -5.6439, -4.4805, -4.965, -4.7208, -4.315, -4.3494, -4.6976, -3.8777, -4.9502, -4.8687, -4.8902, -4.6545, -4.8695, -4.8188, -4.761, -4.7028, -4.8566, -3.9748, -4.8003, -4.8172, -4.8985, -5.2424, -5.391, -5.6004, -5.7228, -5.7803, -5.8033, -5.9742, -6.0053, -6.138, -6.2, -6.2183, -6.2367, -6.2679, -6.2717, -6.3675, -6.4287, -6.4294, -6.4621, -6.4831, -6.6317, -6.7498, -6.8421, -6.8491, -6.8815, -6.9421, -6.969, -3.9362, -4.1962, -5.305, -3.313, -5.1504, -2.5894, -4.2108, -3.6344, -4.0011, -2.9997, -4.787, -4.5684, -4.8283, -4.7803, -4.9801, -4.0165, -4.3707, -4.4746, -4.2582, -4.0862, -4.3457, -4.0144, -3.5322, -4.7109, -4.4065, -4.2075, -4.6657, -4.6328, -4.8145, -4.6188, -4.65, -4.0446, -4.8717, -4.8836, -5.2179, -5.269, -5.4437, -5.4488, -5.5825, -5.6276, -5.6769, -5.6833, -5.7675, -5.8502, -5.9968, -6.0619, -6.0678, -6.1078, -6.1356, -6.1412, -6.1753, -6.2116, -6.2133, -6.2749, -6.2912, -6.3867, -6.4241, -6.5793, -6.5948, -6.6239, -6.6731, -5.2804, -4.6441, -3.6461, -3.7021, -5.4344, -3.6889, -4.3771, -4.7115, -3.5334, -4.8383, -4.9597, -5.1693, -5.2461, -4.1651, -5.0945, -4.2125, -3.6259, -3.9926, -4.0772, -4.1867, -3.9882, -4.583, -4.1074, -4.0803, -4.2242, -3.7264, -4.0554, -3.7448, -3.8977, -4.5032, -4.9655, -4.9879, -4.9457, -4.9473, -4.4334, -4.4399, -4.7268, -4.9248, -4.9497, -5.0579, -5.0806, -5.1901, -5.4181, -5.4945, -5.5188, -5.5999, -5.6486, -5.6636, -5.6718, -5.7195, -5.737, -5.8211, -5.8488, -5.9588, -5.9726, -6.0365, -6.0607, -6.0888, -6.2696, -6.3311, -6.3341, -6.3369, -6.3415, -6.3852, -3.9198, -5.6606, -4.6628, -3.6452, -4.2634, -5.0164, -5.2665, -5.1275, -5.1153, -4.5665, -4.4516, -4.5718, -4.1903, -4.6849, -4.3349, -3.7373, -4.4092, -4.7261, -5.0479, -3.5945, -3.7617, -4.0845, -4.5204, -4.6488, -4.5517, -4.893, -4.9324, -4.8292, -5.0397, -4.2607, -4.3951, -4.5278, -4.6302, -4.75, -5.0354, -5.0438, -5.2704, -5.6635, -5.727, -5.7767, -5.8645, -5.9897, -6.1513, -6.1791, -6.2064, -6.2617, -6.328, -6.3616, -6.3635, -6.3903, -6.4026, -6.4314, -6.4505, -6.493, -6.5016, -6.5197, -6.551, -6.5802, -6.5817, -4.6684, -5.1641, -3.982, -4.4748, -4.2736, -5.0389, -4.1135, -4.9768, -4.4438, -4.3043, -5.8758, -3.5627, -4.7653, -4.4167, -4.1527, -4.0598, -3.5985, -4.4862, -5.0294, -3.0458, -2.941, -3.7062, -4.2666, -4.5748, -4.3637, -4.6949, -4.3399, -4.8194, -4.7297, -4.8816, -3.761, -4.6908, -4.8623, -5.0928, -5.3758, -5.533, -5.5983, -5.611, -5.6889, -5.7969, -5.8032, -5.8092, -5.8853, -5.921, -5.9412, -5.9524, -5.99, -5.9946, -6.0579, -6.0723, -6.1112, -6.157, -6.1791, -6.2311, -6.2591, -6.2759, -6.345, -6.3468, -6.3645, -6.3843, -4.323, -4.4581, -5.9008, -5.5577, -4.0354, -4.3871, -4.6452, -5.3567, -4.6763, -4.7671, -4.9452, -4.0758, -3.5528, -5.3104, -5.1759, -3.2922, -3.4316, -3.9632, -4.4776, -4.2415, -4.3397, -3.5284, -3.9465, -3.9304, -4.5155, -3.9983, -5.0844, -4.091, -4.9093, -4.4865, -4.1761, -3.8948, -4.583, -4.752, -4.3958, -3.3274, -3.4059, -3.6666, -3.944, -4.078, -4.2351, -4.4246, -4.5642, -4.5834, -4.8952, -4.902, -4.9581, -4.9883, -5.0381, -5.0663, -5.0758, -5.1231, -5.265, -5.3376, -5.3427, -5.3772, -5.4332, -5.4399, -5.5301, -5.5345, -5.5848, -5.6102, -5.6179, -5.6318, -5.6482, -3.1333, -4.3333, -4.0032, -4.8905, -5.3777, -4.9194, -5.2045, -5.2426, -5.0546, -4.1249, -5.0978, -5.2149, -5.3082, -2.5447, -2.846, -3.016, -3.1669, -3.4804, -3.7091, -4.0268, -4.0919, -4.2778, -4.5418, -4.676, -4.7293, -4.7466, -4.7524, -4.7535, -4.7896, -5.006, -5.3115, -5.4029, -5.4154, -5.6309, -5.6624, -5.7034, -5.7267, -5.7811, -5.837, -5.9022, -5.908, -5.921, -5.9762, -2.5741, -4.6912, -4.6092, -5.0857, -4.198, -4.7668, -4.8733, -4.3088, -4.0197, -5.139, -4.6621, -5.2561, -4.9595, -5.0268, -4.9842, -4.8776]}};\n",
       "\n",
       "function LDAvis_load_lib(url, callback){\n",
       "  var s = document.createElement('script');\n",
       "  s.src = url;\n",
       "  s.async = true;\n",
       "  s.onreadystatechange = s.onload = callback;\n",
       "  s.onerror = function(){console.warn(\"failed to load library \" + url);};\n",
       "  document.getElementsByTagName(\"head\")[0].appendChild(s);\n",
       "}\n",
       "\n",
       "if(typeof(LDAvis) !== \"undefined\"){\n",
       "   // already loaded: just create the visualization\n",
       "   !function(LDAvis){\n",
       "       new LDAvis(\"#\" + \"ldavis_el266731397742111911203355905279\", ldavis_el266731397742111911203355905279_data);\n",
       "   }(LDAvis);\n",
       "}else if(typeof define === \"function\" && define.amd){\n",
       "   // require.js is available: use it to load d3/LDAvis\n",
       "   require.config({paths: {d3: \"https://cdnjs.cloudflare.com/ajax/libs/d3/3.5.5/d3.min\"}});\n",
       "   require([\"d3\"], function(d3){\n",
       "      window.d3 = d3;\n",
       "      LDAvis_load_lib(\"https://cdn.rawgit.com/bmabey/pyLDAvis/files/ldavis.v1.0.0.js\", function(){\n",
       "        new LDAvis(\"#\" + \"ldavis_el266731397742111911203355905279\", ldavis_el266731397742111911203355905279_data);\n",
       "      });\n",
       "    });\n",
       "}else{\n",
       "    // require.js not available: dynamically load d3 & LDAvis\n",
       "    LDAvis_load_lib(\"https://cdnjs.cloudflare.com/ajax/libs/d3/3.5.5/d3.min.js\", function(){\n",
       "         LDAvis_load_lib(\"https://cdn.rawgit.com/bmabey/pyLDAvis/files/ldavis.v1.0.0.js\", function(){\n",
       "                 new LDAvis(\"#\" + \"ldavis_el266731397742111911203355905279\", ldavis_el266731397742111911203355905279_data);\n",
       "            })\n",
       "         });\n",
       "}\n",
       "</script>"
      ],
      "text/plain": [
       "PreparedData(topic_coordinates=            Freq  cluster  topics           x           y\n",
       "topic                                                    \n",
       "6      16.400285        1       1 -191.557205  111.210991\n",
       "4      12.828613        1       2 -124.952538 -123.364456\n",
       "3      12.707299        1       3   13.210271   42.610664\n",
       "1      12.538423        1       4  -75.068123  148.435806\n",
       "2       9.720775        1       5  110.201248  -56.596096\n",
       "9       9.678996        1       6 -215.298141  -22.273388\n",
       "0       8.591514        1       7   43.602379  177.976868\n",
       "8       8.139298        1       8  133.950485   76.886681\n",
       "7       4.898161        1       9  -94.562759   12.011002\n",
       "5       4.496635        1      10   -6.287885  -93.810806, topic_info=      Category          Freq          Term         Total  loglift  logprob\n",
       "term                                                                      \n",
       "1017   Default  15259.000000         blend  15259.000000  30.0000  30.0000\n",
       "1444   Default  12057.000000      cabernet  12057.000000  29.0000  29.0000\n",
       "1837   Default  40357.000000        cherry  40357.000000  28.0000  28.0000\n",
       "514    Default  34247.000000         aroma  34247.000000  27.0000  27.0000\n",
       "3893   Default  84280.000000        flavor  84280.000000  26.0000  26.0000\n",
       "7109   Default  27599.000000        palate  27599.000000  25.0000  25.0000\n",
       "8697   Default   8920.000000     sauvignon   8920.000000  24.0000  24.0000\n",
       "990    Default  18819.000000    blackberry  18819.000000  23.0000  23.0000\n",
       "4133   Default  73370.000000         fruit  73370.000000  22.0000  22.0000\n",
       "11163  Default  96045.000000          wine  96045.000000  21.0000  21.0000\n",
       "923    Default  21770.000000         berry  21770.000000  20.0000  20.0000\n",
       "7470   Default   9674.000000         pinot   9674.000000  19.0000  19.0000\n",
       "179    Default  13738.000000           age  13738.000000  18.0000  18.0000\n",
       "6226   Default   7525.000000        merlot   7525.000000  17.0000  17.0000\n",
       "89     Default  30625.000000       acidity  30625.000000  16.0000  16.0000\n",
       "9354   Default  22475.000000      spin-dry  22475.000000  15.0000  15.0000\n",
       "9939   Default  32961.000000        tannin  32961.000000  14.0000  14.0000\n",
       "986    Default  25059.000000         black  25059.000000  13.0000  13.0000\n",
       "5736   Default  11392.000000        little  11392.000000  12.0000  12.0000\n",
       "6826   Default  20800.000000           oak  20800.000000  11.0000  11.0000\n",
       "446    Default  13463.000000         apple  13463.000000  10.0000  10.0000\n",
       "11260  Default  15929.000000          year  15929.000000   9.0000   9.0000\n",
       "3830   Default  41569.000000        finish  41569.000000   8.0000   8.0000\n",
       "1890   Default  12562.000000     chocolate  12562.000000   7.0000   7.0000\n",
       "9065   Default   6472.000000        simple   6472.000000   6.0000   6.0000\n",
       "6777   Default  24017.000000          note  24017.000000   5.0000   5.0000\n",
       "1952   Default  12404.000000        citrus  12404.000000   4.0000   4.0000\n",
       "7238   Default  10707.000000         peach  10707.000000   3.0000   3.0000\n",
       "2679   Default  12581.000000          dark  12581.000000   2.0000   2.0000\n",
       "9341   Default  28092.000000         spice  28092.000000   1.0000   1.0000\n",
       "...        ...           ...           ...           ...      ...      ...\n",
       "9314   Topic10   1028.659167       sparkle   1029.560697   3.1010  -5.0060\n",
       "10827  Topic10    757.873853       version    758.775384   3.1007  -5.3115\n",
       "2290   Topic10    691.708689  considerable    692.610236   3.1005  -5.4029\n",
       "9097   Topic10    683.097800          size    683.999400   3.1005  -5.4154\n",
       "2481   Topic10    550.635965       cracker    551.537470   3.1002  -5.6309\n",
       "115    Topic10    533.591946      addition    534.493482   3.1002  -5.6624\n",
       "3411   Topic10    512.154308        entice    513.055880   3.1001  -5.7034\n",
       "6189   Topic10    500.356033          meld    501.257603   3.1000  -5.7267\n",
       "1201   Topic10    473.879933         brand    474.781457   3.0999  -5.7811\n",
       "9681   Topic10    448.117634       success    449.019188   3.0998  -5.8370\n",
       "6043   Topic10    419.811513   marlborough    420.713011   3.0997  -5.9022\n",
       "7747   Topic10    417.406301      previous    418.307808   3.0997  -5.9080\n",
       "2167   Topic10    411.980749     companion    412.882277   3.0997  -5.9210\n",
       "9682   Topic10    389.891310    successful    390.792840   3.0995  -5.9762\n",
       "1017   Topic10  11706.295342         blend  15259.954908   2.8367  -2.5741\n",
       "8263   Topic10   1409.216973        result   1744.044413   2.8887  -4.6912\n",
       "10754  Topic10   1529.650332       variety   2788.197246   2.5015  -4.6092\n",
       "2135   Topic10    949.845545       combine   1396.355803   2.7165  -5.0857\n",
       "9868   Topic10   2307.645961         syrah   6476.951437   2.0698  -4.1980\n",
       "7792   Topic10   1306.634094       produce   2549.930419   2.4332  -4.7668\n",
       "5941   Topic10   1174.615647        malbec   2278.192603   2.4394  -4.8733\n",
       "10905  Topic10   2065.726102       vintage   6452.787152   1.9628  -4.3088\n",
       "5736   Topic10   2758.289512        little  11392.678554   1.6835  -4.0197\n",
       "9164   Topic10    900.602339         small   1426.515042   2.6419  -5.1390\n",
       "4474   Topic10   1450.831590         grape   5929.178604   1.6941  -4.6621\n",
       "634    Topic10    801.062109       austere   1167.574182   2.7251  -5.2561\n",
       "7539   Topic10   1077.611606        plenty   4526.899438   1.6666  -4.9595\n",
       "3359   Topic10   1007.483524           end   3490.879317   1.8591  -5.0268\n",
       "7750   Topic10   1051.312925         price   4839.400993   1.5751  -4.9842\n",
       "11163  Topic10   1169.614036          wine  96045.205820  -1.3063  -4.8776\n",
       "\n",
       "[605 rows x 6 columns], token_table=       Topic      Freq          Term\n",
       "term                                \n",
       "84         1  0.154007          acid\n",
       "84         2  0.207683          acid\n",
       "84         6  0.476377          acid\n",
       "84         7  0.161965          acid\n",
       "85         5  0.999508        acidic\n",
       "89         1  0.320682       acidity\n",
       "89         2  0.020343       acidity\n",
       "89         3  0.087019       acidity\n",
       "89         4  0.509121       acidity\n",
       "89         5  0.000065       acidity\n",
       "89         6  0.027102       acidity\n",
       "89         7  0.001371       acidity\n",
       "89         8  0.034351       acidity\n",
       "115       10  0.999077      addition\n",
       "176        4  0.999709    aftertaste\n",
       "179        4  0.394078           age\n",
       "179        7  0.605820           age\n",
       "190        5  0.998549    aggressive\n",
       "213        2  0.999022           air\n",
       "242        9  0.999887       alcohol\n",
       "278        7  0.998949         allow\n",
       "294        1  0.141385     alongside\n",
       "294        8  0.858128     alongside\n",
       "432        9  0.999596        appeal\n",
       "439        6  0.256631   appellation\n",
       "439        9  0.742980   appellation\n",
       "446        1  0.960735         apple\n",
       "446        4  0.039217         apple\n",
       "460        3  0.998907  approachable\n",
       "467        1  0.946455       apricot\n",
       "...      ...       ...           ...\n",
       "11117      4  0.091965         white\n",
       "11117      8  0.113525         white\n",
       "11125      7  0.998888          wide\n",
       "11135      6  0.170507          wild\n",
       "11135      8  0.829143          wild\n",
       "11163      1  0.128637          wine\n",
       "11163      2  0.006226          wine\n",
       "11163      3  0.093529          wine\n",
       "11163      4  0.334717          wine\n",
       "11163      5  0.081722          wine\n",
       "11163      6  0.094570          wine\n",
       "11163      7  0.161372          wine\n",
       "11163      8  0.058899          wine\n",
       "11163      9  0.028153          wine\n",
       "11163     10  0.012182          wine\n",
       "11171      6  0.398655        winery\n",
       "11171      9  0.381485        winery\n",
       "11171     10  0.219775        winery\n",
       "11205      4  0.817079          wood\n",
       "11205      5  0.182883          wood\n",
       "11227      7  0.999386         world\n",
       "11237      3  0.999329          wrap\n",
       "11260      3  0.308605          year\n",
       "11260      4  0.187260          year\n",
       "11260      7  0.504089          year\n",
       "11283      4  0.254406         young\n",
       "11283      7  0.745355         young\n",
       "11310      1  0.999302          zest\n",
       "11318      9  0.999451           zin\n",
       "11321      1  0.999711     zinfandel\n",
       "\n",
       "[949 rows x 3 columns], R=30, lambda_step=0.01, plot_opts={'xlab': 'PC1', 'ylab': 'PC2'}, topic_order=[7, 5, 4, 2, 3, 10, 1, 9, 8, 6])"
      ]
     },
     "execution_count": 67,
     "metadata": {},
     "output_type": "execute_result"
    }
   ],
   "source": [
    "pyLDAvis.enable_notebook()\n",
    "dash = pyLDAvis.sklearn.prepare(lda, data_vectorized, vectorizer, mds='tsne')\n",
    "dash"
   ]
  },
  {
   "cell_type": "markdown",
   "metadata": {},
   "source": [
    "# How to interpret this graph?\n",
    "\n",
    "    1. Topics on the left while their respective keywords are on the right.\n",
    "    2. Larger topics are more frequent and closer the topics, mor the similarity\n",
    "    3. Selection of keywords is based on their frequency and discriminancy.\n",
    "\n",
    "Hover over the topics on the left to get information about their keywords on the right.\n"
   ]
  },
  {
   "cell_type": "markdown",
   "metadata": {},
   "source": [
    "## Visualizing LSI(SVD) scatterplot\n",
    "\n",
    "We will be visualizing our data for 2 topics to see similarity between keywords which is measured by distance with the markers "
   ]
  },
  {
   "cell_type": "code",
   "execution_count": 68,
   "metadata": {
    "collapsed": true
   },
   "outputs": [],
   "source": [
    "svd_2d = TruncatedSVD(n_components=2)\n",
    "data_2d = svd_2d.fit_transform(data_vectorized)"
   ]
  },
  {
   "cell_type": "code",
   "execution_count": 70,
   "metadata": {},
   "outputs": [
    {
     "data": {
      "text/html": [
       "<script>requirejs.config({paths: { 'plotly': ['https://cdn.plot.ly/plotly-latest.min']},});if(!window.Plotly) {{require(['plotly'],function(plotly) {window.Plotly=plotly;});}}</script>"
      ],
      "text/vnd.plotly.v1+html": [
       "<script>requirejs.config({paths: { 'plotly': ['https://cdn.plot.ly/plotly-latest.min']},});if(!window.Plotly) {{require(['plotly'],function(plotly) {window.Plotly=plotly;});}}</script>"
      ]
     },
     "metadata": {},
     "output_type": "display_data"
    }
   ],
   "source": [
    "# Plotly based imports for visualization\n",
    "import plotly\n",
    "from plotly import tools\n",
    "import plotly.plotly as py\n",
    "from plotly.offline import init_notebook_mode, iplot\n",
    "init_notebook_mode(connected=True)\n",
    "import plotly.graph_objs as go\n",
    "import plotly.figure_factory as ff\n",
    "#plotly.tools.set_credentials_file(username=os.environ['PLOTLY_USERNAME'], api_key=os.environ['PLOTLY_API_KEY'])"
   ]
  },
  {
   "cell_type": "code",
   "execution_count": 71,
   "metadata": {},
   "outputs": [
    {
     "ename": "PlotlyDictKeyError",
     "evalue": "'hovertext' is not allowed in 'scattergl'\n\nPath To Error: ['hovertext']\n\nValid attributes for 'scattergl' at path [] under parents []:\n\n    ['connectgaps', 'customdata', 'customdatasrc', 'dx', 'dy', 'error_x',\n    'error_y', 'fill', 'fillcolor', 'hoverinfo', 'hoverinfosrc',\n    'hoverlabel', 'ids', 'idssrc', 'legendgroup', 'line', 'marker', 'mode',\n    'name', 'opacity', 'showlegend', 'stream', 'text', 'textsrc', 'type',\n    'uid', 'visible', 'x', 'x0', 'xaxis', 'xcalendar', 'xsrc', 'y', 'y0',\n    'yaxis', 'ycalendar', 'ysrc']\n\nRun `<scattergl-object>.help('attribute')` on any of the above.\n'<scattergl-object>' is the object at []",
     "output_type": "error",
     "traceback": [
      "\u001b[0;31m---------------------------------------------------------------------------\u001b[0m",
      "\u001b[0;31mPlotlyDictKeyError\u001b[0m                        Traceback (most recent call last)",
      "\u001b[0;32m<ipython-input-71-437e54b6da75>\u001b[0m in \u001b[0;36m<module>\u001b[0;34m()\u001b[0m\n\u001b[1;32m      9\u001b[0m     \u001b[0mtext\u001b[0m \u001b[0;34m=\u001b[0m \u001b[0mvectorizer\u001b[0m\u001b[0;34m.\u001b[0m\u001b[0mget_feature_names\u001b[0m\u001b[0;34m(\u001b[0m\u001b[0;34m)\u001b[0m\u001b[0;34m,\u001b[0m\u001b[0;34m\u001b[0m\u001b[0m\n\u001b[1;32m     10\u001b[0m     \u001b[0mhovertext\u001b[0m \u001b[0;34m=\u001b[0m \u001b[0mvectorizer\u001b[0m\u001b[0;34m.\u001b[0m\u001b[0mget_feature_names\u001b[0m\u001b[0;34m(\u001b[0m\u001b[0;34m)\u001b[0m\u001b[0;34m,\u001b[0m\u001b[0;34m\u001b[0m\u001b[0m\n\u001b[0;32m---> 11\u001b[0;31m     \u001b[0mhoverinfo\u001b[0m \u001b[0;34m=\u001b[0m \u001b[0;34m'text'\u001b[0m\u001b[0;34m\u001b[0m\u001b[0m\n\u001b[0m\u001b[1;32m     12\u001b[0m )\n\u001b[1;32m     13\u001b[0m \u001b[0mdata\u001b[0m \u001b[0;34m=\u001b[0m \u001b[0;34m[\u001b[0m\u001b[0mtrace\u001b[0m\u001b[0;34m]\u001b[0m\u001b[0;34m\u001b[0m\u001b[0m\n",
      "\u001b[0;32m/usr/local/lib/python2.7/dist-packages/plotly/graph_objs/graph_objs.pyc\u001b[0m in \u001b[0;36m__init__\u001b[0;34m(self, *args, **kwargs)\u001b[0m\n\u001b[1;32m    375\u001b[0m         \u001b[0md\u001b[0m \u001b[0;34m=\u001b[0m \u001b[0;34m{\u001b[0m\u001b[0mkey\u001b[0m\u001b[0;34m:\u001b[0m \u001b[0mval\u001b[0m \u001b[0;32mfor\u001b[0m \u001b[0mkey\u001b[0m\u001b[0;34m,\u001b[0m \u001b[0mval\u001b[0m \u001b[0;32min\u001b[0m \u001b[0mdict\u001b[0m\u001b[0;34m(\u001b[0m\u001b[0;34m*\u001b[0m\u001b[0margs\u001b[0m\u001b[0;34m,\u001b[0m \u001b[0;34m**\u001b[0m\u001b[0mkwargs\u001b[0m\u001b[0;34m)\u001b[0m\u001b[0;34m.\u001b[0m\u001b[0mitems\u001b[0m\u001b[0;34m(\u001b[0m\u001b[0;34m)\u001b[0m\u001b[0;34m}\u001b[0m\u001b[0;34m\u001b[0m\u001b[0m\n\u001b[1;32m    376\u001b[0m         \u001b[0;32mfor\u001b[0m \u001b[0mkey\u001b[0m\u001b[0;34m,\u001b[0m \u001b[0mval\u001b[0m \u001b[0;32min\u001b[0m \u001b[0md\u001b[0m\u001b[0;34m.\u001b[0m\u001b[0mitems\u001b[0m\u001b[0;34m(\u001b[0m\u001b[0;34m)\u001b[0m\u001b[0;34m:\u001b[0m\u001b[0;34m\u001b[0m\u001b[0m\n\u001b[0;32m--> 377\u001b[0;31m             \u001b[0mself\u001b[0m\u001b[0;34m.\u001b[0m\u001b[0m__setitem__\u001b[0m\u001b[0;34m(\u001b[0m\u001b[0mkey\u001b[0m\u001b[0;34m,\u001b[0m \u001b[0mval\u001b[0m\u001b[0;34m,\u001b[0m \u001b[0m_raise\u001b[0m\u001b[0;34m=\u001b[0m\u001b[0m_raise\u001b[0m\u001b[0;34m)\u001b[0m\u001b[0;34m\u001b[0m\u001b[0m\n\u001b[0m\u001b[1;32m    378\u001b[0m \u001b[0;34m\u001b[0m\u001b[0m\n\u001b[1;32m    379\u001b[0m     \u001b[0;32mdef\u001b[0m \u001b[0m__dir__\u001b[0m\u001b[0;34m(\u001b[0m\u001b[0mself\u001b[0m\u001b[0;34m)\u001b[0m\u001b[0;34m:\u001b[0m\u001b[0;34m\u001b[0m\u001b[0m\n",
      "\u001b[0;32m/usr/local/lib/python2.7/dist-packages/plotly/graph_objs/graph_objs.pyc\u001b[0m in \u001b[0;36m__setitem__\u001b[0;34m(self, key, value, _raise)\u001b[0m\n\u001b[1;32m    426\u001b[0m                 \u001b[0;32mif\u001b[0m \u001b[0m_raise\u001b[0m\u001b[0;34m:\u001b[0m\u001b[0;34m\u001b[0m\u001b[0m\n\u001b[1;32m    427\u001b[0m                     \u001b[0mpath\u001b[0m \u001b[0;34m=\u001b[0m \u001b[0mself\u001b[0m\u001b[0;34m.\u001b[0m\u001b[0m_get_path\u001b[0m\u001b[0;34m(\u001b[0m\u001b[0;34m)\u001b[0m \u001b[0;34m+\u001b[0m \u001b[0;34m(\u001b[0m\u001b[0mkey\u001b[0m\u001b[0;34m,\u001b[0m \u001b[0;34m)\u001b[0m\u001b[0;34m\u001b[0m\u001b[0m\n\u001b[0;32m--> 428\u001b[0;31m                     \u001b[0;32mraise\u001b[0m \u001b[0mexceptions\u001b[0m\u001b[0;34m.\u001b[0m\u001b[0mPlotlyDictKeyError\u001b[0m\u001b[0;34m(\u001b[0m\u001b[0mself\u001b[0m\u001b[0;34m,\u001b[0m \u001b[0mpath\u001b[0m\u001b[0;34m)\u001b[0m\u001b[0;34m\u001b[0m\u001b[0m\n\u001b[0m\u001b[1;32m    429\u001b[0m                 \u001b[0;32mreturn\u001b[0m\u001b[0;34m\u001b[0m\u001b[0m\n\u001b[1;32m    430\u001b[0m \u001b[0;34m\u001b[0m\u001b[0m\n",
      "\u001b[0;31mPlotlyDictKeyError\u001b[0m: 'hovertext' is not allowed in 'scattergl'\n\nPath To Error: ['hovertext']\n\nValid attributes for 'scattergl' at path [] under parents []:\n\n    ['connectgaps', 'customdata', 'customdatasrc', 'dx', 'dy', 'error_x',\n    'error_y', 'fill', 'fillcolor', 'hoverinfo', 'hoverinfosrc',\n    'hoverlabel', 'ids', 'idssrc', 'legendgroup', 'line', 'marker', 'mode',\n    'name', 'opacity', 'showlegend', 'stream', 'text', 'textsrc', 'type',\n    'uid', 'visible', 'x', 'x0', 'xaxis', 'xcalendar', 'xsrc', 'y', 'y0',\n    'yaxis', 'ycalendar', 'ysrc']\n\nRun `<scattergl-object>.help('attribute')` on any of the above.\n'<scattergl-object>' is the object at []"
     ]
    }
   ],
   "source": [
    "trace = go.Scattergl(\n",
    "    x = data_2d[:,0],\n",
    "    y = data_2d[:,1],\n",
    "    mode = 'markers',\n",
    "    marker = dict(\n",
    "        color = '#FFBAD2',\n",
    "        line = dict(width = 1)\n",
    "    ),\n",
    "    text = vectorizer.get_feature_names(),\n",
    "    hovertext = vectorizer.get_feature_names(),\n",
    "    hoverinfo = 'text' \n",
    ")\n",
    "data = [trace]\n",
    "iplot(data, filename='scatter-mode')"
   ]
  },
  {
   "cell_type": "markdown",
   "metadata": {},
   "source": [
    "## The text version of scatter plot looks messy but you can zoom it for great results"
   ]
  },
  {
   "cell_type": "code",
   "execution_count": 72,
   "metadata": {
    "scrolled": true
   },
   "outputs": [
    {
     "name": "stderr",
     "output_type": "stream",
     "text": [
      "IOPub data rate exceeded.\n",
      "The notebook server will temporarily stop sending output\n",
      "to the client in order to avoid crashing it.\n",
      "To change this limit, set the config variable\n",
      "`--NotebookApp.iopub_data_rate_limit`.\n"
     ]
    }
   ],
   "source": [
    "trace = go.Scattergl(\n",
    "    x = data_2d[:,0],\n",
    "    y = data_2d[:,1],\n",
    "    mode = 'text',\n",
    "    marker = dict(\n",
    "        color = '#FFBAD2',\n",
    "        line = dict(width = 1)\n",
    "    ),\n",
    "    text = vectorizer.get_feature_names()\n",
    ")\n",
    "data = [trace]\n",
    "iplot(data, filename='text-scatter-mode')"
   ]
  },
  {
   "cell_type": "markdown",
   "metadata": {},
   "source": [
    "## Let's see what happens when we use a spaCy based bigram tokenizer for topic modelling"
   ]
  },
  {
   "cell_type": "code",
   "execution_count": 28,
   "metadata": {
    "collapsed": true
   },
   "outputs": [],
   "source": [
    "def spacy_bigram_tokenizer(phrase):\n",
    "    doc = parser(phrase) # create spacy object\n",
    "    token_not_noun = []\n",
    "    notnoun_noun_list = []\n",
    "    noun = \"\"\n",
    "\n",
    "    for item in doc:\n",
    "        if item.pos_ != \"NOUN\": # separate nouns and not nouns\n",
    "            token_not_noun.append(item.text)\n",
    "        if item.pos_ == \"NOUN\":\n",
    "            noun = item.text\n",
    "        \n",
    "        for notnoun in token_not_noun:\n",
    "            notnoun_noun_list.append(notnoun + \" \" + noun)\n",
    "\n",
    "    return \" \".join([i for i in notnoun_noun_list])"
   ]
  },
  {
   "cell_type": "code",
   "execution_count": 29,
   "metadata": {
    "collapsed": true
   },
   "outputs": [],
   "source": [
    "bivectorizer = CountVectorizer(min_df=5, max_df=0.9, stop_words='english', lowercase=True, ngram_range=(1,2))\n",
    "bigram_vectorized = bivectorizer.fit_transform(wines[\"processed_description\"])"
   ]
  },
  {
   "cell_type": "markdown",
   "metadata": {},
   "source": [
    "## LDA for bigram data"
   ]
  },
  {
   "cell_type": "code",
   "execution_count": 30,
   "metadata": {},
   "outputs": [
    {
     "name": "stdout",
     "output_type": "stream",
     "text": [
      "iteration: 1 of max_iter: 10\n",
      "iteration: 2 of max_iter: 10\n",
      "iteration: 3 of max_iter: 10\n",
      "iteration: 4 of max_iter: 10\n",
      "iteration: 5 of max_iter: 10\n",
      "iteration: 6 of max_iter: 10\n",
      "iteration: 7 of max_iter: 10\n",
      "iteration: 8 of max_iter: 10\n",
      "iteration: 9 of max_iter: 10\n",
      "iteration: 10 of max_iter: 10\n"
     ]
    }
   ],
   "source": [
    "bi_lda = LatentDirichletAllocation(n_components=NUM_TOPICS, max_iter=10, learning_method='online',verbose=True)\n",
    "data_bi_lda = bi_lda.fit_transform(bigram_vectorized)"
   ]
  },
  {
   "cell_type": "markdown",
   "metadata": {},
   "source": [
    "## Topics for bigram model"
   ]
  },
  {
   "cell_type": "code",
   "execution_count": 31,
   "metadata": {},
   "outputs": [
    {
     "name": "stdout",
     "output_type": "stream",
     "text": [
      "Bi-LDA Model:\n",
      "Topic 0:\n",
      "[('aroma', 8171.939114567469), ('spice', 5809.372571449917), ('offer', 5331.169147038662), ('cherry', 4350.678353529048), ('note', 3607.7317295601993), ('open', 3076.261797879477), ('berry', 2876.2881402200137), ('close', 2599.526877954569), ('wine', 2557.8525887518463), ('deliver', 2555.2060764423277)]\n",
      "Topic 1:\n",
      "[('dry', 14297.620689602543), ('crisp', 13728.049126273025), ('acidity', 12764.28572779791), ('wine', 11967.411192831361), ('flavor', 11491.437014572175), ('fresh', 11375.161327465637), ('citrus', 11245.942104056649), ('spin', 11236.000061966615), ('spin dry', 11105.957606335078), ('white', 10285.785013975243)]\n",
      "Topic 2:\n",
      "[('berry', 16447.15814347084), ('flavor', 11793.595809772707), ('palate', 11610.35546401836), ('fruit', 11603.643944363883), ('finish', 11589.807150406763), ('aroma', 11542.877887689086), ('plum', 11348.854561666963), ('red', 9619.187697616971), ('cherry', 7174.890042967764), ('nose', 6943.665781579269)]\n",
      "Topic 3:\n",
      "[('wine', 34993.84730259047), ('fruit', 24672.702859197616), ('age', 13068.276416710705), ('acidity', 12607.660525266143), ('tannin', 12439.292903893094), ('ripe', 11409.495836813861), ('year', 9140.763846708842), ('rich', 8982.674540040472), ('structure', 8698.941986399892), ('flavor', 8100.392433254124)]\n",
      "Topic 4:\n",
      "[('flavor', 19142.221509754756), ('cherry', 16204.911370320202), ('little', 10016.989875755235), ('pinot', 8828.466104940297), ('oak', 8220.467739974903), ('wine', 8062.787661711842), ('dry', 7282.527465241971), ('raspberry', 7206.310929921604), ('drink', 6831.655436469686), ('spin', 6046.278501292608)]\n",
      "Topic 5:\n",
      "[('wine', 20183.08467060814), ('sweet', 13781.761659346064), ('soft', 10429.3333926482), ('fruit', 9850.633953821034), ('ripe', 7383.906415032424), ('rich', 7053.032118272016), ('touch', 6361.30003993727), ('spice', 6270.921552790501), ('mouth', 5348.428918742546), ('smooth', 4384.050103663491)]\n",
      "Topic 6:\n",
      "[('flavor', 19002.30913546758), ('palate', 9846.143921657142), ('aroma', 9020.404272643702), ('finish', 8531.592899903097), ('nose', 7183.417994512016), ('chardonnay', 6340.184313097824), ('green', 6179.099633122222), ('vanilla', 5945.662277298789), ('fruit', 5209.155038952789), ('pineapple', 5205.251257544348)]\n",
      "Topic 7:\n",
      "[('grape', 4277.193154560114), ('blend', 4081.4159122773813), ('wine', 3708.643391534127), ('vineyard', 3292.5121730489), ('valley', 2722.965700681968), ('vintage', 2687.4778628964204), ('winery', 2634.0460619951036), ('strawberry', 2192.1291704990786), ('floral', 1989.215556975629), ('variety', 1886.1583965979871)]\n",
      "Topic 8:\n",
      "[('fruit', 10562.749868338547), ('finish', 9919.740776209628), ('wine', 7979.824109109332), ('good', 6649.608637075669), ('medium', 6417.041252128187), ('bodied', 5768.706154001304), ('spicy', 5365.572140366616), ('slightly', 4702.535714516787), ('flavor', 4264.723504826806), ('note', 4002.19462488706)]\n",
      "Topic 9:\n",
      "[('blackberry', 18568.078819995935), ('black', 15583.692357280552), ('tannin', 14367.114942853732), ('cherry', 12946.548716445348), ('cabernet', 11655.043799462848), ('flavor', 10659.65429310907), ('dry', 9649.740200722787), ('chocolate', 8738.495697207223), ('blend', 8444.66077989525), ('currant', 8150.809066488213)]\n"
     ]
    }
   ],
   "source": [
    "print(\"Bi-LDA Model:\")\n",
    "selected_topics(bi_lda, bivectorizer)"
   ]
  },
  {
   "cell_type": "code",
   "execution_count": 32,
   "metadata": {},
   "outputs": [
    {
     "data": {
      "text/html": [
       "\n",
       "<link rel=\"stylesheet\" type=\"text/css\" href=\"https://cdn.rawgit.com/bmabey/pyLDAvis/files/ldavis.v1.0.0.css\">\n",
       "\n",
       "\n",
       "<div id=\"ldavis_el2552822108131569523078496217\"></div>\n",
       "<script type=\"text/javascript\">\n",
       "\n",
       "var ldavis_el2552822108131569523078496217_data = {\"mdsDat\": {\"x\": [-39.25005340576172, 46.14826965332031, -55.136722564697266, 101.28649139404297, -9.881477355957031, 82.13579559326172, 23.638343811035156, -71.2942123413086, 39.004119873046875, -1.7509667873382568], \"y\": [-93.48200988769531, -16.42414665222168, 52.97972869873047, -44.0219841003418, -39.49957275390625, 36.328006744384766, 78.06806945800781, -18.118776321411133, -87.93193817138672, 20.607227325439453], \"topics\": [1, 2, 3, 4, 5, 6, 7, 8, 9, 10], \"cluster\": [1, 1, 1, 1, 1, 1, 1, 1, 1, 1], \"Freq\": [13.225849524345481, 12.999695132038388, 12.392091996396472, 10.765208575655414, 10.54763396501714, 10.093645881746266, 9.955451010117052, 8.470336882714765, 6.152743967195471, 5.397343064773546]}, \"tinfo\": {\"Category\": [\"Default\", \"Default\", \"Default\", \"Default\", \"Default\", \"Default\", \"Default\", \"Default\", \"Default\", \"Default\", \"Default\", \"Default\", \"Default\", \"Default\", \"Default\", \"Default\", \"Default\", \"Default\", \"Default\", \"Default\", \"Default\", \"Default\", \"Default\", \"Default\", \"Default\", \"Default\", \"Default\", \"Default\", \"Default\", \"Default\", \"Topic1\", \"Topic1\", \"Topic1\", \"Topic1\", \"Topic1\", \"Topic1\", \"Topic1\", \"Topic1\", \"Topic1\", \"Topic1\", \"Topic1\", \"Topic1\", \"Topic1\", \"Topic1\", \"Topic1\", \"Topic1\", \"Topic1\", \"Topic1\", \"Topic1\", \"Topic1\", \"Topic1\", \"Topic1\", \"Topic1\", \"Topic1\", \"Topic1\", \"Topic1\", \"Topic1\", \"Topic1\", \"Topic1\", \"Topic1\", \"Topic1\", \"Topic1\", \"Topic1\", \"Topic1\", \"Topic1\", \"Topic1\", \"Topic1\", \"Topic1\", \"Topic1\", \"Topic1\", \"Topic1\", \"Topic1\", \"Topic1\", \"Topic1\", \"Topic1\", \"Topic1\", \"Topic1\", \"Topic1\", \"Topic1\", \"Topic1\", \"Topic1\", \"Topic1\", \"Topic1\", \"Topic1\", \"Topic1\", \"Topic1\", \"Topic1\", \"Topic1\", \"Topic1\", \"Topic1\", \"Topic1\", \"Topic1\", \"Topic1\", \"Topic2\", \"Topic2\", \"Topic2\", \"Topic2\", \"Topic2\", \"Topic2\", \"Topic2\", \"Topic2\", \"Topic2\", \"Topic2\", \"Topic2\", \"Topic2\", \"Topic2\", \"Topic2\", \"Topic2\", \"Topic2\", \"Topic2\", \"Topic2\", \"Topic2\", \"Topic2\", \"Topic2\", \"Topic2\", \"Topic2\", \"Topic2\", \"Topic2\", \"Topic2\", \"Topic2\", \"Topic2\", \"Topic2\", \"Topic2\", \"Topic2\", \"Topic2\", \"Topic2\", \"Topic2\", \"Topic2\", \"Topic2\", \"Topic2\", \"Topic2\", \"Topic2\", \"Topic2\", \"Topic2\", \"Topic2\", \"Topic2\", \"Topic2\", \"Topic2\", \"Topic2\", \"Topic2\", \"Topic2\", \"Topic2\", \"Topic2\", \"Topic2\", \"Topic2\", \"Topic2\", \"Topic2\", \"Topic2\", \"Topic2\", \"Topic2\", \"Topic2\", \"Topic2\", \"Topic2\", \"Topic2\", \"Topic2\", \"Topic2\", \"Topic2\", \"Topic3\", \"Topic3\", \"Topic3\", \"Topic3\", \"Topic3\", \"Topic3\", \"Topic3\", \"Topic3\", \"Topic3\", \"Topic3\", \"Topic3\", \"Topic3\", \"Topic3\", \"Topic3\", \"Topic3\", \"Topic3\", \"Topic3\", \"Topic3\", \"Topic3\", \"Topic3\", \"Topic3\", \"Topic3\", \"Topic3\", \"Topic3\", \"Topic3\", \"Topic3\", \"Topic3\", \"Topic3\", \"Topic3\", \"Topic3\", \"Topic3\", \"Topic3\", \"Topic3\", \"Topic3\", \"Topic3\", \"Topic3\", \"Topic3\", \"Topic3\", \"Topic3\", \"Topic3\", \"Topic3\", \"Topic3\", \"Topic3\", \"Topic3\", \"Topic3\", \"Topic3\", \"Topic3\", \"Topic3\", \"Topic3\", \"Topic3\", \"Topic3\", \"Topic3\", \"Topic3\", \"Topic3\", \"Topic3\", \"Topic3\", \"Topic3\", \"Topic3\", \"Topic3\", \"Topic3\", \"Topic3\", \"Topic3\", \"Topic3\", \"Topic3\", \"Topic3\", \"Topic3\", \"Topic4\", \"Topic4\", \"Topic4\", \"Topic4\", \"Topic4\", \"Topic4\", \"Topic4\", \"Topic4\", \"Topic4\", \"Topic4\", \"Topic4\", \"Topic4\", \"Topic4\", \"Topic4\", \"Topic4\", \"Topic4\", \"Topic4\", \"Topic4\", \"Topic4\", \"Topic4\", \"Topic4\", \"Topic4\", \"Topic4\", \"Topic4\", \"Topic4\", \"Topic4\", \"Topic4\", \"Topic4\", \"Topic4\", \"Topic4\", \"Topic4\", \"Topic4\", \"Topic4\", \"Topic4\", \"Topic4\", \"Topic4\", \"Topic4\", \"Topic4\", \"Topic4\", \"Topic4\", \"Topic4\", \"Topic4\", \"Topic4\", \"Topic4\", \"Topic4\", \"Topic4\", \"Topic4\", \"Topic4\", \"Topic4\", \"Topic4\", \"Topic4\", \"Topic4\", \"Topic4\", \"Topic4\", \"Topic4\", \"Topic4\", \"Topic4\", \"Topic4\", \"Topic4\", \"Topic4\", \"Topic4\", \"Topic4\", \"Topic4\", \"Topic5\", \"Topic5\", \"Topic5\", \"Topic5\", \"Topic5\", \"Topic5\", \"Topic5\", \"Topic5\", \"Topic5\", \"Topic5\", \"Topic5\", \"Topic5\", \"Topic5\", \"Topic5\", \"Topic5\", \"Topic5\", \"Topic5\", \"Topic5\", \"Topic5\", \"Topic5\", \"Topic5\", \"Topic5\", \"Topic5\", \"Topic5\", \"Topic5\", \"Topic5\", \"Topic5\", \"Topic5\", \"Topic5\", \"Topic5\", \"Topic5\", \"Topic5\", \"Topic5\", \"Topic5\", \"Topic5\", \"Topic5\", \"Topic5\", \"Topic5\", \"Topic5\", \"Topic5\", \"Topic5\", \"Topic5\", \"Topic5\", \"Topic5\", \"Topic5\", \"Topic5\", \"Topic5\", \"Topic5\", \"Topic5\", \"Topic5\", \"Topic5\", \"Topic5\", \"Topic5\", \"Topic5\", \"Topic5\", \"Topic5\", \"Topic5\", \"Topic5\", \"Topic5\", \"Topic5\", \"Topic5\", \"Topic5\", \"Topic5\", \"Topic5\", \"Topic5\", \"Topic5\", \"Topic5\", \"Topic5\", \"Topic5\", \"Topic6\", \"Topic6\", \"Topic6\", \"Topic6\", \"Topic6\", \"Topic6\", \"Topic6\", \"Topic6\", \"Topic6\", \"Topic6\", \"Topic6\", \"Topic6\", \"Topic6\", \"Topic6\", \"Topic6\", \"Topic6\", \"Topic6\", \"Topic6\", \"Topic6\", \"Topic6\", \"Topic6\", \"Topic6\", \"Topic6\", \"Topic6\", \"Topic6\", \"Topic6\", \"Topic6\", \"Topic6\", \"Topic6\", \"Topic6\", \"Topic6\", \"Topic6\", \"Topic6\", \"Topic6\", \"Topic6\", \"Topic6\", \"Topic6\", \"Topic6\", \"Topic6\", \"Topic6\", \"Topic6\", \"Topic6\", \"Topic6\", \"Topic6\", \"Topic6\", \"Topic6\", \"Topic6\", \"Topic6\", \"Topic6\", \"Topic6\", \"Topic6\", \"Topic6\", \"Topic6\", \"Topic6\", \"Topic6\", \"Topic6\", \"Topic6\", \"Topic6\", \"Topic6\", \"Topic6\", \"Topic6\", \"Topic6\", \"Topic6\", \"Topic6\", \"Topic7\", \"Topic7\", \"Topic7\", \"Topic7\", \"Topic7\", \"Topic7\", \"Topic7\", \"Topic7\", \"Topic7\", \"Topic7\", \"Topic7\", \"Topic7\", \"Topic7\", \"Topic7\", \"Topic7\", \"Topic7\", \"Topic7\", \"Topic7\", \"Topic7\", \"Topic7\", \"Topic7\", \"Topic7\", \"Topic7\", \"Topic7\", \"Topic7\", \"Topic7\", \"Topic7\", \"Topic7\", \"Topic7\", \"Topic7\", \"Topic7\", \"Topic7\", \"Topic7\", \"Topic7\", \"Topic7\", \"Topic7\", \"Topic7\", \"Topic7\", \"Topic7\", \"Topic7\", \"Topic7\", \"Topic7\", \"Topic7\", \"Topic7\", \"Topic7\", \"Topic7\", \"Topic7\", \"Topic7\", \"Topic7\", \"Topic7\", \"Topic7\", \"Topic7\", \"Topic7\", \"Topic7\", \"Topic7\", \"Topic7\", \"Topic7\", \"Topic7\", \"Topic7\", \"Topic7\", \"Topic7\", \"Topic7\", \"Topic7\", \"Topic7\", \"Topic7\", \"Topic8\", \"Topic8\", \"Topic8\", \"Topic8\", \"Topic8\", \"Topic8\", \"Topic8\", \"Topic8\", \"Topic8\", \"Topic8\", \"Topic8\", \"Topic8\", \"Topic8\", \"Topic8\", \"Topic8\", \"Topic8\", \"Topic8\", \"Topic8\", \"Topic8\", \"Topic8\", \"Topic8\", \"Topic8\", \"Topic8\", \"Topic8\", \"Topic8\", \"Topic8\", \"Topic8\", \"Topic8\", \"Topic8\", \"Topic8\", \"Topic8\", \"Topic8\", \"Topic8\", \"Topic8\", \"Topic8\", \"Topic8\", \"Topic8\", \"Topic8\", \"Topic8\", \"Topic8\", \"Topic8\", \"Topic8\", \"Topic8\", \"Topic8\", \"Topic8\", \"Topic8\", \"Topic8\", \"Topic8\", \"Topic8\", \"Topic8\", \"Topic8\", \"Topic8\", \"Topic8\", \"Topic8\", \"Topic8\", \"Topic8\", \"Topic8\", \"Topic8\", \"Topic8\", \"Topic8\", \"Topic8\", \"Topic8\", \"Topic8\", \"Topic8\", \"Topic9\", \"Topic9\", \"Topic9\", \"Topic9\", \"Topic9\", \"Topic9\", \"Topic9\", \"Topic9\", \"Topic9\", \"Topic9\", \"Topic9\", \"Topic9\", \"Topic9\", \"Topic9\", \"Topic9\", \"Topic9\", \"Topic9\", \"Topic9\", \"Topic9\", \"Topic9\", \"Topic9\", \"Topic9\", \"Topic9\", \"Topic9\", \"Topic9\", \"Topic9\", \"Topic9\", \"Topic9\", \"Topic9\", \"Topic9\", \"Topic9\", \"Topic9\", \"Topic9\", \"Topic9\", \"Topic9\", \"Topic9\", \"Topic9\", \"Topic9\", \"Topic9\", \"Topic9\", \"Topic9\", \"Topic9\", \"Topic9\", \"Topic9\", \"Topic9\", \"Topic9\", \"Topic9\", \"Topic9\", \"Topic9\", \"Topic9\", \"Topic9\", \"Topic9\", \"Topic9\", \"Topic9\", \"Topic9\", \"Topic9\", \"Topic9\", \"Topic9\", \"Topic9\", \"Topic9\", \"Topic9\", \"Topic9\", \"Topic9\", \"Topic9\", \"Topic10\", \"Topic10\", \"Topic10\", \"Topic10\", \"Topic10\", \"Topic10\", \"Topic10\", \"Topic10\", \"Topic10\", \"Topic10\", \"Topic10\", \"Topic10\", \"Topic10\", \"Topic10\", \"Topic10\", \"Topic10\", \"Topic10\", \"Topic10\", \"Topic10\", \"Topic10\", \"Topic10\", \"Topic10\", \"Topic10\", \"Topic10\", \"Topic10\", \"Topic10\", \"Topic10\", \"Topic10\", \"Topic10\", \"Topic10\", \"Topic10\", \"Topic10\", \"Topic10\", \"Topic10\", \"Topic10\", \"Topic10\", \"Topic10\", \"Topic10\", \"Topic10\", \"Topic10\", \"Topic10\", \"Topic10\", \"Topic10\", \"Topic10\", \"Topic10\", \"Topic10\", \"Topic10\", \"Topic10\", \"Topic10\", \"Topic10\", \"Topic10\", \"Topic10\", \"Topic10\"], \"Freq\": [39731.0, 19055.0, 34013.0, 21374.0, 94610.0, 27360.0, 33041.0, 41317.0, 22759.0, 14309.0, 24877.0, 32536.0, 13860.0, 83852.0, 11392.0, 22965.0, 30575.0, 22761.0, 72636.0, 15107.0, 21597.0, 12531.0, 17901.0, 10845.0, 13433.0, 14604.0, 15963.0, 12168.0, 16391.0, 11656.0, 4060.899114965101, 2658.6003742199396, 2588.6746943420776, 2477.752258644383, 2471.9738891499283, 2156.1767402421583, 4973.280716644102, 1912.4246703423678, 1893.1682148161944, 1679.288773696036, 1462.2156074180589, 1386.5213196987422, 1350.8658788564414, 1265.0431136529326, 1252.4569354231842, 1195.22050494075, 1137.7773483674166, 1134.9047927461047, 1033.864927835451, 969.2880628192173, 930.2296254580771, 905.4012673277862, 856.8521531849696, 834.5933911185725, 833.2230943793153, 813.2877025662684, 794.139665411271, 781.0756033069608, 773.7425081118078, 790.8261018309368, 13772.04461259682, 11281.982963721865, 10318.74877377457, 9094.568482490367, 6690.083605980091, 4352.037642627859, 3541.664885528925, 6239.761167499724, 5533.4342704771625, 6870.037486901609, 1772.646618165713, 1815.4921706864595, 4918.317874706138, 11411.616307340068, 8949.949579774999, 11272.00905949521, 11141.549845369758, 14343.441532005296, 12805.192556802154, 2352.844752033418, 2604.5111415068473, 4869.543329350247, 4865.98616369882, 4182.588151769674, 11528.264633366733, 12005.764207933687, 2990.6790671843296, 5328.292953268555, 6460.144034582946, 6687.990432649292, 3738.454187013688, 3678.297808515799, 3332.817174385628, 3171.1055895360173, 2268.2476641116214, 2172.2323954970548, 2022.9919253911492, 1466.9700404451576, 1360.736949876333, 1267.2406868332916, 1122.242401782449, 1048.648570813008, 1037.252678243226, 1020.2274614207056, 1014.1627983897198, 989.0392852879241, 950.1832327034431, 942.3560516244895, 896.4865324647202, 862.872832670253, 856.2768444492011, 831.7960933366138, 830.4965963218639, 813.3439187111113, 803.1553821472631, 799.1814887846897, 787.0659182824475, 781.4361336864928, 759.5219238750519, 742.5450125706701, 730.7964958250905, 721.1864670024511, 683.2282389389151, 13294.1143622511, 7099.146213320817, 1790.0699131894207, 3664.702012836523, 8849.271771594176, 6456.476080722432, 3157.933777100664, 2081.981539212909, 1256.686416342193, 9298.728926569791, 35598.5895294434, 3389.7995135041933, 2444.786538969136, 25099.081391987507, 11606.667752778454, 12825.538389209698, 3359.567247580713, 12654.26114177014, 9137.907617371673, 4764.685423116812, 3344.441196687435, 3083.202102526631, 4155.436175227456, 3536.464746698772, 5069.768342194143, 7117.19620919721, 6056.361494296729, 3388.3408162507244, 8240.378451827914, 4288.792751114572, 3775.6872018033328, 3638.4119390535698, 3882.710103887194, 3122.061700392703, 11391.227519119688, 7111.491928370352, 4491.627734327351, 4405.912100099284, 2988.5520250204627, 2586.301168719671, 1604.1269929775785, 1558.1050590367756, 1553.944745864241, 1361.1704058445396, 1262.4600886352491, 1250.5235204890796, 1215.2512478840613, 1206.235908487307, 1172.1705433738548, 1168.5548322934562, 1104.2461490066012, 1082.4260134383906, 1078.1396995324214, 1071.6727427513986, 995.7440460341692, 991.1645586695662, 947.2863130270011, 913.6858562224274, 895.4811211550397, 842.9554289911754, 827.3374360794874, 825.3841581837015, 822.1041511908021, 773.8413967054519, 3813.5418662953766, 18147.78340354836, 1025.0845666021037, 1124.927503030481, 6060.915499068786, 1038.7934734131745, 1866.3441086381179, 7966.312451399788, 2194.0924493499037, 6373.933727712126, 4913.7503002566145, 2085.3045930668345, 15230.949645846093, 8540.69657518778, 2875.5526649881886, 4903.409463557566, 8253.512721248366, 14041.90991671209, 5464.63679032398, 4870.138852543374, 3146.1707766932623, 12653.498738734279, 2689.8784960488997, 5720.60900830443, 9431.314718173346, 2701.751572960684, 3224.2881288137487, 6039.551853147501, 5969.952106954494, 10418.36902694116, 3672.4060024616365, 4204.93739225675, 3762.4322031259817, 4843.139365942504, 3899.3457579634396, 3599.047047846806, 3966.4402104581745, 3915.3001567840347, 2987.9669668745064, 2246.3855582308947, 2227.344042537453, 1871.1893100844595, 1859.290714848349, 1765.322879677148, 1696.6978382741665, 1188.3931306214702, 1154.120622860769, 882.5705312325705, 824.3465974963786, 728.9765527155733, 723.3261967504471, 715.1206324730164, 691.6935781538978, 670.7930354670136, 632.8377642329814, 611.4025774279613, 579.356135123005, 564.9269900451516, 560.7143400395, 556.5576320420519, 511.12989953617625, 509.69390515684995, 472.78828977482635, 454.6716716699329, 417.3049445801846, 416.51609635453144, 4981.388194892636, 8254.603813157724, 9365.871924059526, 1674.7645714930707, 4783.601131845852, 5517.476975574777, 1568.1250807163226, 2461.181214614863, 920.2907658104642, 2983.5116926290507, 6737.890928486873, 15151.570114141894, 3159.07450637228, 7686.126167983491, 1466.0960336816693, 1618.6890280474083, 17897.95110368156, 2900.2350762172446, 5171.019117550065, 6387.588551142059, 5629.134577862627, 2920.7431101158945, 5648.825459369007, 6809.1532854583875, 5653.26218381863, 3712.9221414051, 7538.695509042532, 3013.9966299014436, 2704.5680573997283, 3970.0486966126427, 3454.8606180290994, 3208.08233140838, 2574.8132433674264, 2518.039783604656, 1270.6183033640261, 1237.005020911939, 1154.9746143197717, 1062.6263746001562, 1031.3520055388467, 987.018490217545, 984.8022819180956, 967.6685199224717, 948.0199520010607, 875.0127869180101, 861.1530208321717, 793.2798833558224, 783.3316543820958, 776.9249812543986, 764.7163127681165, 757.13213059185, 748.3641132161996, 714.811360620999, 682.5007051076273, 673.1071436748664, 636.153989489719, 577.5551443733611, 521.735474873437, 511.86313076667864, 502.7717531009407, 489.42755170755316, 486.5653461750291, 485.2687283156144, 453.68804278936915, 16236.804177139662, 11203.706290486143, 1037.907948742739, 1354.0122575073424, 3748.0075121050895, 1766.236805604681, 1154.406334867335, 4381.717676516617, 2999.2305797379786, 2381.2551371372997, 9496.161320207142, 11461.862678756203, 2911.5419695975975, 2645.6789190019763, 6854.858485796494, 11395.248119350308, 1354.4346197029868, 4917.5338427633615, 11441.577171596147, 2975.7237050741955, 2671.983261772656, 11455.236997321748, 5987.2283576987475, 11642.759438269994, 2966.8019250659663, 3859.5313570789967, 7083.1254617943605, 2383.490357587042, 2461.944252121452, 1946.7846289860083, 2715.007221737399, 2816.760206234659, 2673.9732861127004, 3803.2846030681444, 3537.126576189429, 3444.364908497781, 3282.471161607171, 2751.1113130853223, 2750.6631685693064, 1515.5801048914154, 1377.1197825520408, 1298.7353817835417, 1227.5200925891627, 1176.8281622239078, 1140.6227250918766, 1108.3379787923875, 1067.1318578998691, 996.1452611050454, 959.9130726545227, 936.9463887337629, 934.0486948949348, 820.482120450892, 786.0297397237405, 742.1373401386077, 738.0154834133223, 716.9477101933884, 889.5536273905986, 684.0122609415452, 680.7079460857499, 632.5438069387861, 627.4650181757485, 616.5481006043832, 591.5331544415236, 590.0275441325063, 581.4522417787255, 577.0746157205109, 572.6616447094235, 523.0316545221281, 517.7924443565466, 2274.8715957810177, 3892.6574687244147, 13207.476254953577, 2263.738199287838, 1554.7545387941173, 2352.430169289793, 9994.743527216928, 6096.224946041715, 1697.364632034964, 1879.5863861617368, 4201.3669279642545, 5125.56012008054, 19342.0564168589, 2136.191033246273, 6759.132578985742, 3368.734769746192, 2053.743090387485, 7076.219358299911, 3221.117156124795, 6009.612526493732, 2052.657366377804, 9440.158468645583, 2467.474097249005, 4032.1710885725743, 3570.874238939141, 2909.0342482853835, 2560.177488811556, 2788.6852312252, 1930.1223690822874, 2580.245744969701, 2416.0269027198983, 2933.3989284390746, 2148.9160787294113, 2263.08177793377, 3150.4241165664716, 2727.4525030905966, 1668.5632129233968, 1536.9508287957653, 1467.6027215123029, 1342.593452773537, 1341.3263888178215, 1338.2475226463775, 1320.65780123591, 1245.3152117098691, 1022.370996014802, 1010.50412909065, 959.3380436208021, 939.1901802784107, 920.7232858452203, 910.9101707247496, 870.779979753806, 830.1361277624114, 829.033293009211, 751.3639427883352, 739.6788134535842, 737.3095477898497, 717.0853856998806, 715.4944666308552, 704.4115974595657, 699.2772312193731, 634.0531661782107, 630.0363744742926, 607.1078465113789, 588.5275277003302, 6023.091761251436, 4944.920276180511, 1976.8729399427423, 3000.1299682780987, 2122.507269564175, 1088.6656262408706, 1628.2025971939267, 3204.680056150513, 5870.063432592199, 6824.152675023829, 1154.7257013980573, 9353.707306602397, 5648.301012890324, 2027.45058901099, 18051.943909918595, 8569.265493666926, 3454.0493559336333, 3729.754958177292, 4483.200863303365, 8104.901114562397, 3667.5685435415344, 3752.1855284630296, 4747.061244740452, 2656.7164365942685, 2027.0773619153745, 3638.1520071167492, 2350.4515147524016, 4948.628817206729, 2307.359452858153, 3601.552163762003, 2264.780541102363, 2553.0241882946234, 2329.287355949013, 2130.2367976299697, 2134.8755868609187, 6107.763843041805, 2434.652788744658, 2103.4254186251933, 1715.1502747389425, 1356.1158732844156, 1162.9992334944757, 1134.8137375054798, 1116.809693999249, 1048.8969026997327, 1044.346982225421, 1036.4564376684407, 959.9974971924007, 954.729650251478, 882.3382292053988, 861.6496724002069, 858.9716158119181, 819.1154252367983, 751.2075505858488, 732.7171739644901, 714.120939319595, 695.2328804701771, 677.4702708561975, 641.8663691540855, 567.9291916014482, 565.3150331332183, 557.400546393723, 547.3907541031568, 521.4658278207303, 510.3680399475682, 483.2328233181936, 1905.9977374195712, 2497.3459451680656, 5490.676073939329, 4475.891065561229, 805.9135593549379, 5106.9716133264765, 912.1990209709858, 1030.1930961701953, 2777.6147447698586, 3275.833233449145, 2630.9256403031236, 3387.354510949562, 9441.646338986371, 3727.822714771967, 2420.7638579596087, 1994.0426021889314, 10053.66479567771, 2063.2440278820004, 6329.122349095031, 2068.614041552381, 2319.179629119621, 3289.2090604732957, 2923.884274939755, 7595.226406139621, 2279.6266948185753, 3809.303799409819, 2288.518658193148, 2741.05909541652, 2760.5166420249475, 4059.1797683571062, 2110.558271074836, 2253.5088631382023, 2136.217925938313, 2090.5676322403297, 2534.9761447767783, 1694.2699783055702, 1544.4672787583547, 1380.6801398998641, 1276.7031228177225, 1022.0267277948748, 924.9947389242005, 841.2609430787246, 837.9074817840132, 792.7042561185632, 767.0727217796536, 690.8190445364543, 687.6417883614441, 653.217464877543, 645.4720972386931, 636.7378368526727, 621.392211840892, 610.0948104801954, 610.0436607039602, 584.5523299256851, 570.579144119162, 552.8895459889424, 528.7028913336208, 527.800242794285, 516.887788400668, 514.7363167676799, 501.1769873456211, 474.4718366736966, 468.71432073950723, 465.82680369673074, 2893.440228446633, 2844.1083322696554, 2288.160920718491, 1598.8322075223446, 5933.9333651486, 1882.8114406911711, 3424.0767867042628, 1971.8970920152176, 988.6967985083588, 2291.7540011815336, 9095.892633012932, 2561.6583552790576, 6466.204463134394, 1171.6194502165984, 1057.447692475122, 2530.1518067067877, 1552.890624521804, 1167.290677297542, 1056.950214300513, 4015.6369254264214, 4842.584193258305, 1652.6839634484795, 3201.493273293243, 1185.7501211536658, 2745.7373945337517, 2480.574291938771, 1823.312286600847, 2847.0540702985177, 1388.786459805447, 2522.053761016889, 2098.4283093668637, 1587.6998922655448, 1485.969995001079, 1415.1417694598715, 2642.8868344206066, 1677.996210633543, 1646.1671951623446, 1631.2787246356615, 1475.7679466923585, 1076.114156770294, 985.3253309879165, 937.6176526153533, 844.0628052001274, 814.6926464983779, 758.2415039190668, 689.0348454719563, 670.9525584511794, 617.9205423964431, 604.7628844521937, 576.948468702105, 567.3868664764162, 552.1528056205437, 517.5132251663, 517.316718853173, 517.0744065643827, 513.6687056169762, 510.62034026780805, 504.35439414747333, 488.85631876421166, 482.0941876034597, 475.4510972446653, 461.00404238823677, 421.94672114789824, 421.4867362271619, 2556.5822062175803, 4151.40648801773, 1830.6889406474088, 2127.66151355134, 3195.6836886124443, 802.438496639199, 2608.4426476128224, 777.2823004276389, 1930.7153244856731, 1299.030626207702, 3961.386798831554, 923.5374780460941, 856.8659658017, 1314.2034549633843, 672.0281647010105, 1342.42359957363, 3599.5770312463856, 1361.8745027350506, 1314.559022350557, 811.3252769360689, 884.5665915592261, 934.5569422828081, 894.8036818690845], \"Term\": [\"cherry\", \"blackberry\", \"aroma\", \"berry\", \"wine\", \"palate\", \"tannin\", \"finish\", \"sweet\", \"crisp\", \"black\", \"dry\", \"age\", \"flavor\", \"cabernet\", \"spin\", \"acidity\", \"spin dry\", \"fruit\", \"plum\", \"rich\", \"citrus\", \"soft\", \"little\", \"apple\", \"blend\", \"nose\", \"white\", \"year\", \"raspberry\", \"stone\", \"refresh\", \"crisp acidity\", \"stone fruit\", \"riesling\", \"olive\", \"apricot\", \"tangerine\", \"nuance\", \"bone spin\", \"honeyed\", \"citrus flavor\", \"white wine\", \"dry crisp\", \"white peach\", \"apple pear\", \"wine spin\", \"screwcap\", \"steely\", \"gooseberry\", \"prosecco\", \"intensely\", \"pear flavor\", \"grigio\", \"white flower\", \"generic\", \"ap\\u00e9ritif\", \"apple citrus\", \"flavor spin\", \"pink grapefruit\", \"crisp\", \"citrus\", \"white\", \"peach\", \"pear\", \"honey\", \"grapefruit\", \"mineral\", \"lemon\", \"clean\", \"bone\", \"zest\", \"lime\", \"fresh\", \"apple\", \"spin\", \"spin dry\", \"dry\", \"acidity\", \"green apple\", \"minerality\", \"green\", \"light\", \"bright\", \"flavor\", \"wine\", \"orange\", \"note\", \"finish\", \"fruit\", \"hint\", \"palate\", \"drink\", \"ready\", \"ready drink\", \"barrel sample\", \"age year\", \"certainly\", \"potential\", \"fruit wine\", \"fruity wine\", \"rich wine\", \"wine age\", \"need time\", \"wood age\", \"structure wine\", \"quickly\", \"ripe wine\", \"acidity wine\", \"deliciously\", \"wine ripe\", \"likely\", \"wine need\", \"2006\", \"fruitiness\", \"currant fruit\", \"wine great\", \"young wine\", \"age good\", \"bottle age\", \"tannin wine\", \"superripe\", \"new wood\", \"age\", \"wood\", \"aftertaste\", \"need\", \"structure\", \"character\", \"powerful\", \"pack\", \"final\", \"year\", \"wine\", \"edge\", \"attractive\", \"fruit\", \"ripe\", \"acidity\", \"young\", \"tannin\", \"rich\", \"firm\", \"dense\", \"richness\", \"great\", \"juicy\", \"texture\", \"good\", \"drink\", \"fruity\", \"flavor\", \"balance\", \"red\", \"fresh\", \"black\", \"soft\", \"cabernet\", \"merlot\", \"cab\", \"cabernet sauvignon\", \"blackberry cherry\", \"franc\", \"blackberry black\", \"cabernet franc\", \"dark chocolate\", \"plush\", \"hit\", \"petit\", \"chocolate flavor\", \"verdot\", \"petit verdot\", \"minty\", \"blackberry currant\", \"cherry currant\", \"tar\", \"flavor black\", \"ripe blackberry\", \"cherry cassis\", \"bordeaux blend\", \"dry tannic\", \"cab franc\", \"blackberry cassis\", \"cherry chocolate\", \"balance wine\", \"blend cabernet\", \"black olive\", \"cedar\", \"blackberry\", \"blackberry flavor\", \"petite\", \"cassis\", \"sirah\", \"cherry blackberry\", \"currant\", \"bordeaux\", \"tannic\", \"syrah\", \"rustic\", \"black\", \"chocolate\", \"blueberry\", \"black cherry\", \"blend\", \"tannin\", \"pepper\", \"sauvignon\", \"smoke\", \"cherry\", \"black currant\", \"dark\", \"dry\", \"meat\", \"smoky\", \"spin\", \"spin dry\", \"flavor\", \"herb\", \"red\", \"soft\", \"wine\", \"good\", \"finish\", \"noir\", \"pinot noir\", \"old\", \"despite\", \"raspberry cherry\", \"cherry colon\", \"zin\", \"new oak\", \"smoky oak\", \"high alcohol\", \"especially\", \"old vine\", \"relatively\", \"cinnamon spice\", \"unique\", \"92\", \"year cellar\", \"shading\", \"pinot gris\", \"note finish\", \"year old\", \"molasses\", \"walla\", \"pinots\", \"tannin acid\", \"wine little\", \"ham\", \"develop bottle\", \"complement\", \"gain\", \"alcohol\", \"pinot\", \"little\", \"oak flavor\", \"new\", \"colon\", \"flavor cherry\", \"shows\", \"cherry pie\", \"silky\", \"raspberry\", \"cherry\", \"high\", \"oak\", \"flavor blackberry\", \"cherry raspberry\", \"flavor\", \"bottle\", \"year\", \"drink\", \"rich\", \"complex\", \"spin dry\", \"dry\", \"spin\", \"like\", \"wine\", \"fine\", \"elegant\", \"good\", \"spice\", \"sweet\", \"acid\", \"red berry\", \"berry aroma\", \"example\", \"red plum\", \"cherry berry\", \"plum berry\", \"raisiny\", \"ripe cherry\", \"leafy\", \"rubbery\", \"tempranillo\", \"medicinal\", \"petal\", \"dark berry\", \"brown sugar\", \"sour cherry\", \"2003\", \"harsh\", \"berry plum\", \"powder\", \"rise petal\", \"stalky\", \"flavor profile\", \"dry spice\", \"stemmy\", \"raspberry plum\", \"carmen\\u00e8re\", \"warmth\", \"rioja\", \"bright berry\", \"berry\", \"plum\", \"brown\", \"cherry plum\", \"earthy\", \"raisin\", \"raw\", \"herbal\", \"red fruit\", \"finishes\", \"red\", \"palate\", \"earth\", \"berry fruit\", \"nose\", \"aroma\", \"burn\", \"raspberry\", \"finish\", \"coffee\", \"solid\", \"fruit\", \"note\", \"flavor\", \"feel\", \"dark\", \"cherry\", \"black fruit\", \"leather\", \"bake\", \"herb\", \"hint\", \"bite\", \"tannin\", \"spice\", \"drink\", \"black\", \"chocolate\", \"oak\", \"level\", \"tasty\", \"want\", \"know\", \"residual\", \"climate\", \"golden\", \"residual sugar\", \"super\", \"sweet fruit\", \"toasty oak\", \"gorgeous\", \"cool climate\", \"pleasure\", \"buy\", \"cr\\u00e8me\", \"enjoyable\", \"dessert wine\", \"flavor touch\", \"class\", \"syrup\", \"rich flavor\", \"case produce\", \"fun\", \"combination\", \"mouth wine\", \"entry\", \"exotic fruit\", \"fudge\", \"wine finish\", \"pie\", \"color\", \"sweet\", \"sugar\", \"fig\", \"caramel\", \"soft\", \"touch\", \"expression\", \"depth\", \"smooth\", \"mouth\", \"wine\", \"toasty\", \"rich\", \"mouthfeel\", \"lush\", \"ripe\", \"taste\", \"spice\", \"lively\", \"fruit\", \"layer\", \"balance\", \"vanilla\", \"bright\", \"creamy\", \"long\", \"sweetness\", \"texture\", \"like\", \"good\", \"toast\", \"finish\", \"butter\", \"sauvignon blanc\", \"chard\", \"honeysuckle\", \"butter toast\", \"banana\", \"aroma palate\", \"slight\", \"vanilla flavor\", \"wet\", \"flat\", \"kiwi\", \"grassy\", \"nutty\", \"vegetal\", \"passion\", \"passion fruit\", \"oily\", \"sparkler\", \"fruit palate\", \"smells\", \"pepper flavor\", \"flavor pineapple\", \"meyer\", \"meyer lemon\", \"new french\", \"yeasty\", \"custard\", \"veer\", \"flesh\", \"chardonnay\", \"pineapple\", \"acidic\", \"tropical\", \"oaky\", \"sugary\", \"smell\", \"melon\", \"green\", \"nose\", \"mild\", \"palate\", \"vanilla\", \"tropical fruit\", \"flavor\", \"aroma\", \"sauvignon\", \"toast\", \"apple\", \"finish\", \"bite\", \"like\", \"sweet\", \"feel\", \"blanc\", \"oak\", \"imported\", \"fruit\", \"nice\", \"good\", \"creamy\", \"note\", \"acidity\", \"taste\", \"mouth\", \"medium\", \"medium bodied\", \"sample\", \"dish\", \"dessert\", \"single\", \"ferment\", \"apple flavor\", \"flavor good\", \"medium weight\", \"slightly sweet\", \"single vineyard\", \"taste like\", \"selection\", \"component\", \"high acidity\", \"brambly\", \"finish imported\", \"sturdy\", \"production\", \"craft\", \"cherry spice\", \"table\", \"bad\", \"barrel ferment\", \"mouthfilling\", \"stainless\", \"expensive\", \"93\", \"medium body\", \"body\", \"nicely\", \"bodied\", \"slightly\", \"underlie\", \"spicy\", \"pasta\", \"define\", \"plenty\", \"barrel\", \"weight\", \"mouthfeel\", \"finish\", \"long\", \"pair\", \"scent\", \"fruit\", \"hard\", \"good\", \"mix\", \"add\", \"texture\", \"hint\", \"wine\", \"acid\", \"note\", \"herbal\", \"offer\", \"balance\", \"flavor\", \"tart\", \"spice\", \"oak\", \"like\", \"sangiovese\", \"forest\", \"alongside\", \"exotic spice\", \"imports\", \"brunello\", \"90\", \"wine open\", \"chop\", \"luminous\", \"barolo\", \"floor\", \"riserva\", \"recall\", \"nero\", \"forest floor\", \"palate deliver\", \"grain\", \"wind\", \"chianti\", \"forest berry\", \"moist\", \"blend sangiovese\", \"informal\", \"tuscany\", \"polish tannin\", \"leather tobacco\", \"mature fruit\", \"offer aroma\", \"blue flower\", \"close\", \"deliver\", \"polish\", \"cleave\", \"offer\", \"mature\", \"open\", \"exotic\", \"palate offer\", \"wild\", \"aroma\", \"leather\", \"spice\", \"wine offer\", \"leaf\", \"tobacco\", \"chewy\", \"crush\", \"white pepper\", \"note\", \"cherry\", \"follow\", \"berry\", \"wild berry\", \"palate\", \"black\", \"pepper\", \"wine\", \"meat\", \"fruit\", \"tannin\", \"firm\", \"toast\", \"white\", \"valley\", \"grenache\", \"california\", \"viognier\", \"grow\", \"source\", \"silky texture\", \"rh\\u00f4ne\", \"ruby\", \"decade\", \"mourv\\u00e8dre\", \"italian\", \"ripen\", \"000\", \"santa\", \"coastal\", \"county\", \"000 case\", \"dry silky\", \"orange zest\", \"redolent\", \"sonoma\", \"floral aroma\", \"impart\", \"coast\", \"sweetly\", \"rare\", \"ride\", \"popular\", \"roussanne\", \"winery\", \"grape\", \"variety\", \"strawberry\", \"vineyard\", \"appellation\", \"vintage\", \"stuff\", \"floral\", \"tea\", \"blend\", \"winemaker\", \"2008\", \"spice flavor\", \"wines\", \"price\", \"wine\", \"syrah\", \"bottle\", \"streak\", \"silky\", \"style\", \"pretty\"], \"Total\": [39731.0, 19055.0, 34013.0, 21374.0, 94610.0, 27360.0, 33041.0, 41317.0, 22759.0, 14309.0, 24877.0, 32536.0, 13860.0, 83852.0, 11392.0, 22965.0, 30575.0, 22761.0, 72636.0, 15107.0, 21597.0, 12531.0, 17901.0, 10845.0, 13433.0, 14604.0, 15963.0, 12168.0, 16391.0, 11656.0, 4061.7853478357347, 2659.486548884763, 2589.560886760123, 2478.6384335789394, 2472.860018689375, 2157.0637542237646, 4975.573328316149, 1913.31086666423, 1894.0550207876345, 1680.17503746037, 1463.1018294494431, 1387.4074894545622, 1351.7520398126708, 1265.9292987347653, 1253.3430671474393, 1196.1066734996516, 1138.6638651926985, 1135.791052099411, 1034.7511220202587, 970.1742252021074, 931.1157558526909, 906.2875777585019, 857.7383283694592, 835.4795397474951, 834.1092063947964, 814.1745346143008, 795.0258161667279, 781.961751741857, 774.6289627212655, 791.7362498056893, 14309.067016928142, 12531.226697222899, 12168.557686933342, 10791.36556299625, 8155.843542724929, 5202.532576949231, 4217.416541963503, 7990.963654780663, 7020.944875438088, 9107.918967506814, 1947.3446477378493, 2006.8334150320647, 6503.745267106842, 17776.72642874064, 13433.941590015367, 22965.518060320603, 22761.022374384647, 32536.169428781748, 30575.23999124637, 3046.075409307655, 3577.7613785206236, 11606.463179147771, 11693.771646702067, 9288.755398489217, 83852.12780016972, 94610.28526530867, 5049.3058112621875, 23743.009370121228, 41317.428033206335, 72636.52345282362, 10106.916887737565, 27360.429685813266, 25228.662623425735, 3171.990410936926, 2269.132417495803, 2173.1170792957305, 2023.8766410050528, 1467.8548946470512, 1361.621787442265, 1268.1256486782481, 1123.1271976246421, 1049.5333799897035, 1038.1374515566627, 1021.1122835126863, 1015.0474742094266, 989.9240667096634, 951.0684335408976, 943.2408308958275, 897.3714227842685, 863.7577013870477, 857.1616852785331, 832.6809397700184, 831.3813769120702, 814.2290129942725, 804.0401414227304, 800.0662852799189, 787.9507890037809, 782.3209914411633, 760.4067182666347, 743.4298047341995, 731.6813358406436, 722.0715873187305, 684.1129407717535, 13860.327369957387, 7879.364801234921, 1930.0066164588916, 4240.280572327326, 12529.355057137818, 9032.7668191717, 3976.5783437575747, 2497.546780984345, 1380.8231096342279, 16391.78046453501, 94610.28526530867, 5197.389798468456, 3387.680613419972, 72636.52345282362, 26761.107958640958, 30575.23999124637, 5323.403187330262, 33041.575482714215, 21597.05048204679, 8846.922479185407, 5468.137378569765, 4993.728232123761, 7784.675188887241, 6691.338809274834, 12216.844213959766, 32336.62600184404, 25228.662623425735, 8689.38642950362, 83852.12780016972, 16561.703601899088, 20441.521935091674, 17776.72642874064, 24877.2821793924, 17901.905804976475, 11392.116265621187, 7112.3807205622825, 4492.516507203008, 4406.800822231858, 2989.44076801348, 2587.1898874142234, 1605.0157029981883, 1558.9937708899392, 1554.833486395218, 1362.059333426928, 1263.3491939479782, 1251.4122449141285, 1216.1400469680207, 1207.1246064746374, 1173.0592416315824, 1169.4437564656332, 1105.1348627195412, 1083.3147645318413, 1079.02856391718, 1072.561540921164, 996.632812410639, 992.0533358545196, 948.1750682058619, 914.5745910116086, 896.3698504554699, 843.8441574583941, 828.2262378903825, 826.2734658213996, 822.9928650121044, 774.7301957228726, 3875.4819455505954, 19055.551449389324, 1033.7098785420553, 1139.8300222650996, 6632.419402560835, 1052.3317043524594, 2005.5175459080942, 10302.26812174104, 2433.7878304895858, 8162.127651260518, 6276.416738494993, 2333.687267863231, 24877.2821793924, 12544.07766528879, 3523.407325425453, 7475.4195602990485, 14604.663402500746, 33041.575482714215, 9406.731131452836, 8324.982036727282, 4909.481848415044, 39731.36373826923, 3932.822051445239, 12482.726421932008, 32536.169428781748, 4091.315528734761, 6355.72527673385, 22965.518060320603, 22761.022374384647, 83852.12780016972, 8799.873726408507, 20441.521935091674, 17901.905804976475, 94610.28526530867, 32336.62600184404, 41317.428033206335, 3967.333162294195, 3916.1931063167854, 2988.860071101436, 2247.278734152543, 2228.2370168239177, 1872.0823419115973, 1860.1836995589547, 1766.2159113263808, 1697.5967484339512, 1189.2860906230887, 1155.0138052210368, 883.463545684041, 825.2397759860219, 729.8696663384831, 724.219646756134, 716.0142692789096, 692.5866857553094, 671.686560016253, 633.7308613944499, 612.2961096559984, 580.2491497035878, 565.8204802935644, 561.6073709697891, 557.4506262141321, 512.0229277007992, 510.5869670226623, 473.6817889563725, 455.5646275559987, 418.1983341022078, 417.40919228893074, 5158.185832338928, 9096.637236548515, 10845.931862017487, 1795.8155095048037, 6079.0967396005435, 7186.677158946298, 1818.1461187739806, 3207.909250509411, 1012.951803606063, 4191.861922488239, 11656.41097440473, 39731.36373826923, 5663.963198034645, 20645.359588136384, 2013.5217781831366, 2337.5009527489856, 83852.12780016972, 5713.825723916695, 16391.78046453501, 25228.662623425735, 21597.05048204679, 6809.2177770577655, 22761.022374384647, 32536.169428781748, 22965.518060320603, 11986.601286609719, 94610.28526530867, 8594.905611176728, 6516.20560829789, 32336.62600184404, 27347.99518280152, 22759.105886660996, 6199.048791887466, 2518.9276031901386, 1271.5060434383242, 1237.8932748694021, 1155.8623979167542, 1063.514188128793, 1032.2397391957197, 987.906273954765, 985.6903920952415, 968.556316881303, 948.9076691481738, 875.9006005155359, 862.0407979384969, 794.1677466351151, 784.2194434495823, 777.8127982007018, 765.6041578580497, 758.0202451597441, 749.2519492590384, 715.6991121617484, 683.3888110422116, 673.99499341291, 637.0418514858204, 578.4429683148646, 522.6235516155989, 512.7509033363884, 503.6594688820569, 490.3153134316174, 487.45326750144915, 486.1564735503088, 454.57601114707154, 21374.319588662886, 15107.306206236051, 1127.9055753103519, 1518.1111794222995, 5091.296928917423, 2179.5053314192087, 1322.0647889678812, 6671.0289600530305, 4372.142537259103, 3371.287181247025, 20441.521935091674, 27360.429685813266, 4516.558257756339, 3996.4048874393984, 15963.721170207637, 34013.192232437075, 1706.8093667644832, 11656.41097440473, 41317.428033206335, 5737.348806419622, 5688.789754457079, 72636.52345282362, 23743.009370121228, 83852.12780016972, 7383.257123364077, 12482.726421932008, 39731.36373826923, 5291.914306653655, 5973.499677559497, 3815.10532083795, 8799.873726408507, 10106.916887737565, 10658.568374376468, 33041.575482714215, 27347.99518280152, 25228.662623425735, 24877.2821793924, 12544.07766528879, 20645.359588136384, 1516.4708776865302, 1378.0106013343463, 1299.6262609606633, 1228.4109359716542, 1177.718843616668, 1141.5134623322592, 1109.2286711642118, 1068.0225246204227, 997.0361034205481, 960.8038075880712, 937.8371575745816, 934.9394585004426, 821.3728575830224, 786.9205851356775, 743.0281330086029, 738.9062336814997, 717.8385499585088, 890.6961403107442, 684.9030472790839, 681.5989060351737, 633.4345200443049, 628.3558480382796, 617.4388922471198, 592.4239969957222, 590.9183962527657, 582.3430028046375, 577.9653730265142, 573.5524414536877, 523.9223632664713, 518.6832975047279, 2774.6905422211275, 5318.516539745211, 22759.105886660996, 2911.774666965606, 1871.9187601605672, 3083.863325753228, 17901.905804976475, 10314.145894037581, 2369.1667098972252, 2775.657843831406, 8935.715861034714, 12343.659135054102, 94610.28526530867, 3672.1768302965497, 21597.05048204679, 7576.699539512788, 3507.4956362606863, 26761.107958640958, 7588.822647603404, 27347.99518280152, 3889.524295349805, 72636.52345282362, 5728.424671203665, 16561.703601899088, 13913.806014082915, 9288.755398489217, 7161.623290001153, 9660.531201393336, 3805.429672898282, 12216.844213959766, 11986.601286609719, 32336.62600184404, 9752.934954131983, 41317.428033206335, 3151.3156139155526, 2728.344003150995, 1669.4547226633197, 1537.8423935997469, 1468.4941670531903, 1343.4849427222716, 1342.2179541061844, 1339.1392069216138, 1321.5494647752435, 1246.206946061451, 1023.2625016781733, 1011.3956608052339, 960.2295516491799, 940.0817640364627, 921.6147956432546, 911.8016762908806, 871.6714639868004, 831.0276201466482, 829.9249362838419, 752.2556260818102, 740.570351213715, 738.2015554228125, 717.9768416743739, 716.3859607949174, 705.3030867188497, 700.1688595777632, 634.944706294992, 630.9278636958751, 607.9995076165695, 589.4193305622215, 6326.461734859865, 7022.167375611682, 2436.8219800069605, 4245.937145380779, 2947.4708123365904, 1238.8706283235479, 2105.452001048984, 5167.843139519835, 11606.463179147771, 15963.721170207637, 1365.8584479960384, 27360.429685813266, 13913.806014082915, 3131.7890946521434, 83852.12780016972, 34013.192232437075, 8324.982036727282, 9752.934954131983, 13433.941590015367, 41317.428033206335, 10658.568374376468, 11986.601286609719, 22759.105886660996, 7383.257123364077, 3832.873487241078, 20645.359588136384, 6615.3387265390265, 72636.52345282362, 6451.983085990326, 32336.62600184404, 7161.623290001153, 23743.009370121228, 30575.23999124637, 7588.822647603404, 12343.659135054102, 6108.655158703145, 2435.5440731067765, 2104.316977009327, 1716.0416802272368, 1357.0074709315682, 1163.8906027212622, 1135.7050520821024, 1117.7011962727713, 1049.7884243026538, 1045.2382801186445, 1037.3478752563665, 960.8888508248931, 955.621155637605, 883.2297034064217, 862.541117136412, 859.8631700987298, 820.006868248055, 752.099019235047, 733.6086715837389, 715.012351090049, 696.1243624614599, 678.361849889876, 642.7577993267176, 568.8207055233947, 566.2063326830868, 558.2919348932031, 548.2820251362679, 522.357396741476, 511.2594868335241, 484.1241016867324, 2223.8948824343365, 3051.392453698766, 8181.12180863019, 6710.336630487044, 876.1029391461466, 8731.763903028674, 1035.5435905754046, 1209.6433841769096, 4389.595672792635, 5776.499306828363, 4468.066183955668, 7576.699539512788, 41317.428033206335, 9660.531201393336, 5014.79643244086, 3903.776842204777, 72636.52345282362, 4203.591070264563, 32336.62600184404, 4266.679440213287, 5448.3331975808505, 12216.844213959766, 10106.916887737565, 94610.28526530867, 6199.048791887466, 23743.009370121228, 6671.0289600530305, 13154.57031273292, 16561.703601899088, 83852.12780016972, 6962.797202896127, 27347.99518280152, 20645.359588136384, 11986.601286609719, 2535.85134274042, 1695.1451388846397, 1545.3424768859006, 1381.5552971876457, 1277.5786348870206, 1022.9018576941239, 925.8702517423261, 842.1361764688379, 838.782755698971, 793.5794823202325, 767.9478540074048, 691.6941929550671, 688.5169205312712, 654.0926539627042, 646.347208680534, 637.6129678303125, 622.2673736980815, 610.9700633596867, 610.9189491023468, 585.4274996766625, 571.4542772572589, 553.7646963431555, 529.5780264700942, 528.6753959799954, 517.7629473139546, 515.6115010509926, 502.0521445869888, 475.3470143338278, 469.5894971499319, 466.7018987732524, 3911.6618117054472, 4396.585007553891, 3465.9967271166547, 2216.4113567619347, 13154.57031273292, 2911.491359759458, 6900.336094435273, 3278.55932070551, 1257.11888918092, 4220.848334771268, 34013.192232437075, 5973.499677559497, 27347.99518280152, 1740.9089369690125, 1475.364341714722, 6505.179087201109, 2947.0526468469147, 1809.5711898284717, 1583.5468668108163, 23743.009370121228, 39731.36373826923, 4333.719364084615, 21374.319588662886, 2014.709775255653, 27360.429685813266, 24877.2821793924, 9406.731131452836, 94610.28526530867, 4091.315528734761, 72636.52345282362, 33041.575482714215, 8846.922479185407, 9752.934954131983, 12168.557686933342, 2643.7762721787094, 1678.8856394714437, 1647.056691773324, 1632.1681930804862, 1476.6574317689756, 1077.0035906058229, 986.2148764878392, 938.5070775720696, 844.9523754029884, 815.582262595875, 759.1309138765034, 689.9243459564499, 671.8420162834501, 618.8100053178647, 605.6522875388455, 577.8380204150451, 568.2762675452296, 553.0422638490759, 518.4027761876263, 518.2063084538295, 517.9639866666745, 514.5581349326869, 511.50986804236834, 505.2439873362728, 489.74575623144943, 482.98375857694094, 476.34061501960605, 461.8936624386007, 422.8361754508363, 422.3761426792658, 3107.611236826399, 5776.416478254442, 2648.5975262419083, 3927.7615919094355, 7398.098810422462, 1016.9624063029133, 6235.608104421435, 974.3435583985533, 3951.9746513459822, 2194.078452361583, 14604.663402500746, 1357.1079180487768, 1252.2509176596607, 2899.108730364587, 803.1505779688495, 4849.047278325868, 94610.28526530867, 6276.416738494993, 5713.825723916695, 1864.308388947385, 4191.861922488239, 9219.020965017915, 5708.572294174416], \"loglift\": [30.0, 29.0, 28.0, 27.0, 26.0, 25.0, 24.0, 23.0, 22.0, 21.0, 20.0, 19.0, 18.0, 17.0, 16.0, 15.0, 14.0, 13.0, 12.0, 11.0, 10.0, 9.0, 8.0, 7.0, 6.0, 5.0, 4.0, 3.0, 2.0, 1.0, 2.0228, 2.0227, 2.0227, 2.0226, 2.0226, 2.0226, 2.0225, 2.0225, 2.0225, 2.0225, 2.0224, 2.0224, 2.0223, 2.0223, 2.0223, 2.0223, 2.0222, 2.0222, 2.0221, 2.0221, 2.022, 2.022, 2.022, 2.0219, 2.0219, 2.0219, 2.0219, 2.0219, 2.0219, 2.0218, 1.9847, 1.918, 1.8581, 1.8519, 1.8249, 1.8445, 1.8484, 1.7756, 1.7849, 1.741, 1.929, 1.9228, 1.7436, 1.5797, 1.6169, 1.3113, 1.3086, 1.2039, 1.1527, 1.7648, 1.7055, 1.1544, 1.1462, 1.2251, 0.0387, -0.0414, 1.4992, 0.5287, 0.1674, -0.3622, 1.0284, 0.0163, -0.0012, 2.04, 2.0399, 2.0398, 2.0398, 2.0396, 2.0396, 2.0395, 2.0395, 2.0394, 2.0394, 2.0394, 2.0394, 2.0394, 2.0393, 2.0393, 2.0393, 2.0392, 2.0392, 2.0392, 2.0392, 2.0392, 2.0391, 2.0391, 2.0391, 2.0391, 2.0391, 2.0391, 2.039, 2.039, 2.039, 1.9985, 1.936, 1.965, 1.8944, 1.6925, 1.7045, 1.8097, 1.8583, 1.946, 1.4733, 1.0628, 1.6129, 1.7141, 0.9776, 1.2049, 1.1715, 1.5799, 1.0805, 1.1801, 1.4214, 1.5486, 1.558, 1.4125, 1.4026, 1.1607, 0.5266, 0.6134, 1.0985, -0.2798, 0.6892, 0.3513, 0.4539, 0.1828, 0.2938, 2.088, 2.088, 2.0879, 2.0879, 2.0878, 2.0878, 2.0876, 2.0875, 2.0875, 2.0875, 2.0874, 2.0874, 2.0874, 2.0874, 2.0874, 2.0874, 2.0873, 2.0873, 2.0873, 2.0873, 2.0872, 2.0872, 2.0872, 2.0871, 2.0871, 2.0871, 2.087, 2.087, 2.087, 2.087, 2.072, 2.0393, 2.0797, 2.075, 1.998, 2.0752, 2.0162, 1.831, 1.9844, 1.8408, 1.8433, 1.9756, 1.5975, 1.7037, 1.8849, 1.6664, 1.5174, 1.2324, 1.545, 1.552, 1.6431, 0.9439, 1.7083, 1.3078, 0.8498, 1.6731, 1.4095, 0.7524, 0.7498, 0.0026, 1.2142, 0.5068, 0.5283, -0.8841, -0.0273, -0.3525, 2.2286, 2.2286, 2.2286, 2.2285, 2.2284, 2.2284, 2.2284, 2.2283, 2.2283, 2.2281, 2.2281, 2.2278, 2.2278, 2.2276, 2.2276, 2.2276, 2.2276, 2.2275, 2.2274, 2.2274, 2.2273, 2.2273, 2.2273, 2.2272, 2.2271, 2.2271, 2.227, 2.2269, 2.2267, 2.2267, 2.194, 2.1317, 2.0821, 2.1591, 1.9892, 1.9645, 2.0809, 1.9639, 2.1329, 1.8888, 1.6807, 1.2648, 1.645, 1.2408, 1.9116, 1.8614, 0.6845, 1.5508, 1.0751, 0.8552, 0.8842, 1.3824, 0.8352, 0.6648, 0.8271, 1.0569, -0.3009, 1.1809, 1.3495, 0.1314, 0.16, 0.2696, 1.3502, 2.2489, 2.2486, 2.2486, 2.2485, 2.2484, 2.2484, 2.2484, 2.2484, 2.2484, 2.2483, 2.2483, 2.2482, 2.2482, 2.2481, 2.2481, 2.2481, 2.2481, 2.2481, 2.248, 2.248, 2.248, 2.2479, 2.2477, 2.2476, 2.2475, 2.2475, 2.2475, 2.2474, 2.2474, 2.2473, 1.9744, 1.9503, 2.1661, 2.1349, 1.943, 2.039, 2.1137, 1.8289, 1.8724, 1.9016, 1.4826, 1.3792, 1.8102, 1.8368, 1.4039, 1.1557, 2.018, 1.3862, 0.9652, 1.5928, 1.4936, 0.4022, 0.8716, 0.2749, 1.3375, 1.0755, 0.5248, 1.4517, 1.3629, 1.5765, 1.0733, 0.9716, 0.8665, 0.0874, 0.2039, 0.258, 0.2239, 0.732, 0.2336, 2.2927, 2.2926, 2.2926, 2.2925, 2.2925, 2.2925, 2.2925, 2.2924, 2.2924, 2.2923, 2.2923, 2.2923, 2.2922, 2.2921, 2.2921, 2.2921, 2.292, 2.292, 2.292, 2.292, 2.2919, 2.2918, 2.2918, 2.2918, 2.2918, 2.2917, 2.2917, 2.2917, 2.2916, 2.2915, 2.0946, 1.9812, 1.7491, 2.0415, 2.1076, 2.0225, 1.7104, 1.7674, 1.9598, 1.9034, 1.5386, 1.4144, 0.7058, 1.7515, 1.1316, 1.4827, 1.758, 0.9631, 1.4363, 0.778, 1.6541, 0.2528, 1.451, 0.8805, 0.9332, 1.1323, 1.2646, 1.0508, 1.6144, 0.7383, 0.6916, -0.1068, 0.7807, -0.6113, 2.3068, 2.3067, 2.3065, 2.3065, 2.3064, 2.3064, 2.3064, 2.3064, 2.3064, 2.3063, 2.3062, 2.3062, 2.3061, 2.3061, 2.3061, 2.3061, 2.306, 2.306, 2.306, 2.3059, 2.3058, 2.3058, 2.3058, 2.3058, 2.3058, 2.3058, 2.3056, 2.3056, 2.3056, 2.3055, 2.2579, 1.9563, 2.0979, 1.9597, 1.9787, 2.1778, 2.05, 1.8292, 1.6254, 1.4572, 2.1391, 1.2337, 1.4055, 1.8722, 0.7712, 0.9285, 1.4273, 1.3458, 1.2096, 0.6782, 1.2402, 1.1456, 0.7396, 1.2849, 1.67, 0.571, 1.2723, -0.3793, 1.2788, 0.1122, 1.1558, 0.077, -0.2676, 1.0366, 0.5523, 2.4685, 2.4682, 2.4682, 2.4681, 2.4679, 2.4678, 2.4678, 2.4678, 2.4678, 2.4677, 2.4677, 2.4677, 2.4677, 2.4676, 2.4676, 2.4676, 2.4675, 2.4674, 2.4674, 2.4674, 2.4673, 2.4673, 2.4672, 2.467, 2.467, 2.467, 2.467, 2.4669, 2.4669, 2.4668, 2.3143, 2.2682, 2.0698, 2.0637, 2.3851, 1.9322, 2.3418, 2.308, 2.011, 1.9014, 1.939, 1.6636, 0.9924, 1.5164, 1.7403, 1.7968, 0.4911, 1.7569, 0.8376, 1.7446, 1.6145, 1.1564, 1.2283, -0.0536, 1.4682, 0.6388, 1.3987, 0.9002, 0.6769, -0.5595, 1.275, -0.0276, 0.2001, 0.7222, 2.7879, 2.7878, 2.7877, 2.7876, 2.7876, 2.7874, 2.7873, 2.7872, 2.7872, 2.7872, 2.7871, 2.787, 2.787, 2.7869, 2.7869, 2.7869, 2.7869, 2.7868, 2.7868, 2.7868, 2.7867, 2.7867, 2.7866, 2.7866, 2.7866, 2.7866, 2.7865, 2.7864, 2.7864, 2.7864, 2.4868, 2.3527, 2.373, 2.4617, 1.9922, 2.3524, 2.0875, 2.2799, 2.5481, 2.1776, 1.4693, 1.9416, 1.3462, 2.3923, 2.4552, 1.844, 2.1476, 2.3499, 2.384, 1.0112, 0.6836, 1.8242, 0.8897, 2.2582, 0.4892, 0.4828, 1.1475, -0.7152, 1.7078, -0.5721, 0.0317, 1.0705, 0.9068, 0.6366, 2.9189, 2.9187, 2.9187, 2.9187, 2.9187, 2.9184, 2.9184, 2.9183, 2.9182, 2.9182, 2.9181, 2.918, 2.9179, 2.9178, 2.9178, 2.9177, 2.9177, 2.9177, 2.9175, 2.9175, 2.9175, 2.9175, 2.9175, 2.9175, 2.9174, 2.9174, 2.9174, 2.9173, 2.9172, 2.9172, 2.7241, 2.5889, 2.5499, 2.3062, 2.0798, 2.6823, 2.0477, 2.6933, 2.2029, 2.3951, 1.6145, 2.5344, 2.5398, 2.1281, 2.741, 1.635, -0.3497, 1.3913, 1.4499, 2.0873, 1.3635, 0.6303, 1.0661], \"logprob\": [30.0, 29.0, 28.0, 27.0, 26.0, 25.0, 24.0, 23.0, 22.0, 21.0, 20.0, 19.0, 18.0, 17.0, 16.0, 15.0, 14.0, 13.0, 12.0, 11.0, 10.0, 9.0, 8.0, 7.0, 6.0, 5.0, 4.0, 3.0, 2.0, 1.0, -5.2715, -5.6951, -5.7218, -5.7656, -5.7679, -5.9046, -5.0689, -6.0246, -6.0347, -6.1546, -6.293, -6.3461, -6.3722, -6.4378, -6.4478, -6.4946, -6.5439, -6.5464, -6.6396, -6.7041, -6.7453, -6.7723, -6.8274, -6.8538, -6.8554, -6.8796, -6.9034, -6.92, -6.9295, -6.9076, -4.0503, -4.2497, -4.339, -4.4653, -4.7723, -5.2023, -5.4084, -4.842, -4.9621, -4.7458, -6.1005, -6.0766, -5.08, -4.2383, -4.4813, -4.2506, -4.2623, -4.0097, -4.1231, -5.8173, -5.7157, -5.0899, -5.0907, -5.242, -4.2281, -4.1876, -5.5774, -4.9999, -4.8073, -4.7726, -5.3543, -5.3705, -5.4691, -5.5016, -5.8367, -5.8799, -5.9511, -6.2725, -6.3477, -6.4189, -6.5404, -6.6082, -6.6191, -6.6357, -6.6416, -6.6667, -6.7068, -6.7151, -6.765, -6.8032, -6.8109, -6.8399, -6.8414, -6.8623, -6.8749, -6.8799, -6.8951, -6.9023, -6.9308, -6.9534, -6.9693, -6.9826, -7.0366, -4.0684, -4.6957, -6.0734, -5.357, -4.4754, -4.7906, -5.5058, -5.9224, -6.4272, -4.4258, -3.0834, -5.4349, -5.7617, -3.4329, -4.2041, -4.1043, -5.4439, -4.1177, -4.4433, -5.0945, -5.4484, -5.5297, -5.2313, -5.3926, -5.0324, -4.6932, -4.8546, -5.4354, -4.5467, -5.1997, -5.3271, -5.3642, -5.2992, -5.5172, -4.175, -4.6461, -5.1056, -5.1249, -5.513, -5.6576, -6.1353, -6.1644, -6.167, -6.2995, -6.3748, -6.3843, -6.4129, -6.4203, -6.449, -6.4521, -6.5087, -6.5286, -6.5326, -6.5386, -6.6121, -6.6167, -6.662, -6.6981, -6.7182, -6.7787, -6.7974, -6.7997, -6.8037, -6.8642, -5.2693, -3.7093, -6.5831, -6.4901, -4.806, -6.5698, -5.9839, -4.5326, -5.8221, -4.7556, -5.0158, -5.8729, -3.8845, -4.463, -5.5516, -5.0179, -4.4972, -3.9658, -4.9095, -5.0247, -5.4616, -4.0699, -5.6183, -4.8638, -4.3638, -5.6139, -5.4371, -4.8095, -4.8211, -4.2643, -5.307, -5.1716, -5.2828, -5.0303, -5.247, -5.3272, -5.0892, -5.1022, -5.3725, -5.6578, -5.6663, -5.8405, -5.8469, -5.8988, -5.9384, -6.2945, -6.3238, -6.592, -6.6603, -6.7832, -6.791, -6.8024, -6.8357, -6.8664, -6.9246, -6.9591, -7.0129, -7.0382, -7.0456, -7.0531, -7.1382, -7.141, -7.2162, -7.2553, -7.341, -7.3429, -4.8614, -4.3563, -4.23, -5.9514, -4.9019, -4.7592, -6.0172, -5.5665, -6.5502, -5.374, -4.5593, -3.749, -5.3168, -4.4277, -6.0845, -5.9855, -3.5824, -5.4023, -4.824, -4.6127, -4.7391, -5.3953, -4.7356, -4.5488, -4.7349, -5.1553, -4.447, -5.3638, -5.4722, -5.0883, -5.2273, -5.3014, -5.5213, -5.5232, -6.2072, -6.234, -6.3026, -6.3859, -6.4158, -6.4597, -6.462, -6.4795, -6.5001, -6.5802, -6.5962, -6.6783, -6.6909, -6.6991, -6.7149, -6.7249, -6.7365, -6.7824, -6.8287, -6.8425, -6.899, -6.9956, -7.0973, -7.1164, -7.1343, -7.1612, -7.1671, -7.1697, -7.237, -3.6594, -4.0304, -6.4095, -6.1436, -5.1255, -5.8778, -6.3031, -4.9692, -5.3483, -5.579, -4.1958, -4.0077, -5.378, -5.4737, -4.5217, -4.0135, -6.1433, -4.8539, -4.0094, -5.3562, -5.4639, -4.0082, -4.657, -3.992, -5.3592, -5.0961, -4.489, -5.5781, -5.5457, -5.7805, -5.4479, -5.4111, -5.4631, -5.1108, -5.1834, -5.2099, -5.2581, -5.4347, -5.4348, -5.9869, -6.0827, -6.1413, -6.1977, -6.2399, -6.2711, -6.2998, -6.3377, -6.4065, -6.4436, -6.4678, -6.4709, -6.6005, -6.6434, -6.7009, -6.7065, -6.7354, -6.5197, -6.7825, -6.7873, -6.8607, -6.8687, -6.8863, -6.9277, -6.9303, -6.9449, -6.9525, -6.9601, -7.0508, -7.0609, -5.5808, -5.0436, -3.8219, -5.5857, -5.9614, -5.5472, -4.1006, -4.595, -5.8736, -5.7716, -4.9673, -4.7684, -3.4404, -5.6437, -4.4918, -5.1881, -5.683, -4.4459, -5.233, -4.6093, -5.6835, -4.1577, -5.4995, -5.0084, -5.1299, -5.3349, -5.4626, -5.3771, -5.7451, -5.4548, -5.5206, -5.3265, -5.6377, -5.586, -5.2414, -5.3855, -5.8769, -5.9591, -6.0053, -6.0943, -6.0952, -6.0975, -6.1108, -6.1695, -6.3668, -6.3784, -6.4304, -6.4516, -6.4715, -6.4822, -6.5273, -6.5751, -6.5764, -6.6748, -6.6904, -6.6936, -6.7215, -6.7237, -6.7393, -6.7466, -6.8445, -6.8509, -6.8879, -6.919, -4.5933, -4.7905, -5.7074, -5.2902, -5.6363, -6.3039, -5.9014, -5.2243, -4.619, -4.4684, -6.245, -4.1531, -4.6575, -5.6821, -3.4956, -4.2407, -5.1493, -5.0726, -4.8886, -4.2964, -5.0894, -5.0666, -4.8314, -5.4118, -5.6823, -5.0974, -5.5343, -4.7898, -5.5528, -5.1075, -5.5714, -5.4516, -5.5433, -5.6327, -5.6305, -4.4178, -5.3375, -5.4838, -5.6878, -5.9227, -6.0763, -6.1009, -6.1169, -6.1796, -6.184, -6.1915, -6.2682, -6.2737, -6.3525, -6.3763, -6.3794, -6.4269, -6.5134, -6.5383, -6.564, -6.5909, -6.6167, -6.6707, -6.7931, -6.7977, -6.8118, -6.8299, -6.8785, -6.9, -6.9546, -5.5823, -5.3121, -4.5243, -4.7286, -6.4431, -4.5967, -6.3192, -6.1976, -5.2058, -5.0408, -5.26, -5.0073, -3.9822, -4.9115, -5.3433, -5.5372, -3.9194, -5.5031, -4.3822, -5.5005, -5.3861, -5.0367, -5.1544, -4.1998, -5.4033, -4.8899, -5.3994, -5.219, -5.2119, -4.8264, -5.4804, -5.4149, -5.4683, -5.4899, -4.9775, -5.3804, -5.473, -5.5851, -5.6634, -5.8859, -5.9856, -6.0805, -6.0845, -6.14, -6.1728, -6.2776, -6.2822, -6.3335, -6.3454, -6.3591, -6.3835, -6.4018, -6.4019, -6.4446, -6.4688, -6.5003, -6.545, -6.5467, -6.5676, -6.5718, -6.5985, -6.6532, -6.6654, -6.6716, -4.8452, -4.8624, -5.0799, -5.4384, -4.127, -5.2749, -4.6768, -5.2287, -5.919, -5.0784, -3.6998, -4.967, -4.0411, -5.7493, -5.8518, -4.9794, -5.4676, -5.753, -5.8523, -4.5175, -4.3302, -5.4053, -4.7441, -5.7373, -4.8976, -4.9992, -5.307, -4.8614, -5.5792, -4.9826, -5.1665, -5.4454, -5.5116, -5.5604, -4.8048, -5.2591, -5.2782, -5.2873, -5.3875, -5.7033, -5.7915, -5.8411, -5.9462, -5.9816, -6.0534, -6.1491, -6.1757, -6.2581, -6.2796, -6.3267, -6.3434, -6.3706, -6.4354, -6.4358, -6.4362, -6.4429, -6.4488, -6.4612, -6.4924, -6.5063, -6.5202, -6.551, -6.6396, -6.6406, -4.838, -4.3532, -5.172, -5.0217, -4.6149, -5.9968, -4.8179, -6.0286, -5.1188, -5.5151, -4.4001, -5.8562, -5.9312, -5.5035, -6.1741, -5.4822, -4.4959, -5.4678, -5.5032, -5.9858, -5.8993, -5.8444, -5.8878]}, \"token.table\": {\"Topic\": [10, 10, 5, 2, 8, 10, 9, 4, 8, 1, 4, 5, 7, 8, 10, 5, 7, 1, 2, 5, 6, 7, 8, 9, 2, 1, 2, 3, 4, 6, 8, 9, 10, 2, 6, 2, 4, 2, 2, 4, 5, 9, 2, 3, 10, 1, 7, 1, 8, 1, 1, 7, 1, 1, 3, 5, 6, 7, 8, 9, 7, 2, 5, 6, 8, 5, 6, 7, 8, 9, 1, 2, 3, 4, 5, 6, 7, 8, 10, 3, 7, 9, 2, 8, 8, 2, 2, 5, 9, 5, 2, 5, 5, 3, 4, 5, 7, 8, 2, 3, 5, 9, 3, 5, 9, 2, 3, 2, 3, 5, 9, 3, 3, 5, 6, 3, 3, 3, 3, 2, 3, 1, 7, 1, 2, 3, 6, 7, 9, 10, 3, 9, 9, 3, 6, 9, 1, 2, 3, 4, 5, 8, 9, 6, 8, 1, 6, 8, 1, 2, 3, 3, 1, 2, 3, 4, 6, 7, 10, 2, 8, 1, 2, 3, 5, 6, 8, 5, 5, 7, 5, 9, 5, 7, 7, 7, 6, 3, 3, 3, 3, 3, 10, 6, 7, 5, 6, 3, 5, 3, 9, 2, 1, 2, 4, 7, 8, 7, 7, 8, 10, 3, 4, 5, 9, 5, 3, 9, 3, 3, 4, 3, 4, 6, 3, 5, 4, 5, 8, 5, 9, 9, 3, 5, 6, 3, 9, 4, 1, 7, 1, 6, 1, 7, 8, 3, 5, 9, 6, 1, 3, 5, 9, 10, 10, 3, 5, 9, 4, 5, 6, 10, 3, 4, 5, 6, 7, 8, 6, 4, 1, 2, 3, 4, 6, 8, 10, 8, 6, 10, 8, 1, 6, 7, 8, 1, 8, 1, 1, 3, 9, 6, 2, 3, 2, 7, 2, 3, 5, 6, 9, 5, 3, 10, 4, 8, 2, 5, 6, 9, 2, 3, 5, 6, 4, 5, 6, 4, 8, 6, 4, 8, 1, 2, 3, 4, 5, 6, 7, 8, 9, 1, 3, 4, 5, 9, 1, 10, 5, 3, 4, 5, 9, 1, 3, 5, 8, 1, 2, 4, 5, 7, 1, 2, 4, 5, 8, 6, 6, 4, 5, 4, 6, 9, 6, 9, 8, 1, 6, 10, 1, 3, 5, 6, 7, 8, 5, 6, 2, 7, 1, 2, 3, 4, 6, 7, 8, 9, 1, 3, 4, 5, 6, 7, 8, 8, 1, 5, 2, 3, 5, 8, 9, 7, 1, 2, 3, 4, 5, 6, 7, 8, 10, 3, 4, 5, 6, 3, 4, 5, 8, 7, 5, 1, 6, 7, 9, 1, 10, 10, 1, 3, 6, 7, 9, 9, 9, 9, 3, 1, 2, 5, 6, 7, 8, 9, 1, 2, 3, 4, 5, 6, 7, 8, 9, 10, 7, 2, 2, 1, 2, 3, 4, 5, 6, 8, 2, 6, 6, 4, 1, 6, 1, 2, 3, 4, 5, 6, 7, 8, 10, 1, 6, 9, 1, 2, 6, 10, 1, 7, 7, 1, 2, 4, 6, 1, 2, 3, 5, 7, 1, 7, 10, 1, 10, 4, 2, 6, 8, 5, 1, 3, 5, 7, 9, 5, 8, 1, 2, 3, 4, 5, 6, 8, 8, 4, 1, 3, 4, 5, 6, 7, 8, 9, 3, 1, 6, 1, 7, 10, 1, 6, 7, 8, 10, 9, 9, 1, 10, 1, 2, 3, 5, 9, 7, 6, 2, 3, 6, 8, 7, 9, 5, 3, 5, 9, 9, 1, 7, 6, 1, 2, 4, 5, 6, 7, 8, 1, 4, 5, 6, 7, 8, 2, 1, 7, 1, 4, 6, 7, 8, 1, 2, 3, 4, 5, 6, 8, 10, 9, 4, 6, 7, 10, 2, 6, 9, 9, 3, 9, 5, 8, 8, 8, 8, 1, 7, 3, 7, 7, 7, 8, 1, 2, 3, 5, 6, 10, 1, 2, 7, 8, 10, 3, 3, 4, 5, 7, 8, 10, 9, 4, 10, 1, 3, 4, 5, 6, 7, 8, 6, 1, 6, 8, 8, 1, 2, 5, 9, 2, 9, 4, 6, 7, 9, 7, 4, 2, 4, 7, 8, 3, 5, 6, 8, 4, 1, 3, 5, 6, 7, 9, 1, 3, 5, 6, 7, 8, 9, 4, 1, 7, 3, 4, 5, 6, 7, 8, 4, 8, 6, 7, 1, 4, 5, 6, 7, 8, 9, 10, 9, 7, 4, 4, 1, 1, 5, 6, 7, 8, 9, 1, 7, 10, 10, 2, 8, 9, 1, 8, 10, 1, 3, 5, 6, 7, 9, 9, 7, 9, 7, 7, 1, 8, 1, 7, 1, 7, 1, 3, 5, 6, 7, 9, 7, 5, 3, 3, 3, 4, 6, 10, 1, 7, 1, 1, 4, 4, 4, 4, 6, 2, 5, 8, 2, 3, 5, 5, 3, 5, 9, 9, 10, 2, 5, 2, 4, 5, 6, 1, 4, 5, 7, 8, 10, 1, 3, 5, 6, 10, 8, 1, 2, 3, 5, 5, 10, 4, 5, 4, 5, 5, 7, 2, 2, 9, 2, 3, 4, 5, 6, 9, 10, 5, 2, 5, 5, 10, 1, 4, 6, 6, 10, 2, 4, 6, 8, 6, 2, 1, 2, 5, 6, 7, 9, 10, 1, 5, 1, 2, 3, 4, 5, 6, 7, 8, 9, 3, 5, 2, 10, 5, 9, 10, 5, 10, 3, 7, 8, 9, 10, 3, 7, 7, 1, 6, 7, 8, 9, 1, 8, 4, 4, 5, 7, 3, 4, 6, 10, 10, 8, 8, 3, 4, 7, 1, 3, 6, 7, 8, 8, 6, 7, 8, 7, 1, 3, 4, 5, 6, 10, 2, 3, 7, 8, 4, 2, 3, 5, 6, 8, 2, 3, 6, 7, 2, 5, 7, 10, 5, 10, 7, 1, 2, 3, 4, 5, 6, 8, 9, 10, 2, 8, 10, 2, 3, 5, 6, 8, 1, 3, 4, 1, 3, 4, 8, 5, 1, 5, 1, 1, 4, 5, 9, 10, 1, 8, 10, 1, 2, 3, 5, 6, 8, 9, 2, 1, 10, 8, 1, 2, 3, 4, 5, 6, 7, 8, 10, 5, 6, 7, 7, 10, 6, 2, 1, 3, 4, 5, 6, 7, 8, 6, 10, 1, 3, 6, 7, 3, 10, 6, 8, 1, 2, 3, 4, 8, 2, 3, 4, 5, 9, 4, 2, 3, 1, 4, 5, 7, 8, 10, 1, 3, 5, 6, 7, 8, 8, 6, 1, 3, 4, 6, 10, 5, 1, 2, 6, 8, 10, 1, 2, 4, 5, 6, 7, 8, 9, 6, 7, 8, 6, 3, 5, 9, 1, 2, 3, 6, 10, 1, 7, 1, 7, 9, 1, 8, 10, 4, 10, 3, 4, 5, 6, 7, 8, 9, 10, 7, 3, 8, 10, 7, 7, 3, 2, 4, 8, 10, 2, 4, 5, 6, 10, 10, 4, 6, 5, 2, 5, 8, 7, 1, 7, 9, 1, 1, 3, 7, 9, 1, 4, 5, 9, 5, 9, 9, 1, 2, 3, 4, 5, 6, 7, 8, 9, 10, 2, 6, 2, 4, 2, 8, 9, 9, 2, 1, 3, 4, 8, 10, 3, 10, 1, 10, 2, 5, 9, 2, 2, 3, 4, 9, 4, 4, 7, 1, 2, 3, 5, 8, 2, 1, 10, 4], \"Freq\": [0.998691027438303, 0.9981153992792126, 0.998654066080347, 0.9984905806908638, 0.3154319908491007, 0.684367635842226, 0.9990600716021619, 0.9985834510254508, 0.9975365017843978, 0.004194191862794422, 0.4153863094882937, 0.04274849398617391, 0.14582882476792913, 0.3677983633527416, 0.024035945675244953, 0.18836008693531603, 0.8113025966691062, 0.4188029269325783, 0.41948975719150716, 0.0275713289655731, 0.04559244671175433, 0.076172746335492, 0.000981186084184096, 0.011349052373729377, 0.9984717333877055, 0.21180789759928687, 0.08387886412727391, 0.04184766087750209, 0.024411135511876215, 0.19180177902188456, 0.42563476129354094, 0.011379627080724252, 0.009177118613487299, 0.9274579603691874, 0.07202047848676929, 0.9591404044911005, 0.04076382793271188, 0.9994651306243562, 0.999566850574145, 0.9656495833810267, 0.03412052332364198, 0.999131275490074, 0.15241468026678615, 0.05801591055316376, 0.7886230553158871, 0.6662229353931381, 0.3337069742309987, 0.998770078281048, 0.9993726442495457, 0.9990747702323125, 0.9994828076793675, 0.00040196372719861955, 0.9987097070989797, 0.07258948184361859, 2.9400357166309677e-05, 0.3350170699100988, 0.05791870361763006, 0.2519316605581076, 0.015082383226316864, 0.26742564878475283, 0.9990925809757958, 0.7217327366441709, 0.050181826269737856, 0.22788452870728015, 0.998557180645104, 0.5103397773491508, 0.2246333791413571, 0.17797673796613941, 0.039317394248778954, 0.04744298906019327, 0.15457347031053323, 0.2589709430319832, 0.052289306753485074, 0.107899527908173, 0.012800615510091033, 0.24345321573908985, 0.0030793933538426545, 0.1667099029403837, 0.00018114078552015613, 0.9984587840780611, 0.9996390411929076, 0.9987657312896201, 0.43278807236153666, 0.5671254900225576, 0.9978694468545233, 0.9994859553098296, 0.09052919752478764, 0.759649912253218, 0.14975915311464869, 0.9996020125575212, 0.337803610500782, 0.6620950765815327, 0.9990231758711607, 0.04944378846102113, 0.19636783538693972, 0.2508779702936822, 0.3441362733871452, 0.1591208068878403, 0.15608618224448012, 0.61224533653507, 0.13192759467586498, 0.09972954369007345, 0.6558829187379898, 0.1718967062162588, 0.17216424972787941, 0.3158037622230042, 0.6839872144765551, 0.25529513928472997, 0.19728210615341085, 0.45030963502258436, 0.09675137773040839, 0.9990574838480495, 0.9523733830637366, 0.04733528716792431, 0.00026239072709492413, 0.9993671694324916, 0.9989996287218049, 0.9998525583720553, 0.9989731002452058, 0.007739115361152592, 0.9915741556476758, 0.4709260574366748, 0.5288460489884431, 0.05135346014695402, 0.024307304469558238, 0.565161946737278, 0.0003423564009796935, 0.05066874734499464, 0.0369744913058069, 0.2712147408561132, 0.9987935921995025, 0.9989085150040173, 0.9984960447448417, 0.816255327406042, 0.03377412516040299, 0.1498549418881746, 0.04449267576190099, 0.06502775688277837, 0.13470035354289805, 0.06661678101713198, 0.003544746145865738, 0.6711793478258196, 0.01430121720918246, 0.14254270851732123, 0.8570548972681838, 0.9104705744099391, 0.038513983689083715, 0.0508384584695905, 0.9993006458052452, 0.09820083616406376, 0.9014754583429117, 0.9987607054379891, 0.0012250986183739714, 0.15698763724020748, 0.07455600163247311, 0.5075408561835024, 0.01155092983038316, 0.017851437010592153, 0.23014352616596748, 0.9994218623850396, 0.9987721221772128, 0.45032943818074384, 0.07815901795821659, 0.007535993467045677, 0.12477452040437056, 0.3131743570805125, 0.026053005986072197, 0.998732860659281, 0.9202898032615774, 0.07890731453784237, 0.9989550207934583, 0.9991183340930117, 0.7932930451200376, 0.20623275619073356, 0.9995825191517653, 0.9996634872209388, 0.998616293296406, 0.9998850294256728, 0.9984717798632184, 0.9999020142004207, 0.9993625562151079, 0.9998182758277121, 0.9993584363072613, 0.7626797142268062, 0.2370403363519538, 0.9973174131103273, 0.9992891729811147, 0.9138445010971102, 0.08609226367372545, 0.9841356645665239, 0.015739977854891965, 0.9994175891294372, 0.030887545929762433, 0.7147311703317071, 0.011624345242383712, 0.09221980558957744, 0.150341531801496, 0.9997276220450027, 0.952032945494993, 0.046945672391169334, 0.0009483974220438249, 0.31846377293645817, 0.381361186084977, 0.17827225983631811, 0.12189362620179142, 0.9995165197281499, 0.9304331462007125, 0.06881016836854144, 0.998938226588783, 0.9985194409036039, 0.9994218513324088, 0.9987863503988986, 0.9082366966768224, 0.09082366966768224, 0.1073702652410661, 0.8918977861129049, 0.6926200385484325, 0.3071656502024549, 0.9979924432806812, 0.4726756413701624, 0.5269671723243806, 0.9992697649548431, 0.6808790752016894, 0.2193066778925006, 0.09980805551487124, 0.9990625693390635, 0.9990667956706875, 0.9988084635126078, 0.9003109011267232, 0.09959120764103445, 0.9997062943240111, 0.9991213218949285, 0.7542886607258191, 0.15920211907604626, 0.0864083225605851, 0.04286207960005683, 0.23551584790768068, 0.721436476636746, 0.9995501916103467, 0.18304240869121322, 0.017383915909221368, 0.05982112239349706, 0.7395833636084914, 0.9984772584101842, 0.9985497312647528, 0.4601428445567153, 0.518706479318479, 0.021089880375516117, 0.7676704933283655, 0.15932258743175248, 0.06623366953494687, 0.0065398791347531585, 0.017486078929154793, 0.07990950048269664, 0.1062326300534673, 0.7319710244215012, 0.061671332137234115, 0.002820335311153999, 0.9984458154313869, 0.9971345316217474, 0.06549944716156732, 0.14627230801103375, 0.13481724774510942, 0.42897732098416624, 0.028784510411809853, 0.08694097022342569, 0.10852935303228307, 0.99937264772002, 0.9983285817514567, 0.9977541424512716, 0.9983848252954627, 0.29015768015908383, 0.35746085717384724, 0.3162690787104547, 0.036025352012051794, 0.9624666642281589, 0.03745876648462773, 0.9997834046833999, 0.2575195729349404, 0.0972606112372307, 0.644904166555956, 0.9987735471157355, 0.2266491196314734, 0.77322778885838, 0.9986672538269178, 0.9985293664311482, 0.19250602142316894, 0.4583133368963585, 0.30922731697604333, 0.0017624354853556874, 0.03821280575066649, 0.998445022678578, 0.9994639384844031, 0.9992860774166155, 0.14797749679075775, 0.8514906239915111, 0.9991227847973674, 0.09279929747724751, 0.26020195174992927, 0.6468656912384605, 0.6115427920859314, 0.14721649151590155, 0.09893679740385433, 0.14227879552716946, 0.15527850486249595, 0.1671675783206453, 0.6773169121612352, 0.9994309855145649, 0.9992575789351575, 0.999218431203147, 0.9987605983391911, 0.9993929749846758, 0.13211164023039365, 0.24004443241382056, 0.10646620631828303, 0.2532040677443008, 0.1365113978258253, 0.03274053850294184, 0.01093993780485708, 0.06032820774997274, 0.0276273067028456, 0.4408324720399345, 0.2898620263409762, 0.2092747892435274, 0.029690034720112717, 0.03030473523191629, 0.9992659157697874, 0.9992230439223564, 0.9988068819063525, 0.9993717395855345, 0.07417152196026709, 0.6447387222337247, 0.28118756086429614, 0.020230601640022824, 0.12432981396247038, 0.7361582033670442, 0.11922306015042577, 0.08542749672746038, 0.6522504817704745, 0.15122975772023392, 0.0007696170876347781, 0.11024764780368197, 0.34268409166777136, 0.15392393369582386, 0.4151188839952179, 0.052177604642652156, 0.03591046907759001, 0.9988318404485838, 0.9983297043878961, 0.9991222570531589, 0.9992783910474864, 0.09089358186017926, 0.30714710380268634, 0.6014837027794413, 0.9990368074237683, 0.9995980637266014, 0.9974014022775525, 0.10087935095558043, 0.7162856007180753, 0.1823425925222207, 0.028036406770252553, 0.04130968147307743, 0.40185516370695323, 0.16889564851451658, 0.35986827434087454, 0.9993791943772639, 0.16881074474241314, 0.8306984432735837, 0.9103265952240415, 0.08907730406726898, 0.10145544808148446, 0.3507891926211877, 0.1296116618839148, 0.35067284463026854, 0.00721357543698628, 0.00011634799091913356, 0.00721357543698628, 0.0530546838591249, 0.15635048713119737, 0.08710609956426923, 0.0001694200324951055, 0.2769291445441424, 0.0547710762194891, 0.19616419476754715, 0.2285234209741123, 0.9985387306631981, 0.29335976048002327, 0.7062584324599953, 0.5386053750567897, 0.22561517914236145, 0.047813236862334116, 0.008477524266371297, 0.1794974471333016, 0.9987661996055726, 0.13748011293729706, 0.09826822784553503, 0.12424252399208542, 0.21344717742468275, 0.1388515748550442, 0.023934991903639416, 0.2152837438188833, 0.0484066428185712, 7.155453483898182e-05, 0.9994764487633208, 0.728077548444903, 0.22646886909336686, 0.04469780311053293, 0.0924018142795291, 0.8624169332756049, 0.045100885541198725, 0.9992489683783877, 0.9986394523922306, 0.9992342057227265, 0.9991880464692982, 0.9986814961874217, 0.999288570054495, 0.998996387475654, 0.5111368817388591, 0.4886164943751172, 0.9990032097634407, 0.1393721995488693, 0.03922727470746321, 0.2990502824757196, 0.1409874402721178, 0.38142755936139233, 0.9993244596829076, 0.9992050505607566, 0.999038652189904, 0.9995400850088307, 0.6419629646518931, 0.2046496026466515, 0.08753017639312527, 0.0002812666336540015, 0.020419957603280508, 0.0002812666336540015, 0.04489015473117864, 0.09207489128170844, 0.34554241870209335, 0.021118852157018652, 0.005974955564632396, 0.15770303224162233, 0.1299621671201148, 0.0681337674870178, 0.13841521485441038, 0.03472082473272558, 0.006360436568802228, 0.9983308518563693, 0.9991123524081219, 0.9987063563507043, 0.24938469678851533, 0.3899009472632625, 0.008746302240852407, 0.1898868249658746, 0.060763783989079875, 0.06858942283615835, 0.03268355047897478, 0.9989963758094131, 0.9982395039205415, 0.9992843014498529, 0.9990196854873108, 0.9985573921016122, 0.9988923193240918, 0.056684949131534955, 0.22009098907208635, 0.12057535006211391, 0.1227710027562432, 0.07174527113211189, 0.0907021035476225, 0.11139071836977027, 0.19572233663583455, 0.010297920382324681, 0.9987896759452016, 0.9989951664870906, 0.9984122571335944, 0.0626686114761226, 0.08569326707370355, 0.1329544022476855, 0.7186116194402897, 0.8398506442882568, 0.16005058862071522, 0.9987195232149769, 0.15915885633464757, 0.5337409588946415, 0.18716259376883093, 0.11972240040669213, 0.41959380087031733, 0.014905488203401415, 0.0004307944567457057, 0.0592773172482091, 0.5057526922194584, 0.7724693856265414, 0.227177566873594, 0.9994724837412258, 0.999426030531352, 0.9995547838281029, 0.9985606604005727, 0.22742459578491583, 0.28166393452859867, 0.4907708588956918, 0.9983290677317871, 0.1630705217614147, 0.41727871491840757, 0.30852715441271145, 0.03136408641543586, 0.07977387196969556, 0.6568701809331023, 0.3431254778995599, 0.015713378934185583, 0.04219660185697028, 0.027895661478666543, 0.5577366747538456, 0.09957691818967045, 0.11758550977716403, 0.13912519775436225, 0.9989961541222533, 0.9989186028212816, 0.369845724618079, 0.0006925949899214964, 0.002374611394016559, 0.2787200123726936, 0.011180461980161299, 0.010191040565987733, 0.2893068215043508, 0.03759801373859552, 0.9989320498604491, 0.8365156653285227, 0.1633819658844771, 0.999246922239269, 0.9994522237107959, 0.9975378483119981, 0.04822126472832821, 0.22311782676806405, 0.35523502229332693, 0.3029323339046073, 0.07044234910157036, 0.9995470847185295, 0.998722475104514, 0.9985792834525147, 0.9986602212809748, 0.14257236514128757, 0.5284443219492587, 0.022865379315112157, 0.2546575578624256, 0.05140974172809531, 0.9996087972090775, 0.9996654735320073, 0.37636874424447625, 0.07995217294247223, 0.43065941189755236, 0.11277096882278834, 0.2826420486178671, 0.7164332023719078, 0.9994256225770182, 0.1588683437223719, 0.41215370099523674, 0.42889430623468583, 0.9979043121350386, 0.7880705657377427, 0.21179485473559073, 0.9996894911115942, 0.4161189517816805, 0.12955614713301397, 0.2061781325001298, 0.06199881628477566, 0.005216452128788021, 0.040876460943617604, 0.14007456699925866, 0.00016685296792462833, 0.30976253495207245, 0.00100111780754777, 0.201558385252951, 0.31301616782660274, 0.17444477796519892, 0.9991822320681358, 0.7561796777117237, 0.2437057318367389, 0.13636449304826137, 0.8635495888370628, 0.5278280437673325, 0.22136383131206688, 0.25067332814084226, 0.12494136966566752, 0.023187130741598613, 0.16748561401743997, 0.0017597376009248946, 0.005072184849724696, 0.28870048052820774, 0.3859001044851769, 0.00300190531922482, 0.9992697866651766, 0.307626897335306, 0.5856030093852813, 0.03592306678799681, 0.0709908224619937, 0.28576420026495913, 0.06731945102395671, 0.6467475830515842, 0.9971662505638842, 0.6604232748667013, 0.33949960354916653, 0.9987926349414252, 0.9998927491098901, 0.9997766112661297, 0.9976780712160045, 0.9988153130800912, 0.37965548625036194, 0.6201813626057135, 0.9998058708305236, 0.998065343445062, 0.9981524443272866, 0.8456220347683862, 0.1537494608669793, 0.7808820399610835, 0.1576781042229111, 0.03691669900457046, 0.0010011308204629277, 0.020648323172047883, 0.002878251108830917, 0.7281089274537217, 0.18167785138000733, 0.0005590087734769456, 0.0058695921215079295, 0.08385131602154185, 0.999620540566248, 0.0028124915799627383, 0.0007031228949906846, 0.2559367337766092, 0.07851538994062644, 0.4849204232452421, 0.1771869695376525, 0.998619095171279, 0.9985499282508496, 0.9985102518474338, 0.1344820026085988, 0.09032977886059497, 0.0132051604971094, 0.16502399958657574, 0.4152739429949864, 0.17296329853575806, 0.008668418240433778, 0.9976937942103374, 0.10822654319650232, 0.44465271223050773, 0.4470284168372602, 0.9976859151772446, 0.05565669440370752, 0.8643295974135088, 0.06438253208564472, 0.015565007756969052, 0.9989107138062624, 0.9979156579274409, 0.7869590179139601, 0.05724534662083154, 0.11531318385403135, 0.04030204000604519, 0.9983306033083675, 0.9993115726573498, 0.9983731622288887, 0.39801716244050467, 0.3575644835476029, 0.2442659844261041, 0.03146104654077942, 0.0661992854295567, 0.08356840487394535, 0.8183149292950648, 0.9996639651272886, 0.07698706253361695, 0.0005011362898852201, 0.429411158395398, 0.0007517044348278303, 0.4274692552720928, 0.064897149540136, 0.22440289337142252, 0.06359766685263664, 0.2521584314216792, 0.02270141883017957, 0.10752638640713996, 0.16042616757728012, 0.1691445232319131, 0.9978831979567425, 0.9994429830305586, 0.9988492872877165, 0.14221113405489622, 0.37228704916414584, 0.13325028262432542, 0.07251024103548352, 0.17621393245630532, 0.10346150624702258, 0.9327238745487176, 0.06682200892289321, 0.27956171662537305, 0.7202785490238677, 0.1394192251361328, 0.046067639276170386, 0.01573597579235523, 0.09821681509044908, 0.040518237185146556, 0.2083686456369357, 0.4510979727141833, 0.0006081536538108302, 0.9987446543129483, 0.9987634344253601, 0.9997122410949406, 0.9994753086459475, 0.9995068508189979, 0.10796575555222593, 0.1657890259754986, 0.1946282009485093, 0.017100616315654578, 0.018259980133665057, 0.49620771410848535, 0.5923586551895402, 0.34024479091127724, 0.06713794186200406, 0.9976721463360245, 0.8336180190304313, 0.1221198346802505, 0.044043219065008375, 0.37768232978464694, 0.4827713412928354, 0.13938751241788183, 0.13442771338883944, 0.003947306429036068, 0.41892616934825383, 0.00043858960322622984, 0.34188059571484614, 0.10036392087160226, 0.9979632972068748, 0.21318588266111912, 0.7867195445964433, 0.9991207777834521, 0.9992296822661496, 0.11877819641725992, 0.8806968709962687, 0.8428034382587212, 0.1571626862327423, 0.8202707623011636, 0.17962580968179442, 0.9991392149038475, 0.5809669611717657, 0.1098149809497592, 0.04103444593088776, 0.07441479832026276, 0.19379739619691289, 0.9983723206568912, 0.9985295970025693, 0.9996705762503093, 0.99909702631036, 0.986989268596708, 0.012282533120314588, 0.8199112533028179, 0.17983987490026643, 0.29563522043209134, 0.7041985380716241, 0.9990700819801165, 0.09245174652244303, 0.9074782015966317, 0.9988467322029391, 0.9996953402744975, 0.999191630266536, 0.9988301422620445, 0.2578825213940099, 0.10934947903632929, 0.6328601099227558, 0.16846153544895154, 0.08989028099790812, 0.7416279148015925, 0.9987989813328775, 0.9992222560347185, 0.3395848561516503, 0.6601275708368529, 0.9988140275192734, 0.9980224599989705, 0.9995433479046828, 0.9994310544218324, 0.794150077530202, 0.03746939884483853, 0.07342996283686477, 0.09480512325170555, 0.2098598280383619, 0.4128878252808172, 0.06446445468958029, 0.05763262389367368, 0.09827325837188733, 0.15678175800862595, 0.15136994091206576, 0.18436611331796565, 0.028665424777625532, 0.3584209227590876, 0.27675539605448535, 0.9985841488073518, 0.9988017001692028, 0.9988765965694817, 0.1890337197439759, 0.8102756045336442, 0.9990826316436507, 0.9971855958166598, 0.5780509982699968, 0.4219137443591339, 0.9994448450436028, 0.9986906453212908, 0.872877040240148, 0.1263175612825864, 0.9996877635778749, 0.9995009469314916, 0.9983295119489808, 0.18472205797542862, 0.20570875365113278, 0.07763609798914332, 0.46454466698481733, 0.008316406211817496, 0.05899756406736412, 9.784007308020584e-05, 0.9996317467842412, 0.3138049567935878, 0.6859337211544969, 0.9992538922294657, 0.9981388924877226, 0.9998170515714896, 0.9984976778603036, 0.9993896305382527, 0.9990426001354362, 0.9994596976579213, 0.42311333242454763, 0.2606374423525693, 0.31295940182288434, 0.0032411833300195155, 0.9978422289813764, 0.999491793210323, 0.11894920435976156, 0.6173744057931732, 0.012816075890614039, 0.18663410515706694, 0.0392492324150055, 0.024831147038064702, 0.9980652203931906, 0.9996522169945427, 0.9976211906798992, 0.056686741159764735, 0.43372643681040823, 0.07966785244075043, 0.054183107898258975, 0.03538717460665603, 0.2644135665435038, 0.035050865661080635, 0.0015320740853990468, 0.03934814663232186, 0.9993650495922282, 0.9992995852442328, 0.998684502562671, 0.9987467049350262, 0.9985237376796054, 0.9992492261034451, 0.9967419024414199, 0.9990434589394892, 0.9988728649913148, 0.893435906649594, 0.1062695946518462, 0.9993741546431857, 0.9996642773469915, 0.9989229999584479, 0.5849862472393388, 0.4148957901364838, 0.9995073923414926, 0.09580465664855271, 0.043803733387439876, 0.29970975475616757, 0.5107873940032462, 0.0499516257926946, 0.999303523215869, 0.998607719598108, 0.9989778565522639, 0.7671663403848463, 0.005611131299035853, 0.22693908809433894, 0.030296799452930057, 0.7118555084058527, 0.04675726529743536, 0.2111233662664811, 0.9987681422002417, 0.9992348054712531, 0.9990749701964696, 0.9873312717869097, 0.012353519281260661, 0.9991492991051822, 0.03531864540494718, 0.03516962158467314, 0.0038746193271250074, 0.2585563281754572, 0.6670306195465974, 0.9987006526079466, 0.0740933537892468, 0.7732306408262423, 0.15246132414325783, 0.9992298487067701, 0.10347324130834715, 0.6408008211733467, 0.0036663746920280486, 0.07801230594704125, 0.1664126735214953, 0.007332749384056097, 0.1644186862238036, 0.5072591812301844, 0.0874801813784065, 0.24057049879061787, 0.9996484745658816, 0.22762585915130837, 0.1750279467613797, 0.0824780030454839, 0.47013580840444763, 0.044652270305492646, 0.17439484008077666, 0.21014522369759187, 0.5583204441407312, 0.057088893838101784, 0.3970967635480127, 0.4696956849049535, 0.1330687251021893, 0.9989153121974061, 0.9992108743769889, 0.9990681641040228, 0.9988855181433836, 0.021756622232191297, 0.10026329102633368, 0.08234607271747026, 0.1263346719533125, 0.1293330635886733, 0.21976016742095747, 0.08241920422077173, 0.23643415017369568, 0.001352932811077442, 0.1693623957105785, 0.3773573541901688, 0.45324274534358483, 0.11738750742498563, 0.11990704416971704, 0.11578416586015657, 0.061843174643407064, 0.584876097970148, 0.49082280532027506, 0.2630029936244199, 0.24615164287398109, 0.4895210688136423, 0.2622905026761304, 0.24818744549706206, 0.9976617414441971, 0.9983645478183413, 0.9992741036909512, 0.9985355397104083, 0.9998066495965492, 0.99974242569215, 0.22099100968550178, 0.17592717476115408, 0.06135810291959209, 0.5417844108418753, 0.18022769301044145, 0.384056631534155, 0.43501386616508336, 0.022986019526673878, 0.7062614124706151, 0.17534821145868928, 0.011812260034540743, 0.025939084535309066, 0.00031925027120380386, 0.057305423681082795, 0.999066527685568, 0.20116107743571346, 0.7974599855487212, 0.9991703048132938, 0.25458234761650084, 0.09328539367285502, 0.1379756055254321, 0.23061017087033694, 0.0024948419238089133, 0.07245888717845018, 0.08254672626167753, 0.02462300507411406, 0.10142074777223191, 0.09650472036451686, 0.7775326936130469, 0.1256965396918618, 0.8790264092979956, 0.12027083102424366, 0.9989608165471706, 0.9985159541830061, 0.04380664183228467, 0.023155566946453383, 0.14095457071009954, 0.0027241843466415745, 0.5802952042918593, 0.20857585634689604, 0.00043938457203896364, 0.9991634009131489, 0.997963164269044, 0.35633295489790157, 0.021548158039548623, 0.507170061174742, 0.11483591540588717, 0.7829308034727974, 0.21700279900894387, 0.9993140253166586, 0.9988210188542069, 0.999314870005147, 0.15780199171487935, 0.7809238316697523, 0.05905322981876696, 0.002082790263317507, 0.3829720530917169, 0.42497973522316174, 0.013407350997283908, 0.11509741725207834, 0.06349576160790438, 0.9980021837979159, 0.9990688079533138, 0.9990467685920695, 0.17808934597208012, 0.2593785151819167, 0.09680017676224355, 0.1575516230091709, 0.3031827494734364, 0.0048830949702021965, 0.019502366423958965, 0.046384006629956454, 0.12426169957968448, 0.42444001521332314, 0.2806759492096797, 0.10475933315572551, 0.9993499980259535, 0.999266622961124, 0.08431786010243908, 0.19279164769368504, 0.12943930956266322, 0.0013673166503098228, 0.5920481095841533, 0.9989718005501927, 0.08742028475566818, 0.41500078999179557, 0.211183833960322, 0.26921846119980586, 0.017107527634770272, 0.00010253323791279204, 0.15123652592136824, 0.005844394561029146, 0.0656212722641869, 0.22034392827459007, 0.3824489774147143, 0.02214717938916308, 0.15236439153840897, 0.5816713352084152, 0.18109149715055997, 0.23691669552028147, 0.9991073529473425, 0.40367835609116975, 0.2072195064778739, 0.3889208838197485, 0.27467131346646023, 0.07698165298001038, 0.05070705857499424, 0.5910329427785179, 0.006592887156978219, 0.29322148618107896, 0.7065577980266964, 0.35251415936187885, 0.6472338777414207, 0.9985264543978812, 0.057070919141910655, 0.9199832165675997, 0.02168694927392605, 0.998315915949537, 0.9997063775074774, 0.001868647584541857, 0.11894660586218359, 0.11628737660725863, 0.25665155863072964, 0.40592775221124644, 0.05835930148646107, 0.04111024685992085, 0.0007905816703830933, 0.9995842268565128, 0.2608927906764525, 0.04757234678036615, 0.6913092615464319, 0.9983560716677424, 0.999332914742514, 0.9990683592492395, 0.19031916659674858, 0.22830189799851447, 0.1493626982169085, 0.43200288099659695, 0.25707196044975517, 0.1845850445899365, 0.10375892602058116, 0.036083088647033634, 0.41824308973983876, 0.999284269179219, 0.9989185131798746, 0.9995181222637034, 0.9990701313712134, 0.40957316312173886, 0.0013428628299073406, 0.5888453509143688, 0.9990315043057131, 0.8480051839734953, 0.0356656894897274, 0.11628329637779784, 0.9986701904423395, 0.9989284121940403, 0.09030361083533625, 0.24186211853100548, 0.6674889276430099, 0.9994436555000317, 0.20919965134161841, 0.2478174805247258, 0.5430188005379268, 0.4109773080814741, 0.5886703953920631, 0.998495792111708, 0.12689952224890197, 0.3762698727751675, 0.05118893771875997, 0.07968478246164185, 0.007958965538349424, 0.20443866061454788, 0.005147431895320278, 0.08027668428122692, 0.030091865720691644, 0.03805083125904107, 0.9989043343393911, 0.9986826305994138, 0.9987933396132733, 0.9988504073535504, 0.9983384557912508, 0.3268407599714263, 0.6732115477794581, 0.9986508399703217, 0.9986447302784472, 0.9994169787827717, 0.06779121894173, 0.13189813250619206, 0.11937149422348109, 0.6808596337191143, 0.1769848150509583, 0.8228184947005461, 0.16186254927284893, 0.8367048700873422, 0.9009609504166356, 0.08147864912909988, 0.017387188365555584, 0.998968053971818, 0.5672965191376962, 0.10871302259419019, 0.31546298531681116, 0.008540865972607534, 0.9991529063908158, 0.9978472183815764, 0.9985121439936014, 0.019536374822692514, 0.6311751865792965, 0.24570748334694045, 0.03888489988747452, 0.0648081664791242, 0.9983114457420734, 0.9044098959110666, 0.09517481549256954, 0.9993636652341189], \"Term\": [\"000\", \"000 case\", \"2003\", \"2006\", \"2008\", \"2008\", \"90\", \"92\", \"93\", \"acid\", \"acid\", \"acid\", \"acid\", \"acid\", \"acid\", \"acidic\", \"acidic\", \"acidity\", \"acidity\", \"acidity\", \"acidity\", \"acidity\", \"acidity\", \"acidity\", \"acidity wine\", \"add\", \"add\", \"add\", \"add\", \"add\", \"add\", \"add\", \"add\", \"aftertaste\", \"aftertaste\", \"age\", \"age\", \"age good\", \"age year\", \"alcohol\", \"alcohol\", \"alongside\", \"appellation\", \"appellation\", \"appellation\", \"apple\", \"apple\", \"apple citrus\", \"apple flavor\", \"apple pear\", \"apricot\", \"apricot\", \"ap\\u00e9ritif\", \"aroma\", \"aroma\", \"aroma\", \"aroma\", \"aroma\", \"aroma\", \"aroma\", \"aroma palate\", \"attractive\", \"attractive\", \"attractive\", \"bad\", \"bake\", \"bake\", \"bake\", \"bake\", \"bake\", \"balance\", \"balance\", \"balance\", \"balance\", \"balance\", \"balance\", \"balance\", \"balance\", \"balance\", \"balance wine\", \"banana\", \"barolo\", \"barrel\", \"barrel\", \"barrel ferment\", \"barrel sample\", \"berry\", \"berry\", \"berry\", \"berry aroma\", \"berry fruit\", \"berry fruit\", \"berry plum\", \"bite\", \"bite\", \"bite\", \"bite\", \"bite\", \"black\", \"black\", \"black\", \"black\", \"black cherry\", \"black cherry\", \"black cherry\", \"black currant\", \"black currant\", \"black fruit\", \"black fruit\", \"black fruit\", \"black fruit\", \"black olive\", \"blackberry\", \"blackberry\", \"blackberry\", \"blackberry black\", \"blackberry cassis\", \"blackberry cherry\", \"blackberry currant\", \"blackberry flavor\", \"blackberry flavor\", \"blanc\", \"blanc\", \"blend\", \"blend\", \"blend\", \"blend\", \"blend\", \"blend\", \"blend\", \"blend cabernet\", \"blend sangiovese\", \"blue flower\", \"blueberry\", \"blueberry\", \"blueberry\", \"bodied\", \"bodied\", \"bodied\", \"bodied\", \"bodied\", \"bodied\", \"bodied\", \"body\", \"body\", \"bone\", \"bone\", \"bone\", \"bone spin\", \"bordeaux\", \"bordeaux\", \"bordeaux blend\", \"bottle\", \"bottle\", \"bottle\", \"bottle\", \"bottle\", \"bottle\", \"bottle\", \"bottle age\", \"brambly\", \"bright\", \"bright\", \"bright\", \"bright\", \"bright\", \"bright\", \"bright berry\", \"brown\", \"brown\", \"brown sugar\", \"brunello\", \"burn\", \"burn\", \"butter\", \"butter toast\", \"buy\", \"cab\", \"cab franc\", \"cabernet\", \"cabernet franc\", \"cabernet sauvignon\", \"california\", \"caramel\", \"caramel\", \"carmen\\u00e8re\", \"case produce\", \"cassis\", \"cassis\", \"cedar\", \"cedar\", \"certainly\", \"character\", \"character\", \"character\", \"character\", \"character\", \"chard\", \"chardonnay\", \"chardonnay\", \"chardonnay\", \"cherry\", \"cherry\", \"cherry\", \"cherry\", \"cherry berry\", \"cherry blackberry\", \"cherry blackberry\", \"cherry cassis\", \"cherry chocolate\", \"cherry colon\", \"cherry currant\", \"cherry pie\", \"cherry pie\", \"cherry plum\", \"cherry plum\", \"cherry raspberry\", \"cherry raspberry\", \"cherry spice\", \"chewy\", \"chewy\", \"chianti\", \"chocolate\", \"chocolate\", \"chocolate\", \"chocolate flavor\", \"chop\", \"cinnamon spice\", \"citrus\", \"citrus\", \"citrus flavor\", \"class\", \"clean\", \"clean\", \"clean\", \"cleave\", \"cleave\", \"cleave\", \"climate\", \"close\", \"close\", \"close\", \"close\", \"coast\", \"coastal\", \"coffee\", \"coffee\", \"coffee\", \"colon\", \"colon\", \"colon\", \"colon\", \"color\", \"color\", \"color\", \"color\", \"color\", \"color\", \"combination\", \"complement\", \"complex\", \"complex\", \"complex\", \"complex\", \"complex\", \"complex\", \"complex\", \"component\", \"cool climate\", \"county\", \"craft\", \"creamy\", \"creamy\", \"creamy\", \"creamy\", \"crisp\", \"crisp\", \"crisp acidity\", \"crush\", \"crush\", \"crush\", \"cr\\u00e8me\", \"currant\", \"currant\", \"currant fruit\", \"custard\", \"dark\", \"dark\", \"dark\", \"dark\", \"dark\", \"dark berry\", \"dark chocolate\", \"decade\", \"define\", \"define\", \"deliciously\", \"deliver\", \"deliver\", \"deliver\", \"dense\", \"dense\", \"dense\", \"dense\", \"depth\", \"depth\", \"depth\", \"despite\", \"dessert\", \"dessert wine\", \"develop bottle\", \"dish\", \"drink\", \"drink\", \"drink\", \"drink\", \"drink\", \"drink\", \"drink\", \"drink\", \"drink\", \"dry\", \"dry\", \"dry\", \"dry\", \"dry\", \"dry crisp\", \"dry silky\", \"dry spice\", \"dry tannic\", \"earth\", \"earth\", \"earth\", \"earthy\", \"earthy\", \"earthy\", \"earthy\", \"edge\", \"edge\", \"edge\", \"edge\", \"edge\", \"elegant\", \"elegant\", \"elegant\", \"elegant\", \"elegant\", \"enjoyable\", \"entry\", \"especially\", \"example\", \"exotic\", \"exotic\", \"exotic\", \"exotic fruit\", \"exotic spice\", \"expensive\", \"expression\", \"expression\", \"expression\", \"feel\", \"feel\", \"feel\", \"feel\", \"feel\", \"ferment\", \"fig\", \"fig\", \"final\", \"final\", \"fine\", \"fine\", \"fine\", \"fine\", \"fine\", \"fine\", \"fine\", \"fine\", \"finish\", \"finish\", \"finish\", \"finish\", \"finish\", \"finish\", \"finish\", \"finish imported\", \"finishes\", \"finishes\", \"firm\", \"firm\", \"firm\", \"firm\", \"firm\", \"flat\", \"flavor\", \"flavor\", \"flavor\", \"flavor\", \"flavor\", \"flavor\", \"flavor\", \"flavor\", \"flavor\", \"flavor black\", \"flavor blackberry\", \"flavor blackberry\", \"flavor blackberry\", \"flavor cherry\", \"flavor cherry\", \"flavor cherry\", \"flavor good\", \"flavor pineapple\", \"flavor profile\", \"flavor spin\", \"flavor touch\", \"flesh\", \"floor\", \"floral\", \"floral\", \"floral aroma\", \"follow\", \"follow\", \"follow\", \"follow\", \"follow\", \"forest\", \"forest berry\", \"forest floor\", \"franc\", \"fresh\", \"fresh\", \"fresh\", \"fresh\", \"fresh\", \"fresh\", \"fresh\", \"fruit\", \"fruit\", \"fruit\", \"fruit\", \"fruit\", \"fruit\", \"fruit\", \"fruit\", \"fruit\", \"fruit\", \"fruit palate\", \"fruit wine\", \"fruitiness\", \"fruity\", \"fruity\", \"fruity\", \"fruity\", \"fruity\", \"fruity\", \"fruity\", \"fruity wine\", \"fudge\", \"fun\", \"gain\", \"generic\", \"golden\", \"good\", \"good\", \"good\", \"good\", \"good\", \"good\", \"good\", \"good\", \"good\", \"gooseberry\", \"gorgeous\", \"grain\", \"grape\", \"grape\", \"grape\", \"grape\", \"grapefruit\", \"grapefruit\", \"grassy\", \"great\", \"great\", \"great\", \"great\", \"green\", \"green\", \"green\", \"green\", \"green\", \"green apple\", \"green apple\", \"grenache\", \"grigio\", \"grow\", \"ham\", \"hard\", \"hard\", \"hard\", \"harsh\", \"herb\", \"herb\", \"herb\", \"herb\", \"herb\", \"herbal\", \"herbal\", \"high\", \"high\", \"high\", \"high\", \"high\", \"high\", \"high\", \"high acidity\", \"high alcohol\", \"hint\", \"hint\", \"hint\", \"hint\", \"hint\", \"hint\", \"hint\", \"hint\", \"hit\", \"honey\", \"honey\", \"honeyed\", \"honeysuckle\", \"impart\", \"imported\", \"imported\", \"imported\", \"imported\", \"imported\", \"imports\", \"informal\", \"intensely\", \"italian\", \"juicy\", \"juicy\", \"juicy\", \"juicy\", \"juicy\", \"kiwi\", \"know\", \"layer\", \"layer\", \"layer\", \"layer\", \"leaf\", \"leaf\", \"leafy\", \"leather\", \"leather\", \"leather\", \"leather tobacco\", \"lemon\", \"lemon\", \"level\", \"light\", \"light\", \"light\", \"light\", \"light\", \"light\", \"light\", \"like\", \"like\", \"like\", \"like\", \"like\", \"like\", \"likely\", \"lime\", \"lime\", \"little\", \"little\", \"lively\", \"lively\", \"lively\", \"long\", \"long\", \"long\", \"long\", \"long\", \"long\", \"long\", \"long\", \"luminous\", \"lush\", \"lush\", \"lush\", \"lush\", \"mature\", \"mature\", \"mature\", \"mature fruit\", \"meat\", \"meat\", \"medicinal\", \"medium\", \"medium bodied\", \"medium body\", \"medium weight\", \"melon\", \"melon\", \"merlot\", \"meyer\", \"meyer lemon\", \"mild\", \"mild\", \"mineral\", \"mineral\", \"mineral\", \"mineral\", \"mineral\", \"mineral\", \"minerality\", \"minerality\", \"minerality\", \"minerality\", \"minerality\", \"minty\", \"mix\", \"mix\", \"mix\", \"mix\", \"mix\", \"mix\", \"moist\", \"molasses\", \"mourv\\u00e8dre\", \"mouth\", \"mouth\", \"mouth\", \"mouth\", \"mouth\", \"mouth\", \"mouth\", \"mouth wine\", \"mouthfeel\", \"mouthfeel\", \"mouthfeel\", \"mouthfilling\", \"need\", \"need\", \"need\", \"need\", \"need time\", \"nero\", \"new\", \"new\", \"new\", \"new\", \"new french\", \"new oak\", \"new wood\", \"nice\", \"nice\", \"nice\", \"nicely\", \"nicely\", \"nicely\", \"nicely\", \"noir\", \"nose\", \"nose\", \"nose\", \"nose\", \"nose\", \"nose\", \"note\", \"note\", \"note\", \"note\", \"note\", \"note\", \"note\", \"note finish\", \"nuance\", \"nutty\", \"oak\", \"oak\", \"oak\", \"oak\", \"oak\", \"oak\", \"oak flavor\", \"oak flavor\", \"oaky\", \"oaky\", \"offer\", \"offer\", \"offer\", \"offer\", \"offer\", \"offer\", \"offer\", \"offer\", \"offer aroma\", \"oily\", \"old\", \"old vine\", \"olive\", \"open\", \"open\", \"open\", \"open\", \"open\", \"open\", \"orange\", \"orange\", \"orange\", \"orange zest\", \"pack\", \"pack\", \"pack\", \"pair\", \"pair\", \"pair\", \"palate\", \"palate\", \"palate\", \"palate\", \"palate\", \"palate\", \"palate deliver\", \"palate offer\", \"palate offer\", \"passion\", \"passion fruit\", \"pasta\", \"pasta\", \"peach\", \"peach\", \"pear\", \"pear\", \"pear flavor\", \"pepper\", \"pepper\", \"pepper\", \"pepper\", \"pepper\", \"pepper flavor\", \"petal\", \"petit\", \"petit verdot\", \"petite\", \"petite\", \"pie\", \"pie\", \"pineapple\", \"pineapple\", \"pink grapefruit\", \"pinot\", \"pinot\", \"pinot gris\", \"pinot noir\", \"pinots\", \"pleasure\", \"plenty\", \"plenty\", \"plenty\", \"plum\", \"plum\", \"plum\", \"plum berry\", \"plush\", \"polish\", \"polish\", \"polish tannin\", \"popular\", \"potential\", \"powder\", \"powerful\", \"powerful\", \"powerful\", \"powerful\", \"pretty\", \"pretty\", \"pretty\", \"pretty\", \"pretty\", \"pretty\", \"price\", \"price\", \"price\", \"price\", \"price\", \"production\", \"prosecco\", \"quickly\", \"raisin\", \"raisin\", \"raisiny\", \"rare\", \"raspberry\", \"raspberry\", \"raspberry cherry\", \"raspberry plum\", \"raw\", \"raw\", \"ready\", \"ready drink\", \"recall\", \"red\", \"red\", \"red\", \"red\", \"red\", \"red\", \"red\", \"red berry\", \"red fruit\", \"red fruit\", \"red plum\", \"redolent\", \"refresh\", \"relatively\", \"residual\", \"residual sugar\", \"rh\\u00f4ne\", \"rich\", \"rich\", \"rich\", \"rich\", \"rich flavor\", \"rich wine\", \"richness\", \"richness\", \"richness\", \"richness\", \"richness\", \"richness\", \"ride\", \"riesling\", \"rioja\", \"ripe\", \"ripe\", \"ripe\", \"ripe\", \"ripe\", \"ripe\", \"ripe\", \"ripe\", \"ripe\", \"ripe blackberry\", \"ripe cherry\", \"ripe wine\", \"ripen\", \"rise petal\", \"riserva\", \"roussanne\", \"rubbery\", \"ruby\", \"rustic\", \"rustic\", \"sample\", \"sangiovese\", \"santa\", \"sauvignon\", \"sauvignon\", \"sauvignon blanc\", \"scent\", \"scent\", \"scent\", \"scent\", \"scent\", \"screwcap\", \"selection\", \"shading\", \"shows\", \"shows\", \"shows\", \"silky\", \"silky\", \"silky\", \"silky\", \"silky texture\", \"single\", \"single vineyard\", \"sirah\", \"sirah\", \"slight\", \"slightly\", \"slightly\", \"slightly\", \"slightly\", \"slightly\", \"slightly sweet\", \"smell\", \"smell\", \"smell\", \"smells\", \"smoke\", \"smoke\", \"smoke\", \"smoke\", \"smoke\", \"smoke\", \"smoky\", \"smoky\", \"smoky\", \"smoky\", \"smoky oak\", \"smooth\", \"smooth\", \"smooth\", \"smooth\", \"smooth\", \"soft\", \"soft\", \"soft\", \"soft\", \"solid\", \"solid\", \"solid\", \"sonoma\", \"sour cherry\", \"source\", \"sparkler\", \"spice\", \"spice\", \"spice\", \"spice\", \"spice\", \"spice\", \"spice\", \"spice\", \"spice\", \"spice flavor\", \"spice flavor\", \"spice flavor\", \"spicy\", \"spicy\", \"spicy\", \"spicy\", \"spicy\", \"spin\", \"spin\", \"spin\", \"spin dry\", \"spin dry\", \"spin dry\", \"stainless\", \"stalky\", \"steely\", \"stemmy\", \"stone\", \"stone fruit\", \"strawberry\", \"strawberry\", \"strawberry\", \"strawberry\", \"streak\", \"streak\", \"streak\", \"structure\", \"structure\", \"structure\", \"structure\", \"structure\", \"structure\", \"structure\", \"structure wine\", \"stuff\", \"stuff\", \"sturdy\", \"style\", \"style\", \"style\", \"style\", \"style\", \"style\", \"style\", \"style\", \"style\", \"sugar\", \"sugar\", \"sugar\", \"sugary\", \"sugary\", \"super\", \"superripe\", \"sweet\", \"sweet\", \"sweet\", \"sweet\", \"sweet\", \"sweet\", \"sweet\", \"sweet fruit\", \"sweetly\", \"sweetness\", \"sweetness\", \"sweetness\", \"sweetness\", \"syrah\", \"syrah\", \"syrup\", \"table\", \"tangerine\", \"tannic\", \"tannic\", \"tannic\", \"tannic\", \"tannin\", \"tannin\", \"tannin\", \"tannin\", \"tannin\", \"tannin acid\", \"tannin wine\", \"tar\", \"tart\", \"tart\", \"tart\", \"tart\", \"tart\", \"tart\", \"taste\", \"taste\", \"taste\", \"taste\", \"taste\", \"taste\", \"taste like\", \"tasty\", \"tea\", \"tea\", \"tea\", \"tea\", \"tea\", \"tempranillo\", \"texture\", \"texture\", \"texture\", \"texture\", \"texture\", \"toast\", \"toast\", \"toast\", \"toast\", \"toast\", \"toast\", \"toast\", \"toast\", \"toasty\", \"toasty\", \"toasty\", \"toasty oak\", \"tobacco\", \"tobacco\", \"tobacco\", \"touch\", \"touch\", \"touch\", \"touch\", \"touch\", \"tropical\", \"tropical\", \"tropical fruit\", \"tropical fruit\", \"tuscany\", \"underlie\", \"underlie\", \"underlie\", \"unique\", \"valley\", \"vanilla\", \"vanilla\", \"vanilla\", \"vanilla\", \"vanilla\", \"vanilla\", \"vanilla\", \"vanilla\", \"vanilla flavor\", \"variety\", \"variety\", \"variety\", \"veer\", \"vegetal\", \"verdot\", \"vineyard\", \"vineyard\", \"vineyard\", \"vineyard\", \"vintage\", \"vintage\", \"vintage\", \"vintage\", \"vintage\", \"viognier\", \"walla\", \"want\", \"warmth\", \"weight\", \"weight\", \"weight\", \"wet\", \"white\", \"white\", \"white\", \"white flower\", \"white peach\", \"white pepper\", \"white pepper\", \"white pepper\", \"white wine\", \"wild\", \"wild\", \"wild\", \"wild berry\", \"wild berry\", \"wind\", \"wine\", \"wine\", \"wine\", \"wine\", \"wine\", \"wine\", \"wine\", \"wine\", \"wine\", \"wine\", \"wine age\", \"wine finish\", \"wine great\", \"wine little\", \"wine need\", \"wine offer\", \"wine offer\", \"wine open\", \"wine ripe\", \"wine spin\", \"winemaker\", \"winemaker\", \"winemaker\", \"winemaker\", \"winery\", \"winery\", \"wines\", \"wines\", \"wood\", \"wood\", \"wood\", \"wood age\", \"year\", \"year\", \"year\", \"year\", \"year cellar\", \"year old\", \"yeasty\", \"young\", \"young\", \"young\", \"young\", \"young\", \"young wine\", \"zest\", \"zest\", \"zin\"]}, \"R\": 30, \"lambda.step\": 0.01, \"plot.opts\": {\"xlab\": \"PC1\", \"ylab\": \"PC2\"}, \"topic.order\": [2, 4, 10, 5, 3, 6, 7, 9, 1, 8]};\n",
       "\n",
       "function LDAvis_load_lib(url, callback){\n",
       "  var s = document.createElement('script');\n",
       "  s.src = url;\n",
       "  s.async = true;\n",
       "  s.onreadystatechange = s.onload = callback;\n",
       "  s.onerror = function(){console.warn(\"failed to load library \" + url);};\n",
       "  document.getElementsByTagName(\"head\")[0].appendChild(s);\n",
       "}\n",
       "\n",
       "if(typeof(LDAvis) !== \"undefined\"){\n",
       "   // already loaded: just create the visualization\n",
       "   !function(LDAvis){\n",
       "       new LDAvis(\"#\" + \"ldavis_el2552822108131569523078496217\", ldavis_el2552822108131569523078496217_data);\n",
       "   }(LDAvis);\n",
       "}else if(typeof define === \"function\" && define.amd){\n",
       "   // require.js is available: use it to load d3/LDAvis\n",
       "   require.config({paths: {d3: \"https://cdnjs.cloudflare.com/ajax/libs/d3/3.5.5/d3.min\"}});\n",
       "   require([\"d3\"], function(d3){\n",
       "      window.d3 = d3;\n",
       "      LDAvis_load_lib(\"https://cdn.rawgit.com/bmabey/pyLDAvis/files/ldavis.v1.0.0.js\", function(){\n",
       "        new LDAvis(\"#\" + \"ldavis_el2552822108131569523078496217\", ldavis_el2552822108131569523078496217_data);\n",
       "      });\n",
       "    });\n",
       "}else{\n",
       "    // require.js not available: dynamically load d3 & LDAvis\n",
       "    LDAvis_load_lib(\"https://cdnjs.cloudflare.com/ajax/libs/d3/3.5.5/d3.min.js\", function(){\n",
       "         LDAvis_load_lib(\"https://cdn.rawgit.com/bmabey/pyLDAvis/files/ldavis.v1.0.0.js\", function(){\n",
       "                 new LDAvis(\"#\" + \"ldavis_el2552822108131569523078496217\", ldavis_el2552822108131569523078496217_data);\n",
       "            })\n",
       "         });\n",
       "}\n",
       "</script>"
      ],
      "text/plain": [
       "PreparedData(topic_coordinates=                x          y  topics  cluster       Freq\n",
       "topic                                                   \n",
       "1      -39.250053 -93.482010       1        1  13.225850\n",
       "3       46.148270 -16.424147       2        1  12.999695\n",
       "9      -55.136723  52.979729       3        1  12.392092\n",
       "4      101.286491 -44.021984       4        1  10.765209\n",
       "2       -9.881477 -39.499573       5        1  10.547634\n",
       "5       82.135796  36.328007       6        1  10.093646\n",
       "6       23.638344  78.068069       7        1   9.955451\n",
       "8      -71.294212 -18.118776       8        1   8.470337\n",
       "0       39.004120 -87.931938       9        1   6.152744\n",
       "7       -1.750967  20.607227      10        1   5.397343, topic_info=       Category          Freq          Term         Total  loglift  logprob\n",
       "term                                                                       \n",
       "19345   Default  39731.000000        cherry  39731.000000  30.0000  30.0000\n",
       "11386   Default  19055.000000    blackberry  19055.000000  29.0000  29.0000\n",
       "6094    Default  34013.000000         aroma  34013.000000  28.0000  28.0000\n",
       "10030   Default  21374.000000         berry  21374.000000  27.0000  27.0000\n",
       "111341  Default  94610.000000          wine  94610.000000  26.0000  26.0000\n",
       "73402   Default  27360.000000        palate  27360.000000  25.0000  25.0000\n",
       "100898  Default  33041.000000        tannin  33041.000000  24.0000  24.0000\n",
       "38333   Default  41317.000000        finish  41317.000000  23.0000  23.0000\n",
       "99115   Default  22759.000000         sweet  22759.000000  22.0000  22.0000\n",
       "26300   Default  14309.000000         crisp  14309.000000  21.0000  21.0000\n",
       "11293   Default  24877.000000         black  24877.000000  20.0000  20.0000\n",
       "31592   Default  32536.000000           dry  32536.000000  19.0000  19.0000\n",
       "3483    Default  13860.000000           age  13860.000000  18.0000  18.0000\n",
       "39752   Default  83852.000000        flavor  83852.000000  17.0000  17.0000\n",
       "16054   Default  11392.000000      cabernet  11392.000000  16.0000  16.0000\n",
       "94958   Default  22965.000000          spin  22965.000000  15.0000  15.0000\n",
       "2243    Default  30575.000000       acidity  30575.000000  14.0000  14.0000\n",
       "94962   Default  22761.000000      spin dry  22761.000000  13.0000  13.0000\n",
       "43924   Default  72636.000000         fruit  72636.000000  12.0000  12.0000\n",
       "77657   Default  15107.000000          plum  15107.000000  11.0000  11.0000\n",
       "83972   Default  21597.000000          rich  21597.000000  10.0000  10.0000\n",
       "20856   Default  12531.000000        citrus  12531.000000   9.0000   9.0000\n",
       "92492   Default  17901.000000          soft  17901.000000   8.0000   8.0000\n",
       "59787   Default  10845.000000        little  10845.000000   7.0000   7.0000\n",
       "5429    Default  13433.000000         apple  13433.000000   6.0000   6.0000\n",
       "11930   Default  14604.000000         blend  14604.000000   5.0000   5.0000\n",
       "68633   Default  15963.000000          nose  15963.000000   4.0000   4.0000\n",
       "110995  Default  12168.000000         white  12168.000000   3.0000   3.0000\n",
       "114183  Default  16391.000000          year  16391.000000   2.0000   2.0000\n",
       "81888   Default  11656.000000     raspberry  11656.000000   1.0000   1.0000\n",
       "...         ...           ...           ...           ...      ...      ...\n",
       "52653   Topic10    504.354394        impart    505.243987   2.9175  -6.4612\n",
       "22180   Topic10    488.856319         coast    489.745756   2.9174  -6.4924\n",
       "99669   Topic10    482.094188       sweetly    482.983759   2.9174  -6.5063\n",
       "81857   Topic10    475.451097          rare    476.340615   2.9174  -6.5202\n",
       "84741   Topic10    461.004042          ride    461.893662   2.9173  -6.5510\n",
       "78583   Topic10    421.946721       popular    422.836175   2.9172  -6.6396\n",
       "86747   Topic10    421.486736     roussanne    422.376143   2.9172  -6.6406\n",
       "113314  Topic10   2556.582206        winery   3107.611237   2.7241  -4.8380\n",
       "47765   Topic10   4151.406488         grape   5776.416478   2.5889  -4.3532\n",
       "108001  Topic10   1830.688941       variety   2648.597526   2.5499  -5.1720\n",
       "96320   Topic10   2127.661514    strawberry   3927.761592   2.3062  -5.0217\n",
       "108820  Topic10   3195.683689      vineyard   7398.098810   2.0798  -4.6149\n",
       "5362    Topic10    802.438497   appellation   1016.962406   2.6823  -5.9968\n",
       "109178  Topic10   2608.442648       vintage   6235.608104   2.0477  -4.8179\n",
       "97302   Topic10    777.282300         stuff    974.343558   2.6933  -6.0286\n",
       "41597   Topic10   1930.715324        floral   3951.974651   2.2029  -5.1188\n",
       "102550  Topic10   1299.030626           tea   2194.078452   2.3951  -5.5151\n",
       "11930   Topic10   3961.386799         blend  14604.663403   1.6145  -4.4001\n",
       "113226  Topic10    923.537478     winemaker   1357.107918   2.5344  -5.8562\n",
       "583     Topic10    856.865966          2008   1252.250918   2.5398  -5.9312\n",
       "94269   Topic10   1314.203455  spice flavor   2899.108730   2.1281  -5.5035\n",
       "113456  Topic10    672.028165         wines    803.150578   2.7410  -6.1741\n",
       "79680   Topic10   1342.423600         price   4849.047278   1.6350  -5.4822\n",
       "111341  Topic10   3599.577031          wine  94610.285265  -0.3497  -4.4959\n",
       "99884   Topic10   1361.874503         syrah   6276.416738   1.3913  -5.4678\n",
       "13536   Topic10   1314.559022        bottle   5713.825724   1.4499  -5.5032\n",
       "96458   Topic10    811.325277        streak   1864.308389   2.0873  -5.9858\n",
       "90345   Topic10    884.566592         silky   4191.861922   1.3635  -5.8993\n",
       "97390   Topic10    934.556942         style   9219.020965   0.6303  -5.8444\n",
       "79466   Topic10    894.803682        pretty   5708.572294   1.0661  -5.8878\n",
       "\n",
       "[665 rows x 6 columns], token_table=        Topic      Freq          Term\n",
       "term                                 \n",
       "0          10  0.998691           000\n",
       "2          10  0.998115      000 case\n",
       "474         5  0.998654          2003\n",
       "530         2  0.998491          2006\n",
       "583         8  0.315432          2008\n",
       "583        10  0.684368          2008\n",
       "1361        9  0.999060            90\n",
       "1384        4  0.998583            92\n",
       "1387        8  0.997537            93\n",
       "1862        1  0.004194          acid\n",
       "1862        4  0.415386          acid\n",
       "1862        5  0.042748          acid\n",
       "1862        7  0.145829          acid\n",
       "1862        8  0.367798          acid\n",
       "1862       10  0.024036          acid\n",
       "2113        5  0.188360        acidic\n",
       "2113        7  0.811303        acidic\n",
       "2243        1  0.418803       acidity\n",
       "2243        2  0.419490       acidity\n",
       "2243        5  0.027571       acidity\n",
       "2243        6  0.045592       acidity\n",
       "2243        7  0.076173       acidity\n",
       "2243        8  0.000981       acidity\n",
       "2243        9  0.011349       acidity\n",
       "2972        2  0.998472  acidity wine\n",
       "3045        1  0.211808           add\n",
       "3045        2  0.083879           add\n",
       "3045        3  0.041848           add\n",
       "3045        4  0.024411           add\n",
       "3045        6  0.191802           add\n",
       "...       ...       ...           ...\n",
       "112742      2  0.998645     wine ripe\n",
       "112891      1  0.999417     wine spin\n",
       "113226      3  0.067791     winemaker\n",
       "113226      4  0.131898     winemaker\n",
       "113226      8  0.119371     winemaker\n",
       "113226     10  0.680860     winemaker\n",
       "113314      3  0.176985        winery\n",
       "113314     10  0.822818        winery\n",
       "113456      1  0.161863         wines\n",
       "113456     10  0.836705         wines\n",
       "113624      2  0.900961          wood\n",
       "113624      5  0.081479          wood\n",
       "113624      9  0.017387          wood\n",
       "113630      2  0.998968      wood age\n",
       "114183      2  0.567297          year\n",
       "114183      3  0.108713          year\n",
       "114183      4  0.315463          year\n",
       "114183      9  0.008541          year\n",
       "114235      4  0.999153   year cellar\n",
       "114363      4  0.997847      year old\n",
       "114494      7  0.998512        yeasty\n",
       "114632      1  0.019536         young\n",
       "114632      2  0.631175         young\n",
       "114632      3  0.245707         young\n",
       "114632      5  0.038885         young\n",
       "114632      8  0.064808         young\n",
       "114805      2  0.998311    young wine\n",
       "114915      1  0.904410          zest\n",
       "114915     10  0.095175          zest\n",
       "115124      4  0.999364           zin\n",
       "\n",
       "[1165 rows x 3 columns], R=30, lambda_step=0.01, plot_opts={'xlab': 'PC1', 'ylab': 'PC2'}, topic_order=[2, 4, 10, 5, 3, 6, 7, 9, 1, 8])"
      ]
     },
     "execution_count": 32,
     "metadata": {},
     "output_type": "execute_result"
    }
   ],
   "source": [
    "bi_dash = pyLDAvis.sklearn.prepare(bi_lda, bigram_vectorized, bivectorizer, mds='tsne')\n",
    "bi_dash"
   ]
  },
  {
   "cell_type": "markdown",
   "metadata": {},
   "source": [
    "# Results\n",
    "\n",
    "### Very few keywords with 2 words have been found like \"spin dry\" , \"black cherry\", etc.\n"
   ]
  },
  {
   "cell_type": "code",
   "execution_count": 55,
   "metadata": {},
   "outputs": [
    {
     "name": "stdout",
     "output_type": "stream",
     "text": [
      "\n",
      "\n",
      "______________________________________________________________________\n",
      "The environment and package versions used in this script are:\n",
      "\n",
      "\n",
      "Windows-10-10.0.17134-SP0\n",
      "Python 3.6.6 |Anaconda custom (64-bit)| (default, Jun 28 2018, 11:27:44) [MSC v.1900 64 bit (AMD64)]\n",
      "pandas version: 0.23.4\n",
      "OS nt\n",
      "Numpy 1.15.4\n",
      "Beautiful Soup 4.6.3\n",
      "Urllib 3.6\n",
      "Regex 2.2.1\n",
      "Textacy 0.6.2\n",
      "spaCy 2.0.12\n",
      "gensim 3.5.0\n",
      "scikit-learn version 0.19.2\n",
      "scipy 1.1.0\n",
      "matplotlib 2.2.2\n",
      "plotly 3.4.2\n",
      "Cufflinks 0.12.1\n",
      "IPython version: 6.5.0\n",
      "mglearn version: 0.1.7\n",
      "Anaconda Python Environment is:  py36_text_analytics\n",
      "\n",
      "\n",
      "~~~~~~~~~~~~~~~~~~~~~~~~~~~~~~~~~~~~~~~~~~~~~~~~~~~~~~~~~~~~~~~~~~~~~~\n",
      "\n",
      "\n"
     ]
    }
   ],
   "source": [
    "#environment and package versions\n",
    "print('\\n')\n",
    "print(\"_\"*70)\n",
    "print('The environment and package versions used in this script are:')\n",
    "print('\\n')\n",
    "\n",
    "import platform\n",
    "import sys\n",
    "import bs4\n",
    "from bs4 import BeautifulSoup\n",
    "import urllib\n",
    "import re\n",
    "import textacy\n",
    "import spacy\n",
    "import gensim\n",
    "import sklearn\n",
    "import scipy\n",
    "import matplotlib\n",
    "import cufflinks as cf\n",
    "import IPython\n",
    "import mglearn\n",
    "\n",
    "print(platform.platform())\n",
    "print('Python', sys.version)\n",
    "print(\"pandas version:\", pd.__version__)\n",
    "print('OS', os.name)\n",
    "print('Numpy', np.__version__)\n",
    "print('Beautiful Soup', bs4.__version__)\n",
    "print('Urllib', urllib.request.__version__) \n",
    "print('Regex', re.__version__)\n",
    "print('Textacy', textacy.__version__)\n",
    "print('spaCy', spacy.__version__)\n",
    "print('gensim', gensim.__version__)\n",
    "print('scikit-learn version', sklearn.__version__)\n",
    "print('scipy', scipy.__version__)\n",
    "print('matplotlib', matplotlib.__version__)\n",
    "print('plotly', plotly.__version__)\n",
    "print('Cufflinks', cf.__version__)\n",
    "print(\"IPython version:\", IPython.__version__)\n",
    "print(\"mglearn version:\", mglearn.__version__)\n",
    "print (\"Anaconda Python Environment is: \", os.environ['CONDA_DEFAULT_ENV'])\n",
    "\n",
    "print('\\n')\n",
    "print(\"~\"*70)\n",
    "print('\\n')"
   ]
  },
  {
   "cell_type": "code",
   "execution_count": null,
   "metadata": {
    "collapsed": true
   },
   "outputs": [],
   "source": []
  }
 ],
 "metadata": {
  "kernelspec": {
   "display_name": "Python 2",
   "language": "python",
   "name": "python2"
  },
  "language_info": {
   "codemirror_mode": {
    "name": "ipython",
    "version": 2
   },
   "file_extension": ".py",
   "mimetype": "text/x-python",
   "name": "python",
   "nbconvert_exporter": "python",
   "pygments_lexer": "ipython2",
   "version": "2.7.12"
  }
 },
 "nbformat": 4,
 "nbformat_minor": 2
}
