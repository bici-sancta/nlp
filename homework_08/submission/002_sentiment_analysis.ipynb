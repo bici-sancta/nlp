{
 "cells": [
  {
   "cell_type": "markdown",
   "metadata": {},
   "source": [
    "<font face=\"candara\">\n",
    "\n",
    "## Movie reviews - Sentiment Analysis\n",
    "\n",
    "#### MSDS 7337 - Natural Language Processing - Homework 08\n",
    "#### Patrick McDevitt  \n",
    "#### 06-Dec-2018  \n",
    "\n",
    "\n",
    "***\n",
    "\n",
    "<table>\n",
    "<tr>\n",
    "<td>You have to develop your whole game to completion.</p></td>\n",
    "<tr>\n",
    "<td>\n",
    "<p style='text-align: right;'> -- Isaiah Thomas</p>\n",
    "</tr>\n",
    "</table>\n",
    "\n",
    "\n",
    "***     \n",
    "\n",
    "### Assignment description  \n",
    "\n",
    "Perform a vocabulary-based sentiment analysis of the movie reviews you used in homework 5 and homework 7, by doing the following :  \n",
    "1. In Python, load one of the sentiment vocabularies referenced in the textbook, and run the sentiment analyzer as explained in the corresponding reference. Add words to the sentiment vocabulary, if you think you need to, to better fit your particular text collection.  \n",
    "2. For each of the clusters you created in homework 7, compute the average, median, high, and low sentiment scores for each cluster. Explain whether you think this reveals anything interesting about the clusters.  \n",
    "3. For extra credit, analyze sentiment of chunks as follows :  \n",
    "    a. Take the chunks from homework 5, and in Python, run each chunk individually through your sentiment analyzer that you used in question 1. If the chunk registers a nonneutral sentiment, save it in a tabular format (the chunk, the sentiment score).  \n",
    "    b. Now sort the table twice, once to show the highest negative-sentiment-scoring chunks at the top and again to show the highest positive-sentiment-scoring chunks at the top. Examine the upper portions of both sorted lists, to identify any trends, and explain what you see.  \n",
    "\n",
    "Submit all of your inputs and outputs and your code for this assignment, along with a brief written explanation of your findings. \n",
    "\n",
    "*** \n",
    "<font face=\"candara\">\n",
    "\n",
    "\n",
    "*** \n",
    "\n",
    "### Data preparation, feature construction     \n",
    "\n",
    "- 100 movie reviews were downloaded from the IMDB web-site  \n",
    "- the reviews (approx 25 reviews each) are associated to four different films :  \n",
    "    * Stranger Than Paradise, Fargo, The Big Lebowski, and Small Apartments  \n",
    "        - these four films were chosen from the base category drama  \n",
    "        - each of these films has a certain cult following for its unique quirkiness  \n",
    "        - two of these films (Lebowski and Fargo) are Coen Brothers films  \n",
    "- __prior to clustering__, the text from each review was normalized in the following method :   \n",
    "    * contractions expanded  \n",
    "    * part of speech tagged  \n",
    "    * lemmatized, using the part of speech tags in WordNet  \n",
    "    * special characters removed  \n",
    "    * stop words removed, using NLTK english stop words  \n",
    "        - a small list of additional stop words were added to base list, to remove terms that are common in film reviews, e.g., film, movie, cinema, scene, and similar common terms  \n",
    "    * features were developed using TF-IDF feature matrix  \n",
    "    * the feature matrix was used for non-supervised learning using k-means clustering method\n",
    "- __prior to semantic analysis__, the only normalization of the text from each review was to remove any remaining special characters.  we have observed from prior analyses that different verb tenses can carry different sentiments; therefore, all vocabulary was retained in native form for this analysis\n",
    "    \n",
    "*** \n",
    "\n",
    "### Clustering - k-means\n",
    "\n",
    "- normalize_corpus() - returns all text values in corpus, regardless of part of speech\n",
    "- based on results from previous assignment, we use number of clusters = 4\n",
    "\n",
    "\n",
    "### Sentiment Analysis\n",
    "\n",
    "- sentiment analysis was completed for each text of each reivew\n",
    "- methods used included :\n",
    "    * afinn, \n",
    "    * sentiwordnet from nltk package, and\n",
    "    * SentimentIntensityAnalyzer from nltk.vader\n",
    "- the numerical overall score from each method was retained\n",
    "- the summary statistics for each method for each cluster are shown in below table\n",
    "- a plot of the range of sentiment scores plotted vs. the film rating that accompanied the review for each sentiment score is also presented below\n",
    "\n",
    "\n",
    "### Summary / Observations\n",
    "\n",
    "- the review ratings for this set of films and ratings are generally positive ratings\n",
    "    * mean values for each cluster are greater than 6.5\n",
    "    * median values for each cluster are greater than 9 !\n",
    "    * at the same time, there was at least one low rating in each cluster (min values of 1 or 2)\n",
    "- the mean values of each cluster for each sentiment analysis method are all positive\n",
    "- the min values for each cluster for each sentiment scoring method are all negative\n",
    "- the overall characteristic of range of positive and negative sentiments scores are consistent with the overall range of review ratings in each cluster\n",
    "- however, since there is no cluster with, for example, all high positive ratings or all low ratings, we do not have sufficient information at this level to identify if there is a trend relative to review ratings and sentiment score, when aggregated in this way for this collection of films and reviews\n",
    "\n",
    "To gain some further (slight) insight into relationship between sentiment scores and review rating, at the conclusion of this document are scatter plots showing the individual relationships between each review and its associate sentiment score, for each scoring method\n",
    "- the plots show a general trend of increasing positive sentiment with the highest film ratings, and at the same time there is significant scatter in these plots, demonstrating that there is not a strong correlation for these cases, in the manner in which the sentiment scoring was conducted\n",
    "- of the 3 scoring methods, the Afinn method has the strongest general tendency to have increasing positive sentiment with increasing film ratings, for the film reviews that are greater then 5 of 10 on the rating scale. this appears to be indepndent of the cluster association.\n",
    "\n",
    "*** "
   ]
  },
  {
   "cell_type": "markdown",
   "metadata": {},
   "source": [
    "### Summary Table of Sentiment Scores and Review Ratings"
   ]
  },
  {
   "cell_type": "markdown",
   "metadata": {},
   "source": [
    "<table border=\"1\" class=\"dataframe\">\n",
    "  <thead>\n",
    "    <tr>\n",
    "      <th></th>\n",
    "      <th colspan=\"4\" halign=\"left\">vader_score</th>\n",
    "      <th colspan=\"4\" halign=\"left\">review_rating</th>\n",
    "      <th colspan=\"4\" halign=\"left\">swn_score</th>\n",
    "      <th colspan=\"4\" halign=\"left\">afinn_score</th>\n",
    "    </tr>\n",
    "    <tr>\n",
    "      <th></th>\n",
    "      <th>min</th>\n",
    "      <th>mean</th>\n",
    "      <th>median</th>\n",
    "      <th>max</th>\n",
    "      <th>min</th>\n",
    "      <th>mean</th>\n",
    "      <th>median</th>\n",
    "      <th>max</th>\n",
    "      <th>min</th>\n",
    "      <th>mean</th>\n",
    "      <th>median</th>\n",
    "      <th>max</th>\n",
    "      <th>min</th>\n",
    "      <th>mean</th>\n",
    "      <th>median</th>\n",
    "      <th>max</th>\n",
    "    </tr>\n",
    "    <tr>\n",
    "      <th>cluster</th>\n",
    "      <th></th>\n",
    "      <th></th>\n",
    "      <th></th>\n",
    "      <th></th>\n",
    "      <th></th>\n",
    "      <th></th>\n",
    "      <th></th>\n",
    "      <th></th>\n",
    "      <th></th>\n",
    "      <th></th>\n",
    "      <th></th>\n",
    "      <th></th>\n",
    "      <th></th>\n",
    "      <th></th>\n",
    "      <th></th>\n",
    "      <th></th>\n",
    "    </tr>\n",
    "  </thead>\n",
    "  <tbody>\n",
    "    <tr>\n",
    "      <th>0</th>\n",
    "      <td>-0.83</td>\n",
    "      <td>0.848235</td>\n",
    "      <td>0.980</td>\n",
    "      <td>1.0</td>\n",
    "      <td>2.0</td>\n",
    "      <td>7.769231</td>\n",
    "      <td>10.0</td>\n",
    "      <td>10.0</td>\n",
    "      <td>-0.00</td>\n",
    "      <td>0.042353</td>\n",
    "      <td>0.050</td>\n",
    "      <td>0.08</td>\n",
    "      <td>-5.0</td>\n",
    "      <td>23.058824</td>\n",
    "      <td>20.0</td>\n",
    "      <td>55.0</td>\n",
    "    </tr>\n",
    "    <tr>\n",
    "      <th>1</th>\n",
    "      <td>-1.00</td>\n",
    "      <td>0.734500</td>\n",
    "      <td>0.945</td>\n",
    "      <td>1.0</td>\n",
    "      <td>1.0</td>\n",
    "      <td>7.947368</td>\n",
    "      <td>9.0</td>\n",
    "      <td>10.0</td>\n",
    "      <td>-0.01</td>\n",
    "      <td>0.030000</td>\n",
    "      <td>0.020</td>\n",
    "      <td>0.09</td>\n",
    "      <td>-55.0</td>\n",
    "      <td>13.350000</td>\n",
    "      <td>16.0</td>\n",
    "      <td>50.0</td>\n",
    "    </tr>\n",
    "    <tr>\n",
    "      <th>2</th>\n",
    "      <td>-0.98</td>\n",
    "      <td>0.640667</td>\n",
    "      <td>0.940</td>\n",
    "      <td>1.0</td>\n",
    "      <td>1.0</td>\n",
    "      <td>6.678571</td>\n",
    "      <td>8.0</td>\n",
    "      <td>10.0</td>\n",
    "      <td>-0.05</td>\n",
    "      <td>0.022000</td>\n",
    "      <td>0.025</td>\n",
    "      <td>0.08</td>\n",
    "      <td>-16.0</td>\n",
    "      <td>9.300000</td>\n",
    "      <td>10.5</td>\n",
    "      <td>43.0</td>\n",
    "    </tr>\n",
    "    <tr>\n",
    "      <th>3</th>\n",
    "      <td>-0.26</td>\n",
    "      <td>0.792353</td>\n",
    "      <td>0.960</td>\n",
    "      <td>1.0</td>\n",
    "      <td>1.0</td>\n",
    "      <td>7.266667</td>\n",
    "      <td>8.0</td>\n",
    "      <td>10.0</td>\n",
    "      <td>-0.04</td>\n",
    "      <td>0.010588</td>\n",
    "      <td>0.010</td>\n",
    "      <td>0.07</td>\n",
    "      <td>-2.0</td>\n",
    "      <td>19.176471</td>\n",
    "      <td>13.0</td>\n",
    "      <td>59.0</td>\n",
    "    </tr>\n",
    "  </tbody>\n",
    "</table>"
   ]
  },
  {
   "cell_type": "markdown",
   "metadata": {},
   "source": [
    "*** \n",
    "\n",
    "*** \n",
    "\n",
    "### Reference :\n",
    "The methods used in this evaluation are based on the methods outlined in \"Text Analytics with Python\", Sarker, Chapters 6 and 7.\n",
    "\n",
    "Basis of code for sentiment analysis is maintained at :  \n",
    "\n",
    "https://github.com/dipanjanS/text-analytics-with-python/tree/master/Old_Edition_v1/notebooks/Ch07_Semantic_and_Sentiment_Analysis\n",
    "\n",
    "*** "
   ]
  },
  {
   "cell_type": "code",
   "execution_count": 1,
   "metadata": {
    "collapsed": true
   },
   "outputs": [],
   "source": [
    "from IPython.core.interactiveshell import InteractiveShell\n",
    "InteractiveShell.ast_node_interactivity = \"all\""
   ]
  },
  {
   "cell_type": "code",
   "execution_count": 2,
   "metadata": {},
   "outputs": [
    {
     "name": "stdout",
     "output_type": "stream",
     "text": [
      "Linux-4.15.0-42-generic-x86_64-with-Ubuntu-16.04-xenial\n"
     ]
    }
   ],
   "source": [
    "# ... -=-=-=-=-=-=-=-=-=-=-=-=-=-=-=-=-=-=-=-=-=-=-=-=-=-=-=-=-=-=-=-=-\n",
    "# ... report platform\n",
    "# ... -=-=-=-=-=-=-=-=-=-=-=-=-=-=-=-=-=-=-=-=-=-=-=-=-=-=-=-=-=-=-=-=-\n",
    "\n",
    "import platform; print platform.platform()"
   ]
  },
  {
   "cell_type": "code",
   "execution_count": 15,
   "metadata": {},
   "outputs": [],
   "source": [
    "# ... -=-=-=-=-=-=-=-=-=-=-=-=-=-=-=-=-=-=-=-=-=-=-=-=-=-=-=-=-=-=-=-=-\n",
    "# ... load packages\n",
    "# ... -=-=-=-=-=-=-=-=-=-=-=-=-=-=-=-=-=-=-=-=-=-=-=-=-=-=-=-=-=-=-=-=-\n",
    "\n",
    "import os\n",
    "from os import path\n",
    "\n",
    "import sys; print \"Python\", sys.version\n",
    "reload(sys)\n",
    "sys.setdefaultencoding('utf8')\n",
    "\n",
    "import timeit\n",
    "import time\n",
    "import re; print \"re\", re.__version__\n",
    "\n",
    "import numpy as np\n",
    "import pandas as pd\n",
    "import statistics\n",
    "\n",
    "import warnings\n",
    "warnings.filterwarnings(\"ignore\")\n",
    "\n",
    "import string\n",
    "import unicodedata\n",
    "import pattern\n",
    "import collections\n",
    "\n",
    "from tabulate import tabulate\n",
    "\n",
    "from tqdm import tqdm\n",
    "\n",
    "import nltk; print \"nltk\", nltk.__version__\n",
    "from nltk.corpus import PlaintextCorpusReader\n",
    "from nltk.probability import ConditionalFreqDist\n",
    "from nltk.tokenize import word_tokenize, sent_tokenize\n",
    "from nltk.stem import WordNetLemmatizer\n",
    "from nltk.corpus import sentiwordnet as swn\n",
    "\n",
    "from sklearn.decomposition import NMF, LatentDirichletAllocation, TruncatedSVD\n",
    "from sklearn.feature_extraction.text import CountVectorizer\n",
    "from sklearn.manifold import TSNE\n"
   ]
  },
  {
   "cell_type": "code",
   "execution_count": 4,
   "metadata": {
    "collapsed": true
   },
   "outputs": [],
   "source": [
    "# ... -=-=-=-=-=-=-=-=-=-=-=-=-=-=-=-=-=-=-=-=-=-=-=-=-=-=-=-=-=-=-=-=-\n",
    "# ... add plot utilities\n",
    "# ... -=-=-=-=-=-=-=-=-=-=-=-=-=-=-=-=-=-=-=-=-=-=-=-=-=-=-=-=-=-=-=-=-\n",
    "\n",
    "get_ipython().magic('matplotlib inline')\n",
    "import matplotlib.pyplot as plt\n",
    "from matplotlib import rcParams\n",
    "\n",
    "plt.style.use('seaborn-whitegrid')\n",
    "\n",
    "rcParams.update({'figure.autolayout': True})\n",
    "plt.rc('xtick', labelsize=20)     \n",
    "plt.rc('ytick', labelsize=20)"
   ]
  },
  {
   "cell_type": "code",
   "execution_count": 5,
   "metadata": {
    "collapsed": true
   },
   "outputs": [],
   "source": [
    "# ... -=-=-=-=-=-=-=-=-=-=-=-=-=-=-=-=-=-=-=-=-=-=-=-=-=-=-=-=-=-=-=-=-\n",
    "# ... support importing other ipynb notebooks\n",
    "# ... -=-=-=-=-=-=-=-=-=-=-=-=-=-=-=-=-=-=-=-=-=-=-=-=-=-=-=-=-=-=-=-=-\n",
    "\n",
    "import import_ipynb"
   ]
  },
  {
   "cell_type": "code",
   "execution_count": 6,
   "metadata": {
    "collapsed": true
   },
   "outputs": [],
   "source": [
    "# ... -=-=-=-=-=-=-=-=-=-=-=-=-=-=-=-=-=-=-=-=-=-=-=-=-=-=-=-=-=-=-=-=-\n",
    "# ... set some options\n",
    "# ... -=-=-=-=-=-=-=-=-=-=-=-=-=-=-=-=-=-=-=-=-=-=-=-=-=-=-=-=-=-=-=-=-\n",
    "\n",
    "%pylab\n",
    "%matplotlib inline\n",
    "pd.set_option('max_colwidth',400)\n",
    "\n",
    "\n",
    "# ... -=-=-=-=-=-=-=-=-=-=-=-=-=-=-=-=-=-=-=-=-=-=-=-=-=-=-=-=-=-=-=-=-\n",
    "# ... include some local utility functions \n",
    "# ... -=-=-=-=-=-=-=-=-=-=-=-=-=-=-=-=-=-=-=-=-=-=-=-=-=-=-=-=-=-=-=-=-\n",
    "\n",
    "def printf(format, *args):\n",
    "    sys.stdout.write(format % args)\n",
    "\n",
    "def min_word_length(text, min_length = 2):\n",
    "    tokens = tokenize_text(text)\n",
    "    filtered_tokens = [token for token in tokens if len(token) > min_length]\n",
    "    filtered_text = ' '.join(filtered_tokens)\n",
    "    return filtered_text\n",
    "\n",
    "# ref : https://stackoverflow.com/questions/3861674/split-string-by-number-of-words-with-python\n",
    "def group_words(s, n):\n",
    "    words = s.split()\n",
    "    for i in xrange(0, len(words), n):\n",
    "        yield ' '.join(words[i:i+n])\n",
    "\n",
    "# ... -=-=-=-=-=-=-=-=-=-=-=-=-=-=-=-=-=-=-=-=-=-=-=-=-=-=-=-=-=-=-=-=-=-=-\n",
    "# ... character cleaning functions\n",
    "# ... -=-=-=-=-=-=-=-=-=-=-=-=-=-=-=-=-=-=-=-=-=-=-=-=-=-=-=-=-=-=-=-=-=-=-\n",
    "\n",
    "def clean_text(start_text) :\n",
    "    text = [re.sub('^((?![a-zA-Z ]).)*$', '', x) for x in start_text]\n",
    "    text = [re.sub('_', '', x) for x in text]\n",
    "    text = [x.lower() for x in text]\n",
    "    text = [x for x in text if x != '']\n",
    "    return text\n",
    "\n",
    "\n",
    "def remove_non_ascii(text):\n",
    "    L = [32, 44, 46, 65,66,67,68,69,70,71,72,73,74,75,76,77,78,79,80,81,82,83,84,85,86,87,88,89,\n",
    "         90,97,98,99,100,101,102,103, 104,105,106,107,108,109,110,111,112,113,114,115,116,117,118,119,\n",
    "         120,121,122]\n",
    "    text = str(text)\n",
    "    return ''.join(i for i in text if ord(i) in L)\n",
    "\n",
    "# ... -=-=-=-=-=-=-=-=-=-=-=-=-=-=-=-=-=-=-=-=-=-=-=-=-=-=-=-=-=-=-=-=-=-=-\n",
    "# ... print topic features\n",
    "# ... -=-=-=-=-=-=-=-=-=-=-=-=-=-=-=-=-=-=-=-=-=-=-=-=-=-=-=-=-=-=-=-=-=-=-\n",
    "\n",
    "def selected_topics(model, vectorizer, top_n=10):\n",
    "    \n",
    "    for idx, topic in enumerate(model.components_):\n",
    "        \n",
    "        print(\"Topic %d:\" % (idx))\n",
    "        print([(vectorizer.get_feature_names()[i], topic[i])\n",
    "                        for i in topic.argsort()[:-top_n - 1:-1]])"
   ]
  },
  {
   "cell_type": "code",
   "execution_count": 8,
   "metadata": {},
   "outputs": [
    {
     "data": {
      "text/plain": [
       "<module 'normalization_ameliorer' from 'normalization_ameliorer.ipynb'>"
      ]
     },
     "execution_count": 8,
     "metadata": {},
     "output_type": "execute_result"
    },
    {
     "data": {
      "text/plain": [
       "<module 'normalization' from 'normalization.pyc'>"
      ]
     },
     "execution_count": 8,
     "metadata": {},
     "output_type": "execute_result"
    },
    {
     "data": {
      "text/plain": [
       "<module 'featurizer' from 'featurizer.ipynb'>"
      ]
     },
     "execution_count": 8,
     "metadata": {},
     "output_type": "execute_result"
    },
    {
     "data": {
      "text/plain": [
       "<module 'cluster_utilities' from 'cluster_utilities.ipynb'>"
      ]
     },
     "execution_count": 8,
     "metadata": {},
     "output_type": "execute_result"
    }
   ],
   "source": [
    "# ... -=-=-=-=-=-=-=-=-=-=-=-=-=-=-=-=-=-=-=-=-=-=-=-=-=-=-=-=-=-=-=-=-=-=-=-=-=-=-=-\n",
    "# ... import Sarkar functions : https://github.com/dipanjanS/text-analytics-with-python\n",
    "# ...\n",
    "# ... (functions modified locally for specific functionality updates)\n",
    "# ... -=-=-=-=-=-=-=-=-=-=-=-=-=-=-=-=-=-=-=-=-=-=-=-=-=-=-=-=-=-=-=-=-=-=-=-=-=-=-=-\n",
    "\n",
    "from normalization import *\n",
    "from featurizer import *\n",
    "from cluster_utilities import *\n",
    "\n",
    "from utils import display_evaluation_metrics, display_confusion_matrix, display_classification_report\n",
    "\n",
    "import normalization_ameliorer\n",
    "import normalization\n",
    "import featurizer\n",
    "import cluster_utilities\n",
    "\n",
    "reload (normalization_ameliorer)\n",
    "reload (normalization)\n",
    "reload (featurizer)\n",
    "reload (cluster_utilities)"
   ]
  },
  {
   "cell_type": "code",
   "execution_count": 9,
   "metadata": {
    "collapsed": true
   },
   "outputs": [],
   "source": [
    "# ... -=-=-=-=-=-=-=-=-=-=-=-=-=-=-=-=-=-=-=-=-=-=-=-=-=-=-=-=-=-=-=-=-\n",
    "# ... declare some directory locations\n",
    "# ... -=-=-=-=-=-=-=-=-=-=-=-=-=-=-=-=-=-=-=-=-=-=-=-=-=-=-=-=-=-=-=-=-\n",
    "\n",
    "home_dir = \"/home/mcdevitt/_ds/_smu/_src/nlp/homework_08\"\n",
    "\n",
    "os.chdir(home_dir)"
   ]
  },
  {
   "cell_type": "code",
   "execution_count": null,
   "metadata": {
    "scrolled": true
   },
   "outputs": [],
   "source": [
    "\n",
    "# ... -=-=-=-=-=-=-=-=-=-=-=-=-=-=-=-=-=-=-=-=-=-=-=-=-=-=-=-=-=-=-=-=-\n",
    "# ... recover reviews data frame \n",
    "# ... -=-=-=-=-=-=-=-=-=-=-=-=-=-=-=-=-=-=-=-=-=-=-=-=-=-=-=-=-=-=-=-=-\n",
    "\n",
    "df_imdb = pd.read_pickle('df_imdb_clustered.pkl')\n",
    "\n",
    "del df_imdb['review_url']\n",
    "\n",
    "#df_imdb.head()\n",
    "#df_imdb.tail()\n"
   ]
  },
  {
   "cell_type": "code",
   "execution_count": null,
   "metadata": {},
   "outputs": [],
   "source": [
    "from afinn import Afinn\n",
    "afn = Afinn(emoticons=True) "
   ]
  },
  {
   "cell_type": "code",
   "execution_count": 16,
   "metadata": {},
   "outputs": [],
   "source": [
    "from normalization import normalize_accented_characters, html_parser, strip_html\n",
    "\n",
    "def analyze_sentiment_sentiwordnet_lexicon(review,\n",
    "                                           verbose=False):\n",
    "    # pre-process text\n",
    "    \n",
    "    review = normalize_accented_characters(review)\n",
    "    review = html_parser.unescape(review)\n",
    "    review = strip_html(review)\n",
    "    \n",
    "    # tokenize and POS tag text tokens\n",
    "    \n",
    "    text_tokens = nltk.word_tokenize(review)\n",
    "    tagged_text = nltk.pos_tag(text_tokens)\n",
    "    pos_score = neg_score = token_count = obj_score = 0\n",
    "    \n",
    "    # get wordnet synsets based on POS tags\n",
    "    # get sentiment scores if synsets are found\n",
    "    \n",
    "    for word, tag in tagged_text:\n",
    "        ss_set = None\n",
    "        if 'NN' in tag and swn.senti_synsets(word, 'n'):\n",
    "            ss_set = swn.senti_synsets(word, 'n')[0]\n",
    "        elif 'VB' in tag and swn.senti_synsets(word, 'v'):\n",
    "            ss_set = swn.senti_synsets(word, 'v')[0]\n",
    "        elif 'JJ' in tag and swn.senti_synsets(word, 'a'):\n",
    "            ss_set = swn.senti_synsets(word, 'a')[0]\n",
    "        elif 'RB' in tag and swn.senti_synsets(word, 'r'):\n",
    "            ss_set = swn.senti_synsets(word, 'r')[0]\n",
    "            \n",
    "        # if senti-synset is found        \n",
    "        if ss_set:\n",
    "            # add scores for all found synsets\n",
    "            pos_score += ss_set.pos_score()\n",
    "            neg_score += ss_set.neg_score()\n",
    "            obj_score += ss_set.obj_score()\n",
    "            token_count += 1\n",
    "    \n",
    "    # aggregate final scores\n",
    "    \n",
    "    final_score = pos_score - neg_score\n",
    "    norm_final_score = round(float(final_score) / token_count, 2)\n",
    "    final_sentiment = 'positive' if norm_final_score >= 0 else 'negative'\n",
    "    \n",
    "    if verbose:\n",
    "        \n",
    "        norm_obj_score = round(float(obj_score) / token_count, 2)\n",
    "        norm_pos_score = round(float(pos_score) / token_count, 2)\n",
    "        norm_neg_score = round(float(neg_score) / token_count, 2)\n",
    "        \n",
    "        # to display results in a nice table\n",
    "        \n",
    "        sentiment_frame = pd.DataFrame([[final_sentiment, norm_obj_score,\n",
    "                                         norm_pos_score, norm_neg_score,\n",
    "                                         norm_final_score]],\n",
    "                                         columns=pd.MultiIndex(levels=[['SENTIMENT STATS:'], \n",
    "                                                                      ['Predicted Sentiment', 'Objectivity',\n",
    "                                                                       'Positive', 'Negative', 'Overall']], \n",
    "                                                              labels=[[0,0,0,0,0],[0,1,2,3,4]]))\n",
    "        print sentiment_frame\n",
    "        \n",
    "#    return final_sentiment\n",
    "    return norm_final_score\n"
   ]
  },
  {
   "cell_type": "code",
   "execution_count": 18,
   "metadata": {
    "collapsed": true
   },
   "outputs": [],
   "source": [
    "from nltk.sentiment.vader import SentimentIntensityAnalyzer\n",
    "\n",
    "def analyze_sentiment_vader_lexicon(review, \n",
    "                                    threshold=0.1,\n",
    "                                    verbose=False):\n",
    "    # pre-process text\n",
    "    review = normalize_accented_characters(review)\n",
    "    review = html_parser.unescape(review)\n",
    "    review = strip_html(review)\n",
    "    # analyze the sentiment for review\n",
    "    analyzer = SentimentIntensityAnalyzer()\n",
    "    scores = analyzer.polarity_scores(review)\n",
    "    # get aggregate scores and final sentiment\n",
    "    agg_score = scores['compound']\n",
    "    final_sentiment = 'positive' if agg_score >= threshold\\\n",
    "                                   else 'negative'\n",
    "    if verbose:\n",
    "        \n",
    "        # display detailed sentiment statistics\n",
    "        \n",
    "        positive = str(round(scores['pos'], 2)*100)+'%'\n",
    "        final = round(agg_score, 2)\n",
    "        negative = str(round(scores['neg'], 2)*100)+'%'\n",
    "        neutral = str(round(scores['neu'], 2)*100)+'%'\n",
    "        sentiment_frame = pd.DataFrame([[final_sentiment, final, positive,\n",
    "                                        negative, neutral]],\n",
    "                                        columns=pd.MultiIndex(levels=[['SENTIMENT STATS:'], \n",
    "                                                                      ['Predicted Sentiment', 'Polarity Score',\n",
    "                                                                       'Positive', 'Negative',\n",
    "                                                                       'Neutral']], \n",
    "                                                              labels=[[0,0,0,0,0],[0,1,2,3,4]]))\n",
    "        print sentiment_frame\n",
    "    \n",
    "#    return final_sentiment\n",
    "    return final\n",
    "    "
   ]
  },
  {
   "cell_type": "code",
   "execution_count": 38,
   "metadata": {},
   "outputs": [
    {
     "data": {
      "text/html": [
       "<div>\n",
       "<style scoped>\n",
       "    .dataframe tbody tr th:only-of-type {\n",
       "        vertical-align: middle;\n",
       "    }\n",
       "\n",
       "    .dataframe tbody tr th {\n",
       "        vertical-align: top;\n",
       "    }\n",
       "\n",
       "    .dataframe thead tr th {\n",
       "        text-align: left;\n",
       "    }\n",
       "\n",
       "    .dataframe thead tr:last-of-type th {\n",
       "        text-align: right;\n",
       "    }\n",
       "</style>\n",
       "<table border=\"1\" class=\"dataframe\">\n",
       "  <thead>\n",
       "    <tr>\n",
       "      <th></th>\n",
       "      <th colspan=\"4\" halign=\"left\">vader_score</th>\n",
       "      <th colspan=\"4\" halign=\"left\">review_rating</th>\n",
       "      <th colspan=\"4\" halign=\"left\">swn_score</th>\n",
       "      <th colspan=\"4\" halign=\"left\">afinn_score</th>\n",
       "    </tr>\n",
       "    <tr>\n",
       "      <th></th>\n",
       "      <th>min</th>\n",
       "      <th>mean</th>\n",
       "      <th>median</th>\n",
       "      <th>max</th>\n",
       "      <th>min</th>\n",
       "      <th>mean</th>\n",
       "      <th>median</th>\n",
       "      <th>max</th>\n",
       "      <th>min</th>\n",
       "      <th>mean</th>\n",
       "      <th>median</th>\n",
       "      <th>max</th>\n",
       "      <th>min</th>\n",
       "      <th>mean</th>\n",
       "      <th>median</th>\n",
       "      <th>max</th>\n",
       "    </tr>\n",
       "    <tr>\n",
       "      <th>cluster</th>\n",
       "      <th></th>\n",
       "      <th></th>\n",
       "      <th></th>\n",
       "      <th></th>\n",
       "      <th></th>\n",
       "      <th></th>\n",
       "      <th></th>\n",
       "      <th></th>\n",
       "      <th></th>\n",
       "      <th></th>\n",
       "      <th></th>\n",
       "      <th></th>\n",
       "      <th></th>\n",
       "      <th></th>\n",
       "      <th></th>\n",
       "      <th></th>\n",
       "    </tr>\n",
       "  </thead>\n",
       "  <tbody>\n",
       "    <tr>\n",
       "      <th>0</th>\n",
       "      <td>-0.83</td>\n",
       "      <td>0.848235</td>\n",
       "      <td>0.980</td>\n",
       "      <td>1.0</td>\n",
       "      <td>2.0</td>\n",
       "      <td>7.769231</td>\n",
       "      <td>10.0</td>\n",
       "      <td>10.0</td>\n",
       "      <td>-0.00</td>\n",
       "      <td>0.042353</td>\n",
       "      <td>0.050</td>\n",
       "      <td>0.08</td>\n",
       "      <td>-5.0</td>\n",
       "      <td>23.058824</td>\n",
       "      <td>20.0</td>\n",
       "      <td>55.0</td>\n",
       "    </tr>\n",
       "    <tr>\n",
       "      <th>1</th>\n",
       "      <td>-1.00</td>\n",
       "      <td>0.734500</td>\n",
       "      <td>0.945</td>\n",
       "      <td>1.0</td>\n",
       "      <td>1.0</td>\n",
       "      <td>7.947368</td>\n",
       "      <td>9.0</td>\n",
       "      <td>10.0</td>\n",
       "      <td>-0.01</td>\n",
       "      <td>0.030000</td>\n",
       "      <td>0.020</td>\n",
       "      <td>0.09</td>\n",
       "      <td>-55.0</td>\n",
       "      <td>13.350000</td>\n",
       "      <td>16.0</td>\n",
       "      <td>50.0</td>\n",
       "    </tr>\n",
       "    <tr>\n",
       "      <th>2</th>\n",
       "      <td>-0.98</td>\n",
       "      <td>0.640667</td>\n",
       "      <td>0.940</td>\n",
       "      <td>1.0</td>\n",
       "      <td>1.0</td>\n",
       "      <td>6.678571</td>\n",
       "      <td>8.0</td>\n",
       "      <td>10.0</td>\n",
       "      <td>-0.05</td>\n",
       "      <td>0.022000</td>\n",
       "      <td>0.025</td>\n",
       "      <td>0.08</td>\n",
       "      <td>-16.0</td>\n",
       "      <td>9.300000</td>\n",
       "      <td>10.5</td>\n",
       "      <td>43.0</td>\n",
       "    </tr>\n",
       "    <tr>\n",
       "      <th>3</th>\n",
       "      <td>-0.26</td>\n",
       "      <td>0.792353</td>\n",
       "      <td>0.960</td>\n",
       "      <td>1.0</td>\n",
       "      <td>1.0</td>\n",
       "      <td>7.266667</td>\n",
       "      <td>8.0</td>\n",
       "      <td>10.0</td>\n",
       "      <td>-0.04</td>\n",
       "      <td>0.010588</td>\n",
       "      <td>0.010</td>\n",
       "      <td>0.07</td>\n",
       "      <td>-2.0</td>\n",
       "      <td>19.176471</td>\n",
       "      <td>13.0</td>\n",
       "      <td>59.0</td>\n",
       "    </tr>\n",
       "  </tbody>\n",
       "</table>\n",
       "</div>"
      ],
      "text/plain": [
       "        vader_score                       review_rating                   \\\n",
       "                min      mean median  max           min      mean median   \n",
       "cluster                                                                    \n",
       "0             -0.83  0.848235  0.980  1.0           2.0  7.769231   10.0   \n",
       "1             -1.00  0.734500  0.945  1.0           1.0  7.947368    9.0   \n",
       "2             -0.98  0.640667  0.940  1.0           1.0  6.678571    8.0   \n",
       "3             -0.26  0.792353  0.960  1.0           1.0  7.266667    8.0   \n",
       "\n",
       "              swn_score                        afinn_score                    \\\n",
       "          max       min      mean median   max         min       mean median   \n",
       "cluster                                                                        \n",
       "0        10.0     -0.00  0.042353  0.050  0.08        -5.0  23.058824   20.0   \n",
       "1        10.0     -0.01  0.030000  0.020  0.09       -55.0  13.350000   16.0   \n",
       "2        10.0     -0.05  0.022000  0.025  0.08       -16.0   9.300000   10.5   \n",
       "3        10.0     -0.04  0.010588  0.010  0.07        -2.0  19.176471   13.0   \n",
       "\n",
       "               \n",
       "          max  \n",
       "cluster        \n",
       "0        55.0  \n",
       "1        50.0  \n",
       "2        43.0  \n",
       "3        59.0  "
      ]
     },
     "execution_count": 38,
     "metadata": {},
     "output_type": "execute_result"
    }
   ],
   "source": [
    "\n",
    "# ... -=-=-=-=-=-=-=-=-=-=-=-=-=-=-=-=-=-=-=-=-=-=-=-=-=-=-=-=-=-=-\n",
    "# ... sentiment scores, 3-ways\n",
    "# ... -=-=-=-=-=-=-=-=-=-=-=-=-=-=-=-=-=-=-=-=-=-=-=-=-=-=-=-=-=-=-\n",
    "\n",
    "afinn_score = []\n",
    "swn_score = []\n",
    "vader_score = []\n",
    "\n",
    "print '*'*80\n",
    "for review in df_imdb['review_desc'] :\n",
    "    text = remove_special_characters(review)\n",
    "    \n",
    "# ... afinn\n",
    "    a_score = afn.score(text)\n",
    "    afinn_score.append(a_score)\n",
    "\n",
    "# ... sentiwordnet\n",
    "    swn_overall_score = analyze_sentiment_sentiwordnet_lexicon(text, verbose = True)\n",
    "    swn_score.append(swn_overall_score)\n",
    "    \n",
    "# ... vader \n",
    "    final_score = analyze_sentiment_vader_lexicon(text, threshold = 0.1, verbose = True)\n",
    "    vader_score.append(final_score)\n",
    "    \n",
    "    \n",
    "# ... add scores to main data frame\n",
    "\n",
    "df_imdb['afinn_score'] = afinn_score\n",
    "df_imdb['swn_score'] = swn_score\n",
    "df_imdb['vader_score'] = vader_score\n",
    "\n",
    "df_imdb.head()\n",
    "df_imdb.tail()\n",
    "\n",
    "\n",
    "# ... -=-=-=-=-=-=-=-=-=-=-=-=-=-=-=-=-=-=-=-=-=-=-=-=-=-=-=-=-=-=-\n",
    "# ... aggregate sentiment scores for each cluster\n",
    "# ... -=-=-=-=-=-=-=-=-=-=-=-=-=-=-=-=-=-=-=-=-=-=-=-=-=-=-=-=-=-=-\n",
    "\n",
    "summary_table = df_imdb.groupby(['cluster']).agg({'review_rating' : [min, mean, median, max],\n",
    "                                  'afinn_score': [min, mean, median, max],\n",
    "                                  'swn_score': [min, mean, median, max],\n",
    "                                  'vader_score': [min, mean, median, max]})\n",
    "\n",
    "summary_table\n",
    "\n",
    "from tabulate import tabulate\n",
    "summary_table.to_html('summary_table.html')"
   ]
  },
  {
   "cell_type": "code",
   "execution_count": 60,
   "metadata": {},
   "outputs": [
    {
     "data": {
      "text/plain": [
       "<matplotlib.collections.PathCollection at 0x7f808cd42610>"
      ]
     },
     "execution_count": 60,
     "metadata": {},
     "output_type": "execute_result"
    },
    {
     "data": {
      "text/plain": [
       "<matplotlib.text.Text at 0x7f808cd8cb90>"
      ]
     },
     "execution_count": 60,
     "metadata": {},
     "output_type": "execute_result"
    },
    {
     "data": {
      "text/plain": [
       "<matplotlib.text.Text at 0x7f808ce11d50>"
      ]
     },
     "execution_count": 60,
     "metadata": {},
     "output_type": "execute_result"
    },
    {
     "data": {
      "text/plain": [
       "<matplotlib.text.Text at 0x7f808cdddc50>"
      ]
     },
     "execution_count": 60,
     "metadata": {},
     "output_type": "execute_result"
    },
    {
     "data": {
      "image/png": "[encoded data removed]",
      "text/plain": [
       "<matplotlib.figure.Figure at 0x7f808d014a50>"
      ]
     },
     "metadata": {},
     "output_type": "display_data"
    }
   ],
   "source": [
    "# https://stackoverflow.com/questions/8202605/matplotlib-scatterplot-colour-as-a-function-of-a-third-variable\n",
    "def pltcolor(lst):\n",
    "    cols=[]\n",
    "    for l in lst:\n",
    "        if l == 0 :\n",
    "            cols.append('#5566aa')\n",
    "        elif l == 1:\n",
    "            cols.append('#55cc66')\n",
    "        elif l == 2:\n",
    "            cols.append('#553399')\n",
    "        else:\n",
    "            cols.append('#9955aa')\n",
    "    return cols\n",
    "\n",
    "\n",
    "# ... -=-=-=-=-=-=-=-=-=-=-=-=-=-=-=-=-=-=-=-=-=-=-=-=-=-=-=-=-=-=-=-=-=-=-\n",
    "# ... plot -- scatter plots\n",
    "# ... -=-=-=-=-=-=-=-=-=-=-=-=-=-=-=-=-=-=-=-=-=-=-=-=-=-=-=-=-=-=-=-=-=-=-\n",
    "\n",
    "# ... make some basic plots to visualize in comparison to film rating\n",
    "\n",
    "vader = df_imdb['vader_score']\n",
    "afinn = df_imdb['afinn_score']\n",
    "swn = df_imdb['swn_score']\n",
    "rating = df_imdb['review_rating']\n",
    "cluster = df_imdb['cluster']\n",
    "\n",
    "# Create the colors list using the function above\n",
    "cols = pltcolor(cluster)\n",
    "\n",
    "_ = plt.figure(figsize = (12, 7))\n",
    "plt.scatter(rating, vader, c = cols, s = 200)\n",
    "#plt.legend(loc='upper left', fontsize = '25')\n",
    "plt.title('Vader Sentiment Analysis vs. Review Rating', fontsize = '30')\n",
    "plt.xlabel('Review Rating', fontsize = '25')\n",
    "plt.ylabel('Vader sentiment score', fontsize = '25')\n",
    "\n",
    "axes = plt.gca()\n",
    "#axes.set_ylim([1, 7])\n",
    "\n",
    "plt.savefig('vader.png')\n",
    "plt.show()\n"
   ]
  },
  {
   "cell_type": "code",
   "execution_count": 61,
   "metadata": {},
   "outputs": [
    {
     "data": {
      "text/plain": [
       "<matplotlib.collections.PathCollection at 0x7f808cc80610>"
      ]
     },
     "execution_count": 61,
     "metadata": {},
     "output_type": "execute_result"
    },
    {
     "data": {
      "text/plain": [
       "<matplotlib.text.Text at 0x7f808cccb5d0>"
      ]
     },
     "execution_count": 61,
     "metadata": {},
     "output_type": "execute_result"
    },
    {
     "data": {
      "text/plain": [
       "<matplotlib.text.Text at 0x7f808cd6f990>"
      ]
     },
     "execution_count": 61,
     "metadata": {},
     "output_type": "execute_result"
    },
    {
     "data": {
      "text/plain": [
       "<matplotlib.text.Text at 0x7f808cd42510>"
      ]
     },
     "execution_count": 61,
     "metadata": {},
     "output_type": "execute_result"
    },
    {
     "data": {
      "image/png": "[encoded data removed]",
      "text/plain": [
       "<matplotlib.figure.Figure at 0x7f808ce29d90>"
      ]
     },
     "metadata": {},
     "output_type": "display_data"
    }
   ],
   "source": [
    "_ = plt.figure(figsize = (12, 7))\n",
    "plt.scatter(rating, afinn, c = cols, s = 200)\n",
    "#plt.legend(loc='upper left', fontsize = '25')\n",
    "plt.title('Afinn Sentiment Analysis vs. Review Rating', fontsize = '30')\n",
    "plt.xlabel('Review Rating', fontsize = '25')\n",
    "plt.ylabel('Afinn sentiment score', fontsize = '25')\n",
    "\n",
    "axes = plt.gca()\n",
    "#axes.set_ylim([1, 7])\n",
    "\n",
    "plt.savefig('afinn.png')\n",
    "plt.show()\n"
   ]
  },
  {
   "cell_type": "code",
   "execution_count": 62,
   "metadata": {},
   "outputs": [
    {
     "data": {
      "text/plain": [
       "<matplotlib.collections.PathCollection at 0x7f808abe2490>"
      ]
     },
     "execution_count": 62,
     "metadata": {},
     "output_type": "execute_result"
    },
    {
     "data": {
      "text/plain": [
       "<matplotlib.text.Text at 0x7f808abac450>"
      ]
     },
     "execution_count": 62,
     "metadata": {},
     "output_type": "execute_result"
    },
    {
     "data": {
      "text/plain": [
       "<matplotlib.text.Text at 0x7f808cddd750>"
      ]
     },
     "execution_count": 62,
     "metadata": {},
     "output_type": "execute_result"
    },
    {
     "data": {
      "text/plain": [
       "<matplotlib.text.Text at 0x7f808cc55910>"
      ]
     },
     "execution_count": 62,
     "metadata": {},
     "output_type": "execute_result"
    },
    {
     "data": {
      "image/png": "[encoded data removed]",
      "text/plain": [
       "<matplotlib.figure.Figure at 0x7f808ccaeb10>"
      ]
     },
     "metadata": {},
     "output_type": "display_data"
    }
   ],
   "source": [
    "_ = plt.figure(figsize = (12, 7))\n",
    "plt.scatter(rating, swn, c = cols, s = 200)\n",
    "#plt.legend(loc='upper left', fontsize = '25')\n",
    "plt.title('SentiWordNet Sentiment Analysis vs. Review Rating', fontsize = '30')\n",
    "plt.xlabel('Review Rating', fontsize = '25')\n",
    "plt.ylabel('SentiWordNet sentiment score', fontsize = '25')\n",
    "\n",
    "axes = plt.gca()\n",
    "#axes.set_ylim([1, 7])\n",
    "\n",
    "plt.savefig('swn.png')\n",
    "plt.show()\n"
   ]
  }
 ],
 "metadata": {
  "kernelspec": {
   "display_name": "Python 2",
   "language": "python",
   "name": "python2"
  },
  "language_info": {
   "codemirror_mode": {
    "name": "ipython",
    "version": 2
   },
   "file_extension": ".py",
   "mimetype": "text/x-python",
   "name": "python",
   "nbconvert_exporter": "python",
   "pygments_lexer": "ipython2",
   "version": "2.7.12"
  }
 },
 "nbformat": 4,
 "nbformat_minor": 2
}
