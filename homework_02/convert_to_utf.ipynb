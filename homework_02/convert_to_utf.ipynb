{
 "cells": [
  {
   "cell_type": "code",
   "execution_count": null,
   "metadata": {
    "collapsed": true
   },
   "outputs": [],
   "source": [
    "\n",
    "# ... -=-=-=-=-=-=-=-=-=-=-=-=-=-=-=-=-=-=-=-=-=-=-=-=-=-=-=-=-=-=-=-=-\n",
    "# ...\n",
    "# ... msds 7337 NLP\n",
    "# ... homework 02\n",
    "# ... gutenberg - documment vocabulary normalization\n",
    "# ... pmcdevitt@smu.edu\n",
    "# ... 15-sep-2018\n",
    "# ...\n",
    "# ... -=-=-=-=-=-=-=-=-=-=-=-=-=-=-=-=-=-=-=-=-=-=-=-=-=-=-=-=-=-=-=-=-\n",
    "\n",
    "import cvt2utf\n",
    "import os\n",
    "\n",
    "files = \".*\\.txt\"\n",
    "home_dir = \"/home/mcdevitt/_ds/_smu/_src/nlp/homework_02/\"\n",
    "corpus_root = \"./text/\"\n",
    "plot_dir = \"./plots/\"\n",
    "cvt2utf_dir = \"/home/mcdevitt/anaconda3/lib/python3.6/site-packages/cvt2utf/\"\n",
    "\n",
    "os.chdir(home_dir)\n",
    "\n",
    "!python /home/mcdevitt/anaconda3/lib/python3.6/site-packages/cvt2utf/cvt2utf.py \"./text/\" -u"
   ]
  }
 ],
 "metadata": {
  "kernelspec": {
   "display_name": "Python 2",
   "language": "python",
   "name": "python2"
  },
  "language_info": {
   "codemirror_mode": {
    "name": "ipython",
    "version": 3
   },
   "file_extension": ".py",
   "mimetype": "text/x-python",
   "name": "python",
   "nbconvert_exporter": "python",
   "pygments_lexer": "ipython3",
   "version": "3.6.1"
  }
 },
 "nbformat": 4,
 "nbformat_minor": 2
}
