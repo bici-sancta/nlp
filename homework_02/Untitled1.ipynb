{
 "cells": [
  {
   "cell_type": "code",
   "execution_count": 10,
   "metadata": {},
   "outputs": [
    {
     "name": "stdout",
     "output_type": "stream",
     "text": [
      "['formicarium', 'youngest', 'suitable', 'restless', 'incorrigible', 'facility', 'narrowly', 'herpyllus', 'unimpeded', 'uloborus', 'broadcast', 'pressure', 'cecropia', 'mentally', 'researches', 'throwing', 'prudently', 'faculties', 'dismayed', 'patriotism']\n",
      "Longest = :  ['incorrigible', 'formicarium', 'researches', 'patriotism', 'herpyllus', 'unimpeded', 'broadcast', 'prudently', 'faculties', 'youngest', 'suitable', 'restless', 'facility', 'narrowly', 'uloborus', 'pressure', 'cecropia', 'mentally', 'throwing', 'dismayed']\n"
     ]
    }
   ],
   "source": [
    "\n",
    "\n",
    "long_words = ['formicarium', 'youngest', 'suitable', 'restless', 'incorrigible',\n",
    "              'facility', 'narrowly', 'herpyllus', 'unimpeded', 'uloborus',\n",
    "              'broadcast', 'pressure', 'cecropia', 'mentally', 'researches', 'throwing',\n",
    "              'prudently', 'faculties', 'dismayed', 'patriotism'] \n",
    "\n",
    "print(long_words)\n",
    "\n",
    "longest = long_words.sort(key = len, reverse = True)\n",
    "longest = sorted(long_words, key=len, reverse = True)\n",
    "\n",
    "print(\"Longest = : \", longest)"
   ]
  },
  {
   "cell_type": "code",
   "execution_count": null,
   "metadata": {
    "collapsed": true
   },
   "outputs": [],
   "source": []
  }
 ],
 "metadata": {
  "kernelspec": {
   "display_name": "Python 2",
   "language": "python",
   "name": "python2"
  },
  "language_info": {
   "codemirror_mode": {
    "name": "ipython",
    "version": 3
   },
   "file_extension": ".py",
   "mimetype": "text/x-python",
   "name": "python",
   "nbconvert_exporter": "python",
   "pygments_lexer": "ipython3",
   "version": "3.6.1"
  }
 },
 "nbformat": 4,
 "nbformat_minor": 2
}
