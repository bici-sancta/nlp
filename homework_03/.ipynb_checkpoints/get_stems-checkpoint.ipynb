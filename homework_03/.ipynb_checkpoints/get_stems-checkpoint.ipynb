{
 "cells": [
  {
   "cell_type": "code",
   "execution_count": 29,
   "metadata": {},
   "outputs": [],
   "source": [
    "\n",
    "from IPython.core.interactiveshell import InteractiveShell\n",
    "InteractiveShell.ast_node_interactivity = \"all\"\n",
    "\n",
    "import nltk\n",
    "from nltk.corpus import stopwords\n",
    "from nltk.tokenize import word_tokenize\n",
    "\n",
    "def remove_stopwords(phrase) :\n",
    "    \n",
    "    stop_words = set(stopwords.words('english'))\n",
    "    word_tokens = word_tokenize(phrase)\n",
    "    filtered_sentence = [w for w in word_tokens if not w in stop_words]\n",
    "    filtered_sentence = []\n",
    "    for w in word_tokens:\n",
    "        if w not in stop_words:\n",
    "            filtered_sentence.append(w)\n",
    "\n",
    "    return(filtered_sentence)\n",
    "\n",
    "\n",
    "def get_stems(phrase, method) :\n",
    "    \n",
    "    prtr = nltk.stem.PorterStemmer()\n",
    "    snob = nltk.stem.SnowballStemmer('english')\n",
    "    lema = nltk.wordnet.WordNetLemmatizer()\n",
    "    \n",
    "    words_to_stem = remove_stopwords(phrase)\n",
    "\n",
    "    stems = [w for w in words_to_stem]\n",
    "    stems = []\n",
    "    \n",
    "    if method == 'porter' :\n",
    "        for w in words_to_stem:\n",
    "            stems.append(prtr.stem(w))\n",
    " \n",
    "    elif method == 'snowball': \n",
    "        for w in words_to_stem:\n",
    "            stems.append(snob.stem(w))\n",
    "            \n",
    "    elif method == 'lemmatize': \n",
    "        for w in words_to_stem:\n",
    "            stems.append(lema.lemmatize(w))\n",
    "\n",
    "    return (stems)\n"
   ]
  }
 ],
 "metadata": {
  "kernelspec": {
   "display_name": "Python 2",
   "language": "python",
   "name": "python2"
  },
  "language_info": {
   "codemirror_mode": {
    "name": "ipython",
    "version": 3
   },
   "file_extension": ".py",
   "mimetype": "text/x-python",
   "name": "python",
   "nbconvert_exporter": "python",
   "pygments_lexer": "ipython3",
   "version": "3.6.1"
  }
 },
 "nbformat": 4,
 "nbformat_minor": 2
}
